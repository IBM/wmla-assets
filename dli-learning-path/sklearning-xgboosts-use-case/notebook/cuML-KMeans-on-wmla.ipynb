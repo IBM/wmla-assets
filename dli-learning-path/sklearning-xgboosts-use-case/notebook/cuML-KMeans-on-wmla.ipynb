{
 "cells": [
  {
   "cell_type": "markdown",
   "id": "299dccd0",
   "metadata": {},
   "source": [
    "# Train a K-Means Model with Watson Machine Learning \n",
    "\n",
    "Notebook created by Zeming Zhao on June, 2021\n",
    "\n",
    "K-Means is a basic but powerful clustering method which is optimized via Expectation Maximization. It randomly selects K data points in X, and computes which samples are close to these points. For every cluster of points, a mean is computed, and this becomes the new centroid.\n",
    "\n",
    "cuML's KMeans supports the scalable KMeans++ intialization method. This method is more stable than randomnly selecting K points.\n",
    "\n",
    "The model can take array-like objects, either in host as NumPy arrays or in device (as Numba or cuda_array_interface-compliant), as well as cuDF DataFrames as the input\n",
    "\n",
    "1. [Setup K-Means using cuML](#rbm-model)<br>\n",
    "\n",
    "1. [Training the model on GPU with Watson Machine Learning Accelerator](#gpu)<br>\n",
    "\n",
    "1. [Setup K-Means using sklearning](#rbm-model)<br>\n",
    "\n",
    "1. [Training the model on CPU with Watson Machine Learning Accelerator](#cpu)<br>"
   ]
  },
  {
   "cell_type": "markdown",
   "id": "ae64ab50",
   "metadata": {},
   "source": [
    "<a id = \"rbm-model\"></a>\n",
    "## Step 1 : Setup KMeans model using cuML"
   ]
  },
  {
   "cell_type": "markdown",
   "id": "5806ddbc",
   "metadata": {},
   "source": [
    "### Prepare directory and file for writing KMeans engine."
   ]
  },
  {
   "cell_type": "code",
   "execution_count": 1,
   "id": "bdbf9164",
   "metadata": {},
   "outputs": [
    {
     "name": "stdout",
     "output_type": "stream",
     "text": [
      "create model directory done.\n"
     ]
    }
   ],
   "source": [
    "from pathlib import Path\n",
    "model_dir = f'/data/models' \n",
    "model_main = f'KMeans_main.py'\n",
    "Path(model_dir).mkdir(exist_ok=True)\n",
    "print(\"create model directory done.\")"
   ]
  },
  {
   "cell_type": "markdown",
   "id": "436364c5",
   "metadata": {},
   "source": [
    "### create a KMeans Model based on cuML on GPU"
   ]
  },
  {
   "cell_type": "code",
   "execution_count": 2,
   "id": "99a40f1f",
   "metadata": {},
   "outputs": [
    {
     "name": "stdout",
     "output_type": "stream",
     "text": [
      "Overwriting /data/models/KMeans_main.py\n"
     ]
    }
   ],
   "source": [
    "%%writefile {model_dir}/{model_main}\n",
    "\n",
    "\n",
    "import cudf\n",
    "import cupy\n",
    "import matplotlib.pyplot as plt\n",
    "from cuml.cluster import KMeans as cuKMeans\n",
    "from cuml.datasets import make_blobs\n",
    "from sklearn.cluster import KMeans as skKMeans\n",
    "from sklearn.metrics import adjusted_rand_score\n",
    "import os\n",
    "import datetime\n",
    "\n",
    "# %matplotlib inline\n",
    "\n",
    "# specify the cache location to /gpfy since ~/.cache is not available\n",
    "os.environ[\"CUPY_CACHE_DIR\"]=\"/gpfs/mydatafs/models/\"\n",
    "\n",
    "# Define Parameters for a large regression\n",
    "n_samples = 100000\n",
    "n_features = 2\n",
    "\n",
    "n_clusters = 5\n",
    "random_state = 0\n",
    "\n",
    "# Generate Data\n",
    "device_data, device_labels = make_blobs(n_samples=n_samples,\n",
    "                                        n_features=n_features,\n",
    "                                        centers=n_clusters,\n",
    "                                        random_state=random_state,\n",
    "                                        cluster_std=0.1)\n",
    "\n",
    "device_data = cudf.DataFrame(device_data)\n",
    "device_labels = cudf.Series(device_labels)\n",
    "\n",
    "#  # Copy dataset from GPU memory to host memory.\n",
    "#  # This is done to later compare CPU and GPU results.\n",
    "host_data = device_data.to_pandas()\n",
    "host_labels = device_labels.to_pandas()\n",
    "\n",
    "# kmeans_sk = skKMeans(init=\"k-means++\",\n",
    "#                      n_clusters=n_clusters,\n",
    "#                      n_jobs=-1,\n",
    "#                     random_state=random_state)\n",
    "\n",
    "# kmeans_sk.fit(host_data)\n",
    "\n",
    "# cuML Model\n",
    "kmeans_cuml = cuKMeans(init=\"k-means||\",\n",
    "                       n_clusters=n_clusters,\n",
    "                       oversampling_factor=40,\n",
    "                       random_state=random_state)\n",
    "\n",
    "# Fit\n",
    "start = datetime.datetime.now()\n",
    "kmeans_cuml.fit(device_data)\n",
    "end = datetime.datetime.now()\n",
    "print (\"train timecost: %.2gs\" % ((end-start).total_seconds()))\n",
    "\n",
    "# Visualize \n",
    "fig = plt.figure(figsize=(16, 10))\n",
    "plt.scatter(host_data.iloc[:, 0], host_data.iloc[:, 1], c=host_labels, s=50, cmap='viridis')\n",
    "\n",
    "# #plot the sklearn kmeans centers with blue filled circles\n",
    "# centers_sk = kmeans_sk.cluster_centers_\n",
    "# plt.scatter(centers_sk[:,0], centers_sk[:,1], c='blue', s=100, alpha=.5)\n",
    "\n",
    "#plot the cuml kmeans centers with red circle outlines\n",
    "centers_cuml = kmeans_cuml.cluster_centers_\n",
    "plt.scatter(cupy.asnumpy(centers_cuml[0].values), \n",
    "            cupy.asnumpy(centers_cuml[1].values), \n",
    "            facecolors = 'none', edgecolors='red', s=100)\n",
    "\n",
    "plt.title('cuml and sklearn kmeans clustering')\n",
    "\n",
    "# plt.show()\n",
    "plot_file = \"./kmeans_gpu.png\"\n",
    "plt.savefig(plot_file)\n",
    "\n",
    "# Evaluate\n",
    "start = datetime.datetime.now()\n",
    "cuml_score = adjusted_rand_score(host_labels, kmeans_cuml.labels_.to_array())\n",
    "end = datetime.datetime.now()\n",
    "print (\"evaluate timecost: %.2gs\" % ((end-start).total_seconds()))\n",
    "\n",
    "print(\"score (cuML): %s\" % cuml_score)"
   ]
  },
  {
   "cell_type": "markdown",
   "id": "737aeff8",
   "metadata": {},
   "source": [
    "## Step 2 :  Training the model on GPU with Watson Machine Learning Accelerator"
   ]
  },
  {
   "cell_type": "markdown",
   "id": "2bb8ee3b",
   "metadata": {},
   "source": [
    "<a id = \"gpu\"></a>\n",
    "#### Prepare the model lib for running on GPU:"
   ]
  },
  {
   "cell_type": "code",
   "execution_count": 3,
   "id": "10f21c16",
   "metadata": {},
   "outputs": [
    {
     "name": "stdout",
     "output_type": "stream",
     "text": [
      "Populating the interactive namespace from numpy and matplotlib\n"
     ]
    }
   ],
   "source": [
    "import requests\n",
    "from requests.packages.urllib3.exceptions import InsecureRequestWarning\n",
    "requests.packages.urllib3.disable_warnings(InsecureRequestWarning)\n",
    "\n",
    "from matplotlib import pyplot as plt\n",
    "%pylab inline\n",
    "\n",
    "import base64\n",
    "import json\n",
    "import time\n",
    "import urllib"
   ]
  },
  {
   "cell_type": "markdown",
   "id": "c0bbcbfd",
   "metadata": {},
   "source": [
    "#### Configuring your environment and project details\n",
    "To set up your project details, provide your credentials in this cell. You must include your cluster URL, username, and password."
   ]
  },
  {
   "cell_type": "code",
   "execution_count": 4,
   "id": "42ee2066",
   "metadata": {},
   "outputs": [
    {
     "name": "stdout",
     "output_type": "stream",
     "text": [
      "https://wmla-console-wmla.apps.wml1x180.ma.platformlab.ibm.com/auth/v1/logon\n"
     ]
    }
   ],
   "source": [
    "hostname='wmla-console-wmla.apps.wml1x180.ma.platformlab.ibm.com'  # please enter Watson Machine Learning Accelerator host name\n",
    "# login='username:password' # please enter the login and password\n",
    "login='admin:p7PMrMMknVQzEb3ptyj0D6XRTO5PQjYL'\n",
    "es = base64.b64encode(login.encode('utf-8')).decode(\"utf-8\")\n",
    "# print(es)\n",
    "commonHeaders={'Authorization': 'Basic '+es}\n",
    "req = requests.Session()\n",
    "auth_url = 'https://{}/auth/v1/logon'.format(hostname)\n",
    "print(auth_url)\n",
    "\n",
    "a=requests.get(auth_url,headers=commonHeaders, verify=False)\n",
    "access_token=a.json()['accessToken']\n",
    "# print(\"Access_token: \", access_token)"
   ]
  },
  {
   "cell_type": "code",
   "execution_count": 5,
   "id": "5b8314b2",
   "metadata": {},
   "outputs": [],
   "source": [
    "dl_rest_url = 'https://{}/platform/rest/deeplearning/v1'.format(hostname)\n",
    "commonHeaders={'accept': 'application/json', 'X-Auth-Token': access_token}\n",
    "req = requests.Session()"
   ]
  },
  {
   "cell_type": "code",
   "execution_count": 6,
   "id": "5e3c1d84",
   "metadata": {},
   "outputs": [],
   "source": [
    "# Health check\n",
    "confUrl = 'https://{}/platform/rest/deeplearning/v1/conf'.format(hostname)\n",
    "r = req.get(confUrl, headers=commonHeaders, verify=False)\n"
   ]
  },
  {
   "cell_type": "code",
   "execution_count": 7,
   "id": "c6e2a6a2",
   "metadata": {},
   "outputs": [],
   "source": [
    "#### define the status checking fuction"
   ]
  },
  {
   "cell_type": "code",
   "execution_count": 8,
   "id": "18de5bfe",
   "metadata": {},
   "outputs": [],
   "source": [
    "import tarfile\n",
    "import tempfile\n",
    "import os\n",
    "import json\n",
    "import pprint\n",
    "import pandas as pd\n",
    "from IPython.display import clear_output\n",
    "\n",
    "def query_job_status(job_id,refresh_rate=3) :\n",
    "\n",
    "    execURL = dl_rest_url  +'/execs/'+ job_id['id']\n",
    "    pp = pprint.PrettyPrinter(indent=2)\n",
    "\n",
    "    keep_running=True\n",
    "    res=None\n",
    "    while(keep_running):\n",
    "        res = req.get(execURL, headers=commonHeaders, verify=False)\n",
    "        monitoring = pd.DataFrame(res.json(), index=[0])\n",
    "        pd.set_option('max_colwidth', 120)\n",
    "        clear_output()\n",
    "        print(\"Refreshing every {} seconds\".format(refresh_rate))\n",
    "        display(monitoring)\n",
    "        pp.pprint(res.json())\n",
    "        if(res.json()['state'] not in ['PENDING_CRD_SCHEDULER', 'SUBMITTED','RUNNING']) :\n",
    "            keep_running=False\n",
    "        time.sleep(refresh_rate)\n",
    "    return res"
   ]
  },
  {
   "cell_type": "code",
   "execution_count": 9,
   "id": "811e3f1d",
   "metadata": {},
   "outputs": [],
   "source": [
    "model_file = model_dir+\"/\"+model_main\n",
    "files = {'file': open(model_file , 'rb')}\n",
    "\n",
    "args = '--exec-start tensorflow --cs-datastore-meta type=fs \\\n",
    "                     --workerDeviceNum 1 \\\n",
    "                     --conda-env-name rapids-21.06  \\\n",
    "                     --model-main /gpfs/mydatafs/models/KMeans_main.py --workerDeviceType gpu'\n",
    "                    # --epochs 5 --batch-size 10000 --workerDeviceType gpu'\n",
    "                    # --model-main '+  \"/gpfs/mydatafs/\" + model_file + ' --epochs 5 --batch-size 10000'"
   ]
  },
  {
   "cell_type": "code",
   "execution_count": 10,
   "id": "51312788",
   "metadata": {},
   "outputs": [
    {
     "name": "stdout",
     "output_type": "stream",
     "text": [
      "Refreshing every 5 seconds\n"
     ]
    },
    {
     "data": {
      "text/html": [
       "<div>\n",
       "<style scoped>\n",
       "    .dataframe tbody tr th:only-of-type {\n",
       "        vertical-align: middle;\n",
       "    }\n",
       "\n",
       "    .dataframe tbody tr th {\n",
       "        vertical-align: top;\n",
       "    }\n",
       "\n",
       "    .dataframe thead th {\n",
       "        text-align: right;\n",
       "    }\n",
       "</style>\n",
       "<table border=\"1\" class=\"dataframe\">\n",
       "  <thead>\n",
       "    <tr style=\"text-align: right;\">\n",
       "      <th></th>\n",
       "      <th>id</th>\n",
       "      <th>args</th>\n",
       "      <th>submissionId</th>\n",
       "      <th>creator</th>\n",
       "      <th>state</th>\n",
       "      <th>appId</th>\n",
       "      <th>schedulerUrl</th>\n",
       "      <th>modelFileOwnerName</th>\n",
       "      <th>workDir</th>\n",
       "      <th>appName</th>\n",
       "      <th>createTime</th>\n",
       "      <th>elastic</th>\n",
       "      <th>nameSpace</th>\n",
       "      <th>numWorker</th>\n",
       "      <th>framework</th>\n",
       "    </tr>\n",
       "  </thead>\n",
       "  <tbody>\n",
       "    <tr>\n",
       "      <th>0</th>\n",
       "      <td>wmla-195</td>\n",
       "      <td>--exec-start tensorflow --cs-datastore-meta type=fs                      --workerDeviceNum 1                      --...</td>\n",
       "      <td>wmla-195</td>\n",
       "      <td>admin</td>\n",
       "      <td>FINISHED</td>\n",
       "      <td>wmla-195</td>\n",
       "      <td>https://wmla-mss:9080</td>\n",
       "      <td>wmla</td>\n",
       "      <td>/gpfs/myresultfs/admin/batchworkdir/wmla-195/_submitted_code</td>\n",
       "      <td>SingleNodeTensorflowTrain</td>\n",
       "      <td>2021-07-02T05:53:47Z</td>\n",
       "      <td>False</td>\n",
       "      <td>wmla</td>\n",
       "      <td>1</td>\n",
       "      <td>tensorflow</td>\n",
       "    </tr>\n",
       "  </tbody>\n",
       "</table>\n",
       "</div>"
      ],
      "text/plain": [
       "         id  \\\n",
       "0  wmla-195   \n",
       "\n",
       "                                                                                                                      args  \\\n",
       "0  --exec-start tensorflow --cs-datastore-meta type=fs                      --workerDeviceNum 1                      --...   \n",
       "\n",
       "  submissionId creator     state     appId           schedulerUrl  \\\n",
       "0     wmla-195   admin  FINISHED  wmla-195  https://wmla-mss:9080   \n",
       "\n",
       "  modelFileOwnerName  \\\n",
       "0               wmla   \n",
       "\n",
       "                                                        workDir  \\\n",
       "0  /gpfs/myresultfs/admin/batchworkdir/wmla-195/_submitted_code   \n",
       "\n",
       "                     appName            createTime  elastic nameSpace  \\\n",
       "0  SingleNodeTensorflowTrain  2021-07-02T05:53:47Z    False      wmla   \n",
       "\n",
       "   numWorker   framework  \n",
       "0          1  tensorflow  "
      ]
     },
     "metadata": {},
     "output_type": "display_data"
    },
    {
     "name": "stdout",
     "output_type": "stream",
     "text": [
      "{ 'appId': 'wmla-195',\n",
      "  'appName': 'SingleNodeTensorflowTrain',\n",
      "  'args': '--exec-start tensorflow --cs-datastore-meta '\n",
      "          'type=fs                      --workerDeviceNum '\n",
      "          '1                      --conda-env-name '\n",
      "          'rapids-21.06                       --model-main '\n",
      "          '/gpfs/mydatafs/models/KMeans_main.py --workerDeviceType gpu ',\n",
      "  'createTime': '2021-07-02T05:53:47Z',\n",
      "  'creator': 'admin',\n",
      "  'elastic': False,\n",
      "  'framework': 'tensorflow',\n",
      "  'id': 'wmla-195',\n",
      "  'modelFileOwnerName': 'wmla',\n",
      "  'nameSpace': 'wmla',\n",
      "  'numWorker': 1,\n",
      "  'schedulerUrl': 'https://wmla-mss:9080',\n",
      "  'state': 'FINISHED',\n",
      "  'submissionId': 'wmla-195',\n",
      "  'workDir': '/gpfs/myresultfs/admin/batchworkdir/wmla-195/_submitted_code'}\n",
      "\n",
      "Training cost:  612  seconds.\n"
     ]
    }
   ],
   "source": [
    "starttime = datetime.datetime.now()\n",
    "\n",
    "r = requests.post(dl_rest_url+'/execs?args='+args, files=files,\n",
    "                  headers=commonHeaders, verify=False)\n",
    "if not r.ok:\n",
    "    print('submit job failed: code=%s, %s'%(r.status_code, r.content))\n",
    "        \n",
    "job_status = query_job_status(r.json(),refresh_rate=5)\n",
    "\n",
    "endtime = datetime.datetime.now()\n",
    "\n",
    "print(\"\\nTraining cost: \", (endtime - starttime).seconds, \" seconds.\")"
   ]
  },
  {
   "cell_type": "markdown",
   "id": "cc11f151",
   "metadata": {},
   "source": [
    "## Step 3 :  Setup KMeans model using SK-Learning\n",
    "### create a KMeans Model based on sk-learning on CPU"
   ]
  },
  {
   "cell_type": "code",
   "execution_count": 25,
   "id": "f0b28778",
   "metadata": {},
   "outputs": [
    {
     "name": "stdout",
     "output_type": "stream",
     "text": [
      "Overwriting /data/models/KMeans_main.py\n"
     ]
    }
   ],
   "source": [
    "%%writefile {model_dir}/{model_main}\n",
    "\n",
    "#import cudf\n",
    "#import cupy\n",
    "import matplotlib.pyplot as plt\n",
    "from sklearn.datasets import make_blobs\n",
    "from sklearn.cluster import KMeans as skKMeans\n",
    "from sklearn.metrics import adjusted_rand_score\n",
    "import os\n",
    "import datetime\n",
    "\n",
    "# %matplotlib inline\n",
    "\n",
    "# specify the cache location to /gpfy since ~/.cache is not available\n",
    "os.environ[\"CUPY_CACHE_DIR\"]=\"/gpfs/mydatafs/models/\"\n",
    "\n",
    "# Define Parameters for a large regression\n",
    "n_samples = 100000\n",
    "n_features = 2\n",
    "\n",
    "n_clusters = 5\n",
    "random_state = 0\n",
    "\n",
    "# Generate Data\n",
    "host_data, host_labels = make_blobs(n_samples=n_samples,\n",
    "                                        n_features=n_features,\n",
    "                                        centers=n_clusters,\n",
    "                                        random_state=random_state,\n",
    "                                        cluster_std=0.1)\n",
    "\n",
    "kmeans_sk = skKMeans(init=\"k-means++\",\n",
    "                     n_clusters=n_clusters,\n",
    "                     n_jobs=-1,\n",
    "                    random_state=random_state)\n",
    "\n",
    "kmeans_sk.fit(host_data)\n",
    "\n",
    "# Fit\n",
    "start = datetime.datetime.now()\n",
    "kmeans_sk.fit(host_data)\n",
    "end = datetime.datetime.now()\n",
    "print (\"train timecost: %.2gs\" % ((end-start).total_seconds()))\n",
    "\n",
    "# Visualize \n",
    "fig = plt.figure(figsize=(16, 10))\n",
    "plt.scatter(host_data[:, 0], host_data[:, 1], c=host_labels, s=50, cmap='viridis')\n",
    "\n",
    "#plot the sklearn kmeans centers with blue filled circles\n",
    "centers_sk = kmeans_sk.cluster_centers_\n",
    "plt.scatter(centers_sk[:,0], centers_sk[:,1], c='blue', s=100, alpha=.5)\n",
    "\n",
    "\n",
    "\n",
    "plt.title('sklearn kmeans clustering')\n",
    "\n",
    "# plt.show()\n",
    "plot_file = \"./kmeans_cpu.png\"\n",
    "plt.savefig(plot_file)\n",
    "\n",
    "# Evaluate\n",
    "start = datetime.datetime.now()\n",
    "sk_score = adjusted_rand_score(host_labels, kmeans_sk.labels_)\n",
    "end = datetime.datetime.now()\n",
    "print (\"evaluate timecost: %.2gs\" % ((end-start).total_seconds()))\n",
    "\n",
    "print(\"score (sklearning): %s\" % sk_score)"
   ]
  },
  {
   "cell_type": "markdown",
   "id": "2b961e12",
   "metadata": {},
   "source": [
    "## Step 4 :  Training the SK-Learning model on CPU with Watson Machine Learning Accelerator"
   ]
  },
  {
   "cell_type": "code",
   "execution_count": 26,
   "id": "51507875",
   "metadata": {},
   "outputs": [],
   "source": [
    "model_file = model_dir+\"/\"+model_main\n",
    "files = {'file': open(model_file , 'rb')}\n",
    "\n",
    "args = '--exec-start tensorflow --cs-datastore-meta type=fs \\\n",
    "                     --workerDeviceNum 1 \\\n",
    "                     --conda-env-name rapids-21.06  \\\n",
    "                     --model-main /gpfs/mydatafs/models/KMeans_main.py --workerDeviceType cpu'\n",
    "                    # --epochs 5 --batch-size 10000 --workerDeviceType gpu'\n",
    "                    # --model-main '+  \"/gpfs/mydatafs/\" + model_file + ' --epochs 5 --batch-size 10000'"
   ]
  },
  {
   "cell_type": "code",
   "execution_count": 27,
   "id": "4ee19bf8",
   "metadata": {},
   "outputs": [
    {
     "name": "stdout",
     "output_type": "stream",
     "text": [
      "Refreshing every 5 seconds\n"
     ]
    },
    {
     "data": {
      "text/html": [
       "<div>\n",
       "<style scoped>\n",
       "    .dataframe tbody tr th:only-of-type {\n",
       "        vertical-align: middle;\n",
       "    }\n",
       "\n",
       "    .dataframe tbody tr th {\n",
       "        vertical-align: top;\n",
       "    }\n",
       "\n",
       "    .dataframe thead th {\n",
       "        text-align: right;\n",
       "    }\n",
       "</style>\n",
       "<table border=\"1\" class=\"dataframe\">\n",
       "  <thead>\n",
       "    <tr style=\"text-align: right;\">\n",
       "      <th></th>\n",
       "      <th>id</th>\n",
       "      <th>args</th>\n",
       "      <th>submissionId</th>\n",
       "      <th>creator</th>\n",
       "      <th>state</th>\n",
       "      <th>appId</th>\n",
       "      <th>schedulerUrl</th>\n",
       "      <th>modelFileOwnerName</th>\n",
       "      <th>workDir</th>\n",
       "      <th>appName</th>\n",
       "      <th>createTime</th>\n",
       "      <th>elastic</th>\n",
       "      <th>nameSpace</th>\n",
       "      <th>numWorker</th>\n",
       "      <th>framework</th>\n",
       "    </tr>\n",
       "  </thead>\n",
       "  <tbody>\n",
       "    <tr>\n",
       "      <th>0</th>\n",
       "      <td>wmla-201</td>\n",
       "      <td>--exec-start tensorflow --cs-datastore-meta type=fs                      --workerDeviceNum 1                      --...</td>\n",
       "      <td>wmla-201</td>\n",
       "      <td>admin</td>\n",
       "      <td>FINISHED</td>\n",
       "      <td>wmla-201</td>\n",
       "      <td>https://wmla-mss:9080</td>\n",
       "      <td>wmla</td>\n",
       "      <td>/gpfs/myresultfs/admin/batchworkdir/wmla-201/_submitted_code</td>\n",
       "      <td>SingleNodeTensorflowTrain</td>\n",
       "      <td>2021-07-02T06:25:45Z</td>\n",
       "      <td>False</td>\n",
       "      <td>wmla</td>\n",
       "      <td>1</td>\n",
       "      <td>tensorflow</td>\n",
       "    </tr>\n",
       "  </tbody>\n",
       "</table>\n",
       "</div>"
      ],
      "text/plain": [
       "         id  \\\n",
       "0  wmla-201   \n",
       "\n",
       "                                                                                                                      args  \\\n",
       "0  --exec-start tensorflow --cs-datastore-meta type=fs                      --workerDeviceNum 1                      --...   \n",
       "\n",
       "  submissionId creator     state     appId           schedulerUrl  \\\n",
       "0     wmla-201   admin  FINISHED  wmla-201  https://wmla-mss:9080   \n",
       "\n",
       "  modelFileOwnerName  \\\n",
       "0               wmla   \n",
       "\n",
       "                                                        workDir  \\\n",
       "0  /gpfs/myresultfs/admin/batchworkdir/wmla-201/_submitted_code   \n",
       "\n",
       "                     appName            createTime  elastic nameSpace  \\\n",
       "0  SingleNodeTensorflowTrain  2021-07-02T06:25:45Z    False      wmla   \n",
       "\n",
       "   numWorker   framework  \n",
       "0          1  tensorflow  "
      ]
     },
     "metadata": {},
     "output_type": "display_data"
    },
    {
     "name": "stdout",
     "output_type": "stream",
     "text": [
      "{ 'appId': 'wmla-201',\n",
      "  'appName': 'SingleNodeTensorflowTrain',\n",
      "  'args': '--exec-start tensorflow --cs-datastore-meta '\n",
      "          'type=fs                      --workerDeviceNum '\n",
      "          '1                      --conda-env-name '\n",
      "          'rapids-21.06                       --model-main '\n",
      "          '/gpfs/mydatafs/models/KMeans_main.py --workerDeviceType cpu ',\n",
      "  'createTime': '2021-07-02T06:25:45Z',\n",
      "  'creator': 'admin',\n",
      "  'elastic': False,\n",
      "  'framework': 'tensorflow',\n",
      "  'id': 'wmla-201',\n",
      "  'modelFileOwnerName': 'wmla',\n",
      "  'nameSpace': 'wmla',\n",
      "  'numWorker': 1,\n",
      "  'schedulerUrl': 'https://wmla-mss:9080',\n",
      "  'state': 'FINISHED',\n",
      "  'submissionId': 'wmla-201',\n",
      "  'workDir': '/gpfs/myresultfs/admin/batchworkdir/wmla-201/_submitted_code'}\n",
      "Training cost:  37  seconds.\n"
     ]
    }
   ],
   "source": [
    "import datetime\n",
    "\n",
    "starttime = datetime.datetime.now()\n",
    "\n",
    "# ! python {model_dir}/{model_main} # --no-cuda --epochs 5 --batch-size 10000\n",
    "r = requests.post(dl_rest_url+'/execs?args='+args, files=files,\n",
    "                  headers=commonHeaders, verify=False)\n",
    "if not r.ok:\n",
    "    print('submit job failed: code=%s, %s'%(r.status_code, r.content))\n",
    "        \n",
    "job_status = query_job_status(r.json(),refresh_rate=5)\n",
    "\n",
    "endtime = datetime.datetime.now()\n",
    "print(\"Training cost: \", (endtime - starttime).seconds, \" seconds.\")\n"
   ]
  },
  {
   "cell_type": "code",
   "execution_count": null,
   "id": "50b4ac28",
   "metadata": {},
   "outputs": [],
   "source": []
  }
 ],
 "metadata": {
  "kernelspec": {
   "display_name": "Python3 Single GPU Kernel",
   "language": "python",
   "name": "python_single_gpu"
  },
  "language_info": {
   "codemirror_mode": {
    "name": "ipython",
    "version": 3
   },
   "file_extension": ".py",
   "mimetype": "text/x-python",
   "name": "python",
   "nbconvert_exporter": "python",
   "pygments_lexer": "ipython3",
   "version": "3.7.10"
  }
 },
 "nbformat": 4,
 "nbformat_minor": 5
}
