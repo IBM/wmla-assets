{
 "cells": [
  {
   "cell_type": "markdown",
   "id": "fb494552",
   "metadata": {},
   "source": [
    "# Train a Linear Regression Model with Watson Machine Learning \n",
    "\n",
    "Notebook created by Zeming Zhao on June, 2021\n",
    "\n",
    "In this notebook, you will learn how to use the Watson Machine Learning Accelerator (WML-A) API and accelerate the processing of Linear Regression model on GPU with Watson Machine Learning Accelerator.\n",
    "\n",
    "Linear Regression is a simple machine learning model where the response y is modelled by a linear combination of the predictors in X.\n",
    "\n",
    "The model can take array-like objects, either in host as NumPy arrays or in device (as Numba or cuda_array_interface-compliant), as well as cuDF DataFrames as the input.\n",
    "\n",
    "This notebook covers the following sections:\n",
    "\n",
    "1. [Setup Linear Regression using cuML](#rbm-model)<br>\n",
    "\n",
    "1. [Training the model on GPU with Watson Machine Learning Accelerator](#gpu)<br>\n",
    "\n",
    "1. [Setup Linear Regression using sklearning](#rbm-model)<br>\n",
    "\n",
    "1. [Training the model on CPU with Watson Machine Learning Accelerator](#cpu)<br>"
   ]
  },
  {
   "cell_type": "markdown",
   "id": "1547ab8d",
   "metadata": {},
   "source": [
    "<a id = \"rbm-model\"></a>\n",
    "## Step 1 : Setup Linear Regression model using cuML"
   ]
  },
  {
   "cell_type": "markdown",
   "id": "e641b053",
   "metadata": {},
   "source": [
    "### Prepare directory and file for writing Linear Regression engine."
   ]
  },
  {
   "cell_type": "code",
   "execution_count": 1,
   "id": "a3b23434",
   "metadata": {},
   "outputs": [
    {
     "name": "stdout",
     "output_type": "stream",
     "text": [
      "create model directory done.\n"
     ]
    }
   ],
   "source": [
    "from pathlib import Path\n",
    "model_dir = f'/data/models' \n",
    "model_main = f'lr_main.py'\n",
    "Path(model_dir).mkdir(exist_ok=True)\n",
    "print(\"create model directory done.\")"
   ]
  },
  {
   "cell_type": "markdown",
   "id": "960620e1",
   "metadata": {},
   "source": [
    "### create a Linear Regression Model based on cuML on GPU"
   ]
  },
  {
   "cell_type": "code",
   "execution_count": 2,
   "id": "9d2ab809",
   "metadata": {},
   "outputs": [
    {
     "name": "stdout",
     "output_type": "stream",
     "text": [
      "Overwriting /data/models/lr_main.py\n"
     ]
    }
   ],
   "source": [
    "%%writefile {model_dir}/{model_main}\n",
    "\n",
    "import cudf\n",
    "from cuml import make_regression, train_test_split\n",
    "from cuml.linear_model import LinearRegression as cuLinearRegression\n",
    "from cuml.metrics.regression import r2_score\n",
    "from sklearn.linear_model import LinearRegression as skLinearRegression\n",
    "import datetime\n",
    "import os\n",
    "\n",
    "# specify the cache location to /gpfy since ~/.cache is not available\n",
    "os.environ[\"CUPY_CACHE_DIR\"]=\"/gpfs/mydatafs/models/\"\n",
    "\n",
    "# Define Parameters for a large regression\n",
    "n_samples = 2**20 #If you are running on a GPU with less than 16GB RAM, please change to 2**19 or you could run out of memory\n",
    "n_features = 399\n",
    "\n",
    "# keep consistent with diabetes dataset\n",
    "#n_samples = 442 \n",
    "#n_features = 10\n",
    "\n",
    "random_state = 23\n",
    "\n",
    "# Generate Data\n",
    "X, y = make_regression(n_samples=n_samples, n_features=n_features, random_state=random_state)\n",
    "\n",
    "X = cudf.DataFrame(X)\n",
    "y = cudf.DataFrame(y)[0]\n",
    "\n",
    "X_cudf, X_cudf_test, y_cudf, y_cudf_test = train_test_split(X, y, test_size = 0.2, random_state=random_state)\n",
    "\n",
    "\n",
    "#  # Copy dataset from GPU memory to host memory.\n",
    "#  # This is done to later compare CPU and GPU results.\n",
    "#  X_train = X_cudf.to_pandas()\n",
    "#  X_test = X_cudf_test.to_pandas()\n",
    "#  y_train = y_cudf.to_pandas()\n",
    "#  y_test = y_cudf_test.to_panda\n",
    "#  \n",
    "#  # Scikit-learn Model\n",
    "#  # Fit, predict and evaluate\n",
    "#  \n",
    "#  ols_sk = skLinearRegression(fit_intercept=True,normalize=True,n_jobs=-1)\n",
    "#  ols_sk.fit(X_train, y_train)\n",
    "#  \n",
    "#  \n",
    "#  predict_sk = ols_sk.predict(X_test)\n",
    "#  \n",
    "#  r2_score_sk = r2_score(y_cudf_test, predict_sk)\n",
    "\n",
    "# cuML Model\n",
    "ols_cuml = cuLinearRegression(fit_intercept=True,normalize=True,algorithm='eig')\n",
    "\n",
    "# Fit\n",
    "start = datetime.datetime.now()\n",
    "ols_cuml.fit(X_cudf, y_cudf)\n",
    "end = datetime.datetime.now()\n",
    "print (\"train timecost: %.2gs\" % ((end-start).total_seconds()))\n",
    "\n",
    "# Predict\n",
    "start = datetime.datetime.now()\n",
    "predict_cuml = ols_cuml.predict(X_cudf_test)\n",
    "end = datetime.datetime.now()\n",
    "print (\"predict timecost: %.2gs\" % ((end-start).total_seconds()))\n",
    "\n",
    "# Evaluate\n",
    "start = datetime.datetime.now()\n",
    "r2_score_cuml = r2_score(y_cudf_test, predict_cuml)\n",
    "end = datetime.datetime.now()\n",
    "print (\"evaluate timecost: %.2gs\" % ((end-start).total_seconds()))\n",
    "\n",
    "#  print(\"R^2 score (SKL):  %s\" % r2_score_sk)\n",
    "print(\"R^2 score (cuML): %s\" % r2_score_cuml)"
   ]
  },
  {
   "cell_type": "markdown",
   "id": "3b8e0711",
   "metadata": {},
   "source": [
    "## Step 2 :  Training the model on GPU with Watson Machine Learning Accelerator"
   ]
  },
  {
   "cell_type": "markdown",
   "id": "07142141",
   "metadata": {},
   "source": [
    "<a id = \"gpu\"></a>\n",
    "#### Prepare the model lib for running on GPU:"
   ]
  },
  {
   "cell_type": "code",
   "execution_count": 3,
   "id": "b5d8d49a",
   "metadata": {},
   "outputs": [
    {
     "name": "stdout",
     "output_type": "stream",
     "text": [
      "Populating the interactive namespace from numpy and matplotlib\n"
     ]
    }
   ],
   "source": [
    "import requests\n",
    "from requests.packages.urllib3.exceptions import InsecureRequestWarning\n",
    "requests.packages.urllib3.disable_warnings(InsecureRequestWarning)\n",
    "\n",
    "from matplotlib import pyplot as plt\n",
    "%pylab inline\n",
    "\n",
    "import base64\n",
    "import json\n",
    "import time\n",
    "import urllib"
   ]
  },
  {
   "cell_type": "markdown",
   "id": "c05f9092",
   "metadata": {},
   "source": [
    "#### Configuring your environment and project details\n",
    "To set up your project details, provide your credentials in this cell. You must include your cluster URL, username, and password."
   ]
  },
  {
   "cell_type": "code",
   "execution_count": 4,
   "id": "a49158ef",
   "metadata": {},
   "outputs": [
    {
     "name": "stdout",
     "output_type": "stream",
     "text": [
      "https://wmla-console-wmla.apps.wml1x180.ma.platformlab.ibm.com/auth/v1/logon\n"
     ]
    }
   ],
   "source": [
    "hostname='wmla-console-wmla.apps.wml1x180.ma.platformlab.ibm.com'  # please enter Watson Machine Learning Accelerator host name\n",
    "# login='username:password' # please enter the login and password\n",
    "login='admin:p7PMrMMknVQzEb3ptyj0D6XRTO5PQjYL'\n",
    "es = base64.b64encode(login.encode('utf-8')).decode(\"utf-8\")\n",
    "# print(es)\n",
    "commonHeaders={'Authorization': 'Basic '+es}\n",
    "req = requests.Session()\n",
    "auth_url = 'https://{}/auth/v1/logon'.format(hostname)\n",
    "print(auth_url)\n",
    "\n",
    "a=requests.get(auth_url,headers=commonHeaders, verify=False)\n",
    "access_token=a.json()['accessToken']\n",
    "# print(\"Access_token: \", access_token)"
   ]
  },
  {
   "cell_type": "code",
   "execution_count": 5,
   "id": "3bd91528",
   "metadata": {},
   "outputs": [],
   "source": [
    "dl_rest_url = 'https://{}/platform/rest/deeplearning/v1'.format(hostname)\n",
    "commonHeaders={'accept': 'application/json', 'X-Auth-Token': access_token}\n",
    "req = requests.Session()"
   ]
  },
  {
   "cell_type": "code",
   "execution_count": 6,
   "id": "b630f4ea",
   "metadata": {},
   "outputs": [],
   "source": [
    "# Health check\n",
    "confUrl = 'https://{}/platform/rest/deeplearning/v1/conf'.format(hostname)\n",
    "r = req.get(confUrl, headers=commonHeaders, verify=False)\n"
   ]
  },
  {
   "cell_type": "code",
   "execution_count": 14,
   "id": "170a8802",
   "metadata": {},
   "outputs": [],
   "source": [
    "#### define the status checking fuction"
   ]
  },
  {
   "cell_type": "code",
   "execution_count": 11,
   "id": "dd7756da",
   "metadata": {},
   "outputs": [],
   "source": [
    "import tarfile\n",
    "import tempfile\n",
    "import os\n",
    "import json\n",
    "import pprint\n",
    "import pandas as pd\n",
    "from IPython.display import clear_output\n",
    "\n",
    "def query_job_status(job_id,refresh_rate=3) :\n",
    "\n",
    "    execURL = dl_rest_url  +'/execs/'+ job_id['id']\n",
    "    pp = pprint.PrettyPrinter(indent=2)\n",
    "\n",
    "    keep_running=True\n",
    "    res=None\n",
    "    while(keep_running):\n",
    "        res = req.get(execURL, headers=commonHeaders, verify=False)\n",
    "        monitoring = pd.DataFrame(res.json(), index=[0])\n",
    "        pd.set_option('max_colwidth', 120)\n",
    "        clear_output()\n",
    "        print(\"Refreshing every {} seconds\".format(refresh_rate))\n",
    "        display(monitoring)\n",
    "        pp.pprint(res.json())\n",
    "        if(res.json()['state'] not in ['PENDING_CRD_SCHEDULER', 'SUBMITTED','RUNNING']) :\n",
    "            keep_running=False\n",
    "        time.sleep(refresh_rate)\n",
    "    return res"
   ]
  },
  {
   "cell_type": "code",
   "execution_count": 15,
   "id": "d17ec267",
   "metadata": {},
   "outputs": [],
   "source": [
    "model_file = model_dir+\"/\"+model_main\n",
    "files = {'file': open(model_file , 'rb')}\n",
    "\n",
    "args = '--exec-start tensorflow --cs-datastore-meta type=fs \\\n",
    "                     --workerDeviceNum 1 \\\n",
    "                     --conda-env-name rapids-21.06  \\\n",
    "                     --model-main /gpfs/mydatafs/models/lr_main.py --workerDeviceType gpu'\n",
    "                    # --epochs 5 --batch-size 10000 --workerDeviceType gpu'\n",
    "                    # --model-main '+  \"/gpfs/mydatafs/\" + model_file + ' --epochs 5 --batch-size 10000'"
   ]
  },
  {
   "cell_type": "code",
   "execution_count": 12,
   "id": "235f003c",
   "metadata": {},
   "outputs": [
    {
     "name": "stdout",
     "output_type": "stream",
     "text": [
      "Refreshing every 5 seconds\n"
     ]
    },
    {
     "data": {
      "text/html": [
       "<div>\n",
       "<style scoped>\n",
       "    .dataframe tbody tr th:only-of-type {\n",
       "        vertical-align: middle;\n",
       "    }\n",
       "\n",
       "    .dataframe tbody tr th {\n",
       "        vertical-align: top;\n",
       "    }\n",
       "\n",
       "    .dataframe thead th {\n",
       "        text-align: right;\n",
       "    }\n",
       "</style>\n",
       "<table border=\"1\" class=\"dataframe\">\n",
       "  <thead>\n",
       "    <tr style=\"text-align: right;\">\n",
       "      <th></th>\n",
       "      <th>id</th>\n",
       "      <th>args</th>\n",
       "      <th>submissionId</th>\n",
       "      <th>creator</th>\n",
       "      <th>state</th>\n",
       "      <th>appId</th>\n",
       "      <th>schedulerUrl</th>\n",
       "      <th>modelFileOwnerName</th>\n",
       "      <th>workDir</th>\n",
       "      <th>appName</th>\n",
       "      <th>createTime</th>\n",
       "      <th>elastic</th>\n",
       "      <th>nameSpace</th>\n",
       "      <th>numWorker</th>\n",
       "      <th>framework</th>\n",
       "    </tr>\n",
       "  </thead>\n",
       "  <tbody>\n",
       "    <tr>\n",
       "      <th>0</th>\n",
       "      <td>wmla-190</td>\n",
       "      <td>--exec-start tensorflow --cs-datastore-meta type=fs                      --workerDeviceNum 1                      --...</td>\n",
       "      <td>wmla-190</td>\n",
       "      <td>admin</td>\n",
       "      <td>FINISHED</td>\n",
       "      <td>wmla-190</td>\n",
       "      <td>https://wmla-mss:9080</td>\n",
       "      <td>wmla</td>\n",
       "      <td>/gpfs/myresultfs/admin/batchworkdir/wmla-190/_submitted_code</td>\n",
       "      <td>SingleNodeTensorflowTrain</td>\n",
       "      <td>2021-07-02T04:38:25Z</td>\n",
       "      <td>False</td>\n",
       "      <td>wmla</td>\n",
       "      <td>1</td>\n",
       "      <td>tensorflow</td>\n",
       "    </tr>\n",
       "  </tbody>\n",
       "</table>\n",
       "</div>"
      ],
      "text/plain": [
       "         id  \\\n",
       "0  wmla-190   \n",
       "\n",
       "                                                                                                                      args  \\\n",
       "0  --exec-start tensorflow --cs-datastore-meta type=fs                      --workerDeviceNum 1                      --...   \n",
       "\n",
       "  submissionId creator     state     appId           schedulerUrl  \\\n",
       "0     wmla-190   admin  FINISHED  wmla-190  https://wmla-mss:9080   \n",
       "\n",
       "  modelFileOwnerName  \\\n",
       "0               wmla   \n",
       "\n",
       "                                                        workDir  \\\n",
       "0  /gpfs/myresultfs/admin/batchworkdir/wmla-190/_submitted_code   \n",
       "\n",
       "                     appName            createTime  elastic nameSpace  \\\n",
       "0  SingleNodeTensorflowTrain  2021-07-02T04:38:25Z    False      wmla   \n",
       "\n",
       "   numWorker   framework  \n",
       "0          1  tensorflow  "
      ]
     },
     "metadata": {},
     "output_type": "display_data"
    },
    {
     "name": "stdout",
     "output_type": "stream",
     "text": [
      "{ 'appId': 'wmla-190',\n",
      "  'appName': 'SingleNodeTensorflowTrain',\n",
      "  'args': '--exec-start tensorflow --cs-datastore-meta '\n",
      "          'type=fs                      --workerDeviceNum '\n",
      "          '1                      --conda-env-name '\n",
      "          'rapids-21.06                       --model-main '\n",
      "          '/gpfs/mydatafs/models/lr_main.py --workerDeviceType gpu ',\n",
      "  'createTime': '2021-07-02T04:38:25Z',\n",
      "  'creator': 'admin',\n",
      "  'elastic': False,\n",
      "  'framework': 'tensorflow',\n",
      "  'id': 'wmla-190',\n",
      "  'modelFileOwnerName': 'wmla',\n",
      "  'nameSpace': 'wmla',\n",
      "  'numWorker': 1,\n",
      "  'schedulerUrl': 'https://wmla-mss:9080',\n",
      "  'state': 'FINISHED',\n",
      "  'submissionId': 'wmla-190',\n",
      "  'workDir': '/gpfs/myresultfs/admin/batchworkdir/wmla-190/_submitted_code'}\n",
      "\n",
      "Training cost:  37  seconds.\n"
     ]
    }
   ],
   "source": [
    "starttime = datetime.datetime.now()\n",
    "\n",
    "r = requests.post(dl_rest_url+'/execs?args='+args, files=files,\n",
    "                  headers=commonHeaders, verify=False)\n",
    "if not r.ok:\n",
    "    print('submit job failed: code=%s, %s'%(r.status_code, r.content))\n",
    "        \n",
    "job_status = query_job_status(r.json(),refresh_rate=5)\n",
    "\n",
    "endtime = datetime.datetime.now()\n",
    "\n",
    "print(\"\\nTraining cost: \", (endtime - starttime).seconds, \" seconds.\")"
   ]
  },
  {
   "cell_type": "markdown",
   "id": "a534fec4",
   "metadata": {},
   "source": [
    "## Step 3 :  Setup Linear Regression model using SK-Learning\n",
    "### create a Linear Regression Model based on sk-learning on CPU"
   ]
  },
  {
   "cell_type": "code",
   "execution_count": 13,
   "id": "5a5995bc",
   "metadata": {},
   "outputs": [
    {
     "name": "stdout",
     "output_type": "stream",
     "text": [
      "Overwriting /data/models/lr_main.py\n"
     ]
    }
   ],
   "source": [
    "%%writefile {model_dir}/{model_main}\n",
    "\n",
    "# Code source: Jaques Grobler\n",
    "# License: BSD 3 clause\n",
    "\n",
    "import matplotlib.pyplot as plt\n",
    "import numpy as np\n",
    "from sklearn import datasets, linear_model\n",
    "from sklearn.metrics import mean_squared_error, r2_score\n",
    "\n",
    "import datetime\n",
    "\n",
    "# Load and return the diabetes dataset (regression).\n",
    "# n_sample: 442\n",
    "# n_feature: 10\n",
    "diabetes_X, diabetes_y = datasets.load_diabetes(return_X_y=True)\n",
    "\n",
    "# Use only one feature\n",
    "diabetes_X = diabetes_X[:, np.newaxis, 2]\n",
    "\n",
    "# Split the data into training/testing sets\n",
    "diabetes_X_train = diabetes_X[:-20]\n",
    "diabetes_X_test = diabetes_X[-20:]\n",
    "\n",
    "# Split the targets into training/testing sets\n",
    "diabetes_y_train = diabetes_y[:-20]\n",
    "diabetes_y_test = diabetes_y[-20:]\n",
    "\n",
    "# Create linear regression object\n",
    "regr = linear_model.LinearRegression()\n",
    "\n",
    "# Train the model using the training sets\n",
    "start = datetime.datetime.now()\n",
    "regr.fit(diabetes_X_train, diabetes_y_train)\n",
    "end = datetime.datetime.now()\n",
    "print (\"training timecost: %.2gs\" % ((end-start).total_seconds()))\n",
    "\n",
    "# Make predictions using the testing set\n",
    "start = datetime.datetime.now()\n",
    "diabetes_y_pred = regr.predict(diabetes_X_test)\n",
    "end = datetime.datetime.now()\n",
    "print (\"predict timecost: %.2gs\" % ((end-start).total_seconds()))\n",
    "\n",
    "# The coefficients\n",
    "print('Coefficients: ', regr.coef_)\n",
    "# The mean squared error\n",
    "print('Mean squared error: %.2f'\n",
    "      % mean_squared_error(diabetes_y_test, diabetes_y_pred))\n",
    "# The coefficient of determination: 1 is perfect prediction\n",
    "print('Coefficient of determination: %.2f'\n",
    "      % r2_score(diabetes_y_test, diabetes_y_pred))\n",
    "\n",
    "# Plot outputs\n",
    "plt.scatter(diabetes_X_test, diabetes_y_test,  color='black')\n",
    "plt.plot(diabetes_X_test, diabetes_y_pred, color='blue', linewidth=3)\n",
    "\n",
    "plt.xticks(())\n",
    "plt.yticks(())\n",
    "\n",
    "plt.show()"
   ]
  },
  {
   "cell_type": "markdown",
   "id": "bbcd9963",
   "metadata": {},
   "source": [
    "## Step 4 :  Training the SK-Learning model on CPU with Watson Machine Learning Accelerator"
   ]
  },
  {
   "cell_type": "code",
   "execution_count": 16,
   "id": "bdd30441",
   "metadata": {},
   "outputs": [],
   "source": [
    "model_file = model_dir+\"/\"+model_main\n",
    "files = {'file': open(model_file , 'rb')}\n",
    "\n",
    "args = '--exec-start tensorflow --cs-datastore-meta type=fs \\\n",
    "                     --workerDeviceNum 1 \\\n",
    "                     --conda-env-name rapids-21.06  \\\n",
    "                     --model-main /gpfs/mydatafs/models/lr_main.py --workerDeviceType cpu'\n",
    "                    # --epochs 5 --batch-size 10000 --workerDeviceType gpu'\n",
    "                    # --model-main '+  \"/gpfs/mydatafs/\" + model_file + ' --epochs 5 --batch-size 10000'"
   ]
  },
  {
   "cell_type": "code",
   "execution_count": 17,
   "id": "965f8059",
   "metadata": {},
   "outputs": [
    {
     "name": "stdout",
     "output_type": "stream",
     "text": [
      "Refreshing every 5 seconds\n"
     ]
    },
    {
     "data": {
      "text/html": [
       "<div>\n",
       "<style scoped>\n",
       "    .dataframe tbody tr th:only-of-type {\n",
       "        vertical-align: middle;\n",
       "    }\n",
       "\n",
       "    .dataframe tbody tr th {\n",
       "        vertical-align: top;\n",
       "    }\n",
       "\n",
       "    .dataframe thead th {\n",
       "        text-align: right;\n",
       "    }\n",
       "</style>\n",
       "<table border=\"1\" class=\"dataframe\">\n",
       "  <thead>\n",
       "    <tr style=\"text-align: right;\">\n",
       "      <th></th>\n",
       "      <th>id</th>\n",
       "      <th>args</th>\n",
       "      <th>submissionId</th>\n",
       "      <th>creator</th>\n",
       "      <th>state</th>\n",
       "      <th>appId</th>\n",
       "      <th>schedulerUrl</th>\n",
       "      <th>modelFileOwnerName</th>\n",
       "      <th>workDir</th>\n",
       "      <th>appName</th>\n",
       "      <th>createTime</th>\n",
       "      <th>elastic</th>\n",
       "      <th>nameSpace</th>\n",
       "      <th>numWorker</th>\n",
       "      <th>framework</th>\n",
       "    </tr>\n",
       "  </thead>\n",
       "  <tbody>\n",
       "    <tr>\n",
       "      <th>0</th>\n",
       "      <td>wmla-191</td>\n",
       "      <td>--exec-start tensorflow --cs-datastore-meta type=fs                      --workerDeviceNum 1                      --...</td>\n",
       "      <td>wmla-191</td>\n",
       "      <td>admin</td>\n",
       "      <td>FINISHED</td>\n",
       "      <td>wmla-191</td>\n",
       "      <td>https://wmla-mss:9080</td>\n",
       "      <td>wmla</td>\n",
       "      <td>/gpfs/myresultfs/admin/batchworkdir/wmla-191/_submitted_code</td>\n",
       "      <td>SingleNodeTensorflowTrain</td>\n",
       "      <td>2021-07-02T04:51:59Z</td>\n",
       "      <td>False</td>\n",
       "      <td>wmla</td>\n",
       "      <td>1</td>\n",
       "      <td>tensorflow</td>\n",
       "    </tr>\n",
       "  </tbody>\n",
       "</table>\n",
       "</div>"
      ],
      "text/plain": [
       "         id  \\\n",
       "0  wmla-191   \n",
       "\n",
       "                                                                                                                      args  \\\n",
       "0  --exec-start tensorflow --cs-datastore-meta type=fs                      --workerDeviceNum 1                      --...   \n",
       "\n",
       "  submissionId creator     state     appId           schedulerUrl  \\\n",
       "0     wmla-191   admin  FINISHED  wmla-191  https://wmla-mss:9080   \n",
       "\n",
       "  modelFileOwnerName  \\\n",
       "0               wmla   \n",
       "\n",
       "                                                        workDir  \\\n",
       "0  /gpfs/myresultfs/admin/batchworkdir/wmla-191/_submitted_code   \n",
       "\n",
       "                     appName            createTime  elastic nameSpace  \\\n",
       "0  SingleNodeTensorflowTrain  2021-07-02T04:51:59Z    False      wmla   \n",
       "\n",
       "   numWorker   framework  \n",
       "0          1  tensorflow  "
      ]
     },
     "metadata": {},
     "output_type": "display_data"
    },
    {
     "name": "stdout",
     "output_type": "stream",
     "text": [
      "{ 'appId': 'wmla-191',\n",
      "  'appName': 'SingleNodeTensorflowTrain',\n",
      "  'args': '--exec-start tensorflow --cs-datastore-meta '\n",
      "          'type=fs                      --workerDeviceNum '\n",
      "          '1                      --conda-env-name '\n",
      "          'rapids-21.06                       --model-main '\n",
      "          '/gpfs/mydatafs/models/lr_main.py --workerDeviceType cpu ',\n",
      "  'createTime': '2021-07-02T04:51:59Z',\n",
      "  'creator': 'admin',\n",
      "  'elastic': False,\n",
      "  'framework': 'tensorflow',\n",
      "  'id': 'wmla-191',\n",
      "  'modelFileOwnerName': 'wmla',\n",
      "  'nameSpace': 'wmla',\n",
      "  'numWorker': 1,\n",
      "  'schedulerUrl': 'https://wmla-mss:9080',\n",
      "  'state': 'FINISHED',\n",
      "  'submissionId': 'wmla-191',\n",
      "  'workDir': '/gpfs/myresultfs/admin/batchworkdir/wmla-191/_submitted_code'}\n",
      "Training cost:  28  seconds.\n"
     ]
    }
   ],
   "source": [
    "import datetime\n",
    "\n",
    "starttime = datetime.datetime.now()\n",
    "\n",
    "# ! python {model_dir}/{model_main} # --no-cuda --epochs 5 --batch-size 10000\n",
    "r = requests.post(dl_rest_url+'/execs?args='+args, files=files,\n",
    "                  headers=commonHeaders, verify=False)\n",
    "if not r.ok:\n",
    "    print('submit job failed: code=%s, %s'%(r.status_code, r.content))\n",
    "        \n",
    "job_status = query_job_status(r.json(),refresh_rate=5)\n",
    "\n",
    "endtime = datetime.datetime.now()\n",
    "print(\"Training cost: \", (endtime - starttime).seconds, \" seconds.\")\n"
   ]
  },
  {
   "cell_type": "code",
   "execution_count": null,
   "id": "f44f2c94",
   "metadata": {},
   "outputs": [],
   "source": []
  }
 ],
 "metadata": {
  "kernelspec": {
   "display_name": "Python3 Single CPU Kernel",
   "language": "python",
   "name": "python_single_cpu"
  },
  "language_info": {
   "codemirror_mode": {
    "name": "ipython",
    "version": 3
   },
   "file_extension": ".py",
   "mimetype": "text/x-python",
   "name": "python",
   "nbconvert_exporter": "python",
   "pygments_lexer": "ipython3",
   "version": "3.7.10"
  }
 },
 "nbformat": 4,
 "nbformat_minor": 5
}
