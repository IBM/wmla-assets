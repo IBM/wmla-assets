{
 "cells": [
  {
   "cell_type": "markdown",
   "metadata": {},
   "source": [
    "# Offloading workload from Cloud Pak for Data to Watson ML Accelerator\n",
    "\n",
    "Using the Watson Machine Learning API Python client library. You will learn to download a sample Pytorch MNIST model and train it using Watson Machine Learning Accelerator (WMLA) to identify numbers based on images. Then, you will save and deploy the model from your workspace and again use WML to score it. Lastly you will clean up by deleting your deployment. This notebook runs on Python 3.6 and is intended for CPD 3.0.1.\n",
    "\n",
    "## Table of Contents:\n",
    "\n",
    "1. [Setup](#setup)<br>\n",
    "    1.1 [Initialize python client](#Initialize-python-client)<br>\n",
    "    1.2 [Set default space](#Set-default-space)<br>\n",
    "    1.3 [Create library](#Create-library)<br>\n",
    "2. [Train the model](#train)<br>\n",
    "    2.1 [Create training](#Create-training)<br>\n",
    "    2.2 [Monitor training](#Monitor-training)<br>\n",
    "3. [Save and deploy the model](#deploy)<br>\n",
    "    3.1 [Save Model to project](#Save-Model-to-project)<br>\n",
    "    3.2 [Create Deployment](#Create-Deployment)<br>\n",
    "4. [Scoring the model](#score)<br>\n",
    "    4.1 [Score deployment](#Score-deployment)<br>\n",
    "    4.2 [Prediction accuracy](#Prediction-accuracy)<br>\n",
    "    4.3 [Interact with wider project](#Interact-with-wider-project)<br>\n",
    "5. [Clean up resources](#Clean-up-resources)"
   ]
  },
  {
   "cell_type": "markdown",
   "metadata": {},
   "source": [
    "&nbsp;\n",
    "&nbsp;\n",
    "&nbsp;\n",
    "&nbsp;\n",
    "&nbsp;\n",
    "\n",
    "\n",
    "![options](https://github.com/IBM/wmla-learning-path/raw/master/shared-images/CPD-WMLA_3_pythonclient.png)"
   ]
  },
  {
   "cell_type": "markdown",
   "metadata": {},
   "source": [
    "<a id = \"setup\"></a>\n",
    "## Setup\n",
    "\n",
    "Uncomment and run this cell if Python v4 client is not installed."
   ]
  },
  {
   "cell_type": "code",
   "execution_count": null,
   "metadata": {},
   "outputs": [],
   "source": [
    "!pip install --upgrade watson-machine-learning-client-V4"
   ]
  },
  {
   "cell_type": "markdown",
   "metadata": {},
   "source": [
    "### Initialize python client"
   ]
  },
  {
   "cell_type": "code",
   "execution_count": 1,
   "metadata": {},
   "outputs": [],
   "source": [
    "import sys,os,os.path"
   ]
  },
  {
   "cell_type": "markdown",
   "metadata": {},
   "source": [
    "Authentication methods:\n",
    "\n",
    "- If you use the same user ID on both CPD and WMLA, use the **token** authentication method\n",
    "- If you use different user IDs on CPD and WMLA, use the **user** authentication\n",
    "\n",
    "Update username and password to access WMLA in cell below, plus the URL for local CPD cluster with WML:"
   ]
  },
  {
   "cell_type": "code",
   "execution_count": 2,
   "metadata": {},
   "outputs": [],
   "source": [
    "# @hidden_cell\n",
    "\n",
    "# Authenticate using token for a user which exists on both the CPD and WMLA cluster.\n",
    "# Otherwise specify username and password\n",
    "\n",
    "# token = os.environ['USER_ACCESS_TOKEN']\n",
    "USERNAME = 'wml-user'\n",
    "PASSWORD = 'password'\n",
    "URL = '' # Enter URL\n",
    "\n",
    "\n",
    "wml_credentials = {\n",
    "#     \"token\": token,\n",
    "    'username': USERNAME,\n",
    "    'password': PASSWORD,\n",
    "    \"instance_id\" : \"wml_local\",\n",
    "    \"url\": URL,\n",
    "    \"version\": \"3.0.1\"\n",
    "}\n",
    "\n",
    "#credential designs\n",
    "#version would be corresponding to CPD or Openshift version"
   ]
  },
  {
   "cell_type": "code",
   "execution_count": 3,
   "metadata": {
    "scrolled": true
   },
   "outputs": [
    {
     "data": {
      "text/plain": [
       "'1.0.108'"
      ]
     },
     "execution_count": 3,
     "metadata": {},
     "output_type": "execute_result"
    }
   ],
   "source": [
    "# This can take time to run - be patient :)\n",
    "# Creating an instance of python client\n",
    "\n",
    "from watson_machine_learning_client import WatsonMachineLearningAPIClient\n",
    "client = WatsonMachineLearningAPIClient(wml_credentials)\n",
    "client.version"
   ]
  },
  {
   "cell_type": "markdown",
   "metadata": {},
   "source": [
    "### Set default space\n",
    "\n",
    "Set default space for CPD usage (if needed, note this unsets the project ID). "
   ]
  },
  {
   "cell_type": "code",
   "execution_count": 4,
   "metadata": {},
   "outputs": [
    {
     "name": "stdout",
     "output_type": "stream",
     "text": [
      "Space id: c3307924-a53a-47fd-b11c-10b2f0455c60\n"
     ]
    },
    {
     "data": {
      "text/plain": [
       "'SUCCESS'"
      ]
     },
     "execution_count": 4,
     "metadata": {},
     "output_type": "execute_result"
    }
   ],
   "source": [
    "# creating deployment space\n",
    "meta_props = {\n",
    "    client.spaces.ConfigurationMetaNames.NAME: \"CPD WMLA demo space\"\n",
    "}\n",
    "\n",
    "space = client.spaces.store(meta_props)\n",
    "space_id = client.spaces.get_uid(space)\n",
    "\n",
    "print(\"Space id: {}\".format(space_id))\n",
    "# all assets creating after this cell will be stored at this space_id\n",
    "client.set.default_space(space_id)"
   ]
  },
  {
   "cell_type": "code",
   "execution_count": 5,
   "metadata": {
    "scrolled": true
   },
   "outputs": [
    {
     "name": "stdout",
     "output_type": "stream",
     "text": [
      "------------------------------------  -------------------  ------------------------\n",
      "GUID                                  NAME                 CREATED\n",
      "c3307924-a53a-47fd-b11c-10b2f0455c60  CPD WMLA demo space  2020-07-24T20:11:49.866Z\n",
      "0a1617b5-52eb-4de2-9758-3c2d62985aa9  CPD WMLA demo space  2020-07-24T13:37:12.803Z\n",
      "5eb19bcb-5ac5-4597-9665-438ea4f09a12  CPD WMLA demo space  2020-07-23T14:19:38.376Z\n",
      "d516a0bc-4d92-4d8f-9ac3-de8e869abd09  CPD WMLA demo space  2020-07-23T14:19:26.218Z\n",
      "d91c86e3-000c-4156-a738-4b5baf630b83  wml_training_space   2020-07-16T13:24:30.254Z\n",
      "e9fde3b1-c2a6-4066-9c7f-98f379532455  CPD WMLA demo space  2020-07-14T17:11:58.060Z\n",
      "5527ef2f-6367-48aa-b672-b8a3c3213a1e  CPD WMLA demo space  2020-07-13T20:47:32.891Z\n",
      "92d54f50-7858-4089-9574-6841abdc29db  CPD WMLA demo space  2020-07-13T20:45:21.322Z\n",
      "a4f928ca-49b4-493e-97f4-09f85ca70090  CPD WMLA demo space  2020-07-13T18:29:02.548Z\n",
      "38340881-7541-41ab-ba78-82b11cb6f8fe  CPD WMLA demo space  2020-07-13T14:59:00.297Z\n",
      "------------------------------------  -------------------  ------------------------\n"
     ]
    }
   ],
   "source": [
    "client.spaces.list()"
   ]
  },
  {
   "cell_type": "code",
   "execution_count": null,
   "metadata": {},
   "outputs": [],
   "source": [
    "# In case you need to clear up any old spaces before this session\n",
    "\n",
    "# client.spaces.delete('<GUID_HERE>')"
   ]
  },
  {
   "cell_type": "markdown",
   "metadata": {},
   "source": [
    "View the predefined runtimes available."
   ]
  },
  {
   "cell_type": "code",
   "execution_count": 6,
   "metadata": {
    "scrolled": true
   },
   "outputs": [
    {
     "name": "stdout",
     "output_type": "stream",
     "text": [
      "WARNING!! 'runtimes' is DEPRECATED. Use 'software_specifications' instead to create and manage runtimes/specifications\n",
      "WARNING!! 'runtimes' is DEPRECATED. Use 'software_specifications' instead to create and manage runtimes/specifications\n",
      "--------------------------  --------------------------  ------------------------  --------\n",
      "GUID                        NAME                        CREATED                   PLATFORM\n",
      "do_12.10                    do_12.10                    2020-07-07T05:30:57.666Z  do\n",
      "do_12.9                     do_12.9                     2020-07-07T05:30:57.632Z  do\n",
      "pmml_4.3                    pmml_4.3                    2020-07-07T05:30:57.609Z  pmml\n",
      "pmml_4.2.1                  pmml_4.2.1                  2020-07-07T05:30:57.585Z  pmml\n",
      "pmml_4.2                    pmml_4.2                    2020-07-07T05:30:57.559Z  pmml\n",
      "pmml_4.1                    pmml_4.1                    2020-07-07T05:30:57.534Z  pmml\n",
      "pmml_4.0                    pmml_4.0                    2020-07-07T05:30:57.510Z  pmml\n",
      "pmml_3.2                    pmml_3.2                    2020-07-07T05:30:57.488Z  pmml\n",
      "pmml_3.1                    pmml_3.1                    2020-07-07T05:30:57.466Z  pmml\n",
      "pmml_3.0                    pmml_3.0                    2020-07-07T05:30:57.439Z  pmml\n",
      "ai-function_0.1-py3.6       ai-function_0.1-py3.6       2020-07-07T05:30:57.417Z  python\n",
      "ai-function_0.1-py3         ai-function_0.1-py3         2020-07-07T05:30:57.394Z  python\n",
      "hybrid_0.2                  hybrid_0.2                  2020-07-07T05:30:57.370Z  hybrid\n",
      "hybrid_0.1                  hybrid_0.1                  2020-07-07T05:30:57.346Z  hybrid\n",
      "xgboost_0.90-py3.6          xgboost_0.90-py3.6          2020-07-07T05:30:57.324Z  python\n",
      "xgboost_0.82-py3.6          xgboost_0.82-py3.6          2020-07-07T05:30:57.302Z  python\n",
      "xgboost_0.82-py3            xgboost_0.82-py3            2020-07-07T05:30:57.277Z  python\n",
      "xgboost_0.80-py3.6          xgboost_0.80-py3.6          2020-07-07T05:30:57.255Z  python\n",
      "xgboost_0.80-py3            xgboost_0.80-py3            2020-07-07T05:30:57.228Z  python\n",
      "xgboost_0.6-py3             xgboost_0.6-py3             2020-07-07T05:30:57.203Z  python\n",
      "spss-modeler_18.2           spss-modeler_18.2           2020-07-07T05:30:57.179Z  spss\n",
      "spss-modeler_18.1           spss-modeler_18.1           2020-07-07T05:30:57.154Z  spss\n",
      "spss-modeler_17.1           spss-modeler_17.1           2020-07-07T05:30:57.130Z  spss\n",
      "scikit-learn_0.22-py3.6     scikit-learn_0.22-py3.6     2020-07-07T05:30:57.106Z  python\n",
      "scikit-learn_0.20-py3.6     scikit-learn_0.20-py3.6     2020-07-07T05:30:57.081Z  python\n",
      "scikit-learn_0.20-py3       scikit-learn_0.20-py3       2020-07-07T05:30:57.055Z  python\n",
      "scikit-learn_0.19-py3.6     scikit-learn_0.19-py3.6     2020-07-07T05:30:57.032Z  python\n",
      "scikit-learn_0.19-py3       scikit-learn_0.19-py3       2020-07-07T05:30:56.997Z  python\n",
      "scikit-learn_0.17-py3       scikit-learn_0.17-py3       2020-07-07T05:30:56.974Z  python\n",
      "spark-mllib_2.4             spark-mllib_2.4             2020-07-07T05:30:56.949Z  spark\n",
      "spark-mllib_2.3             spark-mllib_2.3             2020-07-07T05:30:56.924Z  spark\n",
      "spark-mllib_2.2             spark-mllib_2.2             2020-07-07T05:30:56.898Z  spark\n",
      "tensorflow_1.15-py3.6       tensorflow_1.15-py3.6       2020-07-07T05:30:56.871Z  python\n",
      "tensorflow_1.14-py3.6       tensorflow_1.14-py3.6       2020-07-07T05:30:56.845Z  python\n",
      "tensorflow_1.13-py3.6       tensorflow_1.13-py3.6       2020-07-07T05:30:56.822Z  python\n",
      "tensorflow_1.11-py3.6       tensorflow_1.11-py3.6       2020-07-07T05:30:56.794Z  python\n",
      "tensorflow_1.13-py3         tensorflow_1.13-py3         2020-07-07T05:30:56.766Z  python\n",
      "tensorflow_1.13-py2         tensorflow_1.13-py2         2020-07-07T05:30:56.740Z  python\n",
      "tensorflow_0.11-horovod     tensorflow_0.11-horovod     2020-07-07T05:30:56.716Z  native\n",
      "tensorflow_1.11-py3         tensorflow_1.11-py3         2020-07-07T05:30:56.692Z  python\n",
      "tensorflow_1.10-py3         tensorflow_1.10-py3         2020-07-07T05:30:56.665Z  python\n",
      "tensorflow_1.10-py2         tensorflow_1.10-py2         2020-07-07T05:30:56.641Z  python\n",
      "tensorflow_1.9-py3          tensorflow_1.9-py3          2020-07-07T05:30:56.614Z  python\n",
      "tensorflow_1.9-py2          tensorflow_1.9-py2          2020-07-07T05:30:56.589Z  python\n",
      "tensorflow_1.8-py3          tensorflow_1.8-py3          2020-07-07T05:30:56.559Z  python\n",
      "tensorflow_1.8-py2          tensorflow_1.8-py2          2020-07-07T05:30:56.533Z  python\n",
      "tensorflow_1.7-py3          tensorflow_1.7-py3          2020-07-07T05:30:56.508Z  python\n",
      "tensorflow_1.7-py2          tensorflow_1.7-py2          2020-07-07T05:30:56.483Z  python\n",
      "tensorflow_1.6-py3          tensorflow_1.6-py3          2020-07-07T05:30:56.458Z  python\n",
      "tensorflow_1.6-py2          tensorflow_1.6-py2          2020-07-07T05:30:56.425Z  python\n",
      "tensorflow_1.5-py2-ddl      tensorflow_1.5-py2-ddl      2020-07-07T05:30:56.399Z  python\n",
      "tensorflow_1.5-py3-horovod  tensorflow_1.5-py3-horovod  2020-07-07T05:30:56.375Z  python\n",
      "tensorflow_1.5-py3.6        tensorflow_1.5-py3.6        2020-07-07T05:30:56.349Z  python\n",
      "tensorflow_1.5-py3          tensorflow_1.5-py3          2020-07-07T05:30:56.324Z  python\n",
      "tensorflow_1.5-py2          tensorflow_1.5-py2          2020-07-07T05:30:56.299Z  python\n",
      "tensorflow_1.4-py2-ddl      tensorflow_1.4-py2-ddl      2020-07-07T05:30:56.277Z  python\n",
      "tensorflow_1.4-py3-horovod  tensorflow_1.4-py3-horovod  2020-07-07T05:30:56.248Z  python\n",
      "tensorflow_1.4-py3          tensorflow_1.4-py3          2020-07-07T05:30:56.220Z  python\n",
      "tensorflow_1.4-py2          tensorflow_1.4-py2          2020-07-07T05:30:56.196Z  python\n",
      "tensorflow_1.3-py2-ddl      tensorflow_1.3-py2-ddl      2020-07-07T05:30:56.167Z  python\n",
      "tensorflow_1.3-py3          tensorflow_1.3-py3          2020-07-07T05:30:56.136Z  python\n",
      "tensorflow_1.3-py2          tensorflow_1.3-py2          2020-07-07T05:30:56.109Z  python\n",
      "tensorflow_1.2-py3          tensorflow_1.2-py3          2020-07-07T05:30:56.081Z  python\n",
      "tensorflow_1.2-py2          tensorflow_1.2-py2          2020-07-07T05:30:56.046Z  python\n",
      "pytorch-onnx_1.2-py3.6      pytorch-onnx_1.2-py3.6      2020-07-07T05:30:56.016Z  python\n",
      "pytorch-onnx_1.1-py3.6      pytorch-onnx_1.1-py3.6      2020-07-07T05:30:55.987Z  python\n",
      "pytorch-onnx_1.0-py3        pytorch-onnx_1.0-py3        2020-07-07T05:30:55.960Z  python\n",
      "pytorch-onnx_1.2-py3.6-edt  pytorch-onnx_1.2-py3.6-edt  2020-07-07T05:30:55.934Z  python\n",
      "pytorch-onnx_1.1-py3.6-edt  pytorch-onnx_1.1-py3.6-edt  2020-07-07T05:30:55.907Z  python\n",
      "pytorch_1.1-py3.6           pytorch_1.1-py3.6           2020-07-07T05:30:55.879Z  python\n",
      "pytorch_1.1-py3             pytorch_1.1-py3             2020-07-07T05:30:55.851Z  python\n",
      "pytorch_1.0-py3             pytorch_1.0-py3             2020-07-07T05:30:55.824Z  python\n",
      "pytorch_1.0-py2             pytorch_1.0-py2             2020-07-07T05:30:55.798Z  python\n",
      "pytorch_0.4-py3-horovod     pytorch_0.4-py3-horovod     2020-07-07T05:30:55.767Z  python\n",
      "pytorch_0.4-py3             pytorch_0.4-py3             2020-07-07T05:30:55.740Z  python\n",
      "pytorch_0.4-py2             pytorch_0.4-py2             2020-07-07T05:30:55.710Z  python\n",
      "pytorch_0.3-py3             pytorch_0.3-py3             2020-07-07T05:30:55.681Z  python\n",
      "pytorch_0.3-py2             pytorch_0.3-py2             2020-07-07T05:30:55.652Z  python\n",
      "torch_lua52                 torch_lua52                 2020-07-07T05:30:55.623Z  lua\n",
      "torch_luajit                torch_luajit                2020-07-07T05:30:55.592Z  lua\n",
      "caffe-ibm_1.0-py3           caffe-ibm_1.0-py3           2020-07-07T05:30:55.561Z  python\n",
      "caffe-ibm_1.0-py2           caffe-ibm_1.0-py2           2020-07-07T05:30:55.534Z  python\n",
      "caffe_1.0-py3               caffe_1.0-py3               2020-07-07T05:30:55.508Z  python\n",
      "caffe_1.0-py2               caffe_1.0-py2               2020-07-07T05:30:55.483Z  python\n",
      "caffe_frcnn                 caffe_frcnn                 2020-07-07T05:30:55.455Z  Python\n",
      "caffe_1.0-ddl               caffe_1.0-ddl               2020-07-07T05:30:55.423Z  native\n",
      "caffe2_0.8                  caffe2_0.8                  2020-07-07T05:30:55.395Z  Python\n",
      "darknet_0                   darknet_0                   2020-07-07T05:30:55.367Z  native\n",
      "theano_1.0                  theano_1.0                  2020-07-07T05:30:55.333Z  Python\n",
      "mxnet_1.2-py2               mxnet_1.2-py2               2020-07-07T05:30:55.303Z  python\n",
      "mxnet_1.1-py2               mxnet_1.1-py2               2020-07-07T05:30:55.260Z  python\n",
      "--------------------------  --------------------------  ------------------------  --------\n"
     ]
    }
   ],
   "source": [
    "# retrieve existing runtime in CPD cluster,  where training and deployment will happen\n",
    "client.runtimes.list(pre_defined=True, limit=100)"
   ]
  },
  {
   "cell_type": "markdown",
   "metadata": {},
   "source": [
    "### Create library\n",
    "\n",
    "Get the zip file containing the training python code is downloaded. It can be modified to use locally stored files.\n",
    "\n",
    "We are using a pre-created sample zip file which contains the following: \n",
    "```\n",
    "pytorch_onnx_v_1.1\n",
    "├── emetrics.py\n",
    "└── pytorch_v_1.1_mnist_onnx.py\n",
    "```\n",
    "\n",
    "This code trains a PyTorch model using the MNIST dataset which is downloaded to the WMLA cluster as part of the workload running. "
   ]
  },
  {
   "cell_type": "code",
   "execution_count": 7,
   "metadata": {},
   "outputs": [],
   "source": [
    "import requests\n",
    "\n",
    "model_content_resp = requests.get(\"https://github.com/calinrc/model_definitions/raw/master/libs/pytorch_onnx_v_1.1.zip\",\n",
    "                                  headers={\"Content-Type\": \"application/octet-stream\"})\n",
    "with open(\"pytorch_onnx_v_1.1.zip\", \"wb\") as f:\n",
    "    f.write(model_content_resp.content)"
   ]
  },
  {
   "cell_type": "code",
   "execution_count": null,
   "metadata": {},
   "outputs": [],
   "source": [
    "#client.runtimes.get_library_details(limit=10)"
   ]
  },
  {
   "cell_type": "code",
   "execution_count": 8,
   "metadata": {},
   "outputs": [],
   "source": [
    "# stores model definition as custom library, and we will use for training.\n",
    "meta_props = {\n",
    "    client.model_definitions.ConfigurationMetaNames.NAME: \"pytorch mnist library 4\",\n",
    "    #client.model_definitions.ConfigurationMetaNames.FILEPATH: \"./pytorch_onnx_v_1.1.zip\",\n",
    "    client.model_definitions.ConfigurationMetaNames.PLATFORM: {\"name\": \"python\",\n",
    "                                               \"versions\": [\"3.6\"]},\n",
    "    client.model_definitions.ConfigurationMetaNames.VERSION: \"1\",\n",
    "    client.model_definitions.ConfigurationMetaNames.COMMAND: \"pytorch_v_1.1_mnist_onnx.py --debug-level debug\"\n",
    "}\n",
    "\n",
    "model_definition_details = client.model_definitions.store(\"./pytorch_onnx_v_1.1.zip\",meta_props)\n",
    "\n",
    "model_definition_id = client.model_definitions.get_uid(model_definition_details)"
   ]
  },
  {
   "cell_type": "code",
   "execution_count": null,
   "metadata": {},
   "outputs": [],
   "source": [
    "#library_href = client.runtimes.get_library_href(library)"
   ]
  },
  {
   "cell_type": "markdown",
   "metadata": {},
   "source": [
    "<a id = \"train\"></a>\n",
    "## Train the model"
   ]
  },
  {
   "cell_type": "markdown",
   "metadata": {},
   "source": [
    "### Create training"
   ]
  },
  {
   "cell_type": "code",
   "execution_count": 9,
   "metadata": {},
   "outputs": [],
   "source": [
    "# Create Training pipeline and use the model definition stored in the library\n",
    "# Command doesn't require to be defined here.   \n",
    "# Library is deprecated from CPD 3.0.1\n",
    "meta_props = {\n",
    "    client.training.ConfigurationMetaNames.NAME: model_definition_id,\n",
    "    client.training.ConfigurationMetaNames.DESCRIPTION: \"PyTorch training at WMLA\",\n",
    "    client.training.ConfigurationMetaNames.MODEL_DEFINITION: {\n",
    "     \"id\": model_definition_id,\n",
    "     #\"href\": library_href,\n",
    "     \"runtime\": {\"href\": \"/v4/runtimes/pytorch-onnx_1.1-py3.6\"},\n",
    "     #\"command\": \"pytorch_v_1.1_mnist_onnx.py --epochs 10 --debug-level debug\",   -> will override training command stored in library\n",
    "     \"software_spec\": {\n",
    "      \"name\": \"pytorch-onnx_1.1-py3.6\"\n",
    "     },   \n",
    "     \n",
    "     \"hardware_spec\": {\"name\": \"v100\", \"nodes\": 1},\n",
    "     \"parameters\": {\n",
    "            \"name\": \"pytorch onnx defintion\",\n",
    "            \"description\": \"pytorch onnx defintion\"\n",
    "          }\n",
    "     },\n",
    "    client.training.ConfigurationMetaNames.SPACE_UID: space_id,    \n",
    "    \n",
    "    client.training.ConfigurationMetaNames.TRAINING_DATA_REFERENCES: [\n",
    "        {\n",
    "          \"name\": \"training_input_data\",\n",
    "          \"type\": \"fs\",\n",
    "          \"connection\": {},\n",
    "          \"location\": {\n",
    "            \"path\": \"pytorch-mnist\"\n",
    "          },\n",
    "        }\n",
    "      ],\n",
    "    client.training.ConfigurationMetaNames.TRAINING_RESULTS_REFERENCE: {\n",
    "        \"location\": {\n",
    "          \"path\": \"/spaces/\" + space_id + \"/assets/trainings\"\n",
    "        },\n",
    "        \"type\": \"fs\"\n",
    "      }\n",
    "}\n",
    "\n",
    "training = client.training.run(meta_props)\n"
   ]
  },
  {
   "cell_type": "code",
   "execution_count": 10,
   "metadata": {},
   "outputs": [
    {
     "name": "stdout",
     "output_type": "stream",
     "text": [
      "Training uid: 38beda87-6b1c-4dcf-bd53-4dbc3da02182\n"
     ]
    }
   ],
   "source": [
    "training_uid = client.training.get_uid(training)\n",
    "training_state = client.training.get_status(training_uid)['state']\n",
    "print(\"Training uid: {}\".format(training_uid))"
   ]
  },
  {
   "cell_type": "code",
   "execution_count": 11,
   "metadata": {
    "scrolled": true
   },
   "outputs": [
    {
     "data": {
      "text/plain": [
       "{'metadata': {'created_at': '2020-07-24T20:12:22.131Z',\n",
       "  'description': 'PyTorch training at WMLA',\n",
       "  'guid': '38beda87-6b1c-4dcf-bd53-4dbc3da02182',\n",
       "  'href': '/v4/trainings/38beda87-6b1c-4dcf-bd53-4dbc3da02182',\n",
       "  'id': '38beda87-6b1c-4dcf-bd53-4dbc3da02182',\n",
       "  'modified_at': '2020-07-24T20:12:33.747Z',\n",
       "  'name': '2059862f-fb24-4416-b415-0686e587fc5d',\n",
       "  'space_id': 'c3307924-a53a-47fd-b11c-10b2f0455c60'},\n",
       " 'entity': {'description': 'PyTorch training at WMLA',\n",
       "  'model_definition': {'hardware_spec': {'name': 'v100'},\n",
       "   'id': '2059862f-fb24-4416-b415-0686e587fc5d',\n",
       "   'parameters': {'description': 'pytorch onnx defintion',\n",
       "    'name': 'pytorch onnx defintion'},\n",
       "   'software_spec': {'name': 'pytorch-onnx_1.1-py3.6'}},\n",
       "  'name': '2059862f-fb24-4416-b415-0686e587fc5d',\n",
       "  'results_reference': {'location': {'path': '/spaces/c3307924-a53a-47fd-b11c-10b2f0455c60/assets/trainings',\n",
       "    'model': '/spaces/c3307924-a53a-47fd-b11c-10b2f0455c60/assets/trainings/38beda87-6b1c-4dcf-bd53-4dbc3da02182/data/model',\n",
       "    'training': '/spaces/c3307924-a53a-47fd-b11c-10b2f0455c60/assets/trainings/38beda87-6b1c-4dcf-bd53-4dbc3da02182',\n",
       "    'training_status': '/spaces/c3307924-a53a-47fd-b11c-10b2f0455c60/assets/trainings/38beda87-6b1c-4dcf-bd53-4dbc3da02182/training-status.json',\n",
       "    'logs': '/spaces/c3307924-a53a-47fd-b11c-10b2f0455c60/assets/trainings/38beda87-6b1c-4dcf-bd53-4dbc3da02182/logs',\n",
       "    'assets_path': '/spaces/c3307924-a53a-47fd-b11c-10b2f0455c60/assets/trainings/38beda87-6b1c-4dcf-bd53-4dbc3da02182'},\n",
       "   'type': 'fs',\n",
       "   'connection': {}},\n",
       "  'space': {'href': '/v4/spaces/c3307924-a53a-47fd-b11c-10b2f0455c60',\n",
       "   'id': 'c3307924-a53a-47fd-b11c-10b2f0455c60'},\n",
       "  'space_id': 'c3307924-a53a-47fd-b11c-10b2f0455c60',\n",
       "  'status': {'message': {'text': 'WMLA execution ID is wml-user-12792762464061337-637154204',\n",
       "    'level': 'info'},\n",
       "   'state': 'pending'},\n",
       "  'training_data_references': [{'location': {'path': 'pytorch-mnist'},\n",
       "    'type': 'fs',\n",
       "    'connection': {}}]}}"
      ]
     },
     "execution_count": 11,
     "metadata": {},
     "output_type": "execute_result"
    }
   ],
   "source": [
    "client.training.get_details(training_uid)"
   ]
  },
  {
   "cell_type": "markdown",
   "metadata": {},
   "source": [
    "### Monitor training"
   ]
  },
  {
   "cell_type": "code",
   "execution_count": 12,
   "metadata": {
    "scrolled": true
   },
   "outputs": [
    {
     "name": "stdout",
     "output_type": "stream",
     "text": [
      "Current training state: pending\n",
      "Current training state: running\n",
      "Current training state: running\n",
      "Current training state: running\n",
      "Current training state: running\n",
      "Current training state: running\n",
      "Current training state: running\n",
      "Current training state: running\n",
      "Current training state: running\n",
      "Current training state: running\n",
      "Current training state: running\n",
      "Current training state: running\n",
      "Current training state: running\n",
      "Current training state: running\n",
      "Current training state: running\n",
      "Current training state: running\n",
      "training completes\n"
     ]
    }
   ],
   "source": [
    "import time \n",
    "\n",
    "while training_state == 'pending' or training_state == 'running':\n",
    "    time.sleep(10)\n",
    "    print(\"Current training state: {}\".format(training_state))\n",
    "    training_state = client.training.get_status(training_uid)['state']\n",
    "\n",
    "print (\"training completes\")    "
   ]
  },
  {
   "cell_type": "markdown",
   "metadata": {},
   "source": [
    "<a id = \"deploy\"></a>\n",
    "## Save and deploy the model"
   ]
  },
  {
   "cell_type": "markdown",
   "metadata": {},
   "source": [
    "### Save Model to project\n",
    "\n",
    "Note that you can save your model to your Watson Studio project by changing from the space we've been working in up to this point by using the `PROJECT_ID` variable. \n",
    "\n",
    "This saved model can then be promoted to the CPD deployment space from the UI (not currently possible with python client)."
   ]
  },
  {
   "cell_type": "code",
   "execution_count": null,
   "metadata": {},
   "outputs": [],
   "source": [
    "# Only use this if you wish to save model to Watson Studio project. Promotion to deployment space / deployment must then be done from UI.\n",
    "\n",
    "project_id = os.environ['PROJECT_ID']\n",
    "client.set.default_project(project_id)"
   ]
  },
  {
   "cell_type": "markdown",
   "metadata": {},
   "source": [
    "Otherwise stick with the working space you've been using so far:"
   ]
  },
  {
   "cell_type": "code",
   "execution_count": null,
   "metadata": {},
   "outputs": [],
   "source": [
    "# Only use this if you need to change back to default space created in this notebook\n",
    "\n",
    "client.set.default_space(space_id)"
   ]
  },
  {
   "cell_type": "code",
   "execution_count": null,
   "metadata": {},
   "outputs": [],
   "source": [
    "meta_props = {\n",
    "    client.repository.ModelMetaNames.NAME: \"Pytorch MNIST model demo\",\n",
    "    client.repository.ModelMetaNames.TRAINING_DATA_REFERENCES: [client.training.get_details(training_uid)[\"entity\"][\"results_reference\"]],\n",
    "    client.repository.ModelMetaNames.RUNTIME_UID: \"pytorch-onnx_1.1-py3.6\",\n",
    "    client.repository.ModelMetaNames.TYPE: \"pytorch-onnx_1.1\"\n",
    "}\n",
    "\n",
    "model = client.repository.store_model(training_uid, meta_props)"
   ]
  },
  {
   "cell_type": "code",
   "execution_count": null,
   "metadata": {},
   "outputs": [],
   "source": [
    "model_uid = client.repository.get_model_uid(model)"
   ]
  },
  {
   "cell_type": "code",
   "execution_count": null,
   "metadata": {
    "scrolled": true
   },
   "outputs": [],
   "source": [
    "client.repository.list_models()"
   ]
  },
  {
   "cell_type": "markdown",
   "metadata": {},
   "source": [
    "### Create Deployment\n",
    "\n",
    "Read more on deploying models here: https://www.ibm.com/support/producthub/icpdata/docs/content/SSQNUZ_current/wsj/wmls/wmls-deploy-python.html"
   ]
  },
  {
   "cell_type": "code",
   "execution_count": null,
   "metadata": {},
   "outputs": [],
   "source": [
    "client.deployments.get_details()"
   ]
  },
  {
   "cell_type": "code",
   "execution_count": null,
   "metadata": {},
   "outputs": [],
   "source": [
    "meta_props = {\n",
    "    client.deployments.ConfigurationMetaNames.NAME: \"Pytorch MNIST deployment\",\n",
    "    client.deployments.ConfigurationMetaNames.ONLINE: {}\n",
    "}\n",
    "\n",
    "deployment = client.deployments.create(model_uid, meta_props)"
   ]
  },
  {
   "cell_type": "code",
   "execution_count": null,
   "metadata": {},
   "outputs": [],
   "source": [
    "deployment_uid = client.deployments.get_uid(deployment)\n",
    "print(\"Deployment uid: {}\".format(deployment_uid))"
   ]
  },
  {
   "cell_type": "markdown",
   "metadata": {},
   "source": [
    "<a id = \"score\"></a>\n",
    "## Scoring the model"
   ]
  },
  {
   "cell_type": "markdown",
   "metadata": {},
   "source": [
    "### Score deployment"
   ]
  },
  {
   "cell_type": "code",
   "execution_count": null,
   "metadata": {},
   "outputs": [],
   "source": [
    "values = [[[[0,0,0,0,0,0,0,0,0,0,0,0,0,0,0,0,0,0,0,0,0,0,0,0,0,0,0,0],[0,0,0,0,0,0,0,0,0,0,0,0,0,0,0,0,0,0,0,0,0,0,0,0,0,0,0,0],[0,0,0,0,0,0,0,0,0,0,0,0,0,0,0,0,0,0,0,0,0,0,0,0,0,0,0,0],[0,0,0,0,0,0,0,0,0,0,0,0,0,0,0,0,0,0,0,0,0,0,0,0,0,0,0,0],[0,0,0,0,0,0,0,0,0,0,0,0,0,0,0,0,0,0,0,0,0,0,0,0,0,0,0,0],[0,0,0,0,0,0,0,0,0,0,0,0,0.6392157077789307,0.7568628191947937,0.5960784554481506,0.3607843220233917,0.20000001788139343,0.20000001788139343,0.20000001788139343,0.20000001788139343,0.12156863510608673,0,0,0,0,0,0,0],[0,0,0,0,0,0,0,0,0,0,0,0.08235294371843338,0.874509871006012,0.9921569228172302,0.988235354423523,0.9921569228172302,0.988235354423523,0.9921569228172302,0.988235354423523,0.9921569228172302,0.7529412508010864,0.32156863808631897,0,0,0,0,0,0],[0,0,0,0,0,0,0,0,0,0,0,0.20000001788139343,0.9921569228172302,0.40000003576278687,0,0.08235294371843338,0.40000003576278687,0.24313727021217346,0.40000003576278687,0.40000003576278687,0.2392157018184662,0.7176470756530762,0.1568627506494522,0,0,0,0,0],[0,0,0,0,0,0,0,0,0,0,0,0.20000001788139343,0.988235354423523,0.40000003576278687,0,0,0,0,0,0,0,0.2392157018184662,0,0,0,0,0,0],[0,0,0,0,0,0,0,0,0,0,0,0.20000001788139343,0.9921569228172302,0.40000003576278687,0,0,0,0,0,0,0,0,0,0,0,0,0,0],[0,0,0,0,0,0,0,0,0,0,0,0.3607843220233917,0.988235354423523,0.40000003576278687,0,0,0,0,0,0,0,0,0,0,0,0,0,0],[0,0,0,0,0,0,0,0,0,0,0,0.6784313917160034,0.9921569228172302,0.40000003576278687,0,0,0,0,0,0,0,0,0,0,0,0,0,0],[0,0,0,0,0,0,0,0,0,0,0,0.9921569228172302,0.988235354423523,0.874509871006012,0.7960785031318665,0.7960785031318665,0.7960785031318665,0.32156863808631897,0,0,0,0,0,0,0,0,0,0],[0,0,0,0,0,0,0,0,0,0,0.48235297203063965,0.9960784912109375,0.9921569228172302,0.8784314393997192,0.7960785031318665,0.7960785031318665,0.874509871006012,0.9960784912109375,0.27843138575553894,0,0,0,0,0,0,0,0,0],[0,0,0,0,0,0,0,0,0,0.16078431904315948,0.9529412388801575,0.9921569228172302,0.5098039507865906,0.0784313753247261,0,0,0.0784313753247261,0.9921569228172302,0.9098039865493774,0.16078431904315948,0,0,0,0,0,0,0,0],[0,0,0,0,0,0,0,0,0,0.5960784554481506,0.9921569228172302,0.7176470756530762,0,0,0,0,0,0.5176470875740051,0.9921569228172302,0.40000003576278687,0,0,0,0,0,0,0,0],[0,0,0,0,0,0,0,0,0,0.20000001788139343,0.5921568870544434,0.0784313753247261,0,0,0,0,0,0.20000001788139343,0.988235354423523,0.40000003576278687,0,0,0,0,0,0,0,0],[0,0,0,0,0,0,0,0,0,0.08235294371843338,0,0,0,0,0,0,0,0.4431372880935669,0.9921569228172302,0.40000003576278687,0,0,0,0,0,0,0,0],[0,0,0,0,0,0,0,0,0.32156863808631897,0.7176470756530762,0,0,0,0,0,0,0,0.7568628191947937,0.988235354423523,0.40000003576278687,0,0,0,0,0,0,0,0],[0,0,0,0,0,0,0,0,0.7960785031318665,0.7176470756530762,0,0,0,0,0,0,0.08235294371843338,0.9960784912109375,0.9921569228172302,0.16078431904315948,0,0,0,0,0,0,0,0],[0,0,0,0,0,0,0,0.08235294371843338,0.874509871006012,0.40000003576278687,0,0,0,0,0,0.08235294371843338,0.7960785031318665,0.9921569228172302,0.5098039507865906,0,0,0,0,0,0,0,0,0],[0,0,0,0,0,0,0,0,0.8000000715255737,0.48235297203063965,0,0,0,0,0.16078431904315948,0.6784313917160034,0.9921569228172302,0.7960785031318665,0.0784313753247261,0,0,0,0,0,0,0,0,0],[0,0,0,0,0,0,0,0,0.6352941393852234,0.874509871006012,0.40000003576278687,0.08235294371843338,0.40000003576278687,0.6392157077789307,0.9529412388801575,0.9921569228172302,0.6705882549285889,0.0784313753247261,0,0,0,0,0,0,0,0,0,0],[0,0,0,0,0,0,0,0,0.16078431904315948,0.917647123336792,0.9921569228172302,1,0.9921569228172302,1,0.6745098233222961,0.32156863808631897,0,0,0,0,0,0,0,0,0,0,0,0],[0,0,0,0,0,0,0,0,0,0.11764706671237946,0.5137255191802979,0.7529412508010864,0.43529415130615234,0.19607844948768616,0.03921568766236305,0,0,0,0,0,0,0,0,0,0,0,0,0],[0,0,0,0,0,0,0,0,0,0,0,0,0,0,0,0,0,0,0,0,0,0,0,0,0,0,0,0],[0,0,0,0,0,0,0,0,0,0,0,0,0,0,0,0,0,0,0,0,0,0,0,0,0,0,0,0],[0,0,0,0,0,0,0,0,0,0,0,0,0,0,0,0,0,0,0,0,0,0,0,0,0,0,0,0]]]]\n",
    "\n",
    "meta_props = {\n",
    "    client.deployments.ScoringMetaNames.INPUT_DATA: [{\"values\": values}]\n",
    "}    \n",
    "predictions = client.deployments.score(deployment_uid, meta_props)\n",
    "print(\"Predictions returned\\n{}\".format(predictions))"
   ]
  },
  {
   "cell_type": "markdown",
   "metadata": {},
   "source": [
    "### Prediction accuracy"
   ]
  },
  {
   "cell_type": "code",
   "execution_count": null,
   "metadata": {},
   "outputs": [],
   "source": [
    "highest_log_probability = max(predictions['predictions'][0]['values'][0])\n",
    "prediction = predictions['predictions'][0]['values'][0].index(highest_log_probability)\n",
    "print(\"We predict the picture below is a {}\".format(prediction))\n",
    "\n",
    "from matplotlib import pyplot as plt \n",
    "import numpy as np\n",
    "\n",
    "first_image = np.array(values[0][0], dtype='float')\n",
    "plt.imshow(first_image, cmap='gray')\n",
    "plt.show()"
   ]
  },
  {
   "cell_type": "markdown",
   "metadata": {},
   "source": [
    "### Interact with wider project "
   ]
  },
  {
   "cell_type": "code",
   "execution_count": null,
   "metadata": {},
   "outputs": [],
   "source": [
    "from project_lib import Project\n",
    "project = Project.access()\n",
    "storage_credentials = project.get_storage_metadata()"
   ]
  },
  {
   "cell_type": "code",
   "execution_count": null,
   "metadata": {},
   "outputs": [],
   "source": [
    "project.get_name()"
   ]
  },
  {
   "cell_type": "markdown",
   "metadata": {},
   "source": [
    "### Clean up resources"
   ]
  },
  {
   "cell_type": "code",
   "execution_count": null,
   "metadata": {},
   "outputs": [],
   "source": [
    "print(\"Deployment deletion: {}\".format(client.deployments.delete(deployment_uid)))\n",
    "print(\"Space deletion: {}\".format(client.spaces.delete(space_id)))\n"
   ]
  },
  {
   "cell_type": "code",
   "execution_count": null,
   "metadata": {},
   "outputs": [],
   "source": [
    "print(\"Space deletion: {}\".format(client.spaces.delete('4b8f7e78-81e6-40b3-a6d6-0057f0771695')))"
   ]
  },
  {
   "cell_type": "markdown",
   "metadata": {},
   "source": [
    "<a id = \"summary\"></a>\n",
    "## Summary\n",
    "\n",
    "Congratulations! You have learned to:\n",
    "\n",
    "1. Download the Pytorch MNIST model\n",
    "2. Create a Watson Machine Learning model by using the Pytorch model\n",
    "3. Train the model by offloading work to Watson Machine Learning Acclerator\n",
    "4. Save and deploy from your workspace\n",
    "5. Score the model\n",
    "6. Clean up"
   ]
  }
 ],
 "metadata": {
  "kernelspec": {
   "display_name": "Python 3.6",
   "language": "python",
   "name": "python3"
  },
  "language_info": {
   "codemirror_mode": {
    "name": "ipython",
    "version": 3
   },
   "file_extension": ".py",
   "mimetype": "text/x-python",
   "name": "python",
   "nbconvert_exporter": "python",
   "pygments_lexer": "ipython3",
   "version": "3.6.10"
  }
 },
 "nbformat": 4,
 "nbformat_minor": 2
}
