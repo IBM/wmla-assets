{
 "cells": [
  {
   "cell_type": "markdown",
   "metadata": {},
   "source": [
    "# Offloading workload from Cloud Pak for Data to Watson ML Accelerator\n",
    "\n",
    "Using the Watson Machine Learning API Python client library (https://github.ibm.com/WML/python-client). You will learn to download a sample Pytorch MNIST model and train it using Watson Machine Learning Accelerator (WMLA) to identify numbers based on images. Then, you will save and deploy the model from your workspace and again use WML to score it. Lastly you will clean up by deleting your deployment. This notebook runs on Python 3.6.\n",
    "\n",
    "\n",
    "\n",
    "![options](https://github.com/IBM/wmla-learning-path/raw/master/shared-images/CPD-WMLA_3_pythonclient.png)\n",
    "\n",
    "\n",
    "\n",
    "\n",
    "## Table of Contents:\n",
    "\n",
    "1. [Setup](#setup)<br>\n",
    "    1.1 [Initialize python client](#Initialize-python-client)<br>\n",
    "    1.2 [Set default space](#Set-default-space)<br>\n",
    "    1.3 [Create library](#Create-library)<br>\n",
    "2. [Train the model](#train)<br>\n",
    "    2.1 [Create training](#Create-training)<br>\n",
    "    2.2 [Monitor training](#Monitor-training)<br>\n",
    "3. [Save and deploy the model](#deploy)<br>\n",
    "    3.1 [Save Model to project](#Save-Model-to-project)<br>\n",
    "    3.2 [Create Deployment](#Create-Deployment)<br>\n",
    "4. [Scoring the model](#score)<br>\n",
    "    4.1 [Score deployment](#Score-deployment)<br>\n",
    "    4.2 [Prediction accuracy](#Prediction-accuracy)<br>\n",
    "    4.3 [Interact with wider project](#Interact-with-wider-project)<br>\n",
    "5. [Clean up resources](#Clean-up-resources)"
   ]
  },
  {
   "cell_type": "markdown",
   "metadata": {},
   "source": [
    "<a id = \"setup\"></a>\n",
    "## Setup\n",
    "\n",
    "Uncomment and run this cell if Python v4 client is not installed."
   ]
  },
  {
   "cell_type": "code",
   "execution_count": 1,
   "metadata": {},
   "outputs": [],
   "source": [
    "#!pip install --upgrade watson-machine-learning-client-V4"
   ]
  },
  {
   "cell_type": "markdown",
   "metadata": {},
   "source": [
    "### Initialize python client"
   ]
  },
  {
   "cell_type": "code",
   "execution_count": 1,
   "metadata": {},
   "outputs": [],
   "source": [
    "import sys,os,os.path\n",
    "token = os.environ['USER_ACCESS_TOKEN']"
   ]
  },
  {
   "cell_type": "markdown",
   "metadata": {},
   "source": [
    "Fill in username and password to access WML in cell below, plus URL for local CPD cluster with WML:"
   ]
  },
  {
   "cell_type": "code",
   "execution_count": 2,
   "metadata": {},
   "outputs": [],
   "source": [
    "# @hidden_cell\n",
    "\n",
    "# Authenticate using token for a user which exists on both the CPD and WMLA cluster.\n",
    "# Otherwise specify username and password\n",
    "\n",
    "wml_credentials = {\n",
    "#     \"token\": token,\n",
    "    'username': '', # Enter username \n",
    "    'password': '', # Enter password \n",
    "    \"instance_id\" : \"wml_local\",\n",
    "    \"url\": \"\", # Enter URL \n",
    "    \"version\": \"2.5.0\"\n",
    "}"
   ]
  },
  {
   "cell_type": "code",
   "execution_count": 3,
   "metadata": {
    "scrolled": true
   },
   "outputs": [
    {
     "data": {
      "text/plain": [
       "'1.0.55'"
      ]
     },
     "execution_count": 3,
     "metadata": {},
     "output_type": "execute_result"
    }
   ],
   "source": [
    "# This can take time to run - be patient :)\n",
    "\n",
    "from watson_machine_learning_client import WatsonMachineLearningAPIClient\n",
    "client = WatsonMachineLearningAPIClient(wml_credentials)\n",
    "client.version"
   ]
  },
  {
   "cell_type": "markdown",
   "metadata": {},
   "source": [
    "### Set default space\n",
    "\n",
    "Set default space for CPD usage (if needed, note that this unsets the project id). Change cell below to be of type `code` to use."
   ]
  },
  {
   "cell_type": "code",
   "execution_count": 4,
   "metadata": {},
   "outputs": [
    {
     "name": "stdout",
     "output_type": "stream",
     "text": [
      "Space id: 07b32a16-b82e-443e-96ae-fab32da0f1b1\n"
     ]
    },
    {
     "data": {
      "text/plain": [
       "'SUCCESS'"
      ]
     },
     "execution_count": 4,
     "metadata": {},
     "output_type": "execute_result"
    }
   ],
   "source": [
    "meta_props = {\n",
    "    client.spaces.ConfigurationMetaNames.NAME: \"Pytorch deployment test space MQ\"\n",
    "}\n",
    "\n",
    "space = client.spaces.store(meta_props)\n",
    "space_id = client.spaces.get_uid(space)\n",
    "\n",
    "print(\"Space id: {}\".format(space_id))\n",
    "\n",
    "client.set.default_space(space_id)"
   ]
  },
  {
   "cell_type": "code",
   "execution_count": 5,
   "metadata": {
    "scrolled": true
   },
   "outputs": [
    {
     "name": "stdout",
     "output_type": "stream",
     "text": [
      "------------------------------------  ---------------------------------  ------------------------\n",
      "GUID                                  NAME                               CREATED\n",
      "07b32a16-b82e-443e-96ae-fab32da0f1b1  Pytorch deployment test space MQ   2020-07-10T14:41:04.060Z\n",
      "3d9a4805-1671-4ede-9808-6dfc7a7cfc3e  Keras LSTM model deployment space  2020-07-07T09:17:56.501Z\n",
      "06ed0262-1720-4867-9f98-974b92926ae8  Kelvin                             2020-06-04T18:46:15.951Z\n",
      "2d1218ba-d774-4386-a6b1-ace31155361f  CPD WMLA demo space                2020-06-04T14:36:32.519Z\n",
      "71525c1e-75d7-4155-be31-17d0984cb60f  Demo deployment space              2020-04-21T15:29:14.496Z\n",
      "53b394b0-423e-4be0-94f7-41f92c439f54  OneAI testing deployment space     2020-03-25T17:49:26.720Z\n",
      "------------------------------------  ---------------------------------  ------------------------\n"
     ]
    }
   ],
   "source": [
    "client.spaces.list()"
   ]
  },
  {
   "cell_type": "code",
   "execution_count": 6,
   "metadata": {},
   "outputs": [],
   "source": [
    "# In case you need to clear up any old spaces before this session\n",
    "\n",
    "# client.spaces.delete('<GUID_HERE>')"
   ]
  },
  {
   "cell_type": "markdown",
   "metadata": {},
   "source": [
    "View the predefined runtimes available."
   ]
  },
  {
   "cell_type": "code",
   "execution_count": 7,
   "metadata": {
    "scrolled": true
   },
   "outputs": [
    {
     "name": "stdout",
     "output_type": "stream",
     "text": [
      "--------------------------  --------------------------  ------------------------  --------\n",
      "GUID                        NAME                        CREATED                   PLATFORM\n",
      "do_12.9                     do_12.9                     2020-02-12T18:10:53.504Z  do\n",
      "pmml_4.3                    pmml_4.3                    2020-02-12T18:10:53.476Z  pmml\n",
      "pmml_4.2.1                  pmml_4.2.1                  2020-02-12T18:10:53.451Z  pmml\n",
      "pmml_4.2                    pmml_4.2                    2020-02-12T18:10:53.428Z  pmml\n",
      "pmml_4.1                    pmml_4.1                    2020-02-12T18:10:53.402Z  pmml\n",
      "pmml_4.0                    pmml_4.0                    2020-02-12T18:10:53.378Z  pmml\n",
      "pmml_3.2                    pmml_3.2                    2020-02-12T18:10:53.351Z  pmml\n",
      "pmml_3.1                    pmml_3.1                    2020-02-12T18:10:53.327Z  pmml\n",
      "pmml_3.0                    pmml_3.0                    2020-02-12T18:10:53.302Z  pmml\n",
      "ai-function_0.1-py3.6       ai-function_0.1-py3.6       2020-02-12T18:10:53.276Z  python\n",
      "ai-function_0.1-py3         ai-function_0.1-py3         2020-02-12T18:10:53.252Z  python\n",
      "hybrid_0.2                  hybrid_0.2                  2020-02-12T18:10:53.227Z  hybrid\n",
      "hybrid_0.1                  hybrid_0.1                  2020-02-12T18:10:53.204Z  hybrid\n",
      "xgboost_0.82-py3.6          xgboost_0.82-py3.6          2020-02-12T18:10:53.180Z  python\n",
      "xgboost_0.82-py3            xgboost_0.82-py3            2020-02-12T18:10:53.155Z  python\n",
      "xgboost_0.80-py3.6          xgboost_0.80-py3.6          2020-02-12T18:10:53.129Z  python\n",
      "xgboost_0.80-py3            xgboost_0.80-py3            2020-02-12T18:10:53.105Z  python\n",
      "xgboost_0.6-py3             xgboost_0.6-py3             2020-02-12T18:10:53.079Z  python\n",
      "spss-modeler_18.2           spss-modeler_18.2           2020-02-12T18:10:53.058Z  spss\n",
      "spss-modeler_18.1           spss-modeler_18.1           2020-02-12T18:10:53.034Z  spss\n",
      "spss-modeler_17.1           spss-modeler_17.1           2020-02-12T18:10:53.012Z  spss\n",
      "scikit-learn_0.20-py3.6     scikit-learn_0.20-py3.6     2020-02-12T18:10:52.989Z  python\n",
      "scikit-learn_0.20-py3       scikit-learn_0.20-py3       2020-02-12T18:10:52.965Z  python\n",
      "scikit-learn_0.19-py3.6     scikit-learn_0.19-py3.6     2020-02-12T18:10:52.942Z  python\n",
      "scikit-learn_0.19-py3       scikit-learn_0.19-py3       2020-02-12T18:10:52.919Z  python\n",
      "scikit-learn_0.17-py3       scikit-learn_0.17-py3       2020-02-12T18:10:52.896Z  python\n",
      "spark-mllib_2.3             spark-mllib_2.3             2020-02-12T18:10:52.871Z  spark\n",
      "spark-mllib_2.2             spark-mllib_2.2             2020-02-12T18:10:52.846Z  spark\n",
      "tensorflow_1.14-py3.6       tensorflow_1.14-py3.6       2020-02-12T18:10:52.818Z  python\n",
      "tensorflow_1.13-py3.6       tensorflow_1.13-py3.6       2020-02-12T18:10:52.790Z  python\n",
      "tensorflow_1.11-py3.6       tensorflow_1.11-py3.6       2020-02-12T18:10:52.757Z  python\n",
      "tensorflow_1.13-py3         tensorflow_1.13-py3         2020-02-12T18:10:52.720Z  python\n",
      "tensorflow_1.13-py2         tensorflow_1.13-py2         2020-02-12T18:10:52.668Z  python\n",
      "tensorflow_0.11-horovod     tensorflow_0.11-horovod     2020-02-12T18:10:52.616Z  native\n",
      "tensorflow_1.11-py3         tensorflow_1.11-py3         2020-02-12T18:10:52.576Z  python\n",
      "tensorflow_1.10-py3         tensorflow_1.10-py3         2020-02-12T18:10:52.531Z  python\n",
      "tensorflow_1.10-py2         tensorflow_1.10-py2         2020-02-12T18:10:52.485Z  python\n",
      "tensorflow_1.9-py3          tensorflow_1.9-py3          2020-02-12T18:10:52.444Z  python\n",
      "tensorflow_1.9-py2          tensorflow_1.9-py2          2020-02-12T18:10:52.411Z  python\n",
      "tensorflow_1.8-py3          tensorflow_1.8-py3          2020-02-12T18:10:52.362Z  python\n",
      "tensorflow_1.8-py2          tensorflow_1.8-py2          2020-02-12T18:10:52.330Z  python\n",
      "tensorflow_1.7-py3          tensorflow_1.7-py3          2020-02-12T18:10:52.298Z  python\n",
      "tensorflow_1.7-py2          tensorflow_1.7-py2          2020-02-12T18:10:52.259Z  python\n",
      "tensorflow_1.6-py3          tensorflow_1.6-py3          2020-02-12T18:10:52.230Z  python\n",
      "tensorflow_1.6-py2          tensorflow_1.6-py2          2020-02-12T18:10:52.202Z  python\n",
      "tensorflow_1.5-py2-ddl      tensorflow_1.5-py2-ddl      2020-02-12T18:10:52.174Z  python\n",
      "tensorflow_1.5-py3-horovod  tensorflow_1.5-py3-horovod  2020-02-12T18:10:52.150Z  python\n",
      "tensorflow_1.5-py3.6        tensorflow_1.5-py3.6        2020-02-12T18:10:52.123Z  python\n",
      "tensorflow_1.5-py3          tensorflow_1.5-py3          2020-02-12T18:10:52.100Z  python\n",
      "tensorflow_1.5-py2          tensorflow_1.5-py2          2020-02-12T18:10:52.078Z  python\n",
      "tensorflow_1.4-py2-ddl      tensorflow_1.4-py2-ddl      2020-02-12T18:10:52.054Z  python\n",
      "tensorflow_1.4-py3-horovod  tensorflow_1.4-py3-horovod  2020-02-12T18:10:52.028Z  python\n",
      "tensorflow_1.4-py3          tensorflow_1.4-py3          2020-02-12T18:10:52.004Z  python\n",
      "tensorflow_1.4-py2          tensorflow_1.4-py2          2020-02-12T18:10:51.973Z  python\n",
      "tensorflow_1.3-py2-ddl      tensorflow_1.3-py2-ddl      2020-02-12T18:10:51.947Z  python\n",
      "tensorflow_1.3-py3          tensorflow_1.3-py3          2020-02-12T18:10:51.921Z  python\n",
      "tensorflow_1.3-py2          tensorflow_1.3-py2          2020-02-12T18:10:51.896Z  python\n",
      "tensorflow_1.2-py3          tensorflow_1.2-py3          2020-02-12T18:10:51.868Z  python\n",
      "tensorflow_1.2-py2          tensorflow_1.2-py2          2020-02-12T18:10:51.838Z  python\n",
      "pytorch-onnx_1.1-py3.6      pytorch-onnx_1.1-py3.6      2020-02-12T18:10:51.806Z  python\n",
      "pytorch-onnx_1.0-py3        pytorch-onnx_1.0-py3        2020-02-12T18:10:51.775Z  python\n",
      "pytorch-onnx_1.1-py3.6-edt  pytorch-onnx_1.1-py3.6-edt  2020-02-12T18:10:51.747Z  python\n",
      "pytorch_1.1-py3.6           pytorch_1.1-py3.6           2020-02-12T18:10:51.711Z  python\n",
      "pytorch_1.1-py3             pytorch_1.1-py3             2020-02-12T18:10:51.681Z  python\n",
      "pytorch_1.0-py3             pytorch_1.0-py3             2020-02-12T18:10:51.645Z  python\n",
      "pytorch_1.0-py2             pytorch_1.0-py2             2020-02-12T18:10:51.609Z  python\n",
      "pytorch_0.4-py3-horovod     pytorch_0.4-py3-horovod     2020-02-12T18:10:51.570Z  python\n",
      "pytorch_0.4-py3             pytorch_0.4-py3             2020-02-12T18:10:51.520Z  python\n",
      "pytorch_0.4-py2             pytorch_0.4-py2             2020-02-12T18:10:51.486Z  python\n",
      "pytorch_0.3-py3             pytorch_0.3-py3             2020-02-12T18:10:51.435Z  python\n",
      "pytorch_0.3-py2             pytorch_0.3-py2             2020-02-12T18:10:51.381Z  python\n",
      "torch_lua52                 torch_lua52                 2020-02-12T18:10:51.351Z  lua\n",
      "torch_luajit                torch_luajit                2020-02-12T18:10:51.327Z  lua\n",
      "caffe-ibm_1.0-py3           caffe-ibm_1.0-py3           2020-02-12T18:10:51.303Z  python\n",
      "caffe-ibm_1.0-py2           caffe-ibm_1.0-py2           2020-02-12T18:10:51.279Z  python\n",
      "caffe_1.0-py3               caffe_1.0-py3               2020-02-12T18:10:51.254Z  python\n",
      "caffe_1.0-py2               caffe_1.0-py2               2020-02-12T18:10:51.230Z  python\n",
      "caffe_frcnn                 caffe_frcnn                 2020-02-12T18:10:51.199Z  Python\n",
      "caffe_1.0-ddl               caffe_1.0-ddl               2020-02-12T18:10:51.170Z  native\n",
      "caffe2_0.8                  caffe2_0.8                  2020-02-12T18:10:51.144Z  Python\n",
      "darknet_0                   darknet_0                   2020-02-12T18:10:51.115Z  native\n",
      "theano_1.0                  theano_1.0                  2020-02-12T18:10:51.090Z  Python\n",
      "mxnet_1.2-py2               mxnet_1.2-py2               2020-02-12T18:10:51.064Z  python\n",
      "mxnet_1.1-py2               mxnet_1.1-py2               2020-02-12T18:10:51.029Z  python\n",
      "--------------------------  --------------------------  ------------------------  --------\n"
     ]
    }
   ],
   "source": [
    "client.runtimes.list(pre_defined=True, limit=100)"
   ]
  },
  {
   "cell_type": "code",
   "execution_count": 8,
   "metadata": {
    "scrolled": true
   },
   "outputs": [
    {
     "name": "stdout",
     "output_type": "stream",
     "text": [
      "------------------------------------  -----------------------  ------------------------  ---------  --------------\n",
      "GUID                                  NAME                     CREATED                   FRAMEWORK  TYPE\n",
      "caffe_frcnn                           caffe_frcnn              2020-02-12T18:10:51.199Z  -          Python runtime\n",
      "caffe2_0.8                            caffe2_0.8               2020-02-12T18:10:51.144Z  -          Python runtime\n",
      "theano_1.0                            theano_1.0               2020-02-12T18:10:51.090Z  -          Python runtime\n",
      "do_12.9                               do_12.9                  2020-02-12T18:10:53.504Z  -          do runtime\n",
      "hybrid_0.2                            hybrid_0.2               2020-02-12T18:10:53.227Z  -          hybrid runtime\n",
      "hybrid_0.1                            hybrid_0.1               2020-02-12T18:10:53.204Z  -          hybrid runtime\n",
      "torch_lua52                           torch_lua52              2020-02-12T18:10:51.351Z  -          lua runtime\n",
      "torch_luajit                          torch_luajit             2020-02-12T18:10:51.327Z  -          lua runtime\n",
      "tensorflow_0.11-horovod               tensorflow_0.11-horovod  2020-02-12T18:10:52.616Z  -          native runtime\n",
      "caffe_1.0-ddl                         caffe_1.0-ddl            2020-02-12T18:10:51.170Z  -          native runtime\n",
      "darknet_0                             darknet_0                2020-02-12T18:10:51.115Z  -          native runtime\n",
      "pmml_4.3                              pmml_4.3                 2020-02-12T18:10:53.476Z  -          pmml runtime\n",
      "pmml_4.2.1                            pmml_4.2.1               2020-02-12T18:10:53.451Z  -          pmml runtime\n",
      "pmml_4.2                              pmml_4.2                 2020-02-12T18:10:53.428Z  -          pmml runtime\n",
      "pmml_4.1                              pmml_4.1                 2020-02-12T18:10:53.402Z  -          pmml runtime\n",
      "pmml_4.0                              pmml_4.0                 2020-02-12T18:10:53.378Z  -          pmml runtime\n",
      "pmml_3.2                              pmml_3.2                 2020-02-12T18:10:53.351Z  -          pmml runtime\n",
      "pmml_3.1                              pmml_3.1                 2020-02-12T18:10:53.327Z  -          pmml runtime\n",
      "pmml_3.0                              pmml_3.0                 2020-02-12T18:10:53.302Z  -          pmml runtime\n",
      "155090de-479d-4b05-bd9f-2a8f797985a6  libraries_keras_model    2020-07-09T12:01:24.139Z  -          python library\n",
      "3d62fc49-dfe0-4956-aeb5-64d02fabf611  pytorch mnist library    2020-06-04T14:38:12.370Z  -          python library\n",
      "ai-function_0.1-py3.6                 ai-function_0.1-py3.6    2020-02-12T18:10:53.276Z  -          python runtime\n",
      "ai-function_0.1-py3                   ai-function_0.1-py3      2020-02-12T18:10:53.252Z  -          python runtime\n",
      "xgboost_0.82-py3.6                    xgboost_0.82-py3.6       2020-02-12T18:10:53.180Z  -          python runtime\n",
      "xgboost_0.82-py3                      xgboost_0.82-py3         2020-02-12T18:10:53.155Z  -          python runtime\n",
      "xgboost_0.80-py3.6                    xgboost_0.80-py3.6       2020-02-12T18:10:53.129Z  -          python runtime\n",
      "xgboost_0.80-py3                      xgboost_0.80-py3         2020-02-12T18:10:53.105Z  -          python runtime\n",
      "xgboost_0.6-py3                       xgboost_0.6-py3          2020-02-12T18:10:53.079Z  -          python runtime\n",
      "scikit-learn_0.20-py3.6               scikit-learn_0.20-py3.6  2020-02-12T18:10:52.989Z  -          python runtime\n",
      "scikit-learn_0.20-py3                 scikit-learn_0.20-py3    2020-02-12T18:10:52.965Z  -          python runtime\n",
      "scikit-learn_0.19-py3.6               scikit-learn_0.19-py3.6  2020-02-12T18:10:52.942Z  -          python runtime\n",
      "scikit-learn_0.19-py3                 scikit-learn_0.19-py3    2020-02-12T18:10:52.919Z  -          python runtime\n",
      "scikit-learn_0.17-py3                 scikit-learn_0.17-py3    2020-02-12T18:10:52.896Z  -          python runtime\n",
      "tensorflow_1.14-py3.6                 tensorflow_1.14-py3.6    2020-02-12T18:10:52.818Z  -          python runtime\n",
      "tensorflow_1.13-py3.6                 tensorflow_1.13-py3.6    2020-02-12T18:10:52.790Z  -          python runtime\n",
      "tensorflow_1.11-py3.6                 tensorflow_1.11-py3.6    2020-02-12T18:10:52.757Z  -          python runtime\n",
      "tensorflow_1.13-py3                   tensorflow_1.13-py3      2020-02-12T18:10:52.720Z  -          python runtime\n",
      "tensorflow_1.13-py2                   tensorflow_1.13-py2      2020-02-12T18:10:52.668Z  -          python runtime\n",
      "tensorflow_1.11-py3                   tensorflow_1.11-py3      2020-02-12T18:10:52.576Z  -          python runtime\n",
      "tensorflow_1.10-py3                   tensorflow_1.10-py3      2020-02-12T18:10:52.531Z  -          python runtime\n",
      "tensorflow_1.10-py2                   tensorflow_1.10-py2      2020-02-12T18:10:52.485Z  -          python runtime\n",
      "tensorflow_1.9-py3                    tensorflow_1.9-py3       2020-02-12T18:10:52.444Z  -          python runtime\n",
      "tensorflow_1.9-py2                    tensorflow_1.9-py2       2020-02-12T18:10:52.411Z  -          python runtime\n",
      "tensorflow_1.8-py3                    tensorflow_1.8-py3       2020-02-12T18:10:52.362Z  -          python runtime\n",
      "tensorflow_1.8-py2                    tensorflow_1.8-py2       2020-02-12T18:10:52.330Z  -          python runtime\n",
      "tensorflow_1.7-py3                    tensorflow_1.7-py3       2020-02-12T18:10:52.298Z  -          python runtime\n",
      "tensorflow_1.7-py2                    tensorflow_1.7-py2       2020-02-12T18:10:52.259Z  -          python runtime\n",
      "tensorflow_1.6-py3                    tensorflow_1.6-py3       2020-02-12T18:10:52.230Z  -          python runtime\n",
      "tensorflow_1.6-py2                    tensorflow_1.6-py2       2020-02-12T18:10:52.202Z  -          python runtime\n",
      "tensorflow_1.5-py2-ddl                tensorflow_1.5-py2-ddl   2020-02-12T18:10:52.174Z  -          python runtime\n",
      "------------------------------------  -----------------------  ------------------------  ---------  --------------\n",
      "Note: Only first 50 records were displayed. To display more use more specific list functions.\n"
     ]
    }
   ],
   "source": [
    "client.repository.list()"
   ]
  },
  {
   "cell_type": "markdown",
   "metadata": {},
   "source": [
    "### Create library\n",
    "\n",
    "Get the zip file containing the training python code is downloaded. It can be modified to use locally stored files."
   ]
  },
  {
   "cell_type": "code",
   "execution_count": 1,
   "metadata": {},
   "outputs": [],
   "source": [
    "import requests\n",
    "\n",
    "model_content_resp = requests.get(\"https://github.com/calinrc/model_definitions/raw/master/libs/pytorch_onnx_v_1.1.zip\",\n",
    "                                  headers={\"Content-Type\": \"application/octet-stream\"})\n",
    "with open(\"pytorch_onnx_v_1.1.zip\", \"wb\") as f:\n",
    "    f.write(model_content_resp.content)"
   ]
  },
  {
   "cell_type": "code",
   "execution_count": 10,
   "metadata": {},
   "outputs": [],
   "source": [
    "meta_props = {\n",
    "    client.runtimes.LibraryMetaNames.NAME: \"pytorch library1\",\n",
    "    client.runtimes.LibraryMetaNames.FILEPATH: \"./pytorch_onnx_v_1.1.zip\",\n",
    "    client.runtimes.LibraryMetaNames.PLATFORM: {\"name\": \"python\",\n",
    "                                               \"versions\": [\"3.6\"]},\n",
    "    client.runtimes.LibraryMetaNames.VERSION: \"1\",\n",
    "    client.runtimes.LibraryMetaNames.COMMAND: \"pytorch_v_1.1_mnist_onnx.py --debug-level debug\"\n",
    "}\n",
    "\n",
    "library = client.runtimes.store_library(meta_props)"
   ]
  },
  {
   "cell_type": "code",
   "execution_count": 11,
   "metadata": {
    "scrolled": true
   },
   "outputs": [
    {
     "data": {
      "text/plain": [
       "{'first': {'href': '/v4/libraries?space_id=07b32a16-b82e-443e-96ae-fab32da0f1b1'},\n",
       " 'limit': 100,\n",
       " 'resources': [{'metadata': {'guid': '575cc8fd-cb61-4c26-b1b6-a79f0679a433',\n",
       "    'id': '575cc8fd-cb61-4c26-b1b6-a79f0679a433',\n",
       "    'modified_at': '2020-07-10T14:41:14.952Z',\n",
       "    'created_at': '2020-07-10T14:41:14.278Z',\n",
       "    'href': '/v4/libraries/575cc8fd-cb61-4c26-b1b6-a79f0679a433'},\n",
       "   'entity': {'name': 'pytorch library1',\n",
       "    'command': 'pytorch_v_1.1_mnist_onnx.py --debug-level debug',\n",
       "    'version': '1',\n",
       "    'space': {'href': '/v4/spaces/07b32a16-b82e-443e-96ae-fab32da0f1b1'},\n",
       "    'platform': {'name': 'python', 'versions': ['3.6']}}}]}"
      ]
     },
     "execution_count": 11,
     "metadata": {},
     "output_type": "execute_result"
    }
   ],
   "source": [
    "client.runtimes.get_library_details()"
   ]
  },
  {
   "cell_type": "code",
   "execution_count": 12,
   "metadata": {
    "scrolled": true
   },
   "outputs": [
    {
     "name": "stdout",
     "output_type": "stream",
     "text": [
      "Library uid: 575cc8fd-cb61-4c26-b1b6-a79f0679a433\n"
     ]
    }
   ],
   "source": [
    "library_uid = client.runtimes.get_library_uid(library)\n",
    "print(\"Library uid: {}\".format(library_uid))"
   ]
  },
  {
   "cell_type": "markdown",
   "metadata": {},
   "source": [
    "<a id = \"train\"></a>\n",
    "## Train the model"
   ]
  },
  {
   "cell_type": "markdown",
   "metadata": {},
   "source": [
    "### Create training"
   ]
  },
  {
   "cell_type": "code",
   "execution_count": 13,
   "metadata": {},
   "outputs": [],
   "source": [
    "meta_props = {\n",
    "    client.training.ConfigurationMetaNames.TRAINING_LIB_UID: library_uid,\n",
    "    client.training.ConfigurationMetaNames.TRAINING_LIB_RUNTIME_UID: \"pytorch-onnx_1.1-py3.6\",\n",
    "    client.training.ConfigurationMetaNames.COMMAND: \"pytorch_v_1.1_mnist_onnx.py --debug-level debug\",\n",
    "    client.training.ConfigurationMetaNames.TRAINING_DATA_REFERENCES: [\n",
    "        {\n",
    "          \"name\": \"training_input_data\",\n",
    "          \"type\": \"fs\",\n",
    "          \"connection\": {},\n",
    "          \"location\": {\n",
    "            \"path\": \"pytorch-mnist\"\n",
    "          },\n",
    "          \"schema\": {\n",
    "            \"id\": \"id123_schema\",\n",
    "            \"fields\": [\n",
    "              {\n",
    "                \"name\": \"text\",\n",
    "                \"type\": \"string\"\n",
    "              }\n",
    "            ]\n",
    "          }\n",
    "        }\n",
    "      ],\n",
    "    client.training.ConfigurationMetaNames.TRAINING_RESULTS_REFERENCE: {\n",
    "        \"name\": \"name123\",\n",
    "        \"connection\": {},\n",
    "        \"location\": {\n",
    "          \"path\": \"/spaces/\" + space_id + \"/assets/trainings\"\n",
    "        },\n",
    "        \"type\": \"fs\"\n",
    "      }\n",
    "}\n",
    "\n",
    "training = client.training.run(meta_props)"
   ]
  },
  {
   "cell_type": "code",
   "execution_count": 14,
   "metadata": {},
   "outputs": [
    {
     "name": "stdout",
     "output_type": "stream",
     "text": [
      "Training uid: e474b019-66a6-4f88-9ec1-64b43b45f831\n"
     ]
    }
   ],
   "source": [
    "training_uid = client.training.get_uid(training)\n",
    "training_state = client.training.get_status(training_uid)['state']\n",
    "print(\"Training uid: {}\".format(training_uid))"
   ]
  },
  {
   "cell_type": "code",
   "execution_count": 15,
   "metadata": {},
   "outputs": [
    {
     "data": {
      "text/plain": [
       "{'metadata': {'guid': 'e474b019-66a6-4f88-9ec1-64b43b45f831',\n",
       "  'id': 'e474b019-66a6-4f88-9ec1-64b43b45f831',\n",
       "  'modified_at': '2020-07-10T14:41:22.870Z',\n",
       "  'created_at': '2020-07-10T14:41:21.465Z',\n",
       "  'href': '/v4/trainings/e474b019-66a6-4f88-9ec1-64b43b45f831'},\n",
       " 'entity': {'training_data_references': [{'location': {'path': 'pytorch-mnist'},\n",
       "    'type': 'fs',\n",
       "    'schema': {'id': 'id123_schema',\n",
       "     'fields': [{'name': 'text', 'type': 'string'}]}}],\n",
       "  'results_reference': {'location': {'path': '/spaces/07b32a16-b82e-443e-96ae-fab32da0f1b1/assets/trainings',\n",
       "    'model': '/spaces/07b32a16-b82e-443e-96ae-fab32da0f1b1/assets/trainings/e474b019-66a6-4f88-9ec1-64b43b45f831/data/model',\n",
       "    'training': '/spaces/07b32a16-b82e-443e-96ae-fab32da0f1b1/assets/trainings/e474b019-66a6-4f88-9ec1-64b43b45f831',\n",
       "    'training_status': '/spaces/07b32a16-b82e-443e-96ae-fab32da0f1b1/assets/trainings/e474b019-66a6-4f88-9ec1-64b43b45f831/training-status.json',\n",
       "    'logs': '/spaces/07b32a16-b82e-443e-96ae-fab32da0f1b1/assets/trainings/e474b019-66a6-4f88-9ec1-64b43b45f831/logs'},\n",
       "   'type': 'fs'},\n",
       "  'space': {'href': '/v4/spaces/07b32a16-b82e-443e-96ae-fab32da0f1b1'},\n",
       "  'training_lib': {'href': '/v4/libraries/575cc8fd-cb61-4c26-b1b6-a79f0679a433',\n",
       "   'runtime': {'href': '/v4/runtimes/pytorch-onnx_1.1-py3.6'},\n",
       "   'command': 'pytorch_v_1.1_mnist_onnx.py --debug-level debug'},\n",
       "  'status': {'state': 'running',\n",
       "   'message': {'level': 'info',\n",
       "    'text': 'WMLA execution ID is dse_user-20057371627534001-1435323558'}}}}"
      ]
     },
     "execution_count": 15,
     "metadata": {},
     "output_type": "execute_result"
    }
   ],
   "source": [
    "client.training.get_details(training_uid)"
   ]
  },
  {
   "cell_type": "markdown",
   "metadata": {},
   "source": [
    "### Monitor training"
   ]
  },
  {
   "cell_type": "code",
   "execution_count": 16,
   "metadata": {
    "scrolled": true
   },
   "outputs": [
    {
     "name": "stdout",
     "output_type": "stream",
     "text": [
      "\n",
      "\n",
      "##########################################################################\n",
      "\n",
      "Log monitor started for training run: e474b019-66a6-4f88-9ec1-64b43b45f831\n",
      "\n",
      "##########################################################################\n",
      "\n",
      "\n",
      "\n",
      "\n",
      "-----------------\n",
      "Log monitor done.\n",
      "-----------------\n",
      "\n",
      "\n",
      "Current training state: pending\n",
      "Current training state: pending\n",
      "Current training state: running\n",
      "Current training state: running\n",
      "Current training state: running\n",
      "Current training state: running\n",
      "Current training state: running\n",
      "Current training state: running\n",
      "Current training state: running\n",
      "Current training state: running\n",
      "Current training state: running\n",
      "Current training state: running\n",
      "Current training state: running\n",
      "Current training state: running\n",
      "Current training state: running\n",
      "Current training state: running\n",
      "Current training state: running\n",
      "Current training state: running\n"
     ]
    }
   ],
   "source": [
    "import time \n",
    "\n",
    "client.training.monitor_logs(training_uid)\n",
    "while training_state == 'pending' or training_state == 'running':\n",
    "    time.sleep(10)\n",
    "    print(\"Current training state: {}\".format(training_state))\n",
    "    training_state = client.training.get_status(training_uid)['state']"
   ]
  },
  {
   "cell_type": "markdown",
   "metadata": {},
   "source": [
    "<a id = \"deploy\"></a>\n",
    "## Save and deploy the model"
   ]
  },
  {
   "cell_type": "markdown",
   "metadata": {},
   "source": [
    "### Save Model to project\n",
    "\n",
    "Note that you can save your model to your Watson Studio project by changing from the space we've been working in up to this point by using the `PROJECT_ID` variable. \n",
    "\n",
    "This saved model can then be promoted to the CPD deployment space from the UI (not currently possible with python client)."
   ]
  },
  {
   "cell_type": "code",
   "execution_count": 20,
   "metadata": {},
   "outputs": [
    {
     "name": "stdout",
     "output_type": "stream",
     "text": [
      "Unsetting the space_id ...\n"
     ]
    },
    {
     "data": {
      "text/plain": [
       "'SUCCESS'"
      ]
     },
     "execution_count": 20,
     "metadata": {},
     "output_type": "execute_result"
    }
   ],
   "source": [
    "# Only use this if you wish to save model to Watson Studio project. Promotion to deployment space / deployment must then be done from UI.\n",
    "\n",
    "project_id = os.environ['PROJECT_ID']\n",
    "client.set.default_project(project_id)"
   ]
  },
  {
   "cell_type": "markdown",
   "metadata": {},
   "source": [
    "Otherwise stick with the working space you've been using so far:"
   ]
  },
  {
   "cell_type": "code",
   "execution_count": 21,
   "metadata": {},
   "outputs": [
    {
     "name": "stdout",
     "output_type": "stream",
     "text": [
      "Unsetting the project_id ...\n"
     ]
    },
    {
     "data": {
      "text/plain": [
       "'SUCCESS'"
      ]
     },
     "execution_count": 21,
     "metadata": {},
     "output_type": "execute_result"
    }
   ],
   "source": [
    "# Only use this if you need to change back to default space created in this notebook\n",
    "\n",
    "client.set.default_space(space_id)"
   ]
  },
  {
   "cell_type": "code",
   "execution_count": 22,
   "metadata": {},
   "outputs": [],
   "source": [
    "meta_props = {\n",
    "    client.repository.ModelMetaNames.NAME: \"pytorch model MQ 2\",\n",
    "    client.repository.ModelMetaNames.TRAINING_DATA_REFERENCES: [client.training.get_details(training_uid)[\"entity\"][\"results_reference\"]],\n",
    "    client.repository.ModelMetaNames.RUNTIME_UID: \"pytorch-onnx_1.1-py3.6\",\n",
    "    client.repository.ModelMetaNames.TYPE: \"pytorch-onnx_1.1\"\n",
    "}\n",
    "\n",
    "model = client.repository.store_model(training_uid, meta_props)"
   ]
  },
  {
   "cell_type": "code",
   "execution_count": 23,
   "metadata": {},
   "outputs": [],
   "source": [
    "model_uid = client.repository.get_model_uid(model)"
   ]
  },
  {
   "cell_type": "code",
   "execution_count": 24,
   "metadata": {
    "scrolled": true
   },
   "outputs": [
    {
     "name": "stdout",
     "output_type": "stream",
     "text": [
      "------------------------------------  ------------------  ------------------------  ----------------\n",
      "GUID                                  NAME                CREATED                   TYPE\n",
      "7cf8a8f0-c164-406c-ba9b-430a1bffe7b2  pytorch model MQ 2  2020-05-29T22:51:55.002Z  pytorch-onnx_1.1\n",
      "------------------------------------  ------------------  ------------------------  ----------------\n"
     ]
    }
   ],
   "source": [
    "client.repository.list_models()"
   ]
  },
  {
   "cell_type": "markdown",
   "metadata": {},
   "source": [
    "### Create Deployment\n",
    "\n",
    "Documentation: https://www.ibm.com/support/producthub/icpdata/docs/content/SSQNUZ_current/wsj/wmls/wmls-deploy-python.html"
   ]
  },
  {
   "cell_type": "code",
   "execution_count": 25,
   "metadata": {},
   "outputs": [
    {
     "data": {
      "text/plain": [
       "{'resources': []}"
      ]
     },
     "execution_count": 25,
     "metadata": {},
     "output_type": "execute_result"
    }
   ],
   "source": [
    "client.deployments.get_details()"
   ]
  },
  {
   "cell_type": "code",
   "execution_count": 26,
   "metadata": {},
   "outputs": [
    {
     "name": "stdout",
     "output_type": "stream",
     "text": [
      "\n",
      "\n",
      "#######################################################################################\n",
      "\n",
      "Synchronous deployment creation for uid: '7cf8a8f0-c164-406c-ba9b-430a1bffe7b2' started\n",
      "\n",
      "#######################################################################################\n",
      "\n",
      "\n",
      "initializing\n",
      "ready\n",
      "\n",
      "\n",
      "------------------------------------------------------------------------------------------------\n",
      "Successfully finished deployment creation, deployment_uid='384a4543-a41e-45f1-a5c3-9d9f1ed7c534'\n",
      "------------------------------------------------------------------------------------------------\n",
      "\n",
      "\n"
     ]
    }
   ],
   "source": [
    "meta_props = {\n",
    "    client.deployments.ConfigurationMetaNames.NAME: \"pytorch deployment\",\n",
    "    client.deployments.ConfigurationMetaNames.ONLINE: {}\n",
    "}\n",
    "\n",
    "deployment = client.deployments.create(model_uid, meta_props)"
   ]
  },
  {
   "cell_type": "code",
   "execution_count": 27,
   "metadata": {},
   "outputs": [
    {
     "name": "stdout",
     "output_type": "stream",
     "text": [
      "Deployment uid: 384a4543-a41e-45f1-a5c3-9d9f1ed7c534\n"
     ]
    }
   ],
   "source": [
    "deployment_uid = client.deployments.get_uid(deployment)\n",
    "print(\"Deployment uid: {}\".format(deployment_uid))"
   ]
  },
  {
   "cell_type": "markdown",
   "metadata": {},
   "source": [
    "<a id = \"score\"></a>\n",
    "## Scoring the model"
   ]
  },
  {
   "cell_type": "markdown",
   "metadata": {},
   "source": [
    "### Score deployment"
   ]
  },
  {
   "cell_type": "code",
   "execution_count": 28,
   "metadata": {},
   "outputs": [
    {
     "name": "stdout",
     "output_type": "stream",
     "text": [
      "Predictions returned\n",
      "{'predictions': [{'values': [[-5.3478593826293945, -6.878868579864502, -5.569346904754639, -4.2393364906311035, -8.468282699584961, -0.08463510870933533, -3.6433980464935303, -6.80506706237793, -3.620191812515259, -5.851403713226318]]}]}\n"
     ]
    }
   ],
   "source": [
    "values = [[[[0,0,0,0,0,0,0,0,0,0,0,0,0,0,0,0,0,0,0,0,0,0,0,0,0,0,0,0],[0,0,0,0,0,0,0,0,0,0,0,0,0,0,0,0,0,0,0,0,0,0,0,0,0,0,0,0],[0,0,0,0,0,0,0,0,0,0,0,0,0,0,0,0,0,0,0,0,0,0,0,0,0,0,0,0],[0,0,0,0,0,0,0,0,0,0,0,0,0,0,0,0,0,0,0,0,0,0,0,0,0,0,0,0],[0,0,0,0,0,0,0,0,0,0,0,0,0,0,0,0,0,0,0,0,0,0,0,0,0,0,0,0],[0,0,0,0,0,0,0,0,0,0,0,0,0.6392157077789307,0.7568628191947937,0.5960784554481506,0.3607843220233917,0.20000001788139343,0.20000001788139343,0.20000001788139343,0.20000001788139343,0.12156863510608673,0,0,0,0,0,0,0],[0,0,0,0,0,0,0,0,0,0,0,0.08235294371843338,0.874509871006012,0.9921569228172302,0.988235354423523,0.9921569228172302,0.988235354423523,0.9921569228172302,0.988235354423523,0.9921569228172302,0.7529412508010864,0.32156863808631897,0,0,0,0,0,0],[0,0,0,0,0,0,0,0,0,0,0,0.20000001788139343,0.9921569228172302,0.40000003576278687,0,0.08235294371843338,0.40000003576278687,0.24313727021217346,0.40000003576278687,0.40000003576278687,0.2392157018184662,0.7176470756530762,0.1568627506494522,0,0,0,0,0],[0,0,0,0,0,0,0,0,0,0,0,0.20000001788139343,0.988235354423523,0.40000003576278687,0,0,0,0,0,0,0,0.2392157018184662,0,0,0,0,0,0],[0,0,0,0,0,0,0,0,0,0,0,0.20000001788139343,0.9921569228172302,0.40000003576278687,0,0,0,0,0,0,0,0,0,0,0,0,0,0],[0,0,0,0,0,0,0,0,0,0,0,0.3607843220233917,0.988235354423523,0.40000003576278687,0,0,0,0,0,0,0,0,0,0,0,0,0,0],[0,0,0,0,0,0,0,0,0,0,0,0.6784313917160034,0.9921569228172302,0.40000003576278687,0,0,0,0,0,0,0,0,0,0,0,0,0,0],[0,0,0,0,0,0,0,0,0,0,0,0.9921569228172302,0.988235354423523,0.874509871006012,0.7960785031318665,0.7960785031318665,0.7960785031318665,0.32156863808631897,0,0,0,0,0,0,0,0,0,0],[0,0,0,0,0,0,0,0,0,0,0.48235297203063965,0.9960784912109375,0.9921569228172302,0.8784314393997192,0.7960785031318665,0.7960785031318665,0.874509871006012,0.9960784912109375,0.27843138575553894,0,0,0,0,0,0,0,0,0],[0,0,0,0,0,0,0,0,0,0.16078431904315948,0.9529412388801575,0.9921569228172302,0.5098039507865906,0.0784313753247261,0,0,0.0784313753247261,0.9921569228172302,0.9098039865493774,0.16078431904315948,0,0,0,0,0,0,0,0],[0,0,0,0,0,0,0,0,0,0.5960784554481506,0.9921569228172302,0.7176470756530762,0,0,0,0,0,0.5176470875740051,0.9921569228172302,0.40000003576278687,0,0,0,0,0,0,0,0],[0,0,0,0,0,0,0,0,0,0.20000001788139343,0.5921568870544434,0.0784313753247261,0,0,0,0,0,0.20000001788139343,0.988235354423523,0.40000003576278687,0,0,0,0,0,0,0,0],[0,0,0,0,0,0,0,0,0,0.08235294371843338,0,0,0,0,0,0,0,0.4431372880935669,0.9921569228172302,0.40000003576278687,0,0,0,0,0,0,0,0],[0,0,0,0,0,0,0,0,0.32156863808631897,0.7176470756530762,0,0,0,0,0,0,0,0.7568628191947937,0.988235354423523,0.40000003576278687,0,0,0,0,0,0,0,0],[0,0,0,0,0,0,0,0,0.7960785031318665,0.7176470756530762,0,0,0,0,0,0,0.08235294371843338,0.9960784912109375,0.9921569228172302,0.16078431904315948,0,0,0,0,0,0,0,0],[0,0,0,0,0,0,0,0.08235294371843338,0.874509871006012,0.40000003576278687,0,0,0,0,0,0.08235294371843338,0.7960785031318665,0.9921569228172302,0.5098039507865906,0,0,0,0,0,0,0,0,0],[0,0,0,0,0,0,0,0,0.8000000715255737,0.48235297203063965,0,0,0,0,0.16078431904315948,0.6784313917160034,0.9921569228172302,0.7960785031318665,0.0784313753247261,0,0,0,0,0,0,0,0,0],[0,0,0,0,0,0,0,0,0.6352941393852234,0.874509871006012,0.40000003576278687,0.08235294371843338,0.40000003576278687,0.6392157077789307,0.9529412388801575,0.9921569228172302,0.6705882549285889,0.0784313753247261,0,0,0,0,0,0,0,0,0,0],[0,0,0,0,0,0,0,0,0.16078431904315948,0.917647123336792,0.9921569228172302,1,0.9921569228172302,1,0.6745098233222961,0.32156863808631897,0,0,0,0,0,0,0,0,0,0,0,0],[0,0,0,0,0,0,0,0,0,0.11764706671237946,0.5137255191802979,0.7529412508010864,0.43529415130615234,0.19607844948768616,0.03921568766236305,0,0,0,0,0,0,0,0,0,0,0,0,0],[0,0,0,0,0,0,0,0,0,0,0,0,0,0,0,0,0,0,0,0,0,0,0,0,0,0,0,0],[0,0,0,0,0,0,0,0,0,0,0,0,0,0,0,0,0,0,0,0,0,0,0,0,0,0,0,0],[0,0,0,0,0,0,0,0,0,0,0,0,0,0,0,0,0,0,0,0,0,0,0,0,0,0,0,0]]]]\n",
    "\n",
    "meta_props = {\n",
    "    client.deployments.ScoringMetaNames.INPUT_DATA: [{\"values\": values}]\n",
    "}    \n",
    "predictions = client.deployments.score(deployment_uid, meta_props)\n",
    "print(\"Predictions returned\\n{}\".format(predictions))"
   ]
  },
  {
   "cell_type": "markdown",
   "metadata": {},
   "source": [
    "### Prediction accuracy"
   ]
  },
  {
   "cell_type": "code",
   "execution_count": 29,
   "metadata": {},
   "outputs": [
    {
     "name": "stdout",
     "output_type": "stream",
     "text": [
      "We predict the picture below is a 5\n"
     ]
    },
    {
     "data": {
      "text/plain": [
       "<Figure size 640x480 with 1 Axes>"
      ]
     },
     "metadata": {},
     "output_type": "display_data"
    }
   ],
   "source": [
    "highest_log_probability = max(predictions['predictions'][0]['values'][0])\n",
    "prediction = predictions['predictions'][0]['values'][0].index(highest_log_probability)\n",
    "print(\"We predict the picture below is a {}\".format(prediction))\n",
    "\n",
    "from matplotlib import pyplot as plt \n",
    "import numpy as np\n",
    "\n",
    "first_image = np.array(values[0][0], dtype='float')\n",
    "plt.imshow(first_image, cmap='gray')\n",
    "plt.show()"
   ]
  },
  {
   "cell_type": "markdown",
   "metadata": {},
   "source": [
    "### Interact with wider project "
   ]
  },
  {
   "cell_type": "code",
   "execution_count": 32,
   "metadata": {},
   "outputs": [],
   "source": [
    "from project_lib import Project\n",
    "project = Project.access()\n",
    "storage_credentials = project.get_storage_metadata()"
   ]
  },
  {
   "cell_type": "code",
   "execution_count": 33,
   "metadata": {},
   "outputs": [
    {
     "data": {
      "text/plain": [
       "'CPD and WMLA demo'"
      ]
     },
     "execution_count": 33,
     "metadata": {},
     "output_type": "execute_result"
    }
   ],
   "source": [
    "project.get_name()"
   ]
  },
  {
   "cell_type": "markdown",
   "metadata": {},
   "source": [
    "## Clean up resources"
   ]
  },
  {
   "cell_type": "code",
   "execution_count": 30,
   "metadata": {},
   "outputs": [
    {
     "name": "stdout",
     "output_type": "stream",
     "text": [
      "Deployment deletion: SUCCESS\n",
      "Space deletion: SUCCESS\n"
     ]
    }
   ],
   "source": [
    "print(\"Deployment deletion: {}\".format(client.deployments.delete(deployment_uid)))\n",
    "print(\"Space deletion: {}\".format(client.spaces.delete(space_id)))"
   ]
  },
  {
   "cell_type": "markdown",
   "metadata": {},
   "source": [
    "<a id = \"summary\"></a>\n",
    "## Summary\n",
    "\n",
    "Congratulations! You have learned to:\n",
    "\n",
    "1. Download the Pytorch MNIST model\n",
    "2. Create a Watson Machine Learning model by using the Pytorch model\n",
    "3. Train the model by offloading work to Watson Machine Learning Acclerator\n",
    "4. Save and deploy from your workspace\n",
    "5. Score the model\n",
    "6. Clean up"
   ]
  }
 ],
 "metadata": {
  "kernelspec": {
   "display_name": "Python 3",
   "language": "python",
   "name": "python3"
  },
  "language_info": {
   "codemirror_mode": {
    "name": "ipython",
    "version": 3
   },
   "file_extension": ".py",
   "mimetype": "text/x-python",
   "name": "python",
   "nbconvert_exporter": "python",
   "pygments_lexer": "ipython3",
   "version": "3.7.2"
  }
 },
 "nbformat": 4,
 "nbformat_minor": 2
}
