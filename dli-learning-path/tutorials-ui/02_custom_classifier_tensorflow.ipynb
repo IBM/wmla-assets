{
 "cells": [
  {
   "cell_type": "markdown",
   "metadata": {},
   "source": [
    "# Computer Vision Example:  Image Classification with WMLA\n",
    "\n",
    "https://developer.ibm.com/technologies/artificial-intelligence/tutorials/use-computer-vision-with-dli-watson-machine-learning-accelerator/\n",
    "\n",
    "This workflow is documented here..."
   ]
  },
  {
   "cell_type": "markdown",
   "metadata": {},
   "source": [
    "### Contents\n",
    "\n",
    "- [Introduction](#Introduction)\n",
    "- [Upload this notebook to your environment](#Upload-notebook)\n",
    "- [Download dataset and model](#Download-dataset-model)\n",
    "- [Import dataset](#Import-dataset)\n",
    "- [Build the model](#Build-the-model)\n",
    "- [Tune Hyper-parameter](#Tune-hyper-parameter)\n",
    "- [Run Training](#Run-training)\n",
    "- [Inspect Training Run](#Inspect-training-run)\n",
    "- [Create an inference model](#Create-an-inference-model)\n",
    "- [Test it out](#Test-it-out)"
   ]
  },
  {
   "cell_type": "markdown",
   "metadata": {},
   "source": [
    "## Introduction\n",
    "[Back to top](#Contents)\n",
    "\n",
    "This notebook details the process of performing a basic computer vision image classification example using the Deep Learning Impact functionality within Watson Machine Learning Accelerator.  \n",
    "\n",
    "Please visit [Watson Machine Learning Accelerator Learning Path](https://developer.ibm.com/series/learning-path-get-started-with-watson-machine-learning-accelerator/) for further insight of Watson ML Accelerator\n",
    "\n",
    "For this lab we will build a **custom image classifier** using WMLA"
   ]
  },
  {
   "cell_type": "code",
   "execution_count": 9,
   "metadata": {
    "ExecuteTime": {
     "end_time": "2020-05-24T13:18:12.388666Z",
     "start_time": "2020-05-24T13:18:12.386445Z"
    }
   },
   "outputs": [],
   "source": [
    "## Imports\n",
    "import os,sys\n"
   ]
  },
  {
   "cell_type": "code",
   "execution_count": 50,
   "metadata": {
    "ExecuteTime": {
     "end_time": "2020-05-24T15:44:59.389917Z",
     "start_time": "2020-05-24T15:44:59.380834Z"
    }
   },
   "outputs": [],
   "source": [
    "def get_config(cfg_in={}):\n",
    "    cfg = {}\n",
    "    cfg['userid']=\"b0p036aa\"\n",
    "    # location of git clone ....\n",
    "    cfg['repo_dir']=\"/gpfs/home/s4s004/b0p036aa/wmla-learning-path\"\n",
    "    cfg['image_dir']=\"/gpfs/home/s4s004/b0p036aa/wmla-learning-path/images\"\n",
    "    cfg[\"classes\"]=[\"cars\",\"busses\",\"trucks\"]  \n",
    "    cfg[\"num_images\"] = {\"train\":200,\"valid\":20,\"test\":20}\n",
    "    cfg[\"d_partitions\"]=[\"train\"]\n",
    "    \n",
    "    # overwrite configs if passed\n",
    "    for (k,v) in cfg_in.items() :\n",
    "        npt(\"Overriding Config {}:{} with {}\".format(k,cfg[k],v))\n",
    "        cfg[k] = v\n",
    "\n",
    "    # non overrideable ...\n",
    "    cfg[\"jpeginfo\"] =cfg['repo_dir']+\"/utils/jpeginfo\"\n",
    "    cfg[\"googliser\"] =cfg['repo_dir']+\"/utils/googliser.sh\"\n",
    "    \n",
    "    return cfg\n",
    "\n",
    "# utility print function\n",
    "def nprint(mystring) :\n",
    "    print(\"**{}** : {}\".format(sys._getframe(1).f_code.co_name,mystring))\n",
    "npt=nprint\n"
   ]
  },
  {
   "cell_type": "markdown",
   "metadata": {},
   "source": [
    "## Download dataset and model\n",
    " Here you are going to define your own image classification project!  We will use google to grab images, and will build custom models..\n",
    "\n",
    "Now we are ready to go,  lets get started and download the dataset from github!!!\n",
    "\n",
    "First step is that we will change our working directory to your Spectrum Scale//GPFS Directory"
   ]
  },
  {
   "cell_type": "markdown",
   "metadata": {},
   "source": [
    "## Define classes for our dataset \n",
    "\n",
    "Here we are going to build our own dataset !!  Think of 3 categories you would like to classify images.  In this example, we will use \n",
    "* busses\n",
    "* trucks \n",
    "* cars\n",
    "\n",
    "We will use an open source tool called *googliser* to download our images from google images.\n",
    "\n",
    "For a Covid-19 based example you could make your classes something like \n",
    "* \"people wearing masks\"\n",
    "* \"people posing street\"\n"
   ]
  },
  {
   "cell_type": "code",
   "execution_count": 44,
   "metadata": {
    "ExecuteTime": {
     "end_time": "2020-05-24T15:32:18.538810Z",
     "start_time": "2020-05-24T15:32:18.534683Z"
    }
   },
   "outputs": [
    {
     "name": "stdout",
     "output_type": "stream",
     "text": [
      "**get_config** : Overriding Config repo_dir:/gpfs/home/s4s004/b0p036aa/wmla-learning-path with /gpfs/home/s4s004/vanstee/2020-05-wmla/wmla-learning-path\n",
      "**get_config** : Overriding Config image_dir:/gpfs/home/s4s004/b0p036aa/wmla-learning-path/images with /gpfs/home/s4s004/vanstee/2020-05-wmla/images\n",
      "**get_config** : Overriding Config classes:['cars', 'busses', 'trucks'] with ['people wearing masks', 'people posing street', 'people skateboarding', 'people on bikes']\n",
      "**get_config** : Overriding Config d_partitions:['train'] with ['train']\n"
     ]
    }
   ],
   "source": [
    "#################################################################################################\n",
    "# @@ Students : Customize this cell with your custom classes for image classification\n",
    "################################################################################################\n",
    "\n",
    "# Overrides for lab\n",
    "\n",
    "mycfg = {\n",
    "    'repo_dir':\"/gpfs/home/s4s004/vanstee/2020-05-wmla/wmla-learning-path\",\n",
    "    'image_dir':\"/gpfs/home/s4s004/vanstee/2020-05-wmla/images\",\n",
    "    \"classes\":[\"people wearing masks\",\"people posing street\",\"people skateboarding\",\"people on bikes\"],  ## <<- CLASS Enter your search terms here \n",
    "    \"d_partitions\":[\"train\"],\n",
    "}\n",
    "cfg=get_config(mycfg)"
   ]
  },
  {
   "cell_type": "code",
   "execution_count": 45,
   "metadata": {
    "ExecuteTime": {
     "end_time": "2020-05-24T15:32:19.014530Z",
     "start_time": "2020-05-24T15:32:19.006903Z"
    },
    "scrolled": true
   },
   "outputs": [
    {
     "name": "stdout",
     "output_type": "stream",
     "text": [
      "**makeDirIfNotExist** : Directory /gpfs/home/s4s004/vanstee/2020-05-wmla/images/train/people_wearing_masks already exists .. \n",
      "**makeDirIfNotExist** : Directory /gpfs/home/s4s004/vanstee/2020-05-wmla/images/train/people_posing_street already exists .. \n",
      "**makeDirIfNotExist** : Directory /gpfs/home/s4s004/vanstee/2020-05-wmla/images/train/people_skateboarding already exists .. \n",
      "**makeDirIfNotExist** : Directory /gpfs/home/s4s004/vanstee/2020-05-wmla/images/train/people_on_bikes already exists .. \n"
     ]
    }
   ],
   "source": [
    "# Helpers to make directories\n",
    "def class_folder_name(base,d_part,cls) :\n",
    "    return base+\"/\"+d_part+\"/\"+ cls.replace(\" \",\"_\")\n",
    "\n",
    "def makeDirIfNotExist(directory) :\n",
    "    if not os.path.exists(directory):  \n",
    "        npt(\"Making directory {}\".format(directory))\n",
    "        os.makedirs(directory) \n",
    "    else :\n",
    "        npt(\"Directory {} already exists .. \".format(directory))\n",
    "\n",
    "# Build directory hierarchy\n",
    "#   [train|valid|test ]\n",
    "#    -----------------> [class1 | class2 | class...]\n",
    "for d_part in cfg[\"d_partitions\"] :\n",
    "    for cls in cfg[\"classes\"] :\n",
    "        directory=class_folder_name(cfg['image_dir'],d_part,cls)\n",
    "        makeDirIfNotExist(directory)\n"
   ]
  },
  {
   "cell_type": "code",
   "execution_count": 46,
   "metadata": {
    "ExecuteTime": {
     "end_time": "2020-05-24T15:32:19.625170Z",
     "start_time": "2020-05-24T15:32:19.480907Z"
    }
   },
   "outputs": [
    {
     "name": "stdout",
     "output_type": "stream",
     "text": [
      "**install_googliser** : Googliser already installed here : /gpfs/home/s4s004/vanstee/2020-05-wmla/wmla-learning-path/googliser \n",
      "/gpfs/home/s4s004/vanstee/2020-05-wmla/wmla-learning-path/googliser/googliser.sh\r\n"
     ]
    }
   ],
   "source": [
    "# install googliser\n",
    "def install_googliser():\n",
    "    googliser_directory = cfg['repo_dir']+\"/googliser\"\n",
    "    if not os.path.exists(googliser_directory):  \n",
    "        npt(\"Installing Googliser here : {} \".format(googliser_directory))\n",
    "        os.chdir(cfg['repo_dir'])\n",
    "        !git clone https://github.com/teracow/googliser\n",
    "    else :\n",
    "        npt(\"Googliser already installed here : {} \".format(googliser_directory))\n",
    "\n",
    "    googliser = cfg['repo_dir']+\"/googliser/googliser.sh\"\n",
    "\n",
    "    return googliser \n",
    "googliser = install_googliser()\n",
    "!ls {googliser}"
   ]
  },
  {
   "cell_type": "code",
   "execution_count": 47,
   "metadata": {
    "ExecuteTime": {
     "end_time": "2020-05-24T15:35:16.465774Z",
     "start_time": "2020-05-24T15:32:20.420718Z"
    },
    "scrolled": true
   },
   "outputs": [
    {
     "name": "stdout",
     "output_type": "stream",
     "text": [
      "**download_images** : /gpfs/home/s4s004/vanstee/2020-05-wmla/wmla-learning-path/googliser/googliser.sh --o /gpfs/home/s4s004/vanstee/2020-05-wmla/images/train/people_wearing_masks --phrase \"people wearing masks\" --parallel 50 --upper-size 500000 --lower-size 2000  -n 200 --format jpg --timeout 15 --safesearch-off \n",
      " \u001b[1mgoogliser.sh\u001b[0m v:200212 PID:64281\n",
      "\n",
      "   \u001b[1;34mG\u001b[0m\u001b[1;31mo\u001b[0m\u001b[1;38;5;214mo\u001b[0m\u001b[1;34mg\u001b[0m\u001b[1;32ml\u001b[0m\u001b[1;31me\u001b[0m: \u001b[1;32m0/10\u001b[0m web pages OK, \u001b[1;38;5;214m1/10\u001b[0m are in progres\u001b[1;32m0/10\u001b[0m web pages OK, \u001b[1;38;5;214m2/10\u001b[0m are in progres\u001b[1;32m0/10\u001b[0m web pages OK, \u001b[1;38;5;214m3/10\u001b[0m are in progres\u001b[1;32m0/10\u001b[0m web pages OK, \u001b[1;38;5;214m4/10\u001b[0m are in progres\u001b[1;32m0/10\u001b[0m web pages OK, \u001b[1;38;5;214m5/10\u001b[0m are in progres\u001b[1;32m0/10\u001b[0m web pages OK, \u001b[1;38;5;214m6/10\u001b[0m are in progres\u001b[1;32m0/10\u001b[0m web pages OK, \u001b[1;38;5;214m7/10\u001b[0m are in progres\u001b[1;32m0/10\u001b[0m web pages OK, \u001b[1;38;5;214m8/10\u001b[0m are in progres\u001b[1;32m0/10\u001b[0m web pages OK, \u001b[1;38;5;214m9/10\u001b[0m are in progres\u001b[1;32m0/10\u001b[0m web pages OK, \u001b[1;38;5;214m10/10\u001b[0m are in progress\u001b[1;32m10\u001b[0m web pages OK                         \n",
      "    links: \u001b[1;32m77\u001b[0m \n",
      " download: \u001b[1;32m0/77\u001b[0m images OK\u001b[1;32m0/77\u001b[0m images OK, \u001b[1;38;5;214m1/50\u001b[0m are in progress\u001b[1;32m0/77\u001b[0m images OK, \u001b[1;38;5;214m2/50\u001b[0m are in progress\u001b[1;32m0/77\u001b[0m images OK, \u001b[1;38;5;214m3/50\u001b[0m are in progress\u001b[1;32m0/77\u001b[0m images OK, \u001b[1;38;5;214m4/50\u001b[0m are in progress\u001b[1;32m0/77\u001b[0m images OK, \u001b[1;38;5;214m5/50\u001b[0m are in progress\u001b[1;32m0/77\u001b[0m images OK, \u001b[1;38;5;214m6/50\u001b[0m are in progress\u001b[1;32m0/77\u001b[0m images OK, \u001b[1;38;5;214m7/50\u001b[0m are in progress\u001b[1;32m0/77\u001b[0m images OK, \u001b[1;38;5;214m8/50\u001b[0m are in progress\u001b[1;32m0/77\u001b[0m images OK, \u001b[1;38;5;214m9/50\u001b[0m are in progress\u001b[1;32m0/77\u001b[0m images OK, \u001b[1;38;5;214m10/50\u001b[0m are in progres\u001b[1;32m0/77\u001b[0m images OK, \u001b[1;38;5;214m11/50\u001b[0m are in progres\u001b[1;32m0/77\u001b[0m images OK, \u001b[1;38;5;214m12/50\u001b[0m are in progres\u001b[1;32m1/77\u001b[0m images OK, \u001b[1;38;5;214m13/50\u001b[0m are in progres\u001b[1;32m1/77\u001b[0m images OK, \u001b[1;38;5;214m14/50\u001b[0m are in progres\u001b[1;32m1/77\u001b[0m images OK, \u001b[1;38;5;214m15/50\u001b[0m are in progres\u001b[1;32m4/77\u001b[0m images OK, \u001b[1;38;5;214m11/50\u001b[0m are in progress and \u001b[1;31m2\u001b[0m have faile\u001b[1;32m4/77\u001b[0m images OK, \u001b[1;38;5;214m12/50\u001b[0m are in progress and \u001b[1;31m2\u001b[0m have faile\u001b[1;32m4/77\u001b[0m images OK, \u001b[1;38;5;214m13/50\u001b[0m are in progress and \u001b[1;31m2\u001b[0m have faile\u001b[1;32m4/77\u001b[0m images OK, \u001b[1;38;5;214m13/50\u001b[0m are in progress and \u001b[1;31m3\u001b[0m have faile\u001b[1;32m4/77\u001b[0m images OK, \u001b[1;38;5;214m14/50\u001b[0m are in progress and \u001b[1;31m3\u001b[0m have faile\u001b[1;32m6/77\u001b[0m images OK, \u001b[1;38;5;214m12/50\u001b[0m are in progress and \u001b[1;31m4\u001b[0m have faile\u001b[1;32m6/77\u001b[0m images OK, \u001b[1;38;5;214m12/50\u001b[0m are in progress and \u001b[1;31m5\u001b[0m have faile\u001b[1;32m6/77\u001b[0m images OK, \u001b[1;38;5;214m13/50\u001b[0m are in progress and \u001b[1;31m5\u001b[0m have faile\u001b[1;32m6/77\u001b[0m images OK, \u001b[1;38;5;214m14/50\u001b[0m are in progress and \u001b[1;31m5\u001b[0m have faile\u001b[1;32m6/77\u001b[0m images OK, \u001b[1;38;5;214m15/50\u001b[0m are in progress and \u001b[1;31m5\u001b[0m have faile\u001b[1;32m6/77\u001b[0m images OK, \u001b[1;38;5;214m16/50\u001b[0m are in progress and \u001b[1;31m5\u001b[0m have faile\u001b[1;32m7/77\u001b[0m images OK, \u001b[1;38;5;214m15/50\u001b[0m are in progress and \u001b[1;31m6\u001b[0m have faile\u001b[1;32m8/77\u001b[0m images OK, \u001b[1;38;5;214m14/50\u001b[0m are in progress and \u001b[1;31m7\u001b[0m have faile\u001b[1;32m8/77\u001b[0m images OK, \u001b[1;38;5;214m15/50\u001b[0m are in progress and \u001b[1;31m7\u001b[0m have faile\u001b[1;32m9/77\u001b[0m images OK, \u001b[1;38;5;214m15/50\u001b[0m are in progress and \u001b[1;31m7\u001b[0m have faile\u001b[1;32m9/77\u001b[0m images OK, \u001b[1;38;5;214m16/50\u001b[0m are in progress and \u001b[1;31m7\u001b[0m have faile\u001b[1;32m10/77\u001b[0m images OK, \u001b[1;38;5;214m15/50\u001b[0m are in progress and \u001b[1;31m8\u001b[0m have failed\u001b[1;32m11/77\u001b[0m images OK, \u001b[1;38;5;214m15/50\u001b[0m are in progress and \u001b[1;31m9\u001b[0m have failed\u001b[1;32m12/77\u001b[0m images OK, \u001b[1;38;5;214m15/50\u001b[0m are in progress and \u001b[1;31m9\u001b[0m have failed\u001b[1;32m12/77\u001b[0m images OK, \u001b[1;38;5;214m15/50\u001b[0m are in progress and \u001b[1;31m10\u001b[0m have faile\u001b[1;32m12/77\u001b[0m images OK, \u001b[1;38;5;214m16/50\u001b[0m are in progress and \u001b[1;31m10\u001b[0m have faile\u001b[1;32m13/77\u001b[0m images OK, \u001b[1;38;5;214m17/50\u001b[0m are in progress and \u001b[1;31m10\u001b[0m have faile\u001b[1;32m14/77\u001b[0m images OK, \u001b[1;38;5;214m17/50\u001b[0m are in progress and \u001b[1;31m10\u001b[0m have faile\u001b[1;32m14/77\u001b[0m images OK, \u001b[1;38;5;214m17/50\u001b[0m are in progress and \u001b[1;31m11\u001b[0m have faile\u001b[1;32m15/77\u001b[0m images OK, \u001b[1;38;5;214m18/50\u001b[0m are in progress and \u001b[1;31m11\u001b[0m have faile\u001b[1;32m16/77\u001b[0m images OK, \u001b[1;38;5;214m18/50\u001b[0m are in progress and \u001b[1;31m11\u001b[0m have faile\u001b[1;32m16/77\u001b[0m images OK, \u001b[1;38;5;214m18/50\u001b[0m are in progress and \u001b[1;31m12\u001b[0m have faile\u001b[1;32m17/77\u001b[0m images OK, \u001b[1;38;5;214m18/50\u001b[0m are in progress and \u001b[1;31m12\u001b[0m have faile\u001b[1;32m18/77\u001b[0m images OK, \u001b[1;38;5;214m18/50\u001b[0m are in progress and \u001b[1;31m13\u001b[0m have faile\u001b[1;32m19/77\u001b[0m images OK, \u001b[1;38;5;214m18/50\u001b[0m are in progress and \u001b[1;31m13\u001b[0m have faile\u001b[1;32m19/77\u001b[0m images OK, \u001b[1;38;5;214m19/50\u001b[0m are in progress and \u001b[1;31m13\u001b[0m have faile\u001b[1;32m19/77\u001b[0m images OK, \u001b[1;38;5;214m20/50\u001b[0m are in progress and \u001b[1;31m13\u001b[0m have faile\u001b[1;32m19/77\u001b[0m images OK, \u001b[1;38;5;214m21/50\u001b[0m are in progress and \u001b[1;31m13\u001b[0m have faile\u001b[1;32m20/77\u001b[0m images OK, \u001b[1;38;5;214m21/50\u001b[0m are in progress and \u001b[1;31m13\u001b[0m have faile\u001b[1;32m22/77\u001b[0m images OK, \u001b[1;38;5;214m21/50\u001b[0m are in progress and \u001b[1;31m14\u001b[0m have faile\u001b[1;32m22/77\u001b[0m images OK, \u001b[1;38;5;214m19/50\u001b[0m are in progress and \u001b[1;31m15\u001b[0m have faile\u001b[1;32m22/77\u001b[0m images OK, \u001b[1;38;5;214m20/50\u001b[0m are in progress and \u001b[1;31m15\u001b[0m have faile\u001b[1;32m22/77\u001b[0m images OK, \u001b[1;38;5;214m21/50\u001b[0m are in progress and \u001b[1;31m15\u001b[0m have faile\u001b[1;32m22/77\u001b[0m images OK, \u001b[1;38;5;214m21/50\u001b[0m are in progress and \u001b[1;31m16\u001b[0m have faile\u001b[1;32m22/77\u001b[0m images OK, \u001b[1;38;5;214m22/50\u001b[0m are in progress and \u001b[1;31m16\u001b[0m have faile\u001b[1;32m23/77\u001b[0m images OK, \u001b[1;38;5;214m22/50\u001b[0m are in progress and \u001b[1;31m16\u001b[0m have faile\u001b[1;32m23/77\u001b[0m images OK, \u001b[1;38;5;214m22/50\u001b[0m are in progress and \u001b[1;31m17\u001b[0m have faile\u001b[1;32m24/77\u001b[0m images OK, \u001b[1;38;5;214m22/50\u001b[0m are in progress and \u001b[1;31m17\u001b[0m have faile\u001b[1;32m24/77\u001b[0m images OK, \u001b[1;38;5;214m23/50\u001b[0m are in progress and \u001b[1;31m17\u001b[0m have faile\u001b[1;32m25/77\u001b[0m images OK, \u001b[1;38;5;214m23/50\u001b[0m are in progress and \u001b[1;31m17\u001b[0m have faile\u001b[1;32m25/77\u001b[0m images OK, \u001b[1;38;5;214m24/50\u001b[0m are in progress and \u001b[1;31m17\u001b[0m have faile\u001b[1;32m25/77\u001b[0m images OK, \u001b[1;38;5;214m25/50\u001b[0m are in progress and \u001b[1;31m17\u001b[0m have faile\u001b[1;32m25/77\u001b[0m images OK, \u001b[1;38;5;214m26/50\u001b[0m are in progress and \u001b[1;31m17\u001b[0m have faile\u001b[1;32m25/77\u001b[0m images OK, \u001b[1;38;5;214m27/50\u001b[0m are in progress and \u001b[1;31m17\u001b[0m have faile\u001b[1;32m26/77\u001b[0m images OK, \u001b[1;38;5;214m27/50\u001b[0m are in progress and \u001b[1;31m17\u001b[0m have faile\u001b[1;32m27/77\u001b[0m images OK, \u001b[1;38;5;214m27/50\u001b[0m are in progress and \u001b[1;31m17\u001b[0m have faile\u001b[1;32m29/77\u001b[0m images OK, \u001b[1;38;5;214m26/50\u001b[0m are in progress and \u001b[1;31m17\u001b[0m have faile\u001b[1;32m29/77\u001b[0m images OK, \u001b[1;38;5;214m26/50\u001b[0m are in progress and \u001b[1;31m18\u001b[0m have faile\u001b[1;32m30/77\u001b[0m images OK, \u001b[1;38;5;214m26/50\u001b[0m are in progress and \u001b[1;31m18\u001b[0m have faile\u001b[1;32m32/77\u001b[0m images OK, \u001b[1;38;5;214m25/50\u001b[0m are in progress and \u001b[1;31m19\u001b[0m have faile\u001b[1;32m34/77\u001b[0m images OK, \u001b[1;38;5;214m24/50\u001b[0m are in progress and \u001b[1;31m19\u001b[0m have faile\u001b[1;32m35/77\u001b[0m images OK, \u001b[1;38;5;214m21/50\u001b[0m are in progress and \u001b[1;31m21\u001b[0m have faile\u001b[1;32m35/77\u001b[0m images OK, \u001b[1;38;5;214m20/50\u001b[0m are in progress and \u001b[1;31m22\u001b[0m have faile\u001b[1;32m35/77\u001b[0m images OK, \u001b[1;38;5;214m19/50\u001b[0m are in progress and \u001b[1;31m23\u001b[0m have faile\u001b[1;32m36/77\u001b[0m images OK, \u001b[1;38;5;214m18/50\u001b[0m are in progress and \u001b[1;31m23\u001b[0m have faile\u001b[1;32m37/77\u001b[0m images OK, \u001b[1;38;5;214m17/50\u001b[0m are in progress and \u001b[1;31m23\u001b[0m have faile\u001b[1;32m37/77\u001b[0m images OK, \u001b[1;38;5;214m17/50\u001b[0m are in progress and \u001b[1;31m24\u001b[0m have faile\u001b[1;32m37/77\u001b[0m images OK, \u001b[1;38;5;214m16/50\u001b[0m are in progress and \u001b[1;31m24\u001b[0m have faile\u001b[1;32m38/77\u001b[0m images OK, \u001b[1;38;5;214m15/50\u001b[0m are in progress and \u001b[1;31m25\u001b[0m have faile\u001b[1;32m38/77\u001b[0m images OK, \u001b[1;38;5;214m14/50\u001b[0m are in progress and \u001b[1;31m25\u001b[0m have faile\u001b[1;32m39/77\u001b[0m images OK, \u001b[1;38;5;214m13/50\u001b[0m are in progress and \u001b[1;31m25\u001b[0m have faile\u001b[1;32m40/77\u001b[0m images OK, \u001b[1;38;5;214m12/50\u001b[0m are in progress and \u001b[1;31m25\u001b[0m have faile\u001b[1;32m41/77\u001b[0m images OK, \u001b[1;38;5;214m11/50\u001b[0m are in progress and \u001b[1;31m25\u001b[0m have faile\u001b[1;32m42/77\u001b[0m images OK, \u001b[1;38;5;214m10/50\u001b[0m are in progress and \u001b[1;31m25\u001b[0m have faile\u001b[1;32m42/77\u001b[0m images OK, \u001b[1;38;5;214m10/50\u001b[0m are in progress and \u001b[1;31m26\u001b[0m have faile\u001b[1;32m42/77\u001b[0m images OK, \u001b[1;38;5;214m9/50\u001b[0m are in progress and \u001b[1;31m26\u001b[0m have failed\u001b[1;32m43/77\u001b[0m images OK, \u001b[1;38;5;214m9/50\u001b[0m are in progress and \u001b[1;31m26\u001b[0m have failed\u001b[1;32m43/77\u001b[0m images OK, \u001b[1;38;5;214m8/50\u001b[0m are in progress and \u001b[1;31m26\u001b[0m have failed\u001b[1;32m43/77\u001b[0m images OK, \u001b[1;38;5;214m8/50\u001b[0m are in progress and \u001b[1;31m27\u001b[0m have failed\u001b[1;32m43/77\u001b[0m images OK, \u001b[1;38;5;214m7/50\u001b[0m are in progress and \u001b[1;31m27\u001b[0m have failed\u001b[1;32m44/77\u001b[0m images OK, \u001b[1;38;5;214m6/50\u001b[0m are in progress and \u001b[1;31m27\u001b[0m have failed\u001b[1;32m44/77\u001b[0m images OK, \u001b[1;38;5;214m6/50\u001b[0m are in progress and \u001b[1;31m28\u001b[0m have failed\u001b[1;32m44/77\u001b[0m images OK, \u001b[1;38;5;214m5/50\u001b[0m are in progress and \u001b[1;31m28\u001b[0m have failed\u001b[1;32m44/77\u001b[0m images OK, \u001b[1;38;5;214m4/50\u001b[0m are in progress and \u001b[1;31m29\u001b[0m have failed\u001b[1;32m44/77\u001b[0m images OK, \u001b[1;38;5;214m3/50\u001b[0m are in progress and \u001b[1;31m30\u001b[0m have failed\u001b[1;32m44/77\u001b[0m images OK, \u001b[1;38;5;214m2/50\u001b[0m are in progress and \u001b[1;31m31\u001b[0m have failed\u001b[1;32m44/77\u001b[0m images OK, \u001b[1;38;5;214m1/50\u001b[0m are in progress and \u001b[1;31m32\u001b[0m have failed\u001b[1;32m44/77\u001b[0m images OK, \u001b[1;38;5;214m1/50\u001b[0m are in progress and \u001b[1;31m33\u001b[0m have failed\u001b[1;32m44/77\u001b[0m images OK and \u001b[1;31m33\u001b[0m failed                           \u001b[1;31mlinks list exhausted!\u001b[0m\n",
      "**download_images** : /gpfs/home/s4s004/vanstee/2020-05-wmla/wmla-learning-path/googliser/googliser.sh --o /gpfs/home/s4s004/vanstee/2020-05-wmla/images/train/people_posing_street --phrase \"people posing street\" --parallel 50 --upper-size 500000 --lower-size 2000  -n 200 --format jpg --timeout 15 --safesearch-off \n",
      " \u001b[1mgoogliser.sh\u001b[0m v:200212 PID:102652\n",
      "\n",
      "   \u001b[1;34mG\u001b[0m\u001b[1;31mo\u001b[0m\u001b[1;38;5;214mo\u001b[0m\u001b[1;34mg\u001b[0m\u001b[1;32ml\u001b[0m\u001b[1;31me\u001b[0m: \u001b[1;32m0/10\u001b[0m web pages OK, \u001b[1;38;5;214m1/10\u001b[0m are in progres\u001b[1;32m0/10\u001b[0m web pages OK, \u001b[1;38;5;214m2/10\u001b[0m are in progres\u001b[1;32m0/10\u001b[0m web pages OK, \u001b[1;38;5;214m3/10\u001b[0m are in progres\u001b[1;32m0/10\u001b[0m web pages OK, \u001b[1;38;5;214m4/10\u001b[0m are in progres\u001b[1;32m0/10\u001b[0m web pages OK, \u001b[1;38;5;214m5/10\u001b[0m are in progres\u001b[1;32m0/10\u001b[0m web pages OK, \u001b[1;38;5;214m6/10\u001b[0m are in progres\u001b[1;32m0/10\u001b[0m web pages OK, \u001b[1;38;5;214m7/10\u001b[0m are in progres\u001b[1;32m0/10\u001b[0m web pages OK, \u001b[1;38;5;214m8/10\u001b[0m are in progres\u001b[1;32m0/10\u001b[0m web pages OK, \u001b[1;38;5;214m9/10\u001b[0m are in progres\u001b[1;32m0/10\u001b[0m web pages OK, \u001b[1;38;5;214m10/10\u001b[0m are in progress\u001b[1;32m10\u001b[0m web pages OK                         \n",
      "    links: \u001b[1;32m90\u001b[0m \n"
     ]
    },
    {
     "name": "stdout",
     "output_type": "stream",
     "text": [
      " download: \u001b[1;32m0/90\u001b[0m images OK\u001b[1;32m0/90\u001b[0m images OK, \u001b[1;38;5;214m1/50\u001b[0m are in progress\u001b[1;32m0/90\u001b[0m images OK, \u001b[1;38;5;214m2/50\u001b[0m are in progress\u001b[1;32m0/90\u001b[0m images OK, \u001b[1;38;5;214m3/50\u001b[0m are in progress\u001b[1;32m0/90\u001b[0m images OK, \u001b[1;38;5;214m4/50\u001b[0m are in progress\u001b[1;32m0/90\u001b[0m images OK, \u001b[1;38;5;214m5/50\u001b[0m are in progress\u001b[1;32m0/90\u001b[0m images OK, \u001b[1;38;5;214m6/50\u001b[0m are in progress\u001b[1;32m0/90\u001b[0m images OK, \u001b[1;38;5;214m6/50\u001b[0m are in progress and \u001b[1;31m1\u001b[0m have failed\u001b[1;32m0/90\u001b[0m images OK, \u001b[1;38;5;214m7/50\u001b[0m are in progress and \u001b[1;31m1\u001b[0m have failed\u001b[1;32m0/90\u001b[0m images OK, \u001b[1;38;5;214m8/50\u001b[0m are in progress and \u001b[1;31m1\u001b[0m have failed\u001b[1;32m0/90\u001b[0m images OK, \u001b[1;38;5;214m9/50\u001b[0m are in progress and \u001b[1;31m1\u001b[0m have failed\u001b[1;32m0/90\u001b[0m images OK, \u001b[1;38;5;214m10/50\u001b[0m are in progress and \u001b[1;31m1\u001b[0m have faile\u001b[1;32m2/90\u001b[0m images OK, \u001b[1;38;5;214m9/50\u001b[0m are in progress and \u001b[1;31m1\u001b[0m have failed\u001b[1;32m3/90\u001b[0m images OK, \u001b[1;38;5;214m9/50\u001b[0m are in progress and \u001b[1;31m1\u001b[0m have failed\u001b[1;32m4/90\u001b[0m images OK, \u001b[1;38;5;214m10/50\u001b[0m are in progress and \u001b[1;31m1\u001b[0m have faile\u001b[1;32m4/90\u001b[0m images OK, \u001b[1;38;5;214m11/50\u001b[0m are in progress and \u001b[1;31m1\u001b[0m have faile\u001b[1;32m5/90\u001b[0m images OK, \u001b[1;38;5;214m11/50\u001b[0m are in progress and \u001b[1;31m1\u001b[0m have faile\u001b[1;32m7/90\u001b[0m images OK, \u001b[1;38;5;214m11/50\u001b[0m are in progress and \u001b[1;31m1\u001b[0m have faile\u001b[1;32m8/90\u001b[0m images OK, \u001b[1;38;5;214m11/50\u001b[0m are in progress and \u001b[1;31m1\u001b[0m have faile\u001b[1;32m8/90\u001b[0m images OK, \u001b[1;38;5;214m12/50\u001b[0m are in progress and \u001b[1;31m1\u001b[0m have faile\u001b[1;32m8/90\u001b[0m images OK, \u001b[1;38;5;214m13/50\u001b[0m are in progress and \u001b[1;31m1\u001b[0m have faile\u001b[1;32m10/90\u001b[0m images OK, \u001b[1;38;5;214m12/50\u001b[0m are in progress and \u001b[1;31m1\u001b[0m have failed\u001b[1;32m10/90\u001b[0m images OK, \u001b[1;38;5;214m13/50\u001b[0m are in progress and \u001b[1;31m1\u001b[0m have failed\u001b[1;32m12/90\u001b[0m images OK, \u001b[1;38;5;214m12/50\u001b[0m are in progress and \u001b[1;31m1\u001b[0m have failed\u001b[1;32m12/90\u001b[0m images OK, \u001b[1;38;5;214m13/50\u001b[0m are in progress and \u001b[1;31m1\u001b[0m have failed\u001b[1;32m13/90\u001b[0m images OK, \u001b[1;38;5;214m13/50\u001b[0m are in progress and \u001b[1;31m2\u001b[0m have failed\u001b[1;32m14/90\u001b[0m images OK, \u001b[1;38;5;214m13/50\u001b[0m are in progress and \u001b[1;31m2\u001b[0m have failed\u001b[1;32m14/90\u001b[0m images OK, \u001b[1;38;5;214m12/50\u001b[0m are in progress and \u001b[1;31m3\u001b[0m have failed\u001b[1;32m15/90\u001b[0m images OK, \u001b[1;38;5;214m12/50\u001b[0m are in progress and \u001b[1;31m3\u001b[0m have failed\u001b[1;32m16/90\u001b[0m images OK, \u001b[1;38;5;214m12/50\u001b[0m are in progress and \u001b[1;31m3\u001b[0m have failed\u001b[1;32m16/90\u001b[0m images OK, \u001b[1;38;5;214m13/50\u001b[0m are in progress and \u001b[1;31m3\u001b[0m have failed\u001b[1;32m17/90\u001b[0m images OK, \u001b[1;38;5;214m13/50\u001b[0m are in progress and \u001b[1;31m3\u001b[0m have failed\u001b[1;32m18/90\u001b[0m images OK, \u001b[1;38;5;214m13/50\u001b[0m are in progress and \u001b[1;31m3\u001b[0m have failed\u001b[1;32m20/90\u001b[0m images OK, \u001b[1;38;5;214m12/50\u001b[0m are in progress and \u001b[1;31m3\u001b[0m have failed\u001b[1;32m20/90\u001b[0m images OK, \u001b[1;38;5;214m13/50\u001b[0m are in progress and \u001b[1;31m3\u001b[0m have failed\u001b[1;32m20/90\u001b[0m images OK, \u001b[1;38;5;214m14/50\u001b[0m are in progress and \u001b[1;31m3\u001b[0m have failed\u001b[1;32m20/90\u001b[0m images OK, \u001b[1;38;5;214m15/50\u001b[0m are in progress and \u001b[1;31m3\u001b[0m have failed\u001b[1;32m20/90\u001b[0m images OK, \u001b[1;38;5;214m15/50\u001b[0m are in progress and \u001b[1;31m4\u001b[0m have failed\u001b[1;32m20/90\u001b[0m images OK, \u001b[1;38;5;214m16/50\u001b[0m are in progress and \u001b[1;31m5\u001b[0m have failed\u001b[1;32m21/90\u001b[0m images OK, \u001b[1;38;5;214m16/50\u001b[0m are in progress and \u001b[1;31m5\u001b[0m have failed\u001b[1;32m21/90\u001b[0m images OK, \u001b[1;38;5;214m17/50\u001b[0m are in progress and \u001b[1;31m5\u001b[0m have failed\u001b[1;32m22/90\u001b[0m images OK, \u001b[1;38;5;214m16/50\u001b[0m are in progress and \u001b[1;31m6\u001b[0m have failed\u001b[1;32m22/90\u001b[0m images OK, \u001b[1;38;5;214m17/50\u001b[0m are in progress and \u001b[1;31m6\u001b[0m have failed\u001b[1;32m23/90\u001b[0m images OK, \u001b[1;38;5;214m17/50\u001b[0m are in progress and \u001b[1;31m6\u001b[0m have failed\u001b[1;32m23/90\u001b[0m images OK, \u001b[1;38;5;214m18/50\u001b[0m are in progress and \u001b[1;31m6\u001b[0m have failed\u001b[1;32m23/90\u001b[0m images OK, \u001b[1;38;5;214m19/50\u001b[0m are in progress and \u001b[1;31m6\u001b[0m have failed\u001b[1;32m26/90\u001b[0m images OK, \u001b[1;38;5;214m18/50\u001b[0m are in progress and \u001b[1;31m6\u001b[0m have failed\u001b[1;32m28/90\u001b[0m images OK, \u001b[1;38;5;214m16/50\u001b[0m are in progress and \u001b[1;31m6\u001b[0m have failed\u001b[1;32m28/90\u001b[0m images OK, \u001b[1;38;5;214m17/50\u001b[0m are in progress and \u001b[1;31m6\u001b[0m have failed\u001b[1;32m29/90\u001b[0m images OK, \u001b[1;38;5;214m16/50\u001b[0m are in progress and \u001b[1;31m7\u001b[0m have failed\u001b[1;32m29/90\u001b[0m images OK, \u001b[1;38;5;214m17/50\u001b[0m are in progress and \u001b[1;31m7\u001b[0m have failed\u001b[1;32m29/90\u001b[0m images OK, \u001b[1;38;5;214m17/50\u001b[0m are in progress and \u001b[1;31m8\u001b[0m have failed\u001b[1;32m29/90\u001b[0m images OK, \u001b[1;38;5;214m18/50\u001b[0m are in progress and \u001b[1;31m8\u001b[0m have failed\u001b[1;32m30/90\u001b[0m images OK, \u001b[1;38;5;214m18/50\u001b[0m are in progress and \u001b[1;31m8\u001b[0m have failed\u001b[1;32m31/90\u001b[0m images OK, \u001b[1;38;5;214m18/50\u001b[0m are in progress and \u001b[1;31m8\u001b[0m have failed\u001b[1;32m31/90\u001b[0m images OK, \u001b[1;38;5;214m19/50\u001b[0m are in progress and \u001b[1;31m8\u001b[0m have failed\u001b[1;32m31/90\u001b[0m images OK, \u001b[1;38;5;214m20/50\u001b[0m are in progress and \u001b[1;31m8\u001b[0m have failed\u001b[1;32m33/90\u001b[0m images OK, \u001b[1;38;5;214m19/50\u001b[0m are in progress and \u001b[1;31m8\u001b[0m have failed\u001b[1;32m34/90\u001b[0m images OK, \u001b[1;38;5;214m20/50\u001b[0m are in progress and \u001b[1;31m9\u001b[0m have failed\u001b[1;32m35/90\u001b[0m images OK, \u001b[1;38;5;214m18/50\u001b[0m are in progress and \u001b[1;31m9\u001b[0m have failed\u001b[1;32m37/90\u001b[0m images OK, \u001b[1;38;5;214m17/50\u001b[0m are in progress and \u001b[1;31m9\u001b[0m have failed\u001b[1;32m38/90\u001b[0m images OK, \u001b[1;38;5;214m17/50\u001b[0m are in progress and \u001b[1;31m9\u001b[0m have failed\u001b[1;32m38/90\u001b[0m images OK, \u001b[1;38;5;214m18/50\u001b[0m are in progress and \u001b[1;31m9\u001b[0m have failed\u001b[1;32m40/90\u001b[0m images OK, \u001b[1;38;5;214m17/50\u001b[0m are in progress and \u001b[1;31m9\u001b[0m have failed\u001b[1;32m40/90\u001b[0m images OK, \u001b[1;38;5;214m18/50\u001b[0m are in progress and \u001b[1;31m9\u001b[0m have failed\u001b[1;32m40/90\u001b[0m images OK, \u001b[1;38;5;214m19/50\u001b[0m are in progress and \u001b[1;31m9\u001b[0m have failed\u001b[1;32m40/90\u001b[0m images OK, \u001b[1;38;5;214m20/50\u001b[0m are in progress and \u001b[1;31m9\u001b[0m have failed\u001b[1;32m42/90\u001b[0m images OK, \u001b[1;38;5;214m19/50\u001b[0m are in progress and \u001b[1;31m9\u001b[0m have failed\u001b[1;32m44/90\u001b[0m images OK, \u001b[1;38;5;214m18/50\u001b[0m are in progress and \u001b[1;31m9\u001b[0m have failed\u001b[1;32m44/90\u001b[0m images OK, \u001b[1;38;5;214m19/50\u001b[0m are in progress and \u001b[1;31m9\u001b[0m have failed\u001b[1;32m45/90\u001b[0m images OK, \u001b[1;38;5;214m19/50\u001b[0m are in progress and \u001b[1;31m9\u001b[0m have failed\u001b[1;32m45/90\u001b[0m images OK, \u001b[1;38;5;214m20/50\u001b[0m are in progress and \u001b[1;31m9\u001b[0m have failed\u001b[1;32m45/90\u001b[0m images OK, \u001b[1;38;5;214m21/50\u001b[0m are in progress and \u001b[1;31m9\u001b[0m have failed\u001b[1;32m46/90\u001b[0m images OK, \u001b[1;38;5;214m21/50\u001b[0m are in progress and \u001b[1;31m9\u001b[0m have failed\u001b[1;32m46/90\u001b[0m images OK, \u001b[1;38;5;214m21/50\u001b[0m are in progress and \u001b[1;31m10\u001b[0m have faile\u001b[1;32m47/90\u001b[0m images OK, \u001b[1;38;5;214m20/50\u001b[0m are in progress and \u001b[1;31m11\u001b[0m have faile\u001b[1;32m47/90\u001b[0m images OK, \u001b[1;38;5;214m21/50\u001b[0m are in progress and \u001b[1;31m11\u001b[0m have faile\u001b[1;32m48/90\u001b[0m images OK, \u001b[1;38;5;214m21/50\u001b[0m are in progress and \u001b[1;31m11\u001b[0m have faile\u001b[1;32m48/90\u001b[0m images OK, \u001b[1;38;5;214m22/50\u001b[0m are in progress and \u001b[1;31m11\u001b[0m have faile\u001b[1;32m48/90\u001b[0m images OK, \u001b[1;38;5;214m23/50\u001b[0m are in progress and \u001b[1;31m11\u001b[0m have faile\u001b[1;32m48/90\u001b[0m images OK, \u001b[1;38;5;214m24/50\u001b[0m are in progress and \u001b[1;31m11\u001b[0m have faile\u001b[1;32m48/90\u001b[0m images OK, \u001b[1;38;5;214m25/50\u001b[0m are in progress and \u001b[1;31m11\u001b[0m have faile\u001b[1;32m49/90\u001b[0m images OK, \u001b[1;38;5;214m25/50\u001b[0m are in progress and \u001b[1;31m11\u001b[0m have faile\u001b[1;32m50/90\u001b[0m images OK, \u001b[1;38;5;214m25/50\u001b[0m are in progress and \u001b[1;31m11\u001b[0m have faile\u001b[1;32m51/90\u001b[0m images OK, \u001b[1;38;5;214m26/50\u001b[0m are in progress and \u001b[1;31m11\u001b[0m have faile\u001b[1;32m51/90\u001b[0m images OK, \u001b[1;38;5;214m27/50\u001b[0m are in progress and \u001b[1;31m11\u001b[0m have faile\u001b[1;32m51/90\u001b[0m images OK, \u001b[1;38;5;214m28/50\u001b[0m are in progress and \u001b[1;31m11\u001b[0m have faile\u001b[1;32m51/90\u001b[0m images OK, \u001b[1;38;5;214m27/50\u001b[0m are in progress and \u001b[1;31m12\u001b[0m have faile\u001b[1;32m53/90\u001b[0m images OK, \u001b[1;38;5;214m25/50\u001b[0m are in progress and \u001b[1;31m12\u001b[0m have faile\u001b[1;32m54/90\u001b[0m images OK, \u001b[1;38;5;214m24/50\u001b[0m are in progress and \u001b[1;31m12\u001b[0m have failed "
     ]
    },
    {
     "name": "stdout",
     "output_type": "stream",
     "text": [
      "\u001b[1;32m55/90\u001b[0m images OK, \u001b[1;38;5;214m23/50\u001b[0m are in progress and \u001b[1;31m12\u001b[0m have faile\u001b[1;32m56/90\u001b[0m images OK, \u001b[1;38;5;214m22/50\u001b[0m are in progress and \u001b[1;31m12\u001b[0m have faile\u001b[1;32m57/90\u001b[0m images OK, \u001b[1;38;5;214m21/50\u001b[0m are in progress and \u001b[1;31m12\u001b[0m have faile\u001b[1;32m58/90\u001b[0m images OK, \u001b[1;38;5;214m21/50\u001b[0m are in progress and \u001b[1;31m12\u001b[0m have faile\u001b[1;32m60/90\u001b[0m images OK, \u001b[1;38;5;214m18/50\u001b[0m are in progress and \u001b[1;31m12\u001b[0m have faile\u001b[1;32m61/90\u001b[0m images OK, \u001b[1;38;5;214m17/50\u001b[0m are in progress and \u001b[1;31m12\u001b[0m have faile\u001b[1;32m62/90\u001b[0m images OK, \u001b[1;38;5;214m16/50\u001b[0m are in progress and \u001b[1;31m12\u001b[0m have faile\u001b[1;32m63/90\u001b[0m images OK, \u001b[1;38;5;214m15/50\u001b[0m are in progress and \u001b[1;31m12\u001b[0m have faile\u001b[1;32m64/90\u001b[0m images OK, \u001b[1;38;5;214m14/50\u001b[0m are in progress and \u001b[1;31m12\u001b[0m have faile\u001b[1;32m65/90\u001b[0m images OK, \u001b[1;38;5;214m13/50\u001b[0m are in progress and \u001b[1;31m12\u001b[0m have faile\u001b[1;32m67/90\u001b[0m images OK, \u001b[1;38;5;214m12/50\u001b[0m are in progress and \u001b[1;31m12\u001b[0m have faile\u001b[1;32m67/90\u001b[0m images OK, \u001b[1;38;5;214m11/50\u001b[0m are in progress and \u001b[1;31m12\u001b[0m have faile\u001b[1;32m68/90\u001b[0m images OK, \u001b[1;38;5;214m11/50\u001b[0m are in progress and \u001b[1;31m12\u001b[0m have faile\u001b[1;32m68/90\u001b[0m images OK, \u001b[1;38;5;214m10/50\u001b[0m are in progress and \u001b[1;31m12\u001b[0m have faile\u001b[1;32m69/90\u001b[0m images OK, \u001b[1;38;5;214m9/50\u001b[0m are in progress and \u001b[1;31m12\u001b[0m have failed\u001b[1;32m70/90\u001b[0m images OK, \u001b[1;38;5;214m8/50\u001b[0m are in progress and \u001b[1;31m12\u001b[0m have failed\u001b[1;32m71/90\u001b[0m images OK, \u001b[1;38;5;214m7/50\u001b[0m are in progress and \u001b[1;31m12\u001b[0m have failed\u001b[1;32m72/90\u001b[0m images OK, \u001b[1;38;5;214m6/50\u001b[0m are in progress and \u001b[1;31m12\u001b[0m have failed\u001b[1;32m73/90\u001b[0m images OK, \u001b[1;38;5;214m5/50\u001b[0m are in progress and \u001b[1;31m12\u001b[0m have failed\u001b[1;32m74/90\u001b[0m images OK, \u001b[1;38;5;214m4/50\u001b[0m are in progress and \u001b[1;31m12\u001b[0m have failed\u001b[1;32m75/90\u001b[0m images OK, \u001b[1;38;5;214m3/50\u001b[0m are in progress and \u001b[1;31m12\u001b[0m have failed\u001b[1;32m76/90\u001b[0m images OK, \u001b[1;38;5;214m2/50\u001b[0m are in progress and \u001b[1;31m12\u001b[0m have failed\u001b[1;32m78/90\u001b[0m images OK, \u001b[1;38;5;214m1/50\u001b[0m are in progress and \u001b[1;31m12\u001b[0m have failed\u001b[1;32m78/90\u001b[0m images OK and \u001b[1;31m12\u001b[0m failed                           \u001b[1;31mlinks list exhausted!\u001b[0m\n",
      "**download_images** : /gpfs/home/s4s004/vanstee/2020-05-wmla/wmla-learning-path/googliser/googliser.sh --o /gpfs/home/s4s004/vanstee/2020-05-wmla/images/train/people_skateboarding --phrase \"people skateboarding\" --parallel 50 --upper-size 500000 --lower-size 2000  -n 200 --format jpg --timeout 15 --safesearch-off \n",
      " \u001b[1mgoogliser.sh\u001b[0m v:200212 PID:116169\n",
      "\n",
      "   \u001b[1;34mG\u001b[0m\u001b[1;31mo\u001b[0m\u001b[1;38;5;214mo\u001b[0m\u001b[1;34mg\u001b[0m\u001b[1;32ml\u001b[0m\u001b[1;31me\u001b[0m: \u001b[1;32m0/10\u001b[0m web pages OK, \u001b[1;38;5;214m1/10\u001b[0m are in progres\u001b[1;32m0/10\u001b[0m web pages OK, \u001b[1;38;5;214m2/10\u001b[0m are in progres\u001b[1;32m0/10\u001b[0m web pages OK, \u001b[1;38;5;214m3/10\u001b[0m are in progres\u001b[1;32m0/10\u001b[0m web pages OK, \u001b[1;38;5;214m4/10\u001b[0m are in progres\u001b[1;32m0/10\u001b[0m web pages OK, \u001b[1;38;5;214m5/10\u001b[0m are in progres\u001b[1;32m0/10\u001b[0m web pages OK, \u001b[1;38;5;214m6/10\u001b[0m are in progres\u001b[1;32m0/10\u001b[0m web pages OK, \u001b[1;38;5;214m7/10\u001b[0m are in progres\u001b[1;32m0/10\u001b[0m web pages OK, \u001b[1;38;5;214m8/10\u001b[0m are in progres\u001b[1;32m0/10\u001b[0m web pages OK, \u001b[1;38;5;214m9/10\u001b[0m are in progres\u001b[1;32m0/10\u001b[0m web pages OK, \u001b[1;38;5;214m10/10\u001b[0m are in progress\u001b[1;32m10\u001b[0m web pages OK                         \n",
      "    links: \u001b[1;32m84\u001b[0m \n",
      " download: \u001b[1;32m0/84\u001b[0m images OK\u001b[1;32m0/84\u001b[0m images OK, \u001b[1;38;5;214m1/50\u001b[0m are in progress\u001b[1;32m0/84\u001b[0m images OK, \u001b[1;38;5;214m2/50\u001b[0m are in progress\u001b[1;32m0/84\u001b[0m images OK, \u001b[1;38;5;214m3/50\u001b[0m are in progress\u001b[1;32m0/84\u001b[0m images OK, \u001b[1;38;5;214m4/50\u001b[0m are in progress\u001b[1;32m0/84\u001b[0m images OK, \u001b[1;38;5;214m5/50\u001b[0m are in progress\u001b[1;32m0/84\u001b[0m images OK, \u001b[1;38;5;214m6/50\u001b[0m are in progress\u001b[1;32m0/84\u001b[0m images OK, \u001b[1;38;5;214m7/50\u001b[0m are in progress\u001b[1;32m0/84\u001b[0m images OK, \u001b[1;38;5;214m8/50\u001b[0m are in progress\u001b[1;32m0/84\u001b[0m images OK, \u001b[1;38;5;214m9/50\u001b[0m are in progress\u001b[1;32m0/84\u001b[0m images OK, \u001b[1;38;5;214m10/50\u001b[0m are in progres\u001b[1;32m0/84\u001b[0m images OK, \u001b[1;38;5;214m11/50\u001b[0m are in progres\u001b[1;32m0/84\u001b[0m images OK, \u001b[1;38;5;214m12/50\u001b[0m are in progres\u001b[1;32m1/84\u001b[0m images OK, \u001b[1;38;5;214m12/50\u001b[0m are in progres\u001b[1;32m2/84\u001b[0m images OK, \u001b[1;38;5;214m12/50\u001b[0m are in progres\u001b[1;32m2/84\u001b[0m images OK, \u001b[1;38;5;214m13/50\u001b[0m are in progres\u001b[1;32m2/84\u001b[0m images OK, \u001b[1;38;5;214m14/50\u001b[0m are in progres\u001b[1;32m3/84\u001b[0m images OK, \u001b[1;38;5;214m14/50\u001b[0m are in progres\u001b[1;32m4/84\u001b[0m images OK, \u001b[1;38;5;214m14/50\u001b[0m are in progres\u001b[1;32m5/84\u001b[0m images OK, \u001b[1;38;5;214m14/50\u001b[0m are in progres\u001b[1;32m5/84\u001b[0m images OK, \u001b[1;38;5;214m15/50\u001b[0m are in progres\u001b[1;32m6/84\u001b[0m images OK, \u001b[1;38;5;214m16/50\u001b[0m are in progres\u001b[1;32m8/84\u001b[0m images OK, \u001b[1;38;5;214m13/50\u001b[0m are in progress and \u001b[1;31m1\u001b[0m have faile\u001b[1;32m8/84\u001b[0m images OK, \u001b[1;38;5;214m14/50\u001b[0m are in progress and \u001b[1;31m1\u001b[0m have faile\u001b[1;32m8/84\u001b[0m images OK, \u001b[1;38;5;214m15/50\u001b[0m are in progress and \u001b[1;31m1\u001b[0m have faile\u001b[1;32m8/84\u001b[0m images OK, \u001b[1;38;5;214m16/50\u001b[0m are in progress and \u001b[1;31m1\u001b[0m have faile\u001b[1;32m9/84\u001b[0m images OK, \u001b[1;38;5;214m15/50\u001b[0m are in progress and \u001b[1;31m2\u001b[0m have faile\u001b[1;32m9/84\u001b[0m images OK, \u001b[1;38;5;214m16/50\u001b[0m are in progress and \u001b[1;31m2\u001b[0m have faile\u001b[1;32m10/84\u001b[0m images OK, \u001b[1;38;5;214m16/50\u001b[0m are in progress and \u001b[1;31m2\u001b[0m have failed\u001b[1;32m11/84\u001b[0m images OK, \u001b[1;38;5;214m16/50\u001b[0m are in progress and \u001b[1;31m2\u001b[0m have failed\u001b[1;32m12/84\u001b[0m images OK, \u001b[1;38;5;214m16/50\u001b[0m are in progress and \u001b[1;31m2\u001b[0m have failed\u001b[1;32m12/84\u001b[0m images OK, \u001b[1;38;5;214m14/50\u001b[0m are in progress and \u001b[1;31m5\u001b[0m have failed\u001b[1;32m12/84\u001b[0m images OK, \u001b[1;38;5;214m15/50\u001b[0m are in progress and \u001b[1;31m5\u001b[0m have failed\u001b[1;32m13/84\u001b[0m images OK, \u001b[1;38;5;214m14/50\u001b[0m are in progress and \u001b[1;31m6\u001b[0m have failed\u001b[1;32m14/84\u001b[0m images OK, \u001b[1;38;5;214m13/50\u001b[0m are in progress and \u001b[1;31m7\u001b[0m have failed\u001b[1;32m15/84\u001b[0m images OK, \u001b[1;38;5;214m13/50\u001b[0m are in progress and \u001b[1;31m7\u001b[0m have failed\u001b[1;32m15/84\u001b[0m images OK, \u001b[1;38;5;214m14/50\u001b[0m are in progress and \u001b[1;31m7\u001b[0m have failed\u001b[1;32m15/84\u001b[0m images OK, \u001b[1;38;5;214m15/50\u001b[0m are in progress and \u001b[1;31m7\u001b[0m have failed\u001b[1;32m17/84\u001b[0m images OK, \u001b[1;38;5;214m14/50\u001b[0m are in progress and \u001b[1;31m7\u001b[0m have failed\u001b[1;32m17/84\u001b[0m images OK, \u001b[1;38;5;214m15/50\u001b[0m are in progress and \u001b[1;31m7\u001b[0m have failed\u001b[1;32m17/84\u001b[0m images OK, \u001b[1;38;5;214m16/50\u001b[0m are in progress and \u001b[1;31m7\u001b[0m have failed\u001b[1;32m19/84\u001b[0m images OK, \u001b[1;38;5;214m15/50\u001b[0m are in progress and \u001b[1;31m7\u001b[0m have failed\u001b[1;32m20/84\u001b[0m images OK, \u001b[1;38;5;214m15/50\u001b[0m are in progress and \u001b[1;31m7\u001b[0m have failed\u001b[1;32m20/84\u001b[0m images OK, \u001b[1;38;5;214m16/50\u001b[0m are in progress and \u001b[1;31m7\u001b[0m have failed\u001b[1;32m20/84\u001b[0m images OK, \u001b[1;38;5;214m17/50\u001b[0m are in progress and \u001b[1;31m7\u001b[0m have failed\u001b[1;32m22/84\u001b[0m images OK, \u001b[1;38;5;214m17/50\u001b[0m are in progress and \u001b[1;31m8\u001b[0m have failed\u001b[1;32m22/84\u001b[0m images OK, \u001b[1;38;5;214m16/50\u001b[0m are in progress and \u001b[1;31m8\u001b[0m have failed\u001b[1;32m22/84\u001b[0m images OK, \u001b[1;38;5;214m16/50\u001b[0m are in progress and \u001b[1;31m9\u001b[0m have failed\u001b[1;32m25/84\u001b[0m images OK, \u001b[1;38;5;214m14/50\u001b[0m are in progress and \u001b[1;31m9\u001b[0m have failed\u001b[1;32m25/84\u001b[0m images OK, \u001b[1;38;5;214m14/50\u001b[0m are in progress and \u001b[1;31m10\u001b[0m have faile\u001b[1;32m25/84\u001b[0m images OK, \u001b[1;38;5;214m15/50\u001b[0m are in progress and \u001b[1;31m10\u001b[0m have faile\u001b[1;32m25/84\u001b[0m images OK, \u001b[1;38;5;214m16/50\u001b[0m are in progress and \u001b[1;31m10\u001b[0m have faile\u001b[1;32m25/84\u001b[0m images OK, \u001b[1;38;5;214m17/50\u001b[0m are in progress and \u001b[1;31m10\u001b[0m have faile\u001b[1;32m25/84\u001b[0m images OK, \u001b[1;38;5;214m18/50\u001b[0m are in progress and \u001b[1;31m10\u001b[0m have faile\u001b[1;32m26/84\u001b[0m images OK, \u001b[1;38;5;214m18/50\u001b[0m are in progress and \u001b[1;31m10\u001b[0m have faile\u001b[1;32m27/84\u001b[0m images OK, \u001b[1;38;5;214m18/50\u001b[0m are in progress and \u001b[1;31m10\u001b[0m have faile\u001b[1;32m27/84\u001b[0m images OK, \u001b[1;38;5;214m19/50\u001b[0m are in progress and \u001b[1;31m10\u001b[0m have faile\u001b[1;32m28/84\u001b[0m images OK, \u001b[1;38;5;214m20/50\u001b[0m are in progress and \u001b[1;31m11\u001b[0m have faile\u001b[1;32m28/84\u001b[0m images OK, \u001b[1;38;5;214m19/50\u001b[0m are in progress and \u001b[1;31m11\u001b[0m have faile\u001b[1;32m29/84\u001b[0m images OK, \u001b[1;38;5;214m19/50\u001b[0m are in progress and \u001b[1;31m11\u001b[0m have faile\u001b[1;32m30/84\u001b[0m images OK, \u001b[1;38;5;214m19/50\u001b[0m are in progress and \u001b[1;31m11\u001b[0m have faile\u001b[1;32m30/84\u001b[0m images OK, \u001b[1;38;5;214m20/50\u001b[0m are in progress and \u001b[1;31m11\u001b[0m have faile\u001b[1;32m31/84\u001b[0m images OK, \u001b[1;38;5;214m20/50\u001b[0m are in progress and \u001b[1;31m11\u001b[0m have faile\u001b[1;32m33/84\u001b[0m images OK, \u001b[1;38;5;214m19/50\u001b[0m are in progress and \u001b[1;31m11\u001b[0m have faile\u001b[1;32m33/84\u001b[0m images OK, \u001b[1;38;5;214m20/50\u001b[0m are in progress and \u001b[1;31m11\u001b[0m have faile\u001b[1;32m33/84\u001b[0m images OK, \u001b[1;38;5;214m21/50\u001b[0m are in progress and \u001b[1;31m11\u001b[0m have faile\u001b[1;32m34/84\u001b[0m images OK, \u001b[1;38;5;214m21/50\u001b[0m are in progress and \u001b[1;31m11\u001b[0m have faile\u001b[1;32m35/84\u001b[0m images OK, \u001b[1;38;5;214m21/50\u001b[0m are in progress and \u001b[1;31m11\u001b[0m have faile\u001b[1;32m35/84\u001b[0m images OK, \u001b[1;38;5;214m22/50\u001b[0m are in progress and \u001b[1;31m11\u001b[0m have faile\u001b[1;32m37/84\u001b[0m images OK, \u001b[1;38;5;214m21/50\u001b[0m are in progress and \u001b[1;31m11\u001b[0m have faile\u001b[1;32m37/84\u001b[0m images OK, \u001b[1;38;5;214m22/50\u001b[0m are in progress and \u001b[1;31m11\u001b[0m have faile\u001b[1;32m38/84\u001b[0m images OK, \u001b[1;38;5;214m22/50\u001b[0m are in progress and \u001b[1;31m11\u001b[0m have faile\u001b[1;32m38/84\u001b[0m images OK, \u001b[1;38;5;214m23/50\u001b[0m are in progress and \u001b[1;31m11\u001b[0m have faile\u001b[1;32m39/84\u001b[0m images OK, \u001b[1;38;5;214m23/50\u001b[0m are in progress and \u001b[1;31m11\u001b[0m have faile\u001b[1;32m40/84\u001b[0m images OK, \u001b[1;38;5;214m23/50\u001b[0m are in progress and \u001b[1;31m11\u001b[0m have faile\u001b[1;32m40/84\u001b[0m images OK, \u001b[1;38;5;214m24/50\u001b[0m are in progress and \u001b[1;31m11\u001b[0m have faile\u001b[1;32m40/84\u001b[0m images OK, \u001b[1;38;5;214m25/50\u001b[0m are in progress and \u001b[1;31m11\u001b[0m have faile\u001b[1;32m41/84\u001b[0m images OK, \u001b[1;38;5;214m25/50\u001b[0m are in progress and \u001b[1;31m11\u001b[0m have faile\u001b[1;32m41/84\u001b[0m images OK, \u001b[1;38;5;214m25/50\u001b[0m are in progress and \u001b[1;31m12\u001b[0m have faile\u001b[1;32m42/84\u001b[0m images OK, \u001b[1;38;5;214m25/50\u001b[0m are in progress and \u001b[1;31m12\u001b[0m have faile\u001b[1;32m44/84\u001b[0m images OK, \u001b[1;38;5;214m24/50\u001b[0m are in progress and \u001b[1;31m12\u001b[0m have faile\u001b[1;32m44/84\u001b[0m images OK, \u001b[1;38;5;214m25/50\u001b[0m are in progress and \u001b[1;31m12\u001b[0m have faile\u001b[1;32m45/84\u001b[0m images OK, \u001b[1;38;5;214m25/50\u001b[0m are in progress and \u001b[1;31m12\u001b[0m have faile\u001b[1;32m45/84\u001b[0m images OK, \u001b[1;38;5;214m26/50\u001b[0m are in progress and \u001b[1;31m12\u001b[0m have faile\u001b[1;32m45/84\u001b[0m images OK, \u001b[1;38;5;214m27/50\u001b[0m are in progress and \u001b[1;31m12\u001b[0m have faile\u001b[1;32m46/84\u001b[0m images OK, \u001b[1;38;5;214m26/50\u001b[0m are in progress and \u001b[1;31m12\u001b[0m have faile\u001b[1;32m47/84\u001b[0m images OK, \u001b[1;38;5;214m25/50\u001b[0m are in progress and \u001b[1;31m12\u001b[0m have faile\u001b[1;32m48/84\u001b[0m images OK, \u001b[1;38;5;214m25/50\u001b[0m are in progress and \u001b[1;31m12\u001b[0m have faile\u001b[1;32m49/84\u001b[0m images OK, \u001b[1;38;5;214m24/50\u001b[0m are in progress and \u001b[1;31m12\u001b[0m have faile\u001b[1;32m49/84\u001b[0m images OK, \u001b[1;38;5;214m23/50\u001b[0m are in progress and \u001b[1;31m12\u001b[0m have faile\u001b[1;32m50/84\u001b[0m images OK, \u001b[1;38;5;214m22/50\u001b[0m are in progress and \u001b[1;31m12\u001b[0m have faile\u001b[1;32m53/84\u001b[0m images OK, \u001b[1;38;5;214m19/50\u001b[0m are in progress and \u001b[1;31m13\u001b[0m have faile\u001b[1;32m53/84\u001b[0m images OK, \u001b[1;38;5;214m18/50\u001b[0m are in progress and \u001b[1;31m13\u001b[0m have faile\u001b[1;32m54/84\u001b[0m images OK, \u001b[1;38;5;214m17/50\u001b[0m are in progress and \u001b[1;31m13\u001b[0m have failed \u001b[1;32m54/84\u001b[0m images OK, \u001b[1;38;5;214m17/50\u001b[0m are in progress and \u001b[1;31m14\u001b[0m have faile\u001b[1;32m54/84\u001b[0m images OK, \u001b[1;38;5;214m16/50\u001b[0m are in progress and \u001b[1;31m14\u001b[0m have faile\u001b[1;32m55/84\u001b[0m images OK, \u001b[1;38;5;214m15/50\u001b[0m are in progress and \u001b[1;31m14\u001b[0m have faile\u001b[1;32m56/84\u001b[0m images OK, \u001b[1;38;5;214m15/50\u001b[0m are in progress and \u001b[1;31m14\u001b[0m have faile\u001b[1;32m56/84\u001b[0m images OK, \u001b[1;38;5;214m14/50\u001b[0m are in progress and \u001b[1;31m14\u001b[0m have faile\u001b[1;32m57/84\u001b[0m images OK, \u001b[1;38;5;214m13/50\u001b[0m are in progress and \u001b[1;31m14\u001b[0m have faile\u001b[1;32m58/84\u001b[0m images OK, \u001b[1;38;5;214m12/50\u001b[0m are in progress and \u001b[1;31m14\u001b[0m have faile\u001b[1;32m59/84\u001b[0m images OK, \u001b[1;38;5;214m11/50\u001b[0m are in progress and \u001b[1;31m14\u001b[0m have faile\u001b[1;32m60/84\u001b[0m images OK, \u001b[1;38;5;214m10/50\u001b[0m are in progress and \u001b[1;31m14\u001b[0m have faile\u001b[1;32m61/84\u001b[0m images OK, \u001b[1;38;5;214m9/50\u001b[0m are in progress and \u001b[1;31m14\u001b[0m have failed\u001b[1;32m62/84\u001b[0m images OK, \u001b[1;38;5;214m8/50\u001b[0m are in progress and \u001b[1;31m14\u001b[0m have failed\u001b[1;32m63/84\u001b[0m images OK, \u001b[1;38;5;214m7/50\u001b[0m are in progress and \u001b[1;31m14\u001b[0m have failed\u001b[1;32m64/84\u001b[0m images OK, \u001b[1;38;5;214m6/50\u001b[0m are in progress and \u001b[1;31m14\u001b[0m have failed\u001b[1;32m64/84\u001b[0m images OK, \u001b[1;38;5;214m5/50\u001b[0m are in progress and \u001b[1;31m15\u001b[0m have failed\u001b[1;32m64/84\u001b[0m images OK, \u001b[1;38;5;214m4/50\u001b[0m are in progress and \u001b[1;31m16\u001b[0m have failed\u001b[1;32m64/84\u001b[0m images OK, \u001b[1;38;5;214m4/50\u001b[0m are in progress and \u001b[1;31m17\u001b[0m have failed\u001b[1;32m64/84\u001b[0m images OK, \u001b[1;38;5;214m3/50\u001b[0m are in progress and \u001b[1;31m17\u001b[0m have failed\u001b[1;32m64/84\u001b[0m images OK, \u001b[1;38;5;214m3/50\u001b[0m are in progress and \u001b[1;31m18\u001b[0m have failed\u001b[1;32m64/84\u001b[0m images OK, \u001b[1;38;5;214m2/50\u001b[0m are in progress and \u001b[1;31m18\u001b[0m have failed\u001b[1;32m64/84\u001b[0m images OK, \u001b[1;38;5;214m1/50\u001b[0m are in progress and \u001b[1;31m19\u001b[0m have failed\u001b[1;32m64/84\u001b[0m images OK and \u001b[1;31m20\u001b[0m failed                           \u001b[1;31mlinks list exhausted!\u001b[0m\n",
      "**download_images** : /gpfs/home/s4s004/vanstee/2020-05-wmla/wmla-learning-path/googliser/googliser.sh --o /gpfs/home/s4s004/vanstee/2020-05-wmla/images/train/people_on_bikes --phrase \"people on bikes\" --parallel 50 --upper-size 500000 --lower-size 2000  -n 200 --format jpg --timeout 15 --safesearch-off \n",
      " \u001b[1mgoogliser.sh\u001b[0m v:200212 PID:86397\n",
      "\n",
      "   \u001b[1;34mG\u001b[0m\u001b[1;31mo\u001b[0m\u001b[1;38;5;214mo\u001b[0m\u001b[1;34mg\u001b[0m\u001b[1;32ml\u001b[0m\u001b[1;31me\u001b[0m: \u001b[1;32m0/10\u001b[0m web pages OK, \u001b[1;38;5;214m1/10\u001b[0m are in progres\u001b[1;32m0/10\u001b[0m web pages OK, \u001b[1;38;5;214m2/10\u001b[0m are in progres\u001b[1;32m0/10\u001b[0m web pages OK, \u001b[1;38;5;214m3/10\u001b[0m are in progres\u001b[1;32m0/10\u001b[0m web pages OK, \u001b[1;38;5;214m4/10\u001b[0m are in progres\u001b[1;32m0/10\u001b[0m web pages OK, \u001b[1;38;5;214m5/10\u001b[0m are in progres\u001b[1;32m0/10\u001b[0m web pages OK, \u001b[1;38;5;214m6/10\u001b[0m are in progres\u001b[1;32m0/10\u001b[0m web pages OK, \u001b[1;38;5;214m7/10\u001b[0m are in progres\u001b[1;32m0/10\u001b[0m web pages OK, \u001b[1;38;5;214m8/10\u001b[0m are in progres\u001b[1;32m0/10\u001b[0m web pages OK, \u001b[1;38;5;214m9/10\u001b[0m are in progres\u001b[1;32m0/10\u001b[0m web pages OK, \u001b[1;38;5;214m10/10\u001b[0m are in progress\u001b[1;32m10\u001b[0m web pages OK                         \n",
      "    links: \u001b[1;32m85\u001b[0m \n"
     ]
    },
    {
     "name": "stdout",
     "output_type": "stream",
     "text": [
      " download: \u001b[1;32m0/85\u001b[0m images OK\u001b[1;32m0/85\u001b[0m images OK, \u001b[1;38;5;214m1/50\u001b[0m are in progress\u001b[1;32m0/85\u001b[0m images OK, \u001b[1;38;5;214m2/50\u001b[0m are in progress\u001b[1;32m0/85\u001b[0m images OK, \u001b[1;38;5;214m3/50\u001b[0m are in progress\u001b[1;32m0/85\u001b[0m images OK, \u001b[1;38;5;214m4/50\u001b[0m are in progress\u001b[1;32m0/85\u001b[0m images OK, \u001b[1;38;5;214m5/50\u001b[0m are in progress\u001b[1;32m0/85\u001b[0m images OK, \u001b[1;38;5;214m6/50\u001b[0m are in progress and \u001b[1;31m1\u001b[0m have failed\u001b[1;32m0/85\u001b[0m images OK, \u001b[1;38;5;214m7/50\u001b[0m are in progress and \u001b[1;31m1\u001b[0m have failed\u001b[1;32m0/85\u001b[0m images OK, \u001b[1;38;5;214m8/50\u001b[0m are in progress and \u001b[1;31m1\u001b[0m have failed\u001b[1;32m1/85\u001b[0m images OK, \u001b[1;38;5;214m8/50\u001b[0m are in progress and \u001b[1;31m1\u001b[0m have failed\u001b[1;32m1/85\u001b[0m images OK, \u001b[1;38;5;214m8/50\u001b[0m are in progress and \u001b[1;31m2\u001b[0m have failed\u001b[1;32m1/85\u001b[0m images OK, \u001b[1;38;5;214m9/50\u001b[0m are in progress and \u001b[1;31m2\u001b[0m have failed\u001b[1;32m2/85\u001b[0m images OK, \u001b[1;38;5;214m9/50\u001b[0m are in progress and \u001b[1;31m2\u001b[0m have failed\u001b[1;32m2/85\u001b[0m images OK, \u001b[1;38;5;214m10/50\u001b[0m are in progress and \u001b[1;31m2\u001b[0m have faile\u001b[1;32m4/85\u001b[0m images OK, \u001b[1;38;5;214m8/50\u001b[0m are in progress and \u001b[1;31m3\u001b[0m have failed\u001b[1;32m4/85\u001b[0m images OK, \u001b[1;38;5;214m9/50\u001b[0m are in progress and \u001b[1;31m3\u001b[0m have failed\u001b[1;32m5/85\u001b[0m images OK, \u001b[1;38;5;214m9/50\u001b[0m are in progress and \u001b[1;31m3\u001b[0m have failed\u001b[1;32m5/85\u001b[0m images OK, \u001b[1;38;5;214m10/50\u001b[0m are in progress and \u001b[1;31m3\u001b[0m have faile\u001b[1;32m5/85\u001b[0m images OK, \u001b[1;38;5;214m11/50\u001b[0m are in progress and \u001b[1;31m3\u001b[0m have faile\u001b[1;32m5/85\u001b[0m images OK, \u001b[1;38;5;214m12/50\u001b[0m are in progress and \u001b[1;31m3\u001b[0m have faile\u001b[1;32m5/85\u001b[0m images OK, \u001b[1;38;5;214m13/50\u001b[0m are in progress and \u001b[1;31m3\u001b[0m have faile\u001b[1;32m7/85\u001b[0m images OK, \u001b[1;38;5;214m12/50\u001b[0m are in progress and \u001b[1;31m3\u001b[0m have faile\u001b[1;32m7/85\u001b[0m images OK, \u001b[1;38;5;214m13/50\u001b[0m are in progress and \u001b[1;31m3\u001b[0m have faile\u001b[1;32m7/85\u001b[0m images OK, \u001b[1;38;5;214m14/50\u001b[0m are in progress and \u001b[1;31m3\u001b[0m have faile\u001b[1;32m8/85\u001b[0m images OK, \u001b[1;38;5;214m14/50\u001b[0m are in progress and \u001b[1;31m3\u001b[0m have faile\u001b[1;32m9/85\u001b[0m images OK, \u001b[1;38;5;214m14/50\u001b[0m are in progress and \u001b[1;31m3\u001b[0m have faile\u001b[1;32m9/85\u001b[0m images OK, \u001b[1;38;5;214m15/50\u001b[0m are in progress and \u001b[1;31m3\u001b[0m have faile\u001b[1;32m10/85\u001b[0m images OK, \u001b[1;38;5;214m15/50\u001b[0m are in progress and \u001b[1;31m3\u001b[0m have failed\u001b[1;32m10/85\u001b[0m images OK, \u001b[1;38;5;214m16/50\u001b[0m are in progress and \u001b[1;31m3\u001b[0m have failed\u001b[1;32m11/85\u001b[0m images OK, \u001b[1;38;5;214m16/50\u001b[0m are in progress and \u001b[1;31m3\u001b[0m have failed\u001b[1;32m11/85\u001b[0m images OK, \u001b[1;38;5;214m17/50\u001b[0m are in progress and \u001b[1;31m3\u001b[0m have failed\u001b[1;32m12/85\u001b[0m images OK, \u001b[1;38;5;214m17/50\u001b[0m are in progress and \u001b[1;31m3\u001b[0m have failed\u001b[1;32m13/85\u001b[0m images OK, \u001b[1;38;5;214m18/50\u001b[0m are in progress and \u001b[1;31m3\u001b[0m have failed\u001b[1;32m13/85\u001b[0m images OK, \u001b[1;38;5;214m17/50\u001b[0m are in progress and \u001b[1;31m4\u001b[0m have failed\u001b[1;32m13/85\u001b[0m images OK, \u001b[1;38;5;214m17/50\u001b[0m are in progress and \u001b[1;31m5\u001b[0m have failed\u001b[1;32m13/85\u001b[0m images OK, \u001b[1;38;5;214m18/50\u001b[0m are in progress and \u001b[1;31m5\u001b[0m have failed\u001b[1;32m13/85\u001b[0m images OK, \u001b[1;38;5;214m19/50\u001b[0m are in progress and \u001b[1;31m5\u001b[0m have failed\u001b[1;32m13/85\u001b[0m images OK, \u001b[1;38;5;214m20/50\u001b[0m are in progress and \u001b[1;31m5\u001b[0m have failed\u001b[1;32m13/85\u001b[0m images OK, \u001b[1;38;5;214m20/50\u001b[0m are in progress and \u001b[1;31m6\u001b[0m have failed\u001b[1;32m13/85\u001b[0m images OK, \u001b[1;38;5;214m21/50\u001b[0m are in progress and \u001b[1;31m6\u001b[0m have failed\u001b[1;32m13/85\u001b[0m images OK, \u001b[1;38;5;214m22/50\u001b[0m are in progress and \u001b[1;31m6\u001b[0m have failed\u001b[1;32m14/85\u001b[0m images OK, \u001b[1;38;5;214m22/50\u001b[0m are in progress and \u001b[1;31m6\u001b[0m have failed\u001b[1;32m14/85\u001b[0m images OK, \u001b[1;38;5;214m23/50\u001b[0m are in progress and \u001b[1;31m6\u001b[0m have failed\u001b[1;32m14/85\u001b[0m images OK, \u001b[1;38;5;214m24/50\u001b[0m are in progress and \u001b[1;31m6\u001b[0m have failed\u001b[1;32m16/85\u001b[0m images OK, \u001b[1;38;5;214m22/50\u001b[0m are in progress and \u001b[1;31m8\u001b[0m have failed\u001b[1;32m16/85\u001b[0m images OK, \u001b[1;38;5;214m23/50\u001b[0m are in progress and \u001b[1;31m8\u001b[0m have failed\u001b[1;32m16/85\u001b[0m images OK, \u001b[1;38;5;214m23/50\u001b[0m are in progress and \u001b[1;31m9\u001b[0m have failed\u001b[1;32m17/85\u001b[0m images OK, \u001b[1;38;5;214m23/50\u001b[0m are in progress and \u001b[1;31m9\u001b[0m have failed\u001b[1;32m17/85\u001b[0m images OK, \u001b[1;38;5;214m24/50\u001b[0m are in progress and \u001b[1;31m9\u001b[0m have failed\u001b[1;32m17/85\u001b[0m images OK, \u001b[1;38;5;214m24/50\u001b[0m are in progress and \u001b[1;31m10\u001b[0m have faile\u001b[1;32m18/85\u001b[0m images OK, \u001b[1;38;5;214m24/50\u001b[0m are in progress and \u001b[1;31m11\u001b[0m have faile\u001b[1;32m20/85\u001b[0m images OK, \u001b[1;38;5;214m23/50\u001b[0m are in progress and \u001b[1;31m11\u001b[0m have faile\u001b[1;32m20/85\u001b[0m images OK, \u001b[1;38;5;214m22/50\u001b[0m are in progress and \u001b[1;31m12\u001b[0m have faile\u001b[1;32m20/85\u001b[0m images OK, \u001b[1;38;5;214m23/50\u001b[0m are in progress and \u001b[1;31m12\u001b[0m have faile\u001b[1;32m21/85\u001b[0m images OK, \u001b[1;38;5;214m23/50\u001b[0m are in progress and \u001b[1;31m12\u001b[0m have faile\u001b[1;32m22/85\u001b[0m images OK, \u001b[1;38;5;214m22/50\u001b[0m are in progress and \u001b[1;31m13\u001b[0m have faile\u001b[1;32m24/85\u001b[0m images OK, \u001b[1;38;5;214m21/50\u001b[0m are in progress and \u001b[1;31m13\u001b[0m have faile\u001b[1;32m26/85\u001b[0m images OK, \u001b[1;38;5;214m19/50\u001b[0m are in progress and \u001b[1;31m14\u001b[0m have faile\u001b[1;32m26/85\u001b[0m images OK, \u001b[1;38;5;214m20/50\u001b[0m are in progress and \u001b[1;31m14\u001b[0m have faile\u001b[1;32m26/85\u001b[0m images OK, \u001b[1;38;5;214m21/50\u001b[0m are in progress and \u001b[1;31m14\u001b[0m have faile\u001b[1;32m27/85\u001b[0m images OK, \u001b[1;38;5;214m21/50\u001b[0m are in progress and \u001b[1;31m14\u001b[0m have faile\u001b[1;32m27/85\u001b[0m images OK, \u001b[1;38;5;214m22/50\u001b[0m are in progress and \u001b[1;31m14\u001b[0m have faile\u001b[1;32m27/85\u001b[0m images OK, \u001b[1;38;5;214m22/50\u001b[0m are in progress and \u001b[1;31m15\u001b[0m have faile\u001b[1;32m27/85\u001b[0m images OK, \u001b[1;38;5;214m23/50\u001b[0m are in progress and \u001b[1;31m15\u001b[0m have faile\u001b[1;32m28/85\u001b[0m images OK, \u001b[1;38;5;214m23/50\u001b[0m are in progress and \u001b[1;31m15\u001b[0m have faile\u001b[1;32m28/85\u001b[0m images OK, \u001b[1;38;5;214m24/50\u001b[0m are in progress and \u001b[1;31m15\u001b[0m have faile\u001b[1;32m28/85\u001b[0m images OK, \u001b[1;38;5;214m25/50\u001b[0m are in progress and \u001b[1;31m15\u001b[0m have faile\u001b[1;32m28/85\u001b[0m images OK, \u001b[1;38;5;214m26/50\u001b[0m are in progress and \u001b[1;31m15\u001b[0m have faile\u001b[1;32m29/85\u001b[0m images OK, \u001b[1;38;5;214m25/50\u001b[0m are in progress and \u001b[1;31m17\u001b[0m have faile\u001b[1;32m30/85\u001b[0m images OK, \u001b[1;38;5;214m24/50\u001b[0m are in progress and \u001b[1;31m17\u001b[0m have faile\u001b[1;32m31/85\u001b[0m images OK, \u001b[1;38;5;214m24/50\u001b[0m are in progress and \u001b[1;31m17\u001b[0m have faile\u001b[1;32m31/85\u001b[0m images OK, \u001b[1;38;5;214m25/50\u001b[0m are in progress and \u001b[1;31m17\u001b[0m have faile\u001b[1;32m31/85\u001b[0m images OK, \u001b[1;38;5;214m26/50\u001b[0m are in progress and \u001b[1;31m17\u001b[0m have faile\u001b[1;32m32/85\u001b[0m images OK, \u001b[1;38;5;214m26/50\u001b[0m are in progress and \u001b[1;31m17\u001b[0m have faile\u001b[1;32m32/85\u001b[0m images OK, \u001b[1;38;5;214m27/50\u001b[0m are in progress and \u001b[1;31m17\u001b[0m have faile\u001b[1;32m32/85\u001b[0m images OK, \u001b[1;38;5;214m27/50\u001b[0m are in progress and \u001b[1;31m18\u001b[0m have faile\u001b[1;32m34/85\u001b[0m images OK, \u001b[1;38;5;214m26/50\u001b[0m are in progress and \u001b[1;31m18\u001b[0m have faile\u001b[1;32m35/85\u001b[0m images OK, \u001b[1;38;5;214m25/50\u001b[0m are in progress and \u001b[1;31m19\u001b[0m have faile\u001b[1;32m35/85\u001b[0m images OK, \u001b[1;38;5;214m25/50\u001b[0m are in progress and \u001b[1;31m20\u001b[0m have faile\u001b[1;32m35/85\u001b[0m images OK, \u001b[1;38;5;214m25/50\u001b[0m are in progress and \u001b[1;31m21\u001b[0m have faile\u001b[1;32m37/85\u001b[0m images OK, \u001b[1;38;5;214m24/50\u001b[0m are in progress and \u001b[1;31m22\u001b[0m have faile\u001b[1;32m37/85\u001b[0m images OK, \u001b[1;38;5;214m24/50\u001b[0m are in progress and \u001b[1;31m24\u001b[0m have faile\u001b[1;32m37/85\u001b[0m images OK, \u001b[1;38;5;214m23/50\u001b[0m are in progress and \u001b[1;31m24\u001b[0m have faile\u001b[1;32m38/85\u001b[0m images OK, \u001b[1;38;5;214m23/50\u001b[0m are in progress and \u001b[1;31m24\u001b[0m have faile\u001b[1;32m40/85\u001b[0m images OK, \u001b[1;38;5;214m21/50\u001b[0m are in progress and \u001b[1;31m24\u001b[0m have faile\u001b[1;32m40/85\u001b[0m images OK, \u001b[1;38;5;214m19/50\u001b[0m are in progress and \u001b[1;31m26\u001b[0m have faile\u001b[1;32m41/85\u001b[0m images OK, \u001b[1;38;5;214m18/50\u001b[0m are in progress and \u001b[1;31m26\u001b[0m have faile\u001b[1;32m42/85\u001b[0m images OK, \u001b[1;38;5;214m17/50\u001b[0m are in progress and \u001b[1;31m26\u001b[0m have faile\u001b[1;32m44/85\u001b[0m images OK, \u001b[1;38;5;214m17/50\u001b[0m are in progress and \u001b[1;31m26\u001b[0m have faile\u001b[1;32m45/85\u001b[0m images OK, \u001b[1;38;5;214m15/50\u001b[0m are in progress and \u001b[1;31m26\u001b[0m have faile\u001b[1;32m45/85\u001b[0m images OK, \u001b[1;38;5;214m14/50\u001b[0m are in progress and \u001b[1;31m26\u001b[0m have failed "
     ]
    },
    {
     "name": "stdout",
     "output_type": "stream",
     "text": [
      "\u001b[1;32m46/85\u001b[0m images OK, \u001b[1;38;5;214m13/50\u001b[0m are in progress and \u001b[1;31m26\u001b[0m have faile\u001b[1;32m47/85\u001b[0m images OK, \u001b[1;38;5;214m12/50\u001b[0m are in progress and \u001b[1;31m26\u001b[0m have faile\u001b[1;32m48/85\u001b[0m images OK, \u001b[1;38;5;214m12/50\u001b[0m are in progress and \u001b[1;31m26\u001b[0m have faile\u001b[1;32m48/85\u001b[0m images OK, \u001b[1;38;5;214m11/50\u001b[0m are in progress and \u001b[1;31m26\u001b[0m have faile\u001b[1;32m49/85\u001b[0m images OK, \u001b[1;38;5;214m11/50\u001b[0m are in progress and \u001b[1;31m26\u001b[0m have faile\u001b[1;32m49/85\u001b[0m images OK, \u001b[1;38;5;214m10/50\u001b[0m are in progress and \u001b[1;31m26\u001b[0m have faile\u001b[1;32m50/85\u001b[0m images OK, \u001b[1;38;5;214m10/50\u001b[0m are in progress and \u001b[1;31m26\u001b[0m have faile\u001b[1;32m50/85\u001b[0m images OK, \u001b[1;38;5;214m9/50\u001b[0m are in progress and \u001b[1;31m26\u001b[0m have failed\u001b[1;32m51/85\u001b[0m images OK, \u001b[1;38;5;214m8/50\u001b[0m are in progress and \u001b[1;31m26\u001b[0m have failed\u001b[1;32m52/85\u001b[0m images OK, \u001b[1;38;5;214m7/50\u001b[0m are in progress and \u001b[1;31m26\u001b[0m have failed\u001b[1;32m53/85\u001b[0m images OK, \u001b[1;38;5;214m6/50\u001b[0m are in progress and \u001b[1;31m26\u001b[0m have failed\u001b[1;32m54/85\u001b[0m images OK, \u001b[1;38;5;214m5/50\u001b[0m are in progress and \u001b[1;31m26\u001b[0m have failed\u001b[1;32m55/85\u001b[0m images OK, \u001b[1;38;5;214m4/50\u001b[0m are in progress and \u001b[1;31m26\u001b[0m have failed\u001b[1;32m56/85\u001b[0m images OK, \u001b[1;38;5;214m3/50\u001b[0m are in progress and \u001b[1;31m26\u001b[0m have failed\u001b[1;32m57/85\u001b[0m images OK, \u001b[1;38;5;214m2/50\u001b[0m are in progress and \u001b[1;31m26\u001b[0m have failed\u001b[1;32m57/85\u001b[0m images OK, \u001b[1;38;5;214m1/50\u001b[0m are in progress and \u001b[1;31m27\u001b[0m have failed\u001b[1;32m57/85\u001b[0m images OK and \u001b[1;31m28\u001b[0m failed                           \u001b[1;31mlinks list exhausted!\u001b[0m\n",
      "**download_images** : Downloads complete!\n"
     ]
    }
   ],
   "source": [
    "# The code below will download files to train folder only to avoid duplicate downloads.  \n",
    "# We then move a few files over.  This can be done manually or programatically.  For our example\n",
    "# we will let FastAI do the work for us!\n",
    "\n",
    "def download_images(cfg):\n",
    "    utility_dir = cfg['repo_dir']\n",
    "    for d_p in cfg[\"d_partitions\"] : # train only for now ..\n",
    "        for cls in cfg[\"classes\"] :\n",
    "            current_dir =class_folder_name(cfg['image_dir'],d_p,cls)\n",
    "            #os.chdir(current_dir)\n",
    "            os.chdir(utility_dir)\n",
    "            command = googliser + \\\n",
    "                      \" --o {}\".format(current_dir) +\\\n",
    "                      \" --phrase \\\"{}\\\"\".format(cls) + \\\n",
    "                      \" --parallel 50 --upper-size 500000 --lower-size 2000 \" + \\\n",
    "                      \" -n {}\".format(cfg['num_images'][d_p]) + \\\n",
    "                      \" --format jpg --timeout 15 --safesearch-off \"\n",
    "            npt(command)\n",
    "            !{command}\n",
    "    npt(\"Downloads complete!\")\n",
    "download_images(cfg)"
   ]
  },
  {
   "cell_type": "code",
   "execution_count": 49,
   "metadata": {
    "ExecuteTime": {
     "end_time": "2020-05-24T15:39:53.982015Z",
     "start_time": "2020-05-24T15:39:53.952807Z"
    }
   },
   "outputs": [
    {
     "name": "stdout",
     "output_type": "stream",
     "text": [
      "**clean_up_bad_jpegs** : Search for Error files in /gpfs/home/s4s004/vanstee/2020-05-wmla/images......\n"
     ]
    },
    {
     "ename": "KeyError",
     "evalue": "'jpeginfo'",
     "output_type": "error",
     "traceback": [
      "\u001b[0;31m---------------------------------------------------------------------------\u001b[0m",
      "\u001b[0;31mKeyError\u001b[0m                                  Traceback (most recent call last)",
      "\u001b[0;32m<ipython-input-49-324d794cb8af>\u001b[0m in \u001b[0;36m<module>\u001b[0;34m\u001b[0m\n\u001b[1;32m     21\u001b[0m         \u001b[0mnprint\u001b[0m\u001b[0;34m(\u001b[0m\u001b[0mcommand\u001b[0m\u001b[0;34m)\u001b[0m\u001b[0;34m\u001b[0m\u001b[0;34m\u001b[0m\u001b[0m\n\u001b[1;32m     22\u001b[0m \u001b[0;34m\u001b[0m\u001b[0m\n\u001b[0;32m---> 23\u001b[0;31m \u001b[0mclean_up_bad_jpegs\u001b[0m\u001b[0;34m(\u001b[0m\u001b[0mcfg\u001b[0m\u001b[0;34m,\u001b[0m\u001b[0;34m[\u001b[0m\u001b[0;34m\"jpg\"\u001b[0m\u001b[0;34m,\u001b[0m\u001b[0;34m\"jpeg\"\u001b[0m\u001b[0;34m]\u001b[0m\u001b[0;34m)\u001b[0m\u001b[0;34m\u001b[0m\u001b[0;34m\u001b[0m\u001b[0m\n\u001b[0m\u001b[1;32m     24\u001b[0m \u001b[0;34m\u001b[0m\u001b[0m\n\u001b[1;32m     25\u001b[0m \u001b[0mremove_non_jpg\u001b[0m\u001b[0;34m(\u001b[0m\u001b[0mcfg\u001b[0m\u001b[0;34m,\u001b[0m\u001b[0;34m[\u001b[0m\u001b[0;34m\"png\"\u001b[0m\u001b[0;34m,\u001b[0m\u001b[0;34m\"webpm\"\u001b[0m\u001b[0;34m]\u001b[0m\u001b[0;34m)\u001b[0m\u001b[0;34m\u001b[0m\u001b[0;34m\u001b[0m\u001b[0m\n",
      "\u001b[0;32m<ipython-input-49-324d794cb8af>\u001b[0m in \u001b[0;36mclean_up_bad_jpegs\u001b[0;34m(cfg, ext_list)\u001b[0m\n\u001b[1;32m      6\u001b[0m         \u001b[0;31m# handle both jpg //jpeg\u001b[0m\u001b[0;34m\u001b[0m\u001b[0;34m\u001b[0m\u001b[0;34m\u001b[0m\u001b[0m\n\u001b[1;32m      7\u001b[0m         \u001b[0mcommand\u001b[0m \u001b[0;34m=\u001b[0m \u001b[0;34m\"find . -name \\\"*.{}\\\"\"\u001b[0m\u001b[0;34m.\u001b[0m\u001b[0mformat\u001b[0m\u001b[0;34m(\u001b[0m\u001b[0mextension\u001b[0m\u001b[0;34m)\u001b[0m \u001b[0;34m+\u001b[0m\u001b[0;31m \u001b[0m\u001b[0;31m\\\u001b[0m\u001b[0;34m\u001b[0m\u001b[0;34m\u001b[0m\u001b[0m\n\u001b[0;32m----> 8\u001b[0;31m           \u001b[0;34m\" | xargs -i {}\"\u001b[0m\u001b[0;34m.\u001b[0m\u001b[0mformat\u001b[0m\u001b[0;34m(\u001b[0m\u001b[0mcfg\u001b[0m\u001b[0;34m[\u001b[0m\u001b[0;34m\"jpeginfo\"\u001b[0m\u001b[0;34m]\u001b[0m\u001b[0;34m)\u001b[0m \u001b[0;34m+\u001b[0m\u001b[0;31m \u001b[0m\u001b[0;31m\\\u001b[0m\u001b[0;34m\u001b[0m\u001b[0;34m\u001b[0m\u001b[0m\n\u001b[0m\u001b[1;32m      9\u001b[0m           \u001b[0;34m\" -c {} | grep ERROR\"\u001b[0m\u001b[0;34m\u001b[0m\u001b[0;34m\u001b[0m\u001b[0m\n\u001b[1;32m     10\u001b[0m         \u001b[0mnprint\u001b[0m\u001b[0;34m(\u001b[0m\u001b[0;34m\"Running command : {}\"\u001b[0m\u001b[0;34m.\u001b[0m\u001b[0mformat\u001b[0m\u001b[0;34m(\u001b[0m\u001b[0mcommand\u001b[0m\u001b[0;34m)\u001b[0m\u001b[0;34m)\u001b[0m\u001b[0;34m\u001b[0m\u001b[0;34m\u001b[0m\u001b[0m\n",
      "\u001b[0;31mKeyError\u001b[0m: 'jpeginfo'"
     ]
    }
   ],
   "source": [
    "# clean with jpeginfo! \n",
    "def clean_up_bad_jpegs(cfg,ext_list):\n",
    "    for extension in ext_list:\n",
    "        os.chdir(cfg['image_dir'])\n",
    "        nprint(\"Search for Error files in {}......\".format(cfg['image_dir']))\n",
    "        # handle both jpg //jpeg\n",
    "        command = \"find . -name \\\"*.{}\\\"\".format(extension) + \\\n",
    "          \" | xargs -i {}\".format(cfg[\"jpeginfo\"]) + \\\n",
    "          \" -c {} | grep ERROR\"\n",
    "        nprint(\"Running command : {}\".format(command))\n",
    "        !{command}\n",
    "        nprint(\"Removing any error files listed above\")\n",
    "        command = command + ' | cut -d \" \" -f1 | xargs -i rm {} '\n",
    "        nprint(\"Running command : {}\".format(command))\n",
    "        !{command}\n",
    "        nprint(\"Done\")\n",
    "\n",
    "def remove_non_jpg(cfg,ext_list):\n",
    "    for extension in ext_list:\n",
    "        command = \"find . -name \\\"*.{extension}\\\"\"\n",
    "        nprint(command)\n",
    "    \n",
    "clean_up_bad_jpegs(cfg,[\"jpg\",\"jpeg\"])\n",
    "\n",
    "remove_non_jpg(cfg,[\"png\",\"webpm\"])"
   ]
  },
  {
   "cell_type": "code",
   "execution_count": 6,
   "metadata": {},
   "outputs": [
    {
     "name": "stdout",
     "output_type": "stream",
     "text": [
      "/tmp/CIFAR-10-images/test\n"
     ]
    }
   ],
   "source": [
    "cd ../test"
   ]
  },
  {
   "cell_type": "code",
   "execution_count": 7,
   "metadata": {},
   "outputs": [],
   "source": [
    "testing_path = %pwd"
   ]
  },
  {
   "cell_type": "markdown",
   "metadata": {},
   "source": [
    "#### Copy the Dataset Training and Testing folder"
   ]
  },
  {
   "cell_type": "code",
   "execution_count": 8,
   "metadata": {},
   "outputs": [
    {
     "name": "stdout",
     "output_type": "stream",
     "text": [
      "training_path: /tmp/CIFAR-10-images/train\n",
      "testing_path:/tmp/CIFAR-10-images/test\n"
     ]
    }
   ],
   "source": [
    "print ('training_path: ' + training_path)\n",
    "print ('testing_path:' + testing_path)"
   ]
  },
  {
   "cell_type": "markdown",
   "metadata": {},
   "source": [
    "### Download model"
   ]
  },
  {
   "cell_type": "code",
   "execution_count": 9,
   "metadata": {},
   "outputs": [
    {
     "name": "stdout",
     "output_type": "stream",
     "text": [
      "/tmp\n"
     ]
    }
   ],
   "source": [
    "cd ../.."
   ]
  },
  {
   "cell_type": "code",
   "execution_count": 10,
   "metadata": {},
   "outputs": [
    {
     "name": "stdout",
     "output_type": "stream",
     "text": [
      "Cloning into 'dli-1.2.3-tensorflow-samples'...\n",
      "remote: Enumerating objects: 308, done.\u001b[K\n",
      "remote: Counting objects: 100% (308/308), done.\u001b[K\n",
      "remote: Compressing objects: 100% (227/227), done.\u001b[K\n",
      "remote: Total 539 (delta 111), reused 252 (delta 79)\u001b[K\n",
      "Receiving objects: 100% (539/539), 448.54 KiB | 0 bytes/s, done.\n",
      "Resolving deltas: 100% (212/212), done.\n"
     ]
    }
   ],
   "source": [
    "!git clone https://us-south.git.cloud.ibm.com/ibmconductor-deep-learning-impact/dli-1.2.3-tensorflow-samples.git"
   ]
  },
  {
   "cell_type": "code",
   "execution_count": 11,
   "metadata": {},
   "outputs": [
    {
     "name": "stdout",
     "output_type": "stream",
     "text": [
      "/tmp/dli-1.2.3-tensorflow-samples/tensorflow-1.13.1/cifar10\n"
     ]
    }
   ],
   "source": [
    "cd dli-1.2.3-tensorflow-samples/tensorflow-1.13.1/cifar10"
   ]
  },
  {
   "cell_type": "code",
   "execution_count": 12,
   "metadata": {},
   "outputs": [
    {
     "name": "stdout",
     "output_type": "stream",
     "text": [
      "model_path: /tmp/dli-1.2.3-tensorflow-samples/tensorflow-1.13.1/cifar10\n"
     ]
    }
   ],
   "source": [
    "model_path = %pwd\n",
    "print ('model_path: '+ model_path)"
   ]
  },
  {
   "cell_type": "markdown",
   "metadata": {},
   "source": [
    "## Import Dataset\n",
    "<a id='Import-dataset'></a>\n",
    "[Back to top](#Contents)\n",
    "\n",
    "**Data Scientist could bring in their dataset and transform data set as common output format in Watson ML Accelerator.  In this scenario raw images are converted into TensorflowRecord format.**\n",
    "\n",
    "1. Lets swtich back to the browse:  https://IP_address:8443/platform\n",
    "2. At the top Left select **Workload** > **Spark** > **Deep Learning**\n",
    "3. Select the **Datasets** tab, and click **New**\n",
    "4. Retrieve dataset trainig_path and dataset testing_path\n",
    "\n",
    "\n",
    "\n"
   ]
  },
  {
   "cell_type": "code",
   "execution_count": 13,
   "metadata": {},
   "outputs": [
    {
     "name": "stdout",
     "output_type": "stream",
     "text": [
      "training_path: /tmp/CIFAR-10-images/train\n",
      "testing_path:/tmp/CIFAR-10-images/test\n"
     ]
    }
   ],
   "source": [
    "print ('training_path: ' + training_path)\n",
    "print ('testing_path:' + testing_path)"
   ]
  },
  {
   "cell_type": "markdown",
   "metadata": {},
   "source": [
    "5. Click **Images for Object Classification**. When presented with a dialog box, provide a unique name (lets use \"Cifar10\"!!!) and select the TFRecords for 'Dataset stores images in',  and then set the value of \"Training folder\" and \"Testing folder\" with the folder that contains the images obtained in the previous step (\"**/tmp/CIFAR-10-images/train**\" + \"**/tmp/CIFAR-10-images/train**\").  The other fields are fine to use with the default settings. When you're ready, click Create.\n",
    "\n",
    "<br>\n",
    "\n",
    "![](https://github.com/IBM/wmla-assets/raw/master/WMLA-learning-journey/image-classification-with-WMLA-UI/Shared-images/ImportDataset.png)"
   ]
  },
  {
   "cell_type": "code",
   "execution_count": 14,
   "metadata": {},
   "outputs": [],
   "source": [
    "### Remove dataset from the file system.   \n",
    "### Before proceeding to this step please ensure the Import Dataset is in FINISHED state\n",
    "\n",
    "!rm -rf /tmp/CIFAR-10-images\n",
    "!rm /tmp/CIFAR10-images.zip"
   ]
  },
  {
   "cell_type": "markdown",
   "metadata": {},
   "source": [
    "## Build the model\n",
    "\n",
    "<a id='Build-the-model'></a>\n",
    "[Back to top](#Contents)\n",
    "\n",
    "1. Select the Models tab and click **New** > **Add Location**\n",
    "2. Retrieve the model path\n"
   ]
  },
  {
   "cell_type": "code",
   "execution_count": 15,
   "metadata": {},
   "outputs": [
    {
     "name": "stdout",
     "output_type": "stream",
     "text": [
      "model_path: /tmp/dli-1.2.3-tensorflow-samples/tensorflow-1.13.1/cifar10\n"
     ]
    }
   ],
   "source": [
    "print ('model_path: '+ model_path)"
   ]
  },
  {
   "cell_type": "markdown",
   "metadata": {},
   "source": [
    "3. When presented with a diaglog box,  enter following attributes:\n",
    "![](https://github.com/IBM/wmla-assets/raw/master/WMLA-learning-journey/image-classification-with-WMLA-UI/Shared-images/modelcreation3.png)\n",
    "<br>\n",
    "4. Select the **Tensorflow-cifar10** and click **Next**.\n",
    "\n",
    "5. When presented with a dialog box, ensure that the Training engine is set to singlenode and that the data set points to the one you just created\n",
    "![](https://github.com/IBM/wmla-assets/raw/master/WMLA-learning-journey/image-classification-with-WMLA-UI/Shared-images/modelcreation1.png)\n",
    "<br>\n",
    "6. Set the following parameters and click **Add**\n",
    "![](https://github.com/IBM/wmla-assets/raw/master/WMLA-learning-journey/image-classification-with-WMLA-UI/Shared-images/modelcreation2.png)\n",
    "<br>\n",
    "7.  The model is now ready to be trained."
   ]
  },
  {
   "cell_type": "code",
   "execution_count": 16,
   "metadata": {},
   "outputs": [],
   "source": [
    "## Clean up Model \n",
    "### Before proceeding to this step please ensure the Model Creation is in FINISHED state\n",
    "\n",
    "!rm -rf /tmp/dli-1.2.3-tensorflow-samples"
   ]
  },
  {
   "cell_type": "markdown",
   "metadata": {},
   "source": [
    "## Tune Hyper-parameter\n",
    "\n",
    "**Watson ML Accelerator automates the search for optimal hyperpamater by automating tuning jobs in parallel with four out-of-box search algorithm: Random Search, Bayesian, TPE, Hyperband,  prior to the commencement of the training process.** \n",
    "\n",
    "<a id='Tune-hyper-parameter'></a>\n",
    "[Back to top](#Contents)\n",
    "\n",
    "1. You could search optimal hyperparameter by leveraging automated Hyper-parameter Tuning.\n",
    "1. Back at the **Models** tab, **click** on the model \n",
    "1. Navigate from the **Overview panel** to the **Hyperparameter Tuning** panel\n",
    "1. Click **New**\n",
    "1. When presented with a dialog box, enter following value and click **Start Tuning**\n",
    "\n",
    "![](https://github.com/IBM/wmla-assets/raw/master/WMLA-learning-journey/image-classification-with-WMLA-UI/Shared-images/modeltune1.png)\n",
    "![](https://github.com/IBM/wmla-assets/raw/master/WMLA-learning-journey/image-classification-with-WMLA-UI/Shared-images/modeltune2.png)\n",
    "1. Under the **Hyperparameter Tuning** panel, click on the hyperparameter search job \n",
    "![](https://github.com/IBM/wmla-assets/raw/master/WMLA-learning-journey/image-classification-with-WMLA-UI/Shared-images/modeltune3.png)\n",
    "1. Navigate from the **Input panel** to the **Progress panel** and **Best panel** to review the optimal set of hyperparameter\n",
    "![](https://github.com/IBM/wmla-assets/raw/master/WMLA-learning-journey/image-classification-with-WMLA-UI/Shared-images/modeltune4.png)\n",
    "![](https://github.com/IBM/wmla-assets/raw/master/WMLA-learning-journey/image-classification-with-WMLA-UI/Shared-images/modeltune5.png)"
   ]
  },
  {
   "cell_type": "markdown",
   "metadata": {},
   "source": [
    "## Run Training\n",
    "\n",
    "<a id='Run-training'></a>\n",
    "[Back to top](#Contents)\n",
    "\n",
    "1. Back at the **Models** tab, select the model you created in previous step and click **Train**\n",
    "1. When presented with a dialog box, keep default parameter and click **Start Training**\n",
    "![](https://github.com/IBM/wmla-assets/raw/master/WMLA-learning-journey/image-classification-with-WMLA-UI/Shared-images/modeltrain1.png)"
   ]
  },
  {
   "cell_type": "markdown",
   "metadata": {},
   "source": [
    "## Inspect Training Run\n",
    "\n",
    "<a id='Inspect-training-run'></a>\n",
    "[Back to top](#Contents)\n",
    "\n",
    "**Spectrum Deep Learning Impact Insight offers Data Scientist the visualization to monitor training metric including loss rate and accuracy as epochs continue to execute.  With this insight Data Scientist could decide to terminate the model training if there is no further gain in accuracy and no further drop in loss rate.**\n",
    "\n",
    "1. From the **Train** submenu of the **Models** tab, select the model that is training by clicking the link.\n",
    "1. Navigate from the **Overview panel** to the **Training** panel, and click the most recent link. You can watch as the results roll in.\n",
    "![](https://github.com/IBM/wmla-assets/raw/master/WMLA-learning-journey/image-classification-with-WMLA-UI/Shared-images/modeltrain2.png)"
   ]
  },
  {
   "cell_type": "markdown",
   "metadata": {},
   "source": [
    "## Create an inference model\n",
    "\n",
    "**You are now ready to validate your training result by deploying your trained model as inference service.   \n",
    "You can submit inference request to inference restapi end point**\n",
    "\n",
    "<a id='Create-an-inference-model'></a>\n",
    "[Back to top](#Contents)\n",
    "\n",
    "\n",
    "1. From the Training view, click Create Inference Model.\n",
    "![](https://github.com/IBM/wmla-assets/raw/master/WMLA-learning-journey/image-classification-with-WMLA-UI/Shared-images/inference1.png)\n",
    "1. This creates a new model in the Models tab. You can view it by going to the Inference submenu.\n",
    "![](https://github.com/IBM/wmla-assets/raw/master/WMLA-learning-journey/image-classification-with-WMLA-UI/Shared-images/inference2.png)"
   ]
  },
  {
   "cell_type": "markdown",
   "metadata": {},
   "source": [
    "## Test it out\n",
    "<a id='Test-it-out'></a>\n",
    "[Back to top](#Contents)\n",
    "\n",
    "1. Download [inference test image](https://github.com/IBM/wmla-assets/raw/master/WMLA-learning-journey/image-classification-with-WMLA-UI/Shared-images/car.jpg) to your laptop\n",
    "\n",
    "1. Go back to the Models tab, select the new inference model, and click Test. At the new Testing overview screen, select New Test.\n",
    "![](https://github.com/IBM/wmla-assets/raw/master/WMLA-learning-journey/image-classification-with-WMLA-UI/Shared-images/inference3.png)\n",
    "\n",
    "1.  When presented with a dialog box, click **Choose File** to load the inference test image.  Click **Start Test**\n",
    "![](https://github.com/IBM/wmla-assets/raw/master/WMLA-learning-journey/image-classification-with-WMLA-UI/Shared-images/inference4.png)\n",
    "\n",
    "1. Wait for the test state to change from RUNNING to FINISHED.  Click the link to view the results of the test.\n",
    "![](https://github.com/IBM/wmla-assets/raw/master/WMLA-learning-journey/image-classification-with-WMLA-UI/Shared-images/inference5.png)\n",
    "\n",
    "1. As you can see, the images are available as a thumbnail preview along with their classified label and probability.\n",
    "\n",
    "![](https://github.com/IBM/wmla-assets/raw/master/WMLA-learning-journey/image-classification-with-WMLA-UI/Shared-images/inference6.png)"
   ]
  },
  {
   "cell_type": "markdown",
   "metadata": {},
   "source": [
    "#### This is version 1.0 and its content is copyright of IBM.   All rights reserved.   \n",
    "\n",
    "\n"
   ]
  }
 ],
 "metadata": {
  "kernelspec": {
   "display_name": "Python 3",
   "language": "python",
   "name": "python3"
  },
  "language_info": {
   "codemirror_mode": {
    "name": "ipython",
    "version": 3
   },
   "file_extension": ".py",
   "mimetype": "text/x-python",
   "name": "python",
   "nbconvert_exporter": "python",
   "pygments_lexer": "ipython3",
   "version": "3.7.6"
  },
  "toc": {
   "base_numbering": 1,
   "nav_menu": {},
   "number_sections": true,
   "sideBar": true,
   "skip_h1_title": false,
   "title_cell": "Table of Contents",
   "title_sidebar": "Contents",
   "toc_cell": false,
   "toc_position": {},
   "toc_section_display": true,
   "toc_window_display": true
  },
  "varInspector": {
   "cols": {
    "lenName": 16,
    "lenType": 16,
    "lenVar": 40
   },
   "kernels_config": {
    "python": {
     "delete_cmd_postfix": "",
     "delete_cmd_prefix": "del ",
     "library": "var_list.py",
     "varRefreshCmd": "print(var_dic_list())"
    },
    "r": {
     "delete_cmd_postfix": ") ",
     "delete_cmd_prefix": "rm(",
     "library": "var_list.r",
     "varRefreshCmd": "cat(var_dic_list()) "
    }
   },
   "types_to_exclude": [
    "module",
    "function",
    "builtin_function_or_method",
    "instance",
    "_Feature"
   ],
   "window_display": false
  }
 },
 "nbformat": 4,
 "nbformat_minor": 2
}
