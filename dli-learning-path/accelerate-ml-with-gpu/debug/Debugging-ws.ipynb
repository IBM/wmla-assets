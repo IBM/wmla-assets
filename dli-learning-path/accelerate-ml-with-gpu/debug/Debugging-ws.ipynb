{
 "cells": [
  {
   "cell_type": "markdown",
   "id": "cfd2e175",
   "metadata": {},
   "source": [
    "--- Debug Pod ---"
   ]
  },
  {
   "cell_type": "code",
   "execution_count": 18,
   "id": "f4a70566",
   "metadata": {},
   "outputs": [
    {
     "name": "stdout",
     "output_type": "stream",
     "text": [
      "create model directory done.\n"
     ]
    }
   ],
   "source": [
    "from pathlib import Path\n",
    "model_dir = f'/data/models' \n",
    "model_main = f'sleep_main.py'\n",
    "Path(model_dir).mkdir(exist_ok=True)\n",
    "print(\"create model directory done.\")"
   ]
  },
  {
   "cell_type": "code",
   "execution_count": 19,
   "id": "ec38396b",
   "metadata": {},
   "outputs": [
    {
     "name": "stdout",
     "output_type": "stream",
     "text": [
      "Overwriting /data/models/sleep_main.py\n"
     ]
    }
   ],
   "source": [
    "%%writefile {model_dir}/{model_main}\n",
    "\n",
    "import time\n",
    "time.sleep(6000)\n",
    "print(\"task done.\")"
   ]
  },
  {
   "cell_type": "code",
   "execution_count": 20,
   "id": "f5e03941",
   "metadata": {},
   "outputs": [
    {
     "name": "stdout",
     "output_type": "stream",
     "text": [
      "https://wmla-console-wmla.apps.wml1x180.ma.platformlab.ibm.com/auth/v1/logon\n"
     ]
    }
   ],
   "source": [
    "import requests\n",
    "from requests.packages.urllib3.exceptions import InsecureRequestWarning\n",
    "requests.packages.urllib3.disable_warnings(InsecureRequestWarning)\n",
    "\n",
    "from matplotlib import pyplot as plt\n",
    "\n",
    "\n",
    "import base64\n",
    "import json\n",
    "import time\n",
    "import urllib\n",
    "\n",
    "hostname='wmla-console-wmla.apps.wml1x180.ma.platformlab.ibm.com'  # please enter Watson Machine Learning Accelerator host name\n",
    "\n",
    "# login='username:password' # please enter the login and password\n",
    "\n",
    "login='admin:p7PMrMMknVQzEb3ptyj0D6XRTO5PQjYL'\n",
    "\n",
    "es = base64.b64encode(login.encode('utf-8')).decode(\"utf-8\")\n",
    "\n",
    "# print(es)\n",
    "\n",
    "commonHeaders={'Authorization': 'Basic '+es}\n",
    "\n",
    "req = requests.Session()\n",
    "\n",
    "auth_url = 'https://{}/auth/v1/logon'.format(hostname)\n",
    "\n",
    "print(auth_url)\n",
    "\n",
    "a=requests.get(auth_url,headers=commonHeaders, verify=False)\n",
    "\n",
    "access_token=a.json()['accessToken']\n",
    "\n",
    "# print(\"Access_token: \", access_token)\n",
    "\n",
    "\n",
    "dl_rest_url = 'https://{}/platform/rest/deeplearning/v1'.format(hostname)\n",
    "\n",
    "commonHeaders={'accept': 'application/json', 'X-Auth-Token': access_token}\n",
    "\n",
    "req = requests.Session()\n",
    "\n",
    "# Health check\n",
    "\n",
    "confUrl = 'https://{}/platform/rest/deeplearning/v1/conf'.format(hostname)\n",
    "\n",
    "r = req.get(confUrl, headers=commonHeaders, verify=False)"
   ]
  },
  {
   "cell_type": "code",
   "execution_count": null,
   "id": "3becf2cb",
   "metadata": {},
   "outputs": [],
   "source": [
    "args = '--exec-start tensorflow --cs-datastore-meta type=fs \\\n",
    "                     --workerDeviceNum 1 \\\n",
    "                     --workerDeviceType cpu \\\n",
    "                     --conda-env-name dlipy3-cpu  \\\n",
    "                     --model-main /gpfs/mydatafs/models/sleep_main.py'\n",
    "\n",
    "print(args)"
   ]
  },
  {
   "cell_type": "code",
   "execution_count": 21,
   "id": "6df3004f",
   "metadata": {},
   "outputs": [
    {
     "name": "stdout",
     "output_type": "stream",
     "text": [
      "--exec-start tensorflow --cs-datastore-meta type=fs                      --workerDeviceNum 1                      --workerDeviceType cpu                      --conda-env-name rapids-21.06                       --model-main /gpfs/mydatafs/models/sleep_main.py\n"
     ]
    }
   ],
   "source": [
    "# specify the conda env of rapids and worker device type\n",
    "args = '--exec-start tensorflow --cs-datastore-meta type=fs \\\n",
    "                     --workerDeviceNum 1 \\\n",
    "                     --workerDeviceType cpu \\\n",
    "                     --conda-env-name rapids-21.06  \\\n",
    "                     --model-main /gpfs/mydatafs/models/' + model_main\n",
    "\n",
    "print(args)\n"
   ]
  },
  {
   "cell_type": "code",
   "execution_count": null,
   "id": "4750c94f",
   "metadata": {},
   "outputs": [],
   "source": [
    "args = '--exec-start tensorflow --cs-datastore-meta type=fs \\\n",
    "                     --workerDeviceNum 1 \\\n",
    "                     --workerDeviceType cpu \\\n",
    "                     --conda-env-name snapml  \\\n",
    "                     --model-main /gpfs/mydatafs/models/sleep_main.py'\n",
    "\n",
    "print(args)"
   ]
  },
  {
   "cell_type": "code",
   "execution_count": 22,
   "id": "8d325765",
   "metadata": {},
   "outputs": [],
   "source": [
    "r = requests.post(dl_rest_url+'/execs?args='+args, #files=files,\n",
    "                  headers=commonHeaders, verify=False)\n",
    "if not r.ok:\n",
    "    print('submit job failed: code=%s, %s'%(r.status_code, r.content))\n",
    "        \n"
   ]
  },
  {
   "cell_type": "code",
   "execution_count": null,
   "id": "62668a65",
   "metadata": {},
   "outputs": [],
   "source": []
  }
 ],
 "metadata": {
  "kernelspec": {
   "display_name": "Python3 Single CPU Kernel",
   "language": "python",
   "name": "python_single_cpu"
  },
  "language_info": {
   "codemirror_mode": {
    "name": "ipython",
    "version": 3
   },
   "file_extension": ".py",
   "mimetype": "text/x-python",
   "name": "python",
   "nbconvert_exporter": "python",
   "pygments_lexer": "ipython3",
   "version": "3.7.10"
  }
 },
 "nbformat": 4,
 "nbformat_minor": 5
}
