{
 "cells": [
  {
   "cell_type": "markdown",
   "id": "a280fcb2",
   "metadata": {},
   "source": [
    "--- Debug Pod ---"
   ]
  },
  {
   "cell_type": "code",
   "execution_count": null,
   "id": "0e4dd327",
   "metadata": {},
   "outputs": [],
   "source": [
    "%%writefile {model_dir}/sleep_main.py\n",
    "\n",
    "import time\n",
    "time.sleep(6000)\n",
    "print(\"task done.\")\n"
   ]
  },
  {
   "cell_type": "code",
   "execution_count": null,
   "id": "dddbeecb",
   "metadata": {},
   "outputs": [],
   "source": [
    "args = '--exec-start tensorflow --cs-datastore-meta type=fs \\\n",
    "                     --workerDeviceNum 1 \\\n",
    "                     --workerDeviceType cpu \\\n",
    "                     --conda-env-name dlipy3-cpu  \\\n",
    "                     --model-main /gpfs/mydatafs/models/sleep_main.py'\n",
    "\n",
    "print(args)"
   ]
  },
  {
   "cell_type": "code",
   "execution_count": null,
   "id": "5d91c1a3",
   "metadata": {},
   "outputs": [],
   "source": [
    "args = '--exec-start tensorflow --cs-datastore-meta type=fs \\\n",
    "                     --workerDeviceNum 1 \\\n",
    "                     --workerDeviceType cpu \\\n",
    "                     --conda-env-name snapml  \\\n",
    "                     --model-main /gpfs/mydatafs/models/sleep_main.py'\n",
    "\n",
    "print(args)"
   ]
  },
  {
   "cell_type": "code",
   "execution_count": null,
   "id": "887de517",
   "metadata": {},
   "outputs": [],
   "source": [
    "r = requests.post(dl_rest_url+'/execs?args='+args, files=files,\n",
    "                  headers=commonHeaders, verify=False)\n",
    "if not r.ok:\n",
    "    print('submit job failed: code=%s, %s'%(r.status_code, r.content))\n",
    "        \n"
   ]
  }
 ],
 "metadata": {
  "kernelspec": {
   "display_name": "Python3 Single CPU Kernel",
   "language": "python",
   "name": "python_single_cpu"
  },
  "language_info": {
   "codemirror_mode": {
    "name": "ipython",
    "version": 3
   },
   "file_extension": ".py",
   "mimetype": "text/x-python",
   "name": "python",
   "nbconvert_exporter": "python",
   "pygments_lexer": "ipython3",
   "version": "3.7.10"
  }
 },
 "nbformat": 4,
 "nbformat_minor": 5
}
