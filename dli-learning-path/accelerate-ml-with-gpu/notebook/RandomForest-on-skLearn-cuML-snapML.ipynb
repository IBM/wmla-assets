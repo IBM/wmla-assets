{
 "cells": [
  {
   "cell_type": "markdown",
   "metadata": {
    "id": "8f4ba682-1063-467a-9996-276517b676d6"
   },
   "source": [
    "# Train a Random Forest Model with Watson Machine Learning \n",
    "\n",
    "Notebook created by Zeming Zhao on June, 2021\n",
    "\n",
    "The Random Forest algorithm is a classification method which builds several decision trees, and aggregates each of their outputs to make a prediction.\n",
    "\n",
    "In this notebook we have three versions of Linear Regression model: scikit-learn version, cuML version and snapML version.\n",
    "\n",
    "All three versions will be submitted onto WMLA. And we can compare the performance benifit of cuML and snapML version.\n",
    "\n",
    "This notebook covers the following sections:\n",
    "\n",
    "1. [Setup Random Forest using sklearning](#skl-model)<br>\n",
    "\n",
    "1. [Training the model on CPU with Watson Machine Learning Accelerator](#skl-cpu)<br>\n",
    "\n",
    "1. [Setup Random Forest using cuML](#cuml-model)<br>\n",
    "\n",
    "1. [Training the model on GPU with Watson Machine Learning Accelerator](#cuml-gpu)<br>\n",
    "\n",
    "1. [Setup Random Forest using snapML](#snapml-model)<br>\n",
    "\n",
    "1. [Training the model on CPU with Watson Machine Learning Accelerator](#snapml-cpu)<br>\n",
    "\n",
    "1. [Setup Random Forest using snapML GPU](#snapml-model-gpu)<br>\n",
    "\n",
    "1. [Training the model on GPU with Watson Machine Learning Accelerator](#snapml-gpu)<br>"
   ]
  },
  {
   "cell_type": "markdown",
   "metadata": {
    "id": "278153e8-1716-4e1c-9e59-aa09d6eccfe7"
   },
   "source": [
    "## Preparations\n",
    "### Prepare directory and file for writing Random Forest engine."
   ]
  },
  {
   "cell_type": "code",
   "execution_count": 32,
   "metadata": {
    "id": "a49e45f9-157c-420f-8d69-96b6e7268ff0"
   },
   "outputs": [
    {
     "name": "stdout",
     "output_type": "stream",
     "text": [
      "create model directory done.\n"
     ]
    }
   ],
   "source": [
    "from pathlib import Path\n",
    "model_dir = f'/project_data/data_asset/models' \n",
    "model_base_name = f'RandomForest-main.py'\n",
    "Path(model_dir).mkdir(exist_ok=True)\n",
    "print(\"create model directory done.\")"
   ]
  },
  {
   "cell_type": "markdown",
   "metadata": {
    "id": "21611745-6d06-4e6f-a6e2-f85185799fae"
   },
   "source": [
    "<a id = \"skl-model\"></a>\n",
    "## Step 1 : Setup Random Forest model using scikit-learn.\n",
    "### Create a Random Forest Model based on scikit-learn on CPU"
   ]
  },
  {
   "cell_type": "code",
   "execution_count": 33,
   "metadata": {
    "id": "e07bea70-4b61-4e3a-ae46-68c44e4a8c45"
   },
   "outputs": [],
   "source": [
    "model_main='sklearn-'+model_base_name"
   ]
  },
  {
   "cell_type": "code",
   "execution_count": 34,
   "metadata": {
    "id": "7f353a3c-b85a-4b05-90e5-eb335fc951e0"
   },
   "outputs": [
    {
     "name": "stdout",
     "output_type": "stream",
     "text": [
      "Overwriting /project_data/data_asset/models/sklearn-RandomForest-main.py\n"
     ]
    }
   ],
   "source": [
    "%%writefile {model_dir}/{model_main}\n",
    "\n",
    "import os, datetime\n",
    "import numpy as np\n",
    "import pandas as pd\n",
    "import pickle\n",
    "from sklearn.metrics import accuracy_score\n",
    "from sklearn.datasets import make_classification\n",
    "from sklearn.model_selection import train_test_split\n",
    "from sklearn.ensemble import RandomForestClassifier as skrfc\n",
    "\n",
    "# Define Parameters for a large regression\n",
    "n_samples = 2**18\n",
    "n_features = 28 \n",
    "# n_class = 2\n",
    "data_type = np.float32\n",
    "\n",
    "# Generate Data using scikit-learn\n",
    "X,y = make_classification(n_samples=n_samples,\n",
    "                          n_features=n_features,\n",
    "                          # n_class=n_class,\n",
    "                          random_state=123, n_classes=2)\n",
    "\n",
    "X = pd.DataFrame(X.astype(data_type))\n",
    "y = pd.Series(y.astype(np.int32))\n",
    "\n",
    "X_train, X_test, y_train, y_test = train_test_split(X, y,\n",
    "                                                    test_size = 0.2,\n",
    "                                                    random_state=0)\n",
    "\n",
    "print(\"Number of examples: %d\" % (X_train.shape[0]))\n",
    "print(\"Number of features: %d\" % (X_train.shape[1]))\n",
    "print(\"Number of classes:  %d\" % (len(np.unique(y_train))))\n",
    "\n",
    "# scikit-learn RandomForestClassifier model\n",
    "sk_model = skrfc(n_estimators=40,\n",
    "                 max_depth=16,\n",
    "                 max_features=1.0,\n",
    "                 random_state=10)\n",
    "\n",
    "# Fit\n",
    "start = datetime.datetime.now()\n",
    "sk_model.fit(X_train, y_train)\n",
    "end = datetime.datetime.now()\n",
    "print (\"train timecost: %.2gs\" % ((end-start).total_seconds()))\n",
    "\n",
    "# Evaluate\n",
    "start = datetime.datetime.now()\n",
    "sk_predict = sk_model.predict(X_test)\n",
    "end = datetime.datetime.now()\n",
    "print (\"evaluate timecost: %.2gs\" % ((end-start).total_seconds()))\n",
    "\n",
    "sk_acc = accuracy_score(y_test, sk_predict)\n",
    "print(\"test accuracy: %.2gs\" % sk_acc)\n",
    "\n",
    "filename = './skl_random_forest_model.pkl'\n",
    "# save the trained cuml model into a file\n",
    "pickle.dump(sk_model, open(filename, 'wb'))\n",
    "print(\"saved model to file \", filename)"
   ]
  },
  {
   "cell_type": "markdown",
   "metadata": {
    "id": "c80457b4-238e-4edb-ba69-d627fd90df3a"
   },
   "source": [
    "<a id = \"skl-cpu\"></a>\n",
    "## Step 2 :  Training the SK-Learning model on CPU with Watson Machine Learning Accelerator\n",
    "### Prepare the model lib for job submission:"
   ]
  },
  {
   "cell_type": "code",
   "execution_count": 35,
   "metadata": {
    "id": "4f8a9c2c-ff01-49ae-a1ab-3e2cad9f74db"
   },
   "outputs": [
    {
     "name": "stdout",
     "output_type": "stream",
     "text": [
      "Populating the interactive namespace from numpy and matplotlib\n"
     ]
    }
   ],
   "source": [
    "import requests\n",
    "from requests.packages.urllib3.exceptions import InsecureRequestWarning\n",
    "requests.packages.urllib3.disable_warnings(InsecureRequestWarning)\n",
    "\n",
    "from matplotlib import pyplot as plt\n",
    "%pylab inline\n",
    "\n",
    "import base64\n",
    "import json\n",
    "import time\n",
    "import urllib"
   ]
  },
  {
   "cell_type": "markdown",
   "metadata": {
    "id": "632bb4a1-73cf-403f-85cf-5168d2aa086f"
   },
   "source": [
    "### Configuring your environment and project details\n",
    "To set up your project details, provide your credentials in this cell. You must include your cluster URL, username, and password."
   ]
  },
  {
   "cell_type": "code",
   "execution_count": 36,
   "metadata": {
    "id": "36320f70-893b-4b9d-8fd7-6dfbc262957c"
   },
   "outputs": [
    {
     "name": "stdout",
     "output_type": "stream",
     "text": [
      "https://wmla-console-wmla.apps.dse-perf.cpolab.ibm.com/auth/v1/logon\n"
     ]
    }
   ],
   "source": [
    "# please enter Watson Machine Learning Accelerator host name\n",
    "hostname='wmla-console-wmla.apps.dse-perf.cpolab.ibm.com'\n",
    "# login='username:password' # please enter the login and password\n",
    "login='mluser1:mluser1'\n",
    "es = base64.b64encode(login.encode('utf-8')).decode(\"utf-8\")\n",
    "# print(es)\n",
    "commonHeaders={'Authorization': 'Basic '+es}\n",
    "req = requests.Session()\n",
    "auth_url = 'https://{}/auth/v1/logon'.format(hostname)\n",
    "print(auth_url)\n",
    "\n",
    "a=requests.get(auth_url,headers=commonHeaders, verify=False)\n",
    "access_token=a.json()['accessToken']\n",
    "# print(\"Access_token: \", access_token)\n",
    "\n",
    "dl_rest_url = 'https://{}/platform/rest/deeplearning/v1'.format(hostname)\n",
    "commonHeaders={'accept': 'application/json', 'X-Auth-Token': access_token}\n",
    "req = requests.Session()\n",
    "\n",
    "# Health check\n",
    "confUrl = 'https://{}/platform/rest/deeplearning/v1/conf'.format(hostname)\n",
    "r = req.get(confUrl, headers=commonHeaders, verify=False)"
   ]
  },
  {
   "cell_type": "markdown",
   "metadata": {
    "id": "741a8519-9e68-480a-8957-81c49805ee90"
   },
   "source": [
    "### Define the status checking function"
   ]
  },
  {
   "cell_type": "code",
   "execution_count": 38,
   "metadata": {
    "id": "e3af268a-751c-4990-af70-2775109f8bee"
   },
   "outputs": [],
   "source": [
    "import tarfile\n",
    "import tempfile\n",
    "import os\n",
    "import json\n",
    "import pprint\n",
    "import pandas as pd\n",
    "from IPython.display import clear_output\n",
    "\n",
    "def query_job_status(job_id,refresh_rate=3) :\n",
    "\n",
    "    execURL = dl_rest_url  +'/execs/'+ job_id['id']\n",
    "    pp = pprint.PrettyPrinter(indent=2)\n",
    "\n",
    "    keep_running=True\n",
    "    res=None\n",
    "    while(keep_running):\n",
    "        res = req.get(execURL, headers=commonHeaders, verify=False)\n",
    "        monitoring = pd.DataFrame(res.json(), index=[0])\n",
    "        pd.set_option('max_colwidth', 120)\n",
    "        clear_output()\n",
    "        print(\"Refreshing every {} seconds\".format(refresh_rate))\n",
    "        display(monitoring)\n",
    "        pp.pprint(res.json())\n",
    "        if(res.json()['state'] not in ['PENDING_CRD_SCHEDULER', 'SUBMITTED','RUNNING']) :\n",
    "            keep_running=False\n",
    "        time.sleep(refresh_rate)\n",
    "    return res"
   ]
  },
  {
   "cell_type": "markdown",
   "metadata": {
    "id": "a08655c5-ab57-42f3-ba39-2e8ec3576cc3"
   },
   "source": [
    "### Define the submission parameters"
   ]
  },
  {
   "cell_type": "code",
   "execution_count": 42,
   "metadata": {
    "id": "561acbf1-1998-4038-8a83-9680f67b0cc6"
   },
   "outputs": [
    {
     "name": "stdout",
     "output_type": "stream",
     "text": [
      "--exec-start tensorflow --cs-datastore-meta type=fs --workerDeviceNum 1 --workerMemory 32G --workerDeviceType cpu --conda-env-name rapids-21.06-new  --model-main sklearn-RandomForest-main.py\n"
     ]
    }
   ],
   "source": [
    "# specify the model file, conda env, device type and device number\n",
    "args = '--exec-start tensorflow --cs-datastore-meta type=fs \\\n",
    "--workerDeviceNum 1 \\\n",
    "--workerMemory 32G \\\n",
    "--workerDeviceType cpu \\\n",
    "--conda-env-name rapids-21.06-new  \\\n",
    "--model-main ' + model_main\n",
    "\n",
    "print(args)"
   ]
  },
  {
   "cell_type": "markdown",
   "metadata": {
    "id": "99680c26-f421-403a-a56a-9cae1285cfdd"
   },
   "source": [
    "### Define the submission function"
   ]
  },
  {
   "cell_type": "code",
   "execution_count": 40,
   "metadata": {
    "id": "ecc5ac5d-9e66-4dff-9017-e08aae7216c5"
   },
   "outputs": [],
   "source": [
    "def submit_job_to_wmla (args, files) :\n",
    "    starttime = datetime.datetime.now()\n",
    "    r = requests.post(dl_rest_url+'/execs?args='+args, files=files,\n",
    "                  headers=commonHeaders, verify=False)\n",
    "    if not r.ok:\n",
    "        print('submit job failed: code=%s, %s'%(r.status_code, r.content))\n",
    "    job_status = query_job_status(r.json(),refresh_rate=5)\n",
    "    endtime = datetime.datetime.now()\n",
    "    print(\"\\nTotallly training cost: \", (endtime - starttime).seconds, \" seconds.\")"
   ]
  },
  {
   "cell_type": "markdown",
   "metadata": {
    "id": "946c6333-3686-447c-96f1-674537319afc"
   },
   "source": [
    "### Submit WMLA Workload"
   ]
  },
  {
   "cell_type": "code",
   "execution_count": 43,
   "metadata": {
    "id": "e2138505-dbaf-427c-b0b8-b586e2ce923b"
   },
   "outputs": [
    {
     "name": "stdout",
     "output_type": "stream",
     "text": [
      "Refreshing every 5 seconds\n"
     ]
    },
    {
     "data": {
      "text/html": [
       "<div>\n",
       "<style scoped>\n",
       "    .dataframe tbody tr th:only-of-type {\n",
       "        vertical-align: middle;\n",
       "    }\n",
       "\n",
       "    .dataframe tbody tr th {\n",
       "        vertical-align: top;\n",
       "    }\n",
       "\n",
       "    .dataframe thead th {\n",
       "        text-align: right;\n",
       "    }\n",
       "</style>\n",
       "<table border=\"1\" class=\"dataframe\">\n",
       "  <thead>\n",
       "    <tr style=\"text-align: right;\">\n",
       "      <th></th>\n",
       "      <th>id</th>\n",
       "      <th>args</th>\n",
       "      <th>submissionId</th>\n",
       "      <th>creator</th>\n",
       "      <th>state</th>\n",
       "      <th>appId</th>\n",
       "      <th>schedulerUrl</th>\n",
       "      <th>modelFileOwnerName</th>\n",
       "      <th>workDir</th>\n",
       "      <th>appName</th>\n",
       "      <th>createTime</th>\n",
       "      <th>elastic</th>\n",
       "      <th>nameSpace</th>\n",
       "      <th>numWorker</th>\n",
       "      <th>framework</th>\n",
       "    </tr>\n",
       "  </thead>\n",
       "  <tbody>\n",
       "    <tr>\n",
       "      <th>0</th>\n",
       "      <td>wmla-865</td>\n",
       "      <td>--exec-start tensorflow --cs-datastore-meta type=fs --workerDeviceNum 1 --workerMemory 32G --workerDeviceType cpu --...</td>\n",
       "      <td>wmla-865</td>\n",
       "      <td>mluser1</td>\n",
       "      <td>FINISHED</td>\n",
       "      <td>wmla-865</td>\n",
       "      <td>https://wmla-mss:9080</td>\n",
       "      <td>wmla</td>\n",
       "      <td>/gpfs/myresultfs/mluser1/batchworkdir/wmla-865/_submitted_code</td>\n",
       "      <td>SingleNodeTensorflowTrain</td>\n",
       "      <td>2021-07-27T10:10:59Z</td>\n",
       "      <td>False</td>\n",
       "      <td>wmla</td>\n",
       "      <td>1</td>\n",
       "      <td>tensorflow</td>\n",
       "    </tr>\n",
       "  </tbody>\n",
       "</table>\n",
       "</div>"
      ],
      "text/plain": [
       "         id  \\\n",
       "0  wmla-865   \n",
       "\n",
       "                                                                                                                      args  \\\n",
       "0  --exec-start tensorflow --cs-datastore-meta type=fs --workerDeviceNum 1 --workerMemory 32G --workerDeviceType cpu --...   \n",
       "\n",
       "  submissionId  creator     state     appId           schedulerUrl  \\\n",
       "0     wmla-865  mluser1  FINISHED  wmla-865  https://wmla-mss:9080   \n",
       "\n",
       "  modelFileOwnerName  \\\n",
       "0               wmla   \n",
       "\n",
       "                                                          workDir  \\\n",
       "0  /gpfs/myresultfs/mluser1/batchworkdir/wmla-865/_submitted_code   \n",
       "\n",
       "                     appName            createTime  elastic nameSpace  \\\n",
       "0  SingleNodeTensorflowTrain  2021-07-27T10:10:59Z    False      wmla   \n",
       "\n",
       "   numWorker   framework  \n",
       "0          1  tensorflow  "
      ]
     },
     "metadata": {},
     "output_type": "display_data"
    },
    {
     "name": "stdout",
     "output_type": "stream",
     "text": [
      "{ 'appId': 'wmla-865',\n",
      "  'appName': 'SingleNodeTensorflowTrain',\n",
      "  'args': '--exec-start tensorflow --cs-datastore-meta type=fs '\n",
      "          '--workerDeviceNum 1 --workerMemory 32G --workerDeviceType cpu '\n",
      "          '--conda-env-name rapids-21.06-new  --model-main '\n",
      "          'sklearn-RandomForest-main.py ',\n",
      "  'createTime': '2021-07-27T10:10:59Z',\n",
      "  'creator': 'mluser1',\n",
      "  'elastic': False,\n",
      "  'framework': 'tensorflow',\n",
      "  'id': 'wmla-865',\n",
      "  'modelFileOwnerName': 'wmla',\n",
      "  'nameSpace': 'wmla',\n",
      "  'numWorker': 1,\n",
      "  'schedulerUrl': 'https://wmla-mss:9080',\n",
      "  'state': 'FINISHED',\n",
      "  'submissionId': 'wmla-865',\n",
      "  'workDir': '/gpfs/myresultfs/mluser1/batchworkdir/wmla-865/_submitted_code'}\n",
      "\n",
      "Totallly training cost:  397  seconds.\n"
     ]
    }
   ],
   "source": [
    "files = {'file': open(\"{0}/{1}\".format(model_dir,model_main),'rb')}\n",
    "submit_job_to_wmla (args, files)"
   ]
  },
  {
   "cell_type": "markdown",
   "metadata": {
    "id": "c0828964-57ae-41ba-ad88-679bb2b41e74"
   },
   "source": [
    "<a id = \"cuml-model\"></a>\n",
    "## Step 3 :  Setup Random Forest model using cmML\n",
    "### Create a Random Forest Model based on cuML on GPU"
   ]
  },
  {
   "cell_type": "code",
   "execution_count": 44,
   "metadata": {
    "id": "ee2d4c94-960a-409f-b62d-0f4d256c38db"
   },
   "outputs": [],
   "source": [
    "model_main='cuML-'+model_base_name"
   ]
  },
  {
   "cell_type": "code",
   "execution_count": 45,
   "metadata": {
    "id": "17ad3cf1-7952-41ab-96bf-895cb45daaf5"
   },
   "outputs": [
    {
     "name": "stdout",
     "output_type": "stream",
     "text": [
      "Overwriting /project_data/data_asset/models/cuML-RandomForest-main.py\n"
     ]
    }
   ],
   "source": [
    "%%writefile {model_dir}/{model_main}\n",
    "\n",
    "import cudf\n",
    "import numpy as np\n",
    "import pandas as pd\n",
    "import pickle\n",
    "\n",
    "from cuml.ensemble import RandomForestClassifier as curfc\n",
    "from cuml.metrics import accuracy_score\n",
    "\n",
    "from sklearn.ensemble import RandomForestClassifier as skrfc\n",
    "from sklearn.datasets import make_classification\n",
    "from sklearn.model_selection import train_test_split\n",
    "import os\n",
    "import datetime\n",
    "\n",
    "# specify the cache location to /gpfy since ~/.cache is not available\n",
    "os.environ[\"CUPY_CACHE_DIR\"]=\"/gpfs/mydatafs/models/cache/rf\"\n",
    "\n",
    "# Define Parameters for a large regression\n",
    "n_samples = 2**18\n",
    "n_features = 28 \n",
    "# n_classes = 2\n",
    "data_type = np.float32\n",
    "\n",
    "# Generate Data using cuML\n",
    "X,y = make_classification(n_samples=n_samples,\n",
    "                          n_features=n_features,\n",
    "                          # n_classes=n_classes,\n",
    "                          random_state=123, n_classes=2)\n",
    "\n",
    "X = pd.DataFrame(X.astype(data_type))\n",
    "y = pd.Series(y.astype(np.int32))\n",
    "\n",
    "X_train, X_test, y_train, y_test = train_test_split(X, y,\n",
    "                                                     test_size = 0.2,\n",
    "                                                     random_state=0)\n",
    "\n",
    "print(\"Number of examples: %d\" % (X_train.shape[0]))\n",
    "print(\"Number of features: %d\" % (X_train.shape[1]))\n",
    "print(\"Number of classes:  %d\" % (len(np.unique(y_train))))\n",
    "\n",
    "X_cudf_train = cudf.DataFrame.from_pandas(X_train)\n",
    "X_cudf_test = cudf.DataFrame.from_pandas(X_test)\n",
    "y_cudf_train = cudf.Series(y_train.values)\n",
    "y_cudf_test = cudf.Series(y_test.values)\n",
    "    \n",
    "# cuML RandomForestClassifier model\n",
    "cuml_model = curfc(n_estimators=40,\n",
    "                   max_depth=16,\n",
    "                   max_features=1.0,\n",
    "                   random_state=10)\n",
    "# Fit\n",
    "start = datetime.datetime.now()\n",
    "cuml_model.fit(X_cudf_train, y_cudf_train)\n",
    "end = datetime.datetime.now()\n",
    "print (\"train timecost: %.2gs\" % ((end-start).total_seconds()))\n",
    "\n",
    "# Evaluate\n",
    "start = datetime.datetime.now()\n",
    "fil_preds_orig = cuml_model.predict(X_cudf_test)\n",
    "end = datetime.datetime.now()\n",
    "print (\"evaluate timecost: %.2gs\" % ((end-start).total_seconds()))\n",
    "\n",
    "# sk_acc = accuracy_score(y_test.to_numpy(), fil_preds_orig)\n",
    "sk_acc = accuracy_score(y_cudf_test, fil_preds_orig)\n",
    "print(\"test accuracy: %.2gs\" % sk_acc)\n",
    "\n",
    "filename = './cuml_random_forest_model.pkl'\n",
    "# save the trained cuml model into a file\n",
    "pickle.dump(cuml_model, open(filename, 'wb'))\n",
    "print(\"saved model to file \", filename)"
   ]
  },
  {
   "cell_type": "markdown",
   "metadata": {
    "id": "717b5f36-6d81-4219-9cc9-fdb00f1ec759"
   },
   "source": [
    "<a id = \"cuml-gpu\"></a>\n",
    "## Step 4 :  Training the cuML model on GPU with Watson Machine Learning Accelerator\n",
    "### Re-define the submittion parameters"
   ]
  },
  {
   "cell_type": "code",
   "execution_count": 46,
   "metadata": {
    "id": "3b0f4ba1-b8d5-470a-bb00-4e327db1bad4"
   },
   "outputs": [
    {
     "name": "stdout",
     "output_type": "stream",
     "text": [
      "--exec-start tensorflow --cs-datastore-meta type=fs --workerDeviceNum 1 --workerMemory 32G --workerDeviceType gpu --conda-env-name rapids-21.06-new  --model-main cuML-RandomForest-main.py\n"
     ]
    }
   ],
   "source": [
    "# specify the model file, conda env, device type and device number\n",
    "args = '--exec-start tensorflow --cs-datastore-meta type=fs \\\n",
    "--workerDeviceNum 1 \\\n",
    "--workerMemory 32G \\\n",
    "--workerDeviceType gpu \\\n",
    "--conda-env-name rapids-21.06-new  \\\n",
    "--model-main ' + model_main\n",
    "print(args)"
   ]
  },
  {
   "cell_type": "code",
   "execution_count": 47,
   "metadata": {
    "id": "c1b157cf-d1f6-4666-a3fd-7dd338522a2f"
   },
   "outputs": [
    {
     "name": "stdout",
     "output_type": "stream",
     "text": [
      "Refreshing every 5 seconds\n"
     ]
    },
    {
     "data": {
      "text/html": [
       "<div>\n",
       "<style scoped>\n",
       "    .dataframe tbody tr th:only-of-type {\n",
       "        vertical-align: middle;\n",
       "    }\n",
       "\n",
       "    .dataframe tbody tr th {\n",
       "        vertical-align: top;\n",
       "    }\n",
       "\n",
       "    .dataframe thead th {\n",
       "        text-align: right;\n",
       "    }\n",
       "</style>\n",
       "<table border=\"1\" class=\"dataframe\">\n",
       "  <thead>\n",
       "    <tr style=\"text-align: right;\">\n",
       "      <th></th>\n",
       "      <th>id</th>\n",
       "      <th>args</th>\n",
       "      <th>submissionId</th>\n",
       "      <th>creator</th>\n",
       "      <th>state</th>\n",
       "      <th>appId</th>\n",
       "      <th>schedulerUrl</th>\n",
       "      <th>modelFileOwnerName</th>\n",
       "      <th>workDir</th>\n",
       "      <th>appName</th>\n",
       "      <th>createTime</th>\n",
       "      <th>elastic</th>\n",
       "      <th>nameSpace</th>\n",
       "      <th>numWorker</th>\n",
       "      <th>framework</th>\n",
       "    </tr>\n",
       "  </thead>\n",
       "  <tbody>\n",
       "    <tr>\n",
       "      <th>0</th>\n",
       "      <td>wmla-866</td>\n",
       "      <td>--exec-start tensorflow --cs-datastore-meta type=fs --workerDeviceNum 1 --workerMemory 32G --workerDeviceType gpu --...</td>\n",
       "      <td>wmla-866</td>\n",
       "      <td>mluser1</td>\n",
       "      <td>FINISHED</td>\n",
       "      <td>wmla-866</td>\n",
       "      <td>https://wmla-mss:9080</td>\n",
       "      <td>wmla</td>\n",
       "      <td>/gpfs/myresultfs/mluser1/batchworkdir/wmla-866/_submitted_code</td>\n",
       "      <td>SingleNodeTensorflowTrain</td>\n",
       "      <td>2021-07-27T10:18:55Z</td>\n",
       "      <td>False</td>\n",
       "      <td>wmla</td>\n",
       "      <td>1</td>\n",
       "      <td>tensorflow</td>\n",
       "    </tr>\n",
       "  </tbody>\n",
       "</table>\n",
       "</div>"
      ],
      "text/plain": [
       "         id  \\\n",
       "0  wmla-866   \n",
       "\n",
       "                                                                                                                      args  \\\n",
       "0  --exec-start tensorflow --cs-datastore-meta type=fs --workerDeviceNum 1 --workerMemory 32G --workerDeviceType gpu --...   \n",
       "\n",
       "  submissionId  creator     state     appId           schedulerUrl  \\\n",
       "0     wmla-866  mluser1  FINISHED  wmla-866  https://wmla-mss:9080   \n",
       "\n",
       "  modelFileOwnerName  \\\n",
       "0               wmla   \n",
       "\n",
       "                                                          workDir  \\\n",
       "0  /gpfs/myresultfs/mluser1/batchworkdir/wmla-866/_submitted_code   \n",
       "\n",
       "                     appName            createTime  elastic nameSpace  \\\n",
       "0  SingleNodeTensorflowTrain  2021-07-27T10:18:55Z    False      wmla   \n",
       "\n",
       "   numWorker   framework  \n",
       "0          1  tensorflow  "
      ]
     },
     "metadata": {},
     "output_type": "display_data"
    },
    {
     "name": "stdout",
     "output_type": "stream",
     "text": [
      "{ 'appId': 'wmla-866',\n",
      "  'appName': 'SingleNodeTensorflowTrain',\n",
      "  'args': '--exec-start tensorflow --cs-datastore-meta type=fs '\n",
      "          '--workerDeviceNum 1 --workerMemory 32G --workerDeviceType gpu '\n",
      "          '--conda-env-name rapids-21.06-new  --model-main '\n",
      "          'cuML-RandomForest-main.py ',\n",
      "  'createTime': '2021-07-27T10:18:55Z',\n",
      "  'creator': 'mluser1',\n",
      "  'elastic': False,\n",
      "  'framework': 'tensorflow',\n",
      "  'id': 'wmla-866',\n",
      "  'modelFileOwnerName': 'wmla',\n",
      "  'nameSpace': 'wmla',\n",
      "  'numWorker': 1,\n",
      "  'schedulerUrl': 'https://wmla-mss:9080',\n",
      "  'state': 'FINISHED',\n",
      "  'submissionId': 'wmla-866',\n",
      "  'workDir': '/gpfs/myresultfs/mluser1/batchworkdir/wmla-866/_submitted_code'}\n",
      "\n",
      "Totallly training cost:  62  seconds.\n"
     ]
    }
   ],
   "source": [
    "files = {'file': open(\"{0}/{1}\".format(model_dir,model_main),'rb')}\n",
    "submit_job_to_wmla (args, files)"
   ]
  },
  {
   "cell_type": "markdown",
   "metadata": {
    "id": "55a52bd4-126b-4350-8418-1bbe18e3349c"
   },
   "source": [
    "<a id = \"snapml-model\"></a>\n",
    "## Step 5 : Setup Random Forest model using snapML¶\n",
    "### Create a Random Forest Model based on snapML"
   ]
  },
  {
   "cell_type": "code",
   "execution_count": 48,
   "metadata": {
    "id": "97e0ea0f-feec-483d-97cf-7bf25df6f3d1"
   },
   "outputs": [],
   "source": [
    "model_main='snapML-'+model_base_name"
   ]
  },
  {
   "cell_type": "code",
   "execution_count": 49,
   "metadata": {
    "id": "80703754-6571-438b-b7e7-624b28f11a88"
   },
   "outputs": [
    {
     "name": "stdout",
     "output_type": "stream",
     "text": [
      "Overwriting /project_data/data_asset/models/snapML-RandomForest-main.py\n"
     ]
    }
   ],
   "source": [
    "%%writefile {model_dir}/{model_main}\n",
    "\n",
    "import numpy as np\n",
    "import pandas as pd\n",
    "import pickle\n",
    "from sklearn.metrics import accuracy_score\n",
    "#from sklearn.ensemble import RandomForestClassifier as skrfc\n",
    "from snapml import RandomForestClassifier as SnapRandomForestClassifier\n",
    "from sklearn.datasets import make_classification\n",
    "from sklearn.model_selection import train_test_split\n",
    "import os\n",
    "import datetime\n",
    "\n",
    "# specify the cache location to /gpfy since ~/.cache is not available\n",
    "os.environ[\"CUPY_CACHE_DIR\"]=\"/gpfs/mydatafs/models/cache/rf\"\n",
    "\n",
    "# Define Parameters for a large regression\n",
    "n_samples = 2**18\n",
    "n_features = 28 \n",
    "# n_class = 2\n",
    "data_type = np.float32\n",
    "\n",
    "# Generate Data using scikit-learn\n",
    "X,y = make_classification(n_samples=n_samples,\n",
    "                          n_features=n_features,\n",
    "                          # n_class=n_class,\n",
    "                          random_state=123, n_classes=2)\n",
    "\n",
    "X = pd.DataFrame(X.astype(data_type))\n",
    "y = pd.Series(y.astype(np.int32))\n",
    "\n",
    "X_train, X_test, y_train, y_test = train_test_split(X, y,\n",
    "                                                    test_size = 0.2,\n",
    "                                                    random_state=0)\n",
    "\n",
    "print(\"Number of examples: %d\" % (X_train.shape[0]))\n",
    "print(\"Number of features: %d\" % (X_train.shape[1]))\n",
    "print(\"Number of classes:  %d\" % (len(np.unique(y_train))))\n",
    "\n",
    "# snapML RandomForestClassifier model\n",
    "snap_model = SnapRandomForestClassifier(max_depth=16, \n",
    "                               n_estimators=40, \n",
    "                               n_jobs=4, \n",
    "                               random_state=10)\n",
    "# Fit\n",
    "start = datetime.datetime.now()\n",
    "# TypeError: Tree-based models in Snap ML only support numpy.ndarray\n",
    "snap_model.fit(X_train.values, y_train.values)\n",
    "end = datetime.datetime.now()\n",
    "print (\"train timecost: %.2gs\" % ((end-start).total_seconds()))\n",
    "\n",
    "# Evaluate\n",
    "start = datetime.datetime.now()\n",
    "sk_predict = snap_model.predict(X_test.values)\n",
    "end = datetime.datetime.now()\n",
    "print (\"evaluate timecost: %.2gs\" % ((end-start).total_seconds()))\n",
    "\n",
    "sk_acc = accuracy_score(y_test, sk_predict)\n",
    "print(\"test accuracy: %.2gs\" % sk_acc)\n",
    "\n",
    "filename = './snapml_random_forest_model.pkl'\n",
    "# save the trained cuml model into a file\n",
    "pickle.dump(snap_model, open(filename, 'wb'))\n",
    "print(\"saved model to file \", filename)"
   ]
  },
  {
   "cell_type": "markdown",
   "metadata": {
    "id": "f0e1567c-4a05-4124-8a90-31cffdab05b7"
   },
   "source": [
    "<a id = \"snapml-cpu\"></a>\n",
    "## Step 6 : Training the SnapML model on CPU with Watson Machine Learning Accelerator\n",
    "### Re-define the submittion parameters"
   ]
  },
  {
   "cell_type": "code",
   "execution_count": 50,
   "metadata": {
    "id": "44bc0c93-0c36-4e75-97ae-781d27373c66"
   },
   "outputs": [
    {
     "name": "stdout",
     "output_type": "stream",
     "text": [
      "--exec-start tensorflow --cs-datastore-meta type=fs --workerDeviceNum 1 --workerMemory 32G --workerDeviceType cpu --conda-env-name snapml-177rc --model-main snapML-RandomForest-main.py\n"
     ]
    }
   ],
   "source": [
    "# specify the model file, conda env, device type and device number\n",
    "args = '--exec-start tensorflow --cs-datastore-meta type=fs \\\n",
    "--workerDeviceNum 1 \\\n",
    "--workerMemory 32G \\\n",
    "--workerDeviceType cpu \\\n",
    "--conda-env-name snapml-177rc \\\n",
    "--model-main ' + model_main\n",
    "print(args)"
   ]
  },
  {
   "cell_type": "markdown",
   "metadata": {
    "id": "ba385a3c-66f2-4732-87bf-5f0a6cf35ead"
   },
   "source": [
    "### Submit WMLA Workload"
   ]
  },
  {
   "cell_type": "code",
   "execution_count": 51,
   "metadata": {
    "id": "9c06a9fa-0516-41e5-94a6-8263b3a9f7a9"
   },
   "outputs": [
    {
     "name": "stdout",
     "output_type": "stream",
     "text": [
      "Refreshing every 5 seconds\n"
     ]
    },
    {
     "data": {
      "text/html": [
       "<div>\n",
       "<style scoped>\n",
       "    .dataframe tbody tr th:only-of-type {\n",
       "        vertical-align: middle;\n",
       "    }\n",
       "\n",
       "    .dataframe tbody tr th {\n",
       "        vertical-align: top;\n",
       "    }\n",
       "\n",
       "    .dataframe thead th {\n",
       "        text-align: right;\n",
       "    }\n",
       "</style>\n",
       "<table border=\"1\" class=\"dataframe\">\n",
       "  <thead>\n",
       "    <tr style=\"text-align: right;\">\n",
       "      <th></th>\n",
       "      <th>id</th>\n",
       "      <th>args</th>\n",
       "      <th>submissionId</th>\n",
       "      <th>creator</th>\n",
       "      <th>state</th>\n",
       "      <th>appId</th>\n",
       "      <th>schedulerUrl</th>\n",
       "      <th>modelFileOwnerName</th>\n",
       "      <th>workDir</th>\n",
       "      <th>appName</th>\n",
       "      <th>createTime</th>\n",
       "      <th>elastic</th>\n",
       "      <th>nameSpace</th>\n",
       "      <th>numWorker</th>\n",
       "      <th>framework</th>\n",
       "    </tr>\n",
       "  </thead>\n",
       "  <tbody>\n",
       "    <tr>\n",
       "      <th>0</th>\n",
       "      <td>wmla-867</td>\n",
       "      <td>--exec-start tensorflow --cs-datastore-meta type=fs --workerDeviceNum 1 --workerMemory 32G --workerDeviceType cpu --...</td>\n",
       "      <td>wmla-867</td>\n",
       "      <td>mluser1</td>\n",
       "      <td>FINISHED</td>\n",
       "      <td>wmla-867</td>\n",
       "      <td>https://wmla-mss:9080</td>\n",
       "      <td>wmla</td>\n",
       "      <td>/gpfs/myresultfs/mluser1/batchworkdir/wmla-867/_submitted_code</td>\n",
       "      <td>SingleNodeTensorflowTrain</td>\n",
       "      <td>2021-07-27T10:19:58Z</td>\n",
       "      <td>False</td>\n",
       "      <td>wmla</td>\n",
       "      <td>1</td>\n",
       "      <td>tensorflow</td>\n",
       "    </tr>\n",
       "  </tbody>\n",
       "</table>\n",
       "</div>"
      ],
      "text/plain": [
       "         id  \\\n",
       "0  wmla-867   \n",
       "\n",
       "                                                                                                                      args  \\\n",
       "0  --exec-start tensorflow --cs-datastore-meta type=fs --workerDeviceNum 1 --workerMemory 32G --workerDeviceType cpu --...   \n",
       "\n",
       "  submissionId  creator     state     appId           schedulerUrl  \\\n",
       "0     wmla-867  mluser1  FINISHED  wmla-867  https://wmla-mss:9080   \n",
       "\n",
       "  modelFileOwnerName  \\\n",
       "0               wmla   \n",
       "\n",
       "                                                          workDir  \\\n",
       "0  /gpfs/myresultfs/mluser1/batchworkdir/wmla-867/_submitted_code   \n",
       "\n",
       "                     appName            createTime  elastic nameSpace  \\\n",
       "0  SingleNodeTensorflowTrain  2021-07-27T10:19:58Z    False      wmla   \n",
       "\n",
       "   numWorker   framework  \n",
       "0          1  tensorflow  "
      ]
     },
     "metadata": {},
     "output_type": "display_data"
    },
    {
     "name": "stdout",
     "output_type": "stream",
     "text": [
      "{ 'appId': 'wmla-867',\n",
      "  'appName': 'SingleNodeTensorflowTrain',\n",
      "  'args': '--exec-start tensorflow --cs-datastore-meta type=fs '\n",
      "          '--workerDeviceNum 1 --workerMemory 32G --workerDeviceType cpu '\n",
      "          '--conda-env-name snapml-177rc --model-main '\n",
      "          'snapML-RandomForest-main.py ',\n",
      "  'createTime': '2021-07-27T10:19:58Z',\n",
      "  'creator': 'mluser1',\n",
      "  'elastic': False,\n",
      "  'framework': 'tensorflow',\n",
      "  'id': 'wmla-867',\n",
      "  'modelFileOwnerName': 'wmla',\n",
      "  'nameSpace': 'wmla',\n",
      "  'numWorker': 1,\n",
      "  'schedulerUrl': 'https://wmla-mss:9080',\n",
      "  'state': 'FINISHED',\n",
      "  'submissionId': 'wmla-867',\n",
      "  'workDir': '/gpfs/myresultfs/mluser1/batchworkdir/wmla-867/_submitted_code'}\n",
      "\n",
      "Totallly training cost:  72  seconds.\n"
     ]
    }
   ],
   "source": [
    "files = {'file': open(\"{0}/{1}\".format(model_dir,model_main),'rb')}\n",
    "submit_job_to_wmla (args, files)"
   ]
  },
  {
   "cell_type": "markdown",
   "metadata": {
    "id": "511058be-80ec-4df1-868f-778e28aeea74"
   },
   "source": [
    "<a id = \"snapml-model-gpu\"></a>\n",
    "## Step 7 : Setup Random Forest model using snapML GPU¶\n",
    "### Create a Random Forest Model based on snapML"
   ]
  },
  {
   "cell_type": "code",
   "execution_count": 52,
   "metadata": {
    "id": "1fa688ae-a433-4196-9017-a497786569c5"
   },
   "outputs": [],
   "source": [
    "model_main='snapML-gpu-'+model_base_name"
   ]
  },
  {
   "cell_type": "code",
   "execution_count": 53,
   "metadata": {
    "id": "b7fd5d5f-bbec-410e-b532-25948cb10bd1"
   },
   "outputs": [
    {
     "name": "stdout",
     "output_type": "stream",
     "text": [
      "Overwriting /project_data/data_asset/models/snapML-gpu-RandomForest-main.py\n"
     ]
    }
   ],
   "source": [
    "%%writefile {model_dir}/{model_main}\n",
    "\n",
    "import numpy as np\n",
    "import pandas as pd\n",
    "import pickle\n",
    "from sklearn.metrics import accuracy_score\n",
    "#from sklearn.ensemble import RandomForestClassifier as skrfc\n",
    "from snapml import RandomForestClassifier as SnapRandomForestClassifier\n",
    "from sklearn.datasets import make_classification\n",
    "from sklearn.model_selection import train_test_split\n",
    "import os\n",
    "import datetime\n",
    "\n",
    "# specify the cache location to /gpfy since ~/.cache is not available\n",
    "os.environ[\"CUPY_CACHE_DIR\"]=\"/gpfs/mydatafs/models/cache/rf\"\n",
    "\n",
    "# Define Parameters for a large regression\n",
    "n_samples = 2**18\n",
    "n_features = 28 \n",
    "# n_class = 2\n",
    "data_type = np.float32\n",
    "\n",
    "# Generate Data using scikit-learn\n",
    "X,y = make_classification(n_samples=n_samples,\n",
    "                          n_features=n_features,\n",
    "                          # n_class=n_class,\n",
    "                          random_state=123, n_classes=2)\n",
    "\n",
    "X = pd.DataFrame(X.astype(data_type))\n",
    "y = pd.Series(y.astype(np.int32))\n",
    "\n",
    "X_train, X_test, y_train, y_test = train_test_split(X, y,\n",
    "                                                    test_size = 0.2,\n",
    "                                                    random_state=0)\n",
    "\n",
    "print(\"Number of examples: %d\" % (X_train.shape[0]))\n",
    "print(\"Number of features: %d\" % (X_train.shape[1]))\n",
    "print(\"Number of classes:  %d\" % (len(np.unique(y_train))))\n",
    "\n",
    "# snapML RandomForestClassifier model\n",
    "# \"GPU acceleration can only be enabled if use_histograms=True\"\n",
    "# ValueError: GPU acceleration can only be enabled if use_histograms=True\n",
    "snap_model = SnapRandomForestClassifier(use_gpu=True,\n",
    "                                        use_histograms=True,max_depth=16, n_estimators=40, \n",
    "                                        n_jobs=1, random_state=10)\n",
    "# Fit\n",
    "start = datetime.datetime.now()\n",
    "# TypeError: Tree-based models in Snap ML only support numpy.ndarray\n",
    "snap_model.fit(X_train.values, y_train.values)\n",
    "end = datetime.datetime.now()\n",
    "print (\"train timecost: %.2gs\" % ((end-start).total_seconds()))\n",
    "\n",
    "# Evaluate\n",
    "start = datetime.datetime.now()\n",
    "sk_predict = snap_model.predict(X_test.values)\n",
    "end = datetime.datetime.now()\n",
    "print (\"evaluate timecost: %.2gs\" % ((end-start).total_seconds()))\n",
    "\n",
    "sk_acc = accuracy_score(y_test, sk_predict)\n",
    "print(\"test accuracy: %.2gs\" % sk_acc)\n",
    "\n",
    "filename = './snapml_random_forest_model.pkl'\n",
    "# save the trained cuml model into a file\n",
    "pickle.dump(snap_model, open(filename, 'wb'))\n",
    "print(\"saved model to file \", filename)"
   ]
  },
  {
   "cell_type": "markdown",
   "metadata": {
    "id": "9ea91ef6-953b-431b-922f-3544fbc2ce99"
   },
   "source": [
    "<a id = \"snapml-gpu\"></a>\n",
    "## Step 8 : Training the SnapML model on GPU with Watson Machine Learning Accelerator\n",
    "### Re-define the submittion parameters"
   ]
  },
  {
   "cell_type": "code",
   "execution_count": 54,
   "metadata": {
    "id": "c89aeea8-17a6-49e0-8bac-f4b707e66dfc"
   },
   "outputs": [
    {
     "name": "stdout",
     "output_type": "stream",
     "text": [
      "--exec-start tensorflow --cs-datastore-meta type=fs --workerDeviceNum 1 --workerMemory 32G --workerDeviceType gpu --conda-env-name snapml-177rc --model-main snapML-gpu-RandomForest-main.py\n"
     ]
    }
   ],
   "source": [
    "# specify the model file, conda env, device type and device number\n",
    "args = '--exec-start tensorflow --cs-datastore-meta type=fs \\\n",
    "--workerDeviceNum 1 \\\n",
    "--workerMemory 32G \\\n",
    "--workerDeviceType gpu \\\n",
    "--conda-env-name snapml-177rc \\\n",
    "--model-main ' + model_main\n",
    "print(args)"
   ]
  },
  {
   "cell_type": "code",
   "execution_count": 55,
   "metadata": {
    "id": "8eab1b51-e267-49b8-8727-0738411ddf3f"
   },
   "outputs": [
    {
     "name": "stdout",
     "output_type": "stream",
     "text": [
      "Refreshing every 5 seconds\n"
     ]
    },
    {
     "data": {
      "text/html": [
       "<div>\n",
       "<style scoped>\n",
       "    .dataframe tbody tr th:only-of-type {\n",
       "        vertical-align: middle;\n",
       "    }\n",
       "\n",
       "    .dataframe tbody tr th {\n",
       "        vertical-align: top;\n",
       "    }\n",
       "\n",
       "    .dataframe thead th {\n",
       "        text-align: right;\n",
       "    }\n",
       "</style>\n",
       "<table border=\"1\" class=\"dataframe\">\n",
       "  <thead>\n",
       "    <tr style=\"text-align: right;\">\n",
       "      <th></th>\n",
       "      <th>id</th>\n",
       "      <th>args</th>\n",
       "      <th>submissionId</th>\n",
       "      <th>creator</th>\n",
       "      <th>state</th>\n",
       "      <th>appId</th>\n",
       "      <th>schedulerUrl</th>\n",
       "      <th>modelFileOwnerName</th>\n",
       "      <th>workDir</th>\n",
       "      <th>appName</th>\n",
       "      <th>createTime</th>\n",
       "      <th>elastic</th>\n",
       "      <th>nameSpace</th>\n",
       "      <th>numWorker</th>\n",
       "      <th>framework</th>\n",
       "    </tr>\n",
       "  </thead>\n",
       "  <tbody>\n",
       "    <tr>\n",
       "      <th>0</th>\n",
       "      <td>wmla-868</td>\n",
       "      <td>--exec-start tensorflow --cs-datastore-meta type=fs --workerDeviceNum 1 --workerMemory 32G --workerDeviceType gpu --...</td>\n",
       "      <td>wmla-868</td>\n",
       "      <td>mluser1</td>\n",
       "      <td>FINISHED</td>\n",
       "      <td>wmla-868</td>\n",
       "      <td>https://wmla-mss:9080</td>\n",
       "      <td>wmla</td>\n",
       "      <td>/gpfs/myresultfs/mluser1/batchworkdir/wmla-868/_submitted_code</td>\n",
       "      <td>SingleNodeTensorflowTrain</td>\n",
       "      <td>2021-07-27T10:21:11Z</td>\n",
       "      <td>False</td>\n",
       "      <td>wmla</td>\n",
       "      <td>1</td>\n",
       "      <td>tensorflow</td>\n",
       "    </tr>\n",
       "  </tbody>\n",
       "</table>\n",
       "</div>"
      ],
      "text/plain": [
       "         id  \\\n",
       "0  wmla-868   \n",
       "\n",
       "                                                                                                                      args  \\\n",
       "0  --exec-start tensorflow --cs-datastore-meta type=fs --workerDeviceNum 1 --workerMemory 32G --workerDeviceType gpu --...   \n",
       "\n",
       "  submissionId  creator     state     appId           schedulerUrl  \\\n",
       "0     wmla-868  mluser1  FINISHED  wmla-868  https://wmla-mss:9080   \n",
       "\n",
       "  modelFileOwnerName  \\\n",
       "0               wmla   \n",
       "\n",
       "                                                          workDir  \\\n",
       "0  /gpfs/myresultfs/mluser1/batchworkdir/wmla-868/_submitted_code   \n",
       "\n",
       "                     appName            createTime  elastic nameSpace  \\\n",
       "0  SingleNodeTensorflowTrain  2021-07-27T10:21:11Z    False      wmla   \n",
       "\n",
       "   numWorker   framework  \n",
       "0          1  tensorflow  "
      ]
     },
     "metadata": {},
     "output_type": "display_data"
    },
    {
     "name": "stdout",
     "output_type": "stream",
     "text": [
      "{ 'appId': 'wmla-868',\n",
      "  'appName': 'SingleNodeTensorflowTrain',\n",
      "  'args': '--exec-start tensorflow --cs-datastore-meta type=fs '\n",
      "          '--workerDeviceNum 1 --workerMemory 32G --workerDeviceType gpu '\n",
      "          '--conda-env-name snapml-177rc --model-main '\n",
      "          'snapML-gpu-RandomForest-main.py ',\n",
      "  'createTime': '2021-07-27T10:21:11Z',\n",
      "  'creator': 'mluser1',\n",
      "  'elastic': False,\n",
      "  'framework': 'tensorflow',\n",
      "  'id': 'wmla-868',\n",
      "  'modelFileOwnerName': 'wmla',\n",
      "  'nameSpace': 'wmla',\n",
      "  'numWorker': 1,\n",
      "  'schedulerUrl': 'https://wmla-mss:9080',\n",
      "  'state': 'FINISHED',\n",
      "  'submissionId': 'wmla-868',\n",
      "  'workDir': '/gpfs/myresultfs/mluser1/batchworkdir/wmla-868/_submitted_code'}\n",
      "\n",
      "Totallly training cost:  62  seconds.\n"
     ]
    }
   ],
   "source": [
    "files = {'file': open(\"{0}/{1}\".format(model_dir,model_main),'rb')}\n",
    "submit_job_to_wmla (args, files)"
   ]
  },
  {
   "cell_type": "code",
   "execution_count": null,
   "metadata": {
    "id": "99ec18d2-3fc8-458f-ab50-46a5fa0e819a"
   },
   "outputs": [],
   "source": []
  }
 ],
 "metadata": {
  "kernelspec": {
   "display_name": "Python 3",
   "language": "python",
   "name": "python3"
  },
  "language_info": {
   "codemirror_mode": {
    "name": "ipython",
    "version": 3
   },
   "file_extension": ".py",
   "mimetype": "text/x-python",
   "name": "python",
   "nbconvert_exporter": "python",
   "pygments_lexer": "ipython3",
   "version": "3.6.10"
  }
 },
 "nbformat": 4,
 "nbformat_minor": 5
}
