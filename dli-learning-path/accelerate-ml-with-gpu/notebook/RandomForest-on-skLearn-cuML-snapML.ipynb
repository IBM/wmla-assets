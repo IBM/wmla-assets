{
    "cells": [
        {
            "metadata": {
                "id": "8f4ba682-1063-467a-9996-276517b676d6"
            }, 
            "cell_type": "markdown", 
            "source": "# Train a Random Forest Model with Watson Machine Learning 

Notebook created by Zeming Zhao on June, 2021

The Random Forest algorithm is a classification method which builds several decision trees, and aggregates each of their outputs to make a prediction.

In this notebook we have three versions of Linear Regression model: scikit-learn version, cuML version and snapML version.

All three versions will be submitted onto WMLA. And we can compare the performance benifit of cuML and snapML version.

This notebook covers the following sections:

1. [Setup Random Forest using sklearning](#skl-model)<br>

1. [Training the model on CPU with Watson Machine Learning Accelerator](#skl-cpu)<br>

1. [Setup Random Forest using cuML](#cuml-model)<br>

1. [Training the model on GPU with Watson Machine Learning Accelerator](#cuml-gpu)<br>

1. [Setup Random Forest using snapML](#snapml-model)<br>

1. [Training the model on CPU with Watson Machine Learning Accelerator](#snapml-cpu)<br>

1. [Setup Random Forest using snapML GPU](#snapml-model-gpu)<br>

1. [Training the model on GPU with Watson Machine Learning Accelerator](#snapml-gpu)<br>"
        }, 
        {
            "metadata": {
                "id": "278153e8-1716-4e1c-9e59-aa09d6eccfe7"
            }, 
            "cell_type": "markdown", 
            "source": "## Preparations
### Prepare directory and file for writing Random Forest engine."
        }, 
        {
            "metadata": {
                "id": "a49e45f9-157c-420f-8d69-96b6e7268ff0"
            }, 
            "cell_type": "code", 
            "source": "from pathlib import Path
model_dir = f'/project_data/data_asset/models' 
model_base_name = f'RandomForest-main.py'
Path(model_dir).mkdir(exist_ok=True)
print(\"create model directory done.\")", 
            "execution_count": 1, 
            "outputs": [
                {
                    "output_type": "stream", 
                    "text": "create model directory done.
", 
                    "name": "stdout"
                }
            ]
        }, 
        {
            "metadata": {
                "id": "21611745-6d06-4e6f-a6e2-f85185799fae"
            }, 
            "cell_type": "markdown", 
            "source": "<a id = \"skl-model\"></a>
## Step 1 : Setup Random Forest model using scikit-learn.
### Create a Random Forest Model based on scikit-learn on CPU"
        }, 
        {
            "metadata": {
                "id": "e07bea70-4b61-4e3a-ae46-68c44e4a8c45"
            }, 
            "cell_type": "code", 
            "source": "model_main='sklearn-'+model_base_name", 
            "execution_count": 2, 
            "outputs": [ ]
        }, 
        {
            "metadata": {
                "id": "7f353a3c-b85a-4b05-90e5-eb335fc951e0"
            }, 
            "cell_type": "code", 
            "source": "%%writefile {model_dir}/{model_main}

import os, datetime
import numpy as np
import pandas as pd
# import pickle
from sklearn.metrics import accuracy_score
from sklearn.datasets import make_classification
from sklearn.model_selection import train_test_split
from sklearn.ensemble import RandomForestClassifier as skrfc

# Define Parameters for a large regression
n_samples = 2**18
n_features = 28 
# n_class = 2
data_type = np.float32

# Generate Data using scikit-learn
X,y = make_classification(n_samples=n_samples,
                          n_features=n_features,
                          # n_class=n_class,
                          random_state=123, n_classes=2)

X = pd.DataFrame(X.astype(data_type))
y = pd.Series(y.astype(np.int32))

X_train, X_test, y_train, y_test = train_test_split(X, y,
                                                    test_size = 0.2,
                                                    random_state=0)

print(\"Number of examples: %d\" % (X_train.shape[0]))
print(\"Number of features: %d\" % (X_train.shape[1]))
print(\"Number of classes:  %d\" % (len(np.unique(y_train))))

# scikit-learn RandomForestClassifier model
sk_model = skrfc(n_estimators=40,
                 max_depth=16,
                 max_features=1.0,
                 random_state=10)

# Fit
start = datetime.datetime.now()
sk_model.fit(X_train, y_train)
end = datetime.datetime.now()
print (\"train timecost: %.2gs\" % ((end-start).total_seconds()))

# Evaluate
start = datetime.datetime.now()
sk_predict = sk_model.predict(X_test)
end = datetime.datetime.now()
print (\"evaluate timecost: %.2gs\" % ((end-start).total_seconds()))

sk_acc = accuracy_score(y_test, sk_predict)
print(\"test accuracy: %.2gs\" % sk_acc)

# filename = './skl_random_forest_model.pkl'
# # save the trained cuml model into a file
# pickle.dump(sk_model, open(filename, 'wb'))
# print(\"saved model to file \", filename)", 
            "execution_count": 3, 
            "outputs": [
                {
                    "output_type": "stream", 
                    "text": "Overwriting /project_data/data_asset/models/sklearn-RandomForest-main.py
", 
                    "name": "stdout"
                }
            ]
        }, 
        {
            "metadata": {
                "id": "c80457b4-238e-4edb-ba69-d627fd90df3a"
            }, 
            "cell_type": "markdown", 
            "source": "<a id = \"skl-cpu\"></a>
## Step 2 :  Training the SK-Learning model on CPU with Watson Machine Learning Accelerator
### Prepare the model lib for job submission:"
        }, 
        {
            "metadata": {
                "id": "4f8a9c2c-ff01-49ae-a1ab-3e2cad9f74db"
            }, 
            "cell_type": "code", 
            "source": "import requests
from requests.packages.urllib3.exceptions import InsecureRequestWarning
requests.packages.urllib3.disable_warnings(InsecureRequestWarning)

from matplotlib import pyplot as plt
%pylab inline

import base64
import json
import time
import urllib", 
            "execution_count": 4, 
            "outputs": [
                {
                    "output_type": "stream", 
                    "text": "Populating the interactive namespace from numpy and matplotlib
", 
                    "name": "stdout"
                }
            ]
        }, 
        {
            "metadata": {
                "id": "632bb4a1-73cf-403f-85cf-5168d2aa086f"
            }, 
            "cell_type": "markdown", 
            "source": "### Configuring your environment and project details
To set up your project details, provide your credentials in this cell. You must include your cluster URL, username, and password."
        }, 
        {
            "metadata": {
                "id": "36320f70-893b-4b9d-8fd7-6dfbc262957c"
            }, 
            "cell_type": "code", 
            "source": "# please enter Watson Machine Learning Accelerator host name
hostname='wmla-console-wmla.apps.dse-perf.cpolab.ibm.com'
# login='username:password' # please enter the login and password
login='mluser1:mluser1'
es = base64.b64encode(login.encode('utf-8')).decode(\"utf-8\")
# print(es)
commonHeaders={'Authorization': 'Basic '+es}
req = requests.Session()
auth_url = 'https://{}/auth/v1/logon'.format(hostname)
print(auth_url)

a=requests.get(auth_url,headers=commonHeaders, verify=False)
access_token=a.json()['accessToken']
# print(\"Access_token: \", access_token)

dl_rest_url = 'https://{}/platform/rest/deeplearning/v1'.format(hostname)
commonHeaders={'accept': 'application/json', 'X-Auth-Token': access_token}
req = requests.Session()

# Health check
confUrl = 'https://{}/platform/rest/deeplearning/v1/conf'.format(hostname)
r = req.get(confUrl, headers=commonHeaders, verify=False)", 
            "execution_count": 5, 
            "outputs": [
                {
                    "output_type": "stream", 
                    "text": "https://wmla-console-wmla.apps.dse-perf.cpolab.ibm.com/auth/v1/logon
", 
                    "name": "stdout"
                }
            ]
        }, 
        {
            "metadata": {
                "id": "741a8519-9e68-480a-8957-81c49805ee90"
            }, 
            "cell_type": "markdown", 
            "source": "### Define the status checking function"
        }, 
        {
            "metadata": {
                "id": "e3af268a-751c-4990-af70-2775109f8bee"
            }, 
            "cell_type": "code", 
            "source": "import tarfile
import tempfile
import os
import json
import pprint
import pandas as pd
from IPython.display import clear_output

def query_job_status(job_id,refresh_rate=3) :

    execURL = dl_rest_url  +'/execs/'+ job_id['id']
    pp = pprint.PrettyPrinter(indent=2)

    keep_running=True
    res=None
    while(keep_running):
        res = req.get(execURL, headers=commonHeaders, verify=False)
        monitoring = pd.DataFrame(res.json(), index=[0])
        pd.set_option('max_colwidth', 120)
        clear_output()
        print(\"Refreshing every {} seconds\".format(refresh_rate))
        display(monitoring)
        pp.pprint(res.json())
        if(res.json()['state'] not in ['PENDING_CRD_SCHEDULER', 'SUBMITTED','RUNNING']) :
            keep_running=False
        time.sleep(refresh_rate)
    return res", 
            "execution_count": 6, 
            "outputs": [ ]
        }, 
        {
            "metadata": {
                "id": "a08655c5-ab57-42f3-ba39-2e8ec3576cc3"
            }, 
            "cell_type": "markdown", 
            "source": "### Define the submission parameters"
        }, 
        {
            "metadata": {
                "id": "561acbf1-1998-4038-8a83-9680f67b0cc6"
            }, 
            "cell_type": "code", 
            "source": "# specify the model file, conda env, device type and device number
args = '--exec-start tensorflow --cs-datastore-meta type=fs \\
--workerDeviceNum 1 \\
--workerMemory 32G \\
--workerDeviceType cpu \\
--conda-env-name rapids-21.06-new  \\
--model-main ' + model_main

print(args)", 
            "execution_count": 7, 
            "outputs": [
                {
                    "output_type": "stream", 
                    "text": "--exec-start tensorflow --cs-datastore-meta type=fs --workerDeviceNum 1 --workerMemory 32G --workerDeviceType cpu --conda-env-name rapids-21.06-new  --model-main sklearn-RandomForest-main.py
", 
                    "name": "stdout"
                }
            ]
        }, 
        {
            "metadata": {
                "id": "99680c26-f421-403a-a56a-9cae1285cfdd"
            }, 
            "cell_type": "markdown", 
            "source": "### Define the submission function"
        }, 
        {
            "metadata": {
                "id": "ecc5ac5d-9e66-4dff-9017-e08aae7216c5"
            }, 
            "cell_type": "code", 
            "source": "def submit_job_to_wmla (args, files) :
    starttime = datetime.datetime.now()
    r = requests.post(dl_rest_url+'/execs?args='+args, files=files,
                  headers=commonHeaders, verify=False)
    if not r.ok:
        print('submit job failed: code=%s, %s'%(r.status_code, r.content))
    job_status = query_job_status(r.json(),refresh_rate=5)
    endtime = datetime.datetime.now()
    print(\"\\nTotallly training cost: \", (endtime - starttime).seconds, \" seconds.\")", 
            "execution_count": 8, 
            "outputs": [ ]
        }, 
        {
            "metadata": {
                "id": "946c6333-3686-447c-96f1-674537319afc"
            }, 
            "cell_type": "markdown", 
            "source": "### Submit WMLA Workload"
        }, 
        {
            "metadata": {
                "id": "e2138505-dbaf-427c-b0b8-b586e2ce923b"
            }, 
            "cell_type": "code", 
            "source": "files = {'file': open(\"{0}/{1}\".format(model_dir,model_main),'rb')}
submit_job_to_wmla (args, files)", 
            "execution_count": 9, 
            "outputs": [
                {
                    "output_type": "stream", 
                    "text": "Refreshing every 5 seconds
", 
                    "name": "stdout"
                }, 
                {
                    "output_type": "display_data", 
                    "data": {
                        "text/plain": "         id  \\
0  wmla-961   

                                                                                                                      args  \\
0  --exec-start tensorflow --cs-datastore-meta type=fs --workerDeviceNum 1 --workerMemory 32G --workerDeviceType cpu --...   

  submissionId  creator     state     appId           schedulerUrl  \\
0     wmla-961  mluser1  FINISHED  wmla-961  https://wmla-mss:9080   

  modelFileOwnerName  \\
0               wmla   

                                                          workDir  \\
0  /gpfs/myresultfs/mluser1/batchworkdir/wmla-961/_submitted_code   

                     appName            createTime  elastic nameSpace  \\
0  SingleNodeTensorflowTrain  2021-07-29T05:39:46Z    False      wmla   

   numWorker   framework  
0          1  tensorflow  ", 
                        "text/html": "<div>
<style scoped>
    .dataframe tbody tr th:only-of-type {
        vertical-align: middle;
    }

    .dataframe tbody tr th {
        vertical-align: top;
    }

    .dataframe thead th {
        text-align: right;
    }
</style>
<table border=\"1\" class=\"dataframe\">
  <thead>
    <tr style=\"text-align: right;\">
      <th></th>
      <th>id</th>
      <th>args</th>
      <th>submissionId</th>
      <th>creator</th>
      <th>state</th>
      <th>appId</th>
      <th>schedulerUrl</th>
      <th>modelFileOwnerName</th>
      <th>workDir</th>
      <th>appName</th>
      <th>createTime</th>
      <th>elastic</th>
      <th>nameSpace</th>
      <th>numWorker</th>
      <th>framework</th>
    </tr>
  </thead>
  <tbody>
    <tr>
      <th>0</th>
      <td>wmla-961</td>
      <td>--exec-start tensorflow --cs-datastore-meta type=fs --workerDeviceNum 1 --workerMemory 32G --workerDeviceType cpu --...</td>
      <td>wmla-961</td>
      <td>mluser1</td>
      <td>FINISHED</td>
      <td>wmla-961</td>
      <td>https://wmla-mss:9080</td>
      <td>wmla</td>
      <td>/gpfs/myresultfs/mluser1/batchworkdir/wmla-961/_submitted_code</td>
      <td>SingleNodeTensorflowTrain</td>
      <td>2021-07-29T05:39:46Z</td>
      <td>False</td>
      <td>wmla</td>
      <td>1</td>
      <td>tensorflow</td>
    </tr>
  </tbody>
</table>
</div>"
                    }, 
                    "metadata": { }
                }, 
                {
                    "output_type": "stream", 
                    "text": "{ 'appId': 'wmla-961',
  'appName': 'SingleNodeTensorflowTrain',
  'args': '--exec-start tensorflow --cs-datastore-meta type=fs '
          '--workerDeviceNum 1 --workerMemory 32G --workerDeviceType cpu '
          '--conda-env-name rapids-21.06-new  --model-main '
          'sklearn-RandomForest-main.py ',
  'createTime': '2021-07-29T05:39:46Z',
  'creator': 'mluser1',
  'elastic': False,
  'framework': 'tensorflow',
  'id': 'wmla-961',
  'modelFileOwnerName': 'wmla',
  'nameSpace': 'wmla',
  'numWorker': 1,
  'schedulerUrl': 'https://wmla-mss:9080',
  'state': 'FINISHED',
  'submissionId': 'wmla-961',
  'workDir': '/gpfs/myresultfs/mluser1/batchworkdir/wmla-961/_submitted_code'}

Totallly training cost:  351  seconds.
", 
                    "name": "stdout"
                }
            ]
        }, 
        {
            "metadata": {
                "id": "c0828964-57ae-41ba-ad88-679bb2b41e74"
            }, 
            "cell_type": "markdown", 
            "source": "<a id = \"cuml-model\"></a>
## Step 3 :  Setup Random Forest model using cmML
### Create a Random Forest Model based on cuML on GPU"
        }, 
        {
            "metadata": {
                "id": "ee2d4c94-960a-409f-b62d-0f4d256c38db"
            }, 
            "cell_type": "code", 
            "source": "model_main='cuML-'+model_base_name", 
            "execution_count": 10, 
            "outputs": [ ]
        }, 
        {
            "metadata": {
                "id": "17ad3cf1-7952-41ab-96bf-895cb45daaf5"
            }, 
            "cell_type": "code", 
            "source": "%%writefile {model_dir}/{model_main}

import cudf
import numpy as np
import pandas as pd
# import pickle

from cuml.ensemble import RandomForestClassifier as curfc
from cuml.metrics import accuracy_score

from sklearn.ensemble import RandomForestClassifier as skrfc
from sklearn.datasets import make_classification
from sklearn.model_selection import train_test_split
import os
import datetime

# specify the cache location to /gpfy since ~/.cache is not available
os.environ[\"CUPY_CACHE_DIR\"]=\"/gpfs/mydatafs/models/cache/rf\"

# Define Parameters for a large regression
n_samples = 2**18
n_features = 28 
# n_classes = 2
data_type = np.float32

# Generate Data using cuML
X,y = make_classification(n_samples=n_samples,
                          n_features=n_features,
                          # n_classes=n_classes,
                          random_state=123, n_classes=2)

X = pd.DataFrame(X.astype(data_type))
y = pd.Series(y.astype(np.int32))

X_train, X_test, y_train, y_test = train_test_split(X, y,
                                                     test_size = 0.2,
                                                     random_state=0)

print(\"Number of examples: %d\" % (X_train.shape[0]))
print(\"Number of features: %d\" % (X_train.shape[1]))
print(\"Number of classes:  %d\" % (len(np.unique(y_train))))

X_cudf_train = cudf.DataFrame.from_pandas(X_train)
X_cudf_test = cudf.DataFrame.from_pandas(X_test)
y_cudf_train = cudf.Series(y_train.values)
y_cudf_test = cudf.Series(y_test.values)
    
# cuML RandomForestClassifier model
cuml_model = curfc(n_estimators=40,
                   max_depth=16,
                   max_features=1.0,
                   random_state=10)
# Fit
start = datetime.datetime.now()
cuml_model.fit(X_cudf_train, y_cudf_train)
end = datetime.datetime.now()
print (\"train timecost: %.2gs\" % ((end-start).total_seconds()))

# Evaluate
start = datetime.datetime.now()
fil_preds_orig = cuml_model.predict(X_cudf_test)
end = datetime.datetime.now()
print (\"evaluate timecost: %.2gs\" % ((end-start).total_seconds()))

# sk_acc = accuracy_score(y_test.to_numpy(), fil_preds_orig)
sk_acc = accuracy_score(y_cudf_test, fil_preds_orig)
print(\"test accuracy: %.2gs\" % sk_acc)

# filename = './cuml_random_forest_model.pkl'
# # save the trained cuml model into a file
# pickle.dump(cuml_model, open(filename, 'wb'))
# print(\"saved model to file \", filename)", 
            "execution_count": 11, 
            "outputs": [
                {
                    "output_type": "stream", 
                    "text": "Overwriting /project_data/data_asset/models/cuML-RandomForest-main.py
", 
                    "name": "stdout"
                }
            ]
        }, 
        {
            "metadata": {
                "id": "717b5f36-6d81-4219-9cc9-fdb00f1ec759"
            }, 
            "cell_type": "markdown", 
            "source": "<a id = \"cuml-gpu\"></a>
## Step 4 :  Training the cuML model on GPU with Watson Machine Learning Accelerator
### Re-define the submittion parameters"
        }, 
        {
            "metadata": {
                "id": "3b0f4ba1-b8d5-470a-bb00-4e327db1bad4"
            }, 
            "cell_type": "code", 
            "source": "# specify the model file, conda env, device type and device number
args = '--exec-start tensorflow --cs-datastore-meta type=fs \\
--workerDeviceNum 1 \\
--workerMemory 32G \\
--workerDeviceType gpu \\
--conda-env-name rapids-21.06-new  \\
--model-main ' + model_main
print(args)", 
            "execution_count": 12, 
            "outputs": [
                {
                    "output_type": "stream", 
                    "text": "--exec-start tensorflow --cs-datastore-meta type=fs --workerDeviceNum 1 --workerMemory 32G --workerDeviceType gpu --conda-env-name rapids-21.06-new  --model-main cuML-RandomForest-main.py
", 
                    "name": "stdout"
                }
            ]
        }, 
        {
            "metadata": {
                "id": "c1b157cf-d1f6-4666-a3fd-7dd338522a2f"
            }, 
            "cell_type": "code", 
            "source": "files = {'file': open(\"{0}/{1}\".format(model_dir,model_main),'rb')}
submit_job_to_wmla (args, files)", 
            "execution_count": 13, 
            "outputs": [
                {
                    "output_type": "stream", 
                    "text": "Refreshing every 5 seconds
", 
                    "name": "stdout"
                }, 
                {
                    "output_type": "display_data", 
                    "data": {
                        "text/plain": "         id  \\
0  wmla-962   

                                                                                                                      args  \\
0  --exec-start tensorflow --cs-datastore-meta type=fs --workerDeviceNum 1 --workerMemory 32G --workerDeviceType gpu --...   

  submissionId  creator     state     appId           schedulerUrl  \\
0     wmla-962  mluser1  FINISHED  wmla-962  https://wmla-mss:9080   

  modelFileOwnerName  \\
0               wmla   

                                                          workDir  \\
0  /gpfs/myresultfs/mluser1/batchworkdir/wmla-962/_submitted_code   

                     appName            createTime  elastic nameSpace  \\
0  SingleNodeTensorflowTrain  2021-07-29T05:45:38Z    False      wmla   

   numWorker   framework  
0          1  tensorflow  ", 
                        "text/html": "<div>
<style scoped>
    .dataframe tbody tr th:only-of-type {
        vertical-align: middle;
    }

    .dataframe tbody tr th {
        vertical-align: top;
    }

    .dataframe thead th {
        text-align: right;
    }
</style>
<table border=\"1\" class=\"dataframe\">
  <thead>
    <tr style=\"text-align: right;\">
      <th></th>
      <th>id</th>
      <th>args</th>
      <th>submissionId</th>
      <th>creator</th>
      <th>state</th>
      <th>appId</th>
      <th>schedulerUrl</th>
      <th>modelFileOwnerName</th>
      <th>workDir</th>
      <th>appName</th>
      <th>createTime</th>
      <th>elastic</th>
      <th>nameSpace</th>
      <th>numWorker</th>
      <th>framework</th>
    </tr>
  </thead>
  <tbody>
    <tr>
      <th>0</th>
      <td>wmla-962</td>
      <td>--exec-start tensorflow --cs-datastore-meta type=fs --workerDeviceNum 1 --workerMemory 32G --workerDeviceType gpu --...</td>
      <td>wmla-962</td>
      <td>mluser1</td>
      <td>FINISHED</td>
      <td>wmla-962</td>
      <td>https://wmla-mss:9080</td>
      <td>wmla</td>
      <td>/gpfs/myresultfs/mluser1/batchworkdir/wmla-962/_submitted_code</td>
      <td>SingleNodeTensorflowTrain</td>
      <td>2021-07-29T05:45:38Z</td>
      <td>False</td>
      <td>wmla</td>
      <td>1</td>
      <td>tensorflow</td>
    </tr>
  </tbody>
</table>
</div>"
                    }, 
                    "metadata": { }
                }, 
                {
                    "output_type": "stream", 
                    "text": "{ 'appId': 'wmla-962',
  'appName': 'SingleNodeTensorflowTrain',
  'args': '--exec-start tensorflow --cs-datastore-meta type=fs '
          '--workerDeviceNum 1 --workerMemory 32G --workerDeviceType gpu '
          '--conda-env-name rapids-21.06-new  --model-main '
          'cuML-RandomForest-main.py ',
  'createTime': '2021-07-29T05:45:38Z',
  'creator': 'mluser1',
  'elastic': False,
  'framework': 'tensorflow',
  'id': 'wmla-962',
  'modelFileOwnerName': 'wmla',
  'nameSpace': 'wmla',
  'numWorker': 1,
  'schedulerUrl': 'https://wmla-mss:9080',
  'state': 'FINISHED',
  'submissionId': 'wmla-962',
  'workDir': '/gpfs/myresultfs/mluser1/batchworkdir/wmla-962/_submitted_code'}

Totallly training cost:  52  seconds.
", 
                    "name": "stdout"
                }
            ]
        }, 
        {
            "metadata": {
                "id": "55a52bd4-126b-4350-8418-1bbe18e3349c"
            }, 
            "cell_type": "markdown", 
            "source": "<a id = \"snapml-model\"></a>
## Step 5 : Setup Random Forest model using snapML¶
### Create a Random Forest Model based on snapML"
        }, 
        {
            "metadata": {
                "id": "97e0ea0f-feec-483d-97cf-7bf25df6f3d1"
            }, 
            "cell_type": "code", 
            "source": "model_main='snapML-'+model_base_name", 
            "execution_count": 14, 
            "outputs": [ ]
        }, 
        {
            "metadata": {
                "id": "80703754-6571-438b-b7e7-624b28f11a88"
            }, 
            "cell_type": "code", 
            "source": "%%writefile {model_dir}/{model_main}

import numpy as np
import pandas as pd
# import pickle
from sklearn.metrics import accuracy_score
#from sklearn.ensemble import RandomForestClassifier as skrfc
from snapml import RandomForestClassifier as SnapRandomForestClassifier
from sklearn.datasets import make_classification
from sklearn.model_selection import train_test_split
import os
import datetime

# specify the cache location to /gpfy since ~/.cache is not available
os.environ[\"CUPY_CACHE_DIR\"]=\"/gpfs/mydatafs/models/cache/rf\"

# Define Parameters for a large regression
n_samples = 2**18
n_features = 28 
# n_class = 2
data_type = np.float32

# Generate Data using scikit-learn
X,y = make_classification(n_samples=n_samples,
                          n_features=n_features,
                          # n_class=n_class,
                          random_state=123, n_classes=2)

X = pd.DataFrame(X.astype(data_type))
y = pd.Series(y.astype(np.int32))

X_train, X_test, y_train, y_test = train_test_split(X, y,
                                                    test_size = 0.2,
                                                    random_state=0)

print(\"Number of examples: %d\" % (X_train.shape[0]))
print(\"Number of features: %d\" % (X_train.shape[1]))
print(\"Number of classes:  %d\" % (len(np.unique(y_train))))

# snapML RandomForestClassifier model
snap_model = SnapRandomForestClassifier(max_depth=16, 
                               n_estimators=40, 
                               n_jobs=4, 
                               random_state=10)
# Fit
start = datetime.datetime.now()
# TypeError: Tree-based models in Snap ML only support numpy.ndarray
snap_model.fit(X_train.values, y_train.values)
end = datetime.datetime.now()
print (\"train timecost: %.2gs\" % ((end-start).total_seconds()))

# Evaluate
start = datetime.datetime.now()
sk_predict = snap_model.predict(X_test.values)
end = datetime.datetime.now()
print (\"evaluate timecost: %.2gs\" % ((end-start).total_seconds()))

sk_acc = accuracy_score(y_test, sk_predict)
print(\"test accuracy: %.2gs\" % sk_acc)

# filename = './snapml_random_forest_model.pkl'
# # save the trained cuml model into a file
# pickle.dump(snap_model, open(filename, 'wb'))
# print(\"saved model to file \", filename)", 
            "execution_count": 15, 
            "outputs": [
                {
                    "output_type": "stream", 
                    "text": "Overwriting /project_data/data_asset/models/snapML-RandomForest-main.py
", 
                    "name": "stdout"
                }
            ]
        }, 
        {
            "metadata": {
                "id": "f0e1567c-4a05-4124-8a90-31cffdab05b7"
            }, 
            "cell_type": "markdown", 
            "source": "<a id = \"snapml-cpu\"></a>
## Step 6 : Training the SnapML model on CPU with Watson Machine Learning Accelerator
### Re-define the submittion parameters"
        }, 
        {
            "metadata": {
                "id": "44bc0c93-0c36-4e75-97ae-781d27373c66"
            }, 
            "cell_type": "code", 
            "source": "# specify the model file, conda env, device type and device number
args = '--exec-start tensorflow --cs-datastore-meta type=fs \\
--workerDeviceNum 1 \\
--workerMemory 32G \\
--workerDeviceType cpu \\
--conda-env-name snapml-177rc \\
--model-main ' + model_main
print(args)", 
            "execution_count": 16, 
            "outputs": [
                {
                    "output_type": "stream", 
                    "text": "--exec-start tensorflow --cs-datastore-meta type=fs --workerDeviceNum 1 --workerMemory 32G --workerDeviceType cpu --conda-env-name snapml-177rc --model-main snapML-RandomForest-main.py
", 
                    "name": "stdout"
                }
            ]
        }, 
        {
            "metadata": {
                "id": "ba385a3c-66f2-4732-87bf-5f0a6cf35ead"
            }, 
            "cell_type": "markdown", 
            "source": "### Submit WMLA Workload"
        }, 
        {
            "metadata": {
                "id": "9c06a9fa-0516-41e5-94a6-8263b3a9f7a9"
            }, 
            "cell_type": "code", 
            "source": "files = {'file': open(\"{0}/{1}\".format(model_dir,model_main),'rb')}
submit_job_to_wmla (args, files)", 
            "execution_count": 17, 
            "outputs": [
                {
                    "output_type": "stream", 
                    "text": "Refreshing every 5 seconds
", 
                    "name": "stdout"
                }, 
                {
                    "output_type": "display_data", 
                    "data": {
                        "text/plain": "         id  \\
0  wmla-963   

                                                                                                                      args  \\
0  --exec-start tensorflow --cs-datastore-meta type=fs --workerDeviceNum 1 --workerMemory 32G --workerDeviceType cpu --...   

  submissionId  creator     state     appId           schedulerUrl  \\
0     wmla-963  mluser1  FINISHED  wmla-963  https://wmla-mss:9080   

  modelFileOwnerName  \\
0               wmla   

                                                          workDir  \\
0  /gpfs/myresultfs/mluser1/batchworkdir/wmla-963/_submitted_code   

                     appName            createTime  elastic nameSpace  \\
0  SingleNodeTensorflowTrain  2021-07-29T05:46:32Z    False      wmla   

   numWorker   framework  
0          1  tensorflow  ", 
                        "text/html": "<div>
<style scoped>
    .dataframe tbody tr th:only-of-type {
        vertical-align: middle;
    }

    .dataframe tbody tr th {
        vertical-align: top;
    }

    .dataframe thead th {
        text-align: right;
    }
</style>
<table border=\"1\" class=\"dataframe\">
  <thead>
    <tr style=\"text-align: right;\">
      <th></th>
      <th>id</th>
      <th>args</th>
      <th>submissionId</th>
      <th>creator</th>
      <th>state</th>
      <th>appId</th>
      <th>schedulerUrl</th>
      <th>modelFileOwnerName</th>
      <th>workDir</th>
      <th>appName</th>
      <th>createTime</th>
      <th>elastic</th>
      <th>nameSpace</th>
      <th>numWorker</th>
      <th>framework</th>
    </tr>
  </thead>
  <tbody>
    <tr>
      <th>0</th>
      <td>wmla-963</td>
      <td>--exec-start tensorflow --cs-datastore-meta type=fs --workerDeviceNum 1 --workerMemory 32G --workerDeviceType cpu --...</td>
      <td>wmla-963</td>
      <td>mluser1</td>
      <td>FINISHED</td>
      <td>wmla-963</td>
      <td>https://wmla-mss:9080</td>
      <td>wmla</td>
      <td>/gpfs/myresultfs/mluser1/batchworkdir/wmla-963/_submitted_code</td>
      <td>SingleNodeTensorflowTrain</td>
      <td>2021-07-29T05:46:32Z</td>
      <td>False</td>
      <td>wmla</td>
      <td>1</td>
      <td>tensorflow</td>
    </tr>
  </tbody>
</table>
</div>"
                    }, 
                    "metadata": { }
                }, 
                {
                    "output_type": "stream", 
                    "text": "{ 'appId': 'wmla-963',
  'appName': 'SingleNodeTensorflowTrain',
  'args': '--exec-start tensorflow --cs-datastore-meta type=fs '
          '--workerDeviceNum 1 --workerMemory 32G --workerDeviceType cpu '
          '--conda-env-name snapml-177rc --model-main '
          'snapML-RandomForest-main.py ',
  'createTime': '2021-07-29T05:46:32Z',
  'creator': 'mluser1',
  'elastic': False,
  'framework': 'tensorflow',
  'id': 'wmla-963',
  'modelFileOwnerName': 'wmla',
  'nameSpace': 'wmla',
  'numWorker': 1,
  'schedulerUrl': 'https://wmla-mss:9080',
  'state': 'FINISHED',
  'submissionId': 'wmla-963',
  'workDir': '/gpfs/myresultfs/mluser1/batchworkdir/wmla-963/_submitted_code'}

Totallly training cost:  66  seconds.
", 
                    "name": "stdout"
                }
            ]
        }, 
        {
            "metadata": {
                "id": "511058be-80ec-4df1-868f-778e28aeea74"
            }, 
            "cell_type": "markdown", 
            "source": "<a id = \"snapml-model-gpu\"></a>
## Step 7 : Setup Random Forest model using snapML GPU¶
### Create a Random Forest Model based on snapML"
        }, 
        {
            "metadata": {
                "id": "1fa688ae-a433-4196-9017-a497786569c5"
            }, 
            "cell_type": "code", 
            "source": "model_main='snapML-gpu-'+model_base_name", 
            "execution_count": 18, 
            "outputs": [ ]
        }, 
        {
            "metadata": {
                "id": "b7fd5d5f-bbec-410e-b532-25948cb10bd1"
            }, 
            "cell_type": "code", 
            "source": "%%writefile {model_dir}/{model_main}

import numpy as np
import pandas as pd
# import pickle
from sklearn.metrics import accuracy_score
#from sklearn.ensemble import RandomForestClassifier as skrfc
from snapml import RandomForestClassifier as SnapRandomForestClassifier
from sklearn.datasets import make_classification
from sklearn.model_selection import train_test_split
import os
import datetime

# specify the cache location to /gpfy since ~/.cache is not available
os.environ[\"CUPY_CACHE_DIR\"]=\"/gpfs/mydatafs/models/cache/rf\"

# Define Parameters for a large regression
n_samples = 2**18
n_features = 28 
# n_class = 2
data_type = np.float32

# Generate Data using scikit-learn
X,y = make_classification(n_samples=n_samples,
                          n_features=n_features,
                          # n_class=n_class,
                          random_state=123, n_classes=2)

X = pd.DataFrame(X.astype(data_type))
y = pd.Series(y.astype(np.int32))

X_train, X_test, y_train, y_test = train_test_split(X, y,
                                                    test_size = 0.2,
                                                    random_state=0)

print(\"Number of examples: %d\" % (X_train.shape[0]))
print(\"Number of features: %d\" % (X_train.shape[1]))
print(\"Number of classes:  %d\" % (len(np.unique(y_train))))

# snapML RandomForestClassifier model
# \"GPU acceleration can only be enabled if use_histograms=True\"
# ValueError: GPU acceleration can only be enabled if use_histograms=True
snap_model = SnapRandomForestClassifier(use_gpu=True,
                                        use_histograms=True,max_depth=16, n_estimators=40, 
                                        n_jobs=1, random_state=10)
# Fit
start = datetime.datetime.now()
# TypeError: Tree-based models in Snap ML only support numpy.ndarray
snap_model.fit(X_train.values, y_train.values)
end = datetime.datetime.now()
print (\"train timecost: %.2gs\" % ((end-start).total_seconds()))

# Evaluate
start = datetime.datetime.now()
sk_predict = snap_model.predict(X_test.values)
end = datetime.datetime.now()
print (\"evaluate timecost: %.2gs\" % ((end-start).total_seconds()))

sk_acc = accuracy_score(y_test, sk_predict)
print(\"test accuracy: %.2gs\" % sk_acc)

# filename = './snapml_random_forest_model.pkl'
# # save the trained cuml model into a file
# pickle.dump(snap_model, open(filename, 'wb'))
# print(\"saved model to file \", filename)", 
            "execution_count": 19, 
            "outputs": [
                {
                    "output_type": "stream", 
                    "text": "Overwriting /project_data/data_asset/models/snapML-gpu-RandomForest-main.py
", 
                    "name": "stdout"
                }
            ]
        }, 
        {
            "metadata": {
                "id": "9ea91ef6-953b-431b-922f-3544fbc2ce99"
            }, 
            "cell_type": "markdown", 
            "source": "<a id = \"snapml-gpu\"></a>
## Step 8 : Training the SnapML model on GPU with Watson Machine Learning Accelerator
### Re-define the submittion parameters"
        }, 
        {
            "metadata": {
                "id": "c89aeea8-17a6-49e0-8bac-f4b707e66dfc"
            }, 
            "cell_type": "code", 
            "source": "# specify the model file, conda env, device type and device number
args = '--exec-start tensorflow --cs-datastore-meta type=fs \\
--workerDeviceNum 1 \\
--workerMemory 32G \\
--workerDeviceType gpu \\
--conda-env-name snapml-177rc \\
--model-main ' + model_main
print(args)", 
            "execution_count": 20, 
            "outputs": [
                {
                    "output_type": "stream", 
                    "text": "--exec-start tensorflow --cs-datastore-meta type=fs --workerDeviceNum 1 --workerMemory 32G --workerDeviceType gpu --conda-env-name snapml-177rc --model-main snapML-gpu-RandomForest-main.py
", 
                    "name": "stdout"
                }
            ]
        }, 
        {
            "metadata": {
                "id": "8eab1b51-e267-49b8-8727-0738411ddf3f"
            }, 
            "cell_type": "code", 
            "source": "files = {'file': open(\"{0}/{1}\".format(model_dir,model_main),'rb')}
submit_job_to_wmla (args, files)", 
            "execution_count": null, 
            "outputs": [
                {
                    "output_type": "stream", 
                    "text": "Refreshing every 5 seconds
", 
                    "name": "stdout"
                }, 
                {
                    "output_type": "display_data", 
                    "data": {
                        "text/plain": "         id  \\
0  wmla-965   

                                                                                                                      args  \\
0  --exec-start tensorflow --cs-datastore-meta type=fs --workerDeviceNum 1 --workerMemory 32G --workerDeviceType gpu --...   

  submissionId  creator     state     appId           schedulerUrl  \\
0     wmla-965  mluser1  FINISHED  wmla-965  https://wmla-mss:9080   

  modelFileOwnerName  \\
0               wmla   

                                                          workDir  \\
0  /gpfs/myresultfs/mluser1/batchworkdir/wmla-965/_submitted_code   

                     appName            createTime  elastic nameSpace  \\
0  SingleNodeTensorflowTrain  2021-07-29T05:51:37Z    False      wmla   

   numWorker   framework  
0          1  tensorflow  ", 
                        "text/html": "<div>
<style scoped>
    .dataframe tbody tr th:only-of-type {
        vertical-align: middle;
    }

    .dataframe tbody tr th {
        vertical-align: top;
    }

    .dataframe thead th {
        text-align: right;
    }
</style>
<table border=\"1\" class=\"dataframe\">
  <thead>
    <tr style=\"text-align: right;\">
      <th></th>
      <th>id</th>
      <th>args</th>
      <th>submissionId</th>
      <th>creator</th>
      <th>state</th>
      <th>appId</th>
      <th>schedulerUrl</th>
      <th>modelFileOwnerName</th>
      <th>workDir</th>
      <th>appName</th>
      <th>createTime</th>
      <th>elastic</th>
      <th>nameSpace</th>
      <th>numWorker</th>
      <th>framework</th>
    </tr>
  </thead>
  <tbody>
    <tr>
      <th>0</th>
      <td>wmla-965</td>
      <td>--exec-start tensorflow --cs-datastore-meta type=fs --workerDeviceNum 1 --workerMemory 32G --workerDeviceType gpu --...</td>
      <td>wmla-965</td>
      <td>mluser1</td>
      <td>FINISHED</td>
      <td>wmla-965</td>
      <td>https://wmla-mss:9080</td>
      <td>wmla</td>
      <td>/gpfs/myresultfs/mluser1/batchworkdir/wmla-965/_submitted_code</td>
      <td>SingleNodeTensorflowTrain</td>
      <td>2021-07-29T05:51:37Z</td>
      <td>False</td>
      <td>wmla</td>
      <td>1</td>
      <td>tensorflow</td>
    </tr>
  </tbody>
</table>
</div>"
                    }, 
                    "metadata": { }
                }, 
                {
                    "output_type": "stream", 
                    "text": "{ 'appId': 'wmla-965',
  'appName': 'SingleNodeTensorflowTrain',
  'args': '--exec-start tensorflow --cs-datastore-meta type=fs '
          '--workerDeviceNum 1 --workerMemory 32G --workerDeviceType gpu '
          '--conda-env-name snapml-177rc --model-main '
          'snapML-gpu-RandomForest-main.py ',
  'createTime': '2021-07-29T05:51:37Z',
  'creator': 'mluser1',
  'elastic': False,
  'framework': 'tensorflow',
  'id': 'wmla-965',
  'modelFileOwnerName': 'wmla',
  'nameSpace': 'wmla',
  'numWorker': 1,
  'schedulerUrl': 'https://wmla-mss:9080',
  'state': 'FINISHED',
  'submissionId': 'wmla-965',
  'workDir': '/gpfs/myresultfs/mluser1/batchworkdir/wmla-965/_submitted_code'}
", 
                    "name": "stdout"
                }
            ]
        }, 
        {
            "metadata": {
                "id": "99ec18d2-3fc8-458f-ab50-46a5fa0e819a"
            }, 
            "cell_type": "code", 
            "source": "", 
            "execution_count": null, 
            "outputs": [ ]
        }
    ], 
    "metadata": {
        "kernelspec": {
            "name": "python3", 
            "display_name": "Python 3.7", 
            "language": "python"
        }, 
        "language_info": {
            "name": "python", 
            "version": "3.7.10", 
            "mimetype": "text/x-python", 
            "codemirror_mode": {
                "name": "ipython", 
                "version": 3
            }, 
            "pygments_lexer": "ipython3", 
            "nbconvert_exporter": "python", 
            "file_extension": ".py"
        }
    }, 
    "nbformat": 4, 
    "nbformat_minor": 5
}