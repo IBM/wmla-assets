{
 "cells": [
  {
   "cell_type": "markdown",
   "metadata": {
    "id": "cf808d4e-1d29-4dcf-ad91-c440f5640fed"
   },
   "source": [
    "# Train a Xgboost Model with Watson Machine Learning \n",
    "\n",
    "Notebook created by Zeming Zhao on June, 2021\n",
    "\n",
    "XGBoost is an implementation of gradient boosted decision trees designed for speed and performance. which is an algorithm that has recently been dominating applied machine learning and Kaggle competitions for structured or tabular data.\n",
    "\n",
    "SnapBoost implements a boosting machine that can be used to construct an ensemble of decision trees. It can be used for both clasification and regression tasks. In constrast to other boosting frameworks, Snap ML’s boosting machine dose not utilize a fixed maximal tree depth at each boosting iteration. Instead, the tree depth is sampled at each boosting iteration according to a discrete uniform distribution. The fit and predict functions accept numpy.ndarray data structures.\n",
    "\n",
    "This notebook covers the following sections:\n",
    "\n",
    "1. [Setup Xgboost Model using xgboost lib](#xgboost-model)<br>\n",
    "\n",
    "1. [Training the model on CPU with Watson Machine Learning Accelerator](#xgboost-cpu)<br>\n",
    "\n",
    "1. [Training the model on GPU with Watson Machine Learning Accelerator](#xgboost-gpu)<br>\n",
    "\n",
    "1. [Setup SnapBoost Model using snapML lib on CPU](#snapml-model)<br>\n",
    "\n",
    "1. [Training the model on CPU with Watson Machine Learning Accelerator](#snapml-cpu)<br>\n",
    "\n",
    "1. [Setup SnapBoost Model using snapML lib on GPU](#snapml-model-gpu)<br>\n",
    "\n",
    "1. [Training the model on GPU with Watson Machine Learning Accelerator](#snapml-gpu)<br>"
   ]
  },
  {
   "cell_type": "markdown",
   "metadata": {
    "id": "416eaf5f-f861-4960-aea0-bf024d8c97f5"
   },
   "source": [
    "## Preparations\n",
    "### Prepare directory and file for writing Xgboost engine."
   ]
  },
  {
   "cell_type": "code",
   "execution_count": 11,
   "metadata": {
    "id": "68eedf75ddc048478358fdeecbd4ce80"
   },
   "outputs": [
    {
     "name": "stdout",
     "output_type": "stream",
     "text": [
      "create model directory done.\n"
     ]
    }
   ],
   "source": [
    "from pathlib import Path\n",
    "model_dir = f'/project_data/data_asset/models' \n",
    "model_base_name = f'main.py'\n",
    "Path(model_dir).mkdir(exist_ok=True)\n",
    "print(\"create model directory done.\")"
   ]
  },
  {
   "cell_type": "markdown",
   "metadata": {
    "id": "9328d48f-df30-4aaa-83b3-e45185310f77"
   },
   "source": [
    "<a id = \"xgboost-model\"></a>\n",
    "## Step 1 : Setup Xgboost model\n",
    "### create a Xgboost Model based on Xgboost lib "
   ]
  },
  {
   "cell_type": "code",
   "execution_count": 12,
   "metadata": {
    "id": "d92eef792a5e4b818df48a2d4361ee13"
   },
   "outputs": [],
   "source": [
    "model_main='xgboost-'+model_base_name"
   ]
  },
  {
   "cell_type": "code",
   "execution_count": 13,
   "metadata": {
    "id": "ac5837a67b7441b296dac5f925124df8"
   },
   "outputs": [
    {
     "name": "stdout",
     "output_type": "stream",
     "text": [
      "Overwriting /project_data/data_asset/models/xgboost-main.py\n"
     ]
    }
   ],
   "source": [
    "%%writefile {model_dir}/{model_main}\n",
    "\n",
    "import os, datetime\n",
    "import numpy as np\n",
    "import pandas as pd\n",
    "from sklearn.datasets import make_classification\n",
    "from sklearn.model_selection import train_test_split\n",
    "from sklearn.metrics import precision_score, recall_score, accuracy_score\n",
    "import xgboost as xgb\n",
    "\n",
    "os.environ['KMP_DUPLICATE_LIB_OK']='True'\n",
    "\n",
    "# Define Parameters for a large regression\n",
    "n_samples = 2**13 \n",
    "n_features = 899 \n",
    "n_info = 600 \n",
    "data_type = np.float32\n",
    "\n",
    "# Generate Data using scikit-learn\n",
    "X,y = make_classification(n_samples=n_samples,\n",
    "                          n_features=n_features,\n",
    "                          n_informative=n_info,\n",
    "                          random_state=123, n_classes=2)\n",
    "\n",
    "X = pd.DataFrame(X.astype(data_type))\n",
    "y = pd.Series(y.astype(np.int32))\n",
    "\n",
    "X_train, X_test, y_train, y_test = train_test_split(X, y,\n",
    "                                                    test_size = 0.2,\n",
    "                                                    random_state=0)\n",
    "\n",
    "print(\"Number of examples: %d\" % (X_train.shape[0]))\n",
    "print(\"Number of features: %d\" % (X_train.shape[1]))\n",
    "print(\"Number of classes:  %d\" % (len(np.unique(y_train))))\n",
    "\n",
    "D_train = xgb.DMatrix(X_train, label=y_train)\n",
    "D_test = xgb.DMatrix(X_test, label=y_test)\n",
    "\n",
    "# set parameters\n",
    "param = {\n",
    "    'eta': 0.3, \n",
    "    'max_depth': 6,  \n",
    "    'objective': 'multi:softprob',  \n",
    "    'num_class': 3} \n",
    "\n",
    "steps = 20  # The number of training iterations\n",
    "\n",
    "# setup model and train\n",
    "start = datetime.datetime.now()\n",
    "model = xgb.train(param, D_train, steps)\n",
    "end = datetime.datetime.now()\n",
    "print (\"Xgboost train timecost: %.2gs\" % ((end-start).total_seconds()))\n",
    "\n",
    "# predict\n",
    "start = datetime.datetime.now()\n",
    "preds = model.predict(D_test)\n",
    "end = datetime.datetime.now()\n",
    "print (\"Xgboost predict timecost: %.2gs\" % ((end-start).total_seconds()))\n",
    "\n",
    "# check result\n",
    "best_preds = np.asarray([np.argmax(line) for line in preds])\n",
    "print(\"Precision = {}\".format(precision_score(y_test, best_preds, average='macro')))\n",
    "print(\"Recall = {}\".format(recall_score(y_test, best_preds, average='macro')))\n",
    "print(\"Accuracy = {}\".format(accuracy_score(y_test, best_preds)))\n",
    "\n",
    "# save the xgboost model into a file\n",
    "import pickle\n",
    "filename = './xgboost_model.pkl'\n",
    "pickle.dump(model, open(filename, 'wb'))              \n",
    "print(\"Xgboost model saved successfully.\")"
   ]
  },
  {
   "cell_type": "markdown",
   "metadata": {
    "id": "f595d528-5042-4e02-a882-c3509720227d"
   },
   "source": [
    "<a id = \"xgboost-cpu\"></a>\n",
    "## Step 2 :  Training the Xgboost model on CPU with Watson Machine Learning Accelerator\n",
    "### Prepare the libs for job submission"
   ]
  },
  {
   "cell_type": "code",
   "execution_count": 4,
   "metadata": {
    "id": "e3e9ce96ff4a4adaa583c9e2805c4230"
   },
   "outputs": [
    {
     "name": "stdout",
     "output_type": "stream",
     "text": [
      "Populating the interactive namespace from numpy and matplotlib\n"
     ]
    }
   ],
   "source": [
    "import requests\n",
    "from requests.packages.urllib3.exceptions import InsecureRequestWarning\n",
    "requests.packages.urllib3.disable_warnings(InsecureRequestWarning)\n",
    "\n",
    "from matplotlib import pyplot as plt\n",
    "%pylab inline\n",
    "\n",
    "import base64\n",
    "import json\n",
    "import time\n",
    "import urllib"
   ]
  },
  {
   "cell_type": "markdown",
   "metadata": {
    "id": "4e5592c1-07c1-47d4-9bae-aff94e1d832f"
   },
   "source": [
    "### Configuring your environment and project details\n",
    "To set up your project details, provide your credentials in this cell. You must include your cluster URL, username, and password."
   ]
  },
  {
   "cell_type": "code",
   "execution_count": 5,
   "metadata": {
    "id": "047097811f624ed0825c37b6f976c587"
   },
   "outputs": [
    {
     "name": "stdout",
     "output_type": "stream",
     "text": [
      "https://wmla-console-wmla.apps.dse-perf.cpolab.ibm.com/auth/v1/logon\n"
     ]
    }
   ],
   "source": [
    "# please enter Watson Machine Learning Accelerator host name\n",
    "hostname='wmla-console-wmla.apps.dse-perf.cpolab.ibm.com'\n",
    "# login='username:password' # please enter the login and password\n",
    "login='mluser1:mluser1'\n",
    "es = base64.b64encode(login.encode('utf-8')).decode(\"utf-8\")\n",
    "# print(es)\n",
    "commonHeaders={'Authorization': 'Basic '+es}\n",
    "req = requests.Session()\n",
    "auth_url = 'https://{}/auth/v1/logon'.format(hostname)\n",
    "print(auth_url)\n",
    "a=requests.get(auth_url,headers=commonHeaders, verify=False)\n",
    "access_token=a.json()['accessToken']\n",
    "# print(\"Access_token: \", access_token)\n",
    "dl_rest_url = 'https://{}/platform/rest/deeplearning/v1'.format(hostname)\n",
    "commonHeaders={'accept': 'application/json', 'X-Auth-Token': access_token}\n",
    "req = requests.Session()\n",
    "# Health check\n",
    "confUrl = 'https://{}/platform/rest/deeplearning/v1/conf'.format(hostname)\n",
    "r = req.get(confUrl, headers=commonHeaders, verify=False)"
   ]
  },
  {
   "cell_type": "markdown",
   "metadata": {
    "id": "32dd7b79-25d6-4711-b17c-a68e348a7c2f"
   },
   "source": [
    "### Define the status checking fuction"
   ]
  },
  {
   "cell_type": "code",
   "execution_count": 6,
   "metadata": {
    "id": "af36db350d6146438eedf16cdb01f946"
   },
   "outputs": [],
   "source": [
    "import tarfile\n",
    "import tempfile\n",
    "import os\n",
    "import json\n",
    "import pprint\n",
    "import pandas as pd\n",
    "from IPython.display import clear_output\n",
    "\n",
    "def query_job_status(job_id,refresh_rate=3) :\n",
    "\n",
    "    execURL = dl_rest_url  +'/execs/'+ job_id['id']\n",
    "    pp = pprint.PrettyPrinter(indent=2)\n",
    "\n",
    "    keep_running=True\n",
    "    res=None\n",
    "    while(keep_running):\n",
    "        res = req.get(execURL, headers=commonHeaders, verify=False)\n",
    "        monitoring = pd.DataFrame(res.json(), index=[0])\n",
    "        pd.set_option('max_colwidth', 120)\n",
    "        clear_output()\n",
    "        print(\"Refreshing every {} seconds\".format(refresh_rate))\n",
    "        display(monitoring)\n",
    "        pp.pprint(res.json())\n",
    "        if(res.json()['state'] not in ['PENDING_CRD_SCHEDULER', 'SUBMITTED','RUNNING']) :\n",
    "            keep_running=False\n",
    "        time.sleep(refresh_rate)\n",
    "    return res"
   ]
  },
  {
   "cell_type": "markdown",
   "metadata": {
    "id": "2dd02856-0eaa-4a02-89c4-028d2c96fd13"
   },
   "source": [
    "### Define the job submission fuction"
   ]
  },
  {
   "cell_type": "code",
   "execution_count": 14,
   "metadata": {
    "id": "c04969af3a414ba9a7658390822c4f97"
   },
   "outputs": [],
   "source": [
    "def submit_job_to_wmla (args, files) :\n",
    "    starttime = datetime.datetime.now()\n",
    "    r = requests.post(dl_rest_url+'/execs?args='+args, files=files,\n",
    "                  headers=commonHeaders, verify=False)\n",
    "    if not r.ok:\n",
    "        print('submit job failed: code=%s, %s'%(r.status_code, r.content))\n",
    "    job_status = query_job_status(r.json(),refresh_rate=5)\n",
    "    endtime = datetime.datetime.now()\n",
    "    print(\"\\nTotallly training cost: \", (endtime - starttime).seconds, \" seconds.\")"
   ]
  },
  {
   "cell_type": "markdown",
   "metadata": {
    "id": "113dc391-bb92-45f0-a684-c5dbb761e7d9"
   },
   "source": [
    "### Define the submittion parameters"
   ]
  },
  {
   "cell_type": "code",
   "execution_count": 15,
   "metadata": {
    "id": "c3e3aa23-34ce-4bd6-aa1c-96d1952a1bf2"
   },
   "outputs": [
    {
     "name": "stdout",
     "output_type": "stream",
     "text": [
      "--exec-start tensorflow --cs-datastore-meta type=fs --workerDeviceNum 1 --workerMemory 32G --workerDeviceType cpu --conda-env-name rapids-21.06-new --model-main xgboost-main.py\n"
     ]
    }
   ],
   "source": [
    "# specify the model file, conda env, device type and device number\n",
    "args = '--exec-start tensorflow --cs-datastore-meta type=fs \\\n",
    "--workerDeviceNum 1 \\\n",
    "--workerMemory 32G \\\n",
    "--workerDeviceType cpu \\\n",
    "--conda-env-name rapids-21.06-new \\\n",
    "--model-main ' + model_main\n",
    "print(args)"
   ]
  },
  {
   "cell_type": "code",
   "execution_count": 16,
   "metadata": {
    "id": "7e5ea0c21e2b4c39908849a71a556005"
   },
   "outputs": [
    {
     "name": "stdout",
     "output_type": "stream",
     "text": [
      "Refreshing every 5 seconds\n"
     ]
    },
    {
     "data": {
      "text/html": [
       "<div>\n",
       "<style scoped>\n",
       "    .dataframe tbody tr th:only-of-type {\n",
       "        vertical-align: middle;\n",
       "    }\n",
       "\n",
       "    .dataframe tbody tr th {\n",
       "        vertical-align: top;\n",
       "    }\n",
       "\n",
       "    .dataframe thead th {\n",
       "        text-align: right;\n",
       "    }\n",
       "</style>\n",
       "<table border=\"1\" class=\"dataframe\">\n",
       "  <thead>\n",
       "    <tr style=\"text-align: right;\">\n",
       "      <th></th>\n",
       "      <th>id</th>\n",
       "      <th>args</th>\n",
       "      <th>submissionId</th>\n",
       "      <th>creator</th>\n",
       "      <th>state</th>\n",
       "      <th>appId</th>\n",
       "      <th>schedulerUrl</th>\n",
       "      <th>modelFileOwnerName</th>\n",
       "      <th>workDir</th>\n",
       "      <th>appName</th>\n",
       "      <th>createTime</th>\n",
       "      <th>elastic</th>\n",
       "      <th>nameSpace</th>\n",
       "      <th>numWorker</th>\n",
       "      <th>framework</th>\n",
       "    </tr>\n",
       "  </thead>\n",
       "  <tbody>\n",
       "    <tr>\n",
       "      <th>0</th>\n",
       "      <td>wmla-858</td>\n",
       "      <td>--exec-start tensorflow --cs-datastore-meta type=fs --workerDeviceNum 1 --workerMemory 32G --workerDeviceType cpu --...</td>\n",
       "      <td>wmla-858</td>\n",
       "      <td>mluser1</td>\n",
       "      <td>FINISHED</td>\n",
       "      <td>wmla-858</td>\n",
       "      <td>https://wmla-mss:9080</td>\n",
       "      <td>wmla</td>\n",
       "      <td>/gpfs/myresultfs/mluser1/batchworkdir/wmla-858/_submitted_code</td>\n",
       "      <td>SingleNodeTensorflowTrain</td>\n",
       "      <td>2021-07-27T08:41:21Z</td>\n",
       "      <td>False</td>\n",
       "      <td>wmla</td>\n",
       "      <td>1</td>\n",
       "      <td>tensorflow</td>\n",
       "    </tr>\n",
       "  </tbody>\n",
       "</table>\n",
       "</div>"
      ],
      "text/plain": [
       "         id  \\\n",
       "0  wmla-858   \n",
       "\n",
       "                                                                                                                      args  \\\n",
       "0  --exec-start tensorflow --cs-datastore-meta type=fs --workerDeviceNum 1 --workerMemory 32G --workerDeviceType cpu --...   \n",
       "\n",
       "  submissionId  creator     state     appId           schedulerUrl  \\\n",
       "0     wmla-858  mluser1  FINISHED  wmla-858  https://wmla-mss:9080   \n",
       "\n",
       "  modelFileOwnerName  \\\n",
       "0               wmla   \n",
       "\n",
       "                                                          workDir  \\\n",
       "0  /gpfs/myresultfs/mluser1/batchworkdir/wmla-858/_submitted_code   \n",
       "\n",
       "                     appName            createTime  elastic nameSpace  \\\n",
       "0  SingleNodeTensorflowTrain  2021-07-27T08:41:21Z    False      wmla   \n",
       "\n",
       "   numWorker   framework  \n",
       "0          1  tensorflow  "
      ]
     },
     "metadata": {},
     "output_type": "display_data"
    },
    {
     "name": "stdout",
     "output_type": "stream",
     "text": [
      "{ 'appId': 'wmla-858',\n",
      "  'appName': 'SingleNodeTensorflowTrain',\n",
      "  'args': '--exec-start tensorflow --cs-datastore-meta type=fs '\n",
      "          '--workerDeviceNum 1 --workerMemory 32G --workerDeviceType cpu '\n",
      "          '--conda-env-name rapids-21.06-new --model-main xgboost-main.py ',\n",
      "  'createTime': '2021-07-27T08:41:21Z',\n",
      "  'creator': 'mluser1',\n",
      "  'elastic': False,\n",
      "  'framework': 'tensorflow',\n",
      "  'id': 'wmla-858',\n",
      "  'modelFileOwnerName': 'wmla',\n",
      "  'nameSpace': 'wmla',\n",
      "  'numWorker': 1,\n",
      "  'schedulerUrl': 'https://wmla-mss:9080',\n",
      "  'state': 'FINISHED',\n",
      "  'submissionId': 'wmla-858',\n",
      "  'workDir': '/gpfs/myresultfs/mluser1/batchworkdir/wmla-858/_submitted_code'}\n",
      "\n",
      "Totallly training cost:  2840  seconds.\n"
     ]
    }
   ],
   "source": [
    "files = {'file': open(\"{0}/{1}\".format(model_dir,model_main),'rb')}\n",
    "submit_job_to_wmla (args, files)"
   ]
  },
  {
   "cell_type": "markdown",
   "metadata": {
    "id": "6bbd43d9-c684-435c-bc22-969e61774bf4"
   },
   "source": [
    "<a id = \"xgboost-gpu\"></a>\n",
    "## Step 3 :  Training the Xgboost model on GPU with Watson Machine Learning Accelerator\n",
    "### Define the submittion parameters using conda env with GPU version XGBoost"
   ]
  },
  {
   "cell_type": "code",
   "execution_count": 29,
   "metadata": {
    "id": "b80d40d9b455473d88a7ef3739ef4b26"
   },
   "outputs": [
    {
     "name": "stdout",
     "output_type": "stream",
     "text": [
      "--exec-start tensorflow --cs-datastore-meta type=fs --workerDeviceNum 1 --workerMemory 32G --workerDeviceType gpu --conda-env-name dlipy3  --model-main xgboost-main.py\n"
     ]
    }
   ],
   "source": [
    "# specify the conda env of xgboost and worker device type\n",
    "args = '--exec-start tensorflow --cs-datastore-meta type=fs \\\n",
    "--workerDeviceNum 1 \\\n",
    "--workerMemory 32G \\\n",
    "--workerDeviceType gpu \\\n",
    "--conda-env-name dlipy3  \\\n",
    "--model-main ' + model_main\n",
    "print(args)"
   ]
  },
  {
   "cell_type": "code",
   "execution_count": 30,
   "metadata": {
    "id": "9624643563f94c8a89f7426c75e4e508"
   },
   "outputs": [
    {
     "name": "stdout",
     "output_type": "stream",
     "text": [
      "Refreshing every 5 seconds\n"
     ]
    },
    {
     "data": {
      "text/html": [
       "<div>\n",
       "<style scoped>\n",
       "    .dataframe tbody tr th:only-of-type {\n",
       "        vertical-align: middle;\n",
       "    }\n",
       "\n",
       "    .dataframe tbody tr th {\n",
       "        vertical-align: top;\n",
       "    }\n",
       "\n",
       "    .dataframe thead th {\n",
       "        text-align: right;\n",
       "    }\n",
       "</style>\n",
       "<table border=\"1\" class=\"dataframe\">\n",
       "  <thead>\n",
       "    <tr style=\"text-align: right;\">\n",
       "      <th></th>\n",
       "      <th>id</th>\n",
       "      <th>args</th>\n",
       "      <th>submissionId</th>\n",
       "      <th>creator</th>\n",
       "      <th>state</th>\n",
       "      <th>appId</th>\n",
       "      <th>schedulerUrl</th>\n",
       "      <th>modelFileOwnerName</th>\n",
       "      <th>workDir</th>\n",
       "      <th>appName</th>\n",
       "      <th>createTime</th>\n",
       "      <th>elastic</th>\n",
       "      <th>nameSpace</th>\n",
       "      <th>numWorker</th>\n",
       "      <th>framework</th>\n",
       "    </tr>\n",
       "  </thead>\n",
       "  <tbody>\n",
       "    <tr>\n",
       "      <th>0</th>\n",
       "      <td>wmla-860</td>\n",
       "      <td>--exec-start tensorflow --cs-datastore-meta type=fs --workerDeviceNum 1 --workerMemory 32G --workerDeviceType gpu --...</td>\n",
       "      <td>wmla-860</td>\n",
       "      <td>mluser1</td>\n",
       "      <td>FINISHED</td>\n",
       "      <td>wmla-860</td>\n",
       "      <td>https://wmla-mss:9080</td>\n",
       "      <td>wmla</td>\n",
       "      <td>/gpfs/myresultfs/mluser1/batchworkdir/wmla-860/_submitted_code</td>\n",
       "      <td>SingleNodeTensorflowTrain</td>\n",
       "      <td>2021-07-27T09:47:24Z</td>\n",
       "      <td>False</td>\n",
       "      <td>wmla</td>\n",
       "      <td>1</td>\n",
       "      <td>tensorflow</td>\n",
       "    </tr>\n",
       "  </tbody>\n",
       "</table>\n",
       "</div>"
      ],
      "text/plain": [
       "         id  \\\n",
       "0  wmla-860   \n",
       "\n",
       "                                                                                                                      args  \\\n",
       "0  --exec-start tensorflow --cs-datastore-meta type=fs --workerDeviceNum 1 --workerMemory 32G --workerDeviceType gpu --...   \n",
       "\n",
       "  submissionId  creator     state     appId           schedulerUrl  \\\n",
       "0     wmla-860  mluser1  FINISHED  wmla-860  https://wmla-mss:9080   \n",
       "\n",
       "  modelFileOwnerName  \\\n",
       "0               wmla   \n",
       "\n",
       "                                                          workDir  \\\n",
       "0  /gpfs/myresultfs/mluser1/batchworkdir/wmla-860/_submitted_code   \n",
       "\n",
       "                     appName            createTime  elastic nameSpace  \\\n",
       "0  SingleNodeTensorflowTrain  2021-07-27T09:47:24Z    False      wmla   \n",
       "\n",
       "   numWorker   framework  \n",
       "0          1  tensorflow  "
      ]
     },
     "metadata": {},
     "output_type": "display_data"
    },
    {
     "name": "stdout",
     "output_type": "stream",
     "text": [
      "{ 'appId': 'wmla-860',\n",
      "  'appName': 'SingleNodeTensorflowTrain',\n",
      "  'args': '--exec-start tensorflow --cs-datastore-meta type=fs '\n",
      "          '--workerDeviceNum 1 --workerMemory 32G --workerDeviceType gpu '\n",
      "          '--conda-env-name dlipy3  --model-main xgboost-main.py ',\n",
      "  'createTime': '2021-07-27T09:47:24Z',\n",
      "  'creator': 'mluser1',\n",
      "  'elastic': False,\n",
      "  'framework': 'tensorflow',\n",
      "  'id': 'wmla-860',\n",
      "  'modelFileOwnerName': 'wmla',\n",
      "  'nameSpace': 'wmla',\n",
      "  'numWorker': 1,\n",
      "  'schedulerUrl': 'https://wmla-mss:9080',\n",
      "  'state': 'FINISHED',\n",
      "  'submissionId': 'wmla-860',\n",
      "  'workDir': '/gpfs/myresultfs/mluser1/batchworkdir/wmla-860/_submitted_code'}\n",
      "\n",
      "Totallly training cost:  62  seconds.\n"
     ]
    }
   ],
   "source": [
    "files = {'file': open(\"{0}/{1}\".format(model_dir,model_main),'rb')}\n",
    "submit_job_to_wmla (args, files)"
   ]
  },
  {
   "cell_type": "markdown",
   "metadata": {
    "id": "ce60c5cd-0b6f-4e1f-9289-6c3bed269e0c"
   },
   "source": [
    "<a id = \"snapml-model\"></a>\n",
    "## Step 4 :  Setup Snap Boosting model using snapML\n",
    "### Create a Snap Boosting model based on snapML "
   ]
  },
  {
   "cell_type": "code",
   "execution_count": 31,
   "metadata": {
    "id": "5085334eb3ea416c8bbfb628de2d9e3f"
   },
   "outputs": [],
   "source": [
    "model_main='snapboost-'+model_base_name"
   ]
  },
  {
   "cell_type": "code",
   "execution_count": 39,
   "metadata": {
    "id": "28afe9b5f1334c8e8baa26ae07a27e37"
   },
   "outputs": [
    {
     "name": "stdout",
     "output_type": "stream",
     "text": [
      "Overwriting /project_data/data_asset/models/snapboost-gpu-main.py\n"
     ]
    }
   ],
   "source": [
    "%%writefile {model_dir}/{model_main}\n",
    "\n",
    "import os, datetime\n",
    "import numpy as np\n",
    "import pandas as pd\n",
    "from sklearn.datasets import make_classification\n",
    "from sklearn.model_selection import train_test_split\n",
    "from sklearn.metrics import precision_score, recall_score, accuracy_score\n",
    "from snapml import BoostingMachineClassifier as SnapBoostingMachineClassifier\n",
    "\n",
    "os.environ['KMP_DUPLICATE_LIB_OK']='True'\n",
    "\n",
    "# Define Parameters for a large regression\n",
    "n_samples = 2**13 \n",
    "n_features = 899 \n",
    "n_info = 600 \n",
    "data_type = np.float32\n",
    "\n",
    "# Generate Data using scikit-learn\n",
    "X,y = make_classification(n_samples=n_samples,\n",
    "                          n_features=n_features,\n",
    "                          n_informative=n_info,\n",
    "                          random_state=123, n_classes=2)\n",
    "\n",
    "X = pd.DataFrame(X.astype(data_type))\n",
    "y = pd.Series(y.astype(np.int32))\n",
    "\n",
    "X_train, X_test, y_train, y_test = train_test_split(X, y,\n",
    "                                                    test_size = 0.2,\n",
    "                                                    random_state=0)\n",
    "\n",
    "print(\"Number of examples: %d\" % (X_train.shape[0]))\n",
    "print(\"Number of features: %d\" % (X_train.shape[1]))\n",
    "print(\"Number of classes:  %d\" % (len(np.unique(y_train))))\n",
    "\n",
    "snap_model = SnapBoostingMachineClassifier(random_state=42, \n",
    "                                    n_jobs=1,\n",
    "                                    hist_nbins=256,\n",
    "                                    num_round=20)  # same interations number with xgboost\n",
    "\n",
    "# setup model and train\n",
    "start = datetime.datetime.now()\n",
    "snap_model.fit(X_train.values, y_train.values)  #.train(param, D_train, steps)\n",
    "end = datetime.datetime.now()\n",
    "print (\"Xgboost train timecost: %.2gs\" % ((end-start).total_seconds()))\n",
    "\n",
    "# predict\n",
    "start = datetime.datetime.now()\n",
    "preds = snap_model.predict(X_test.values)\n",
    "end = datetime.datetime.now()\n",
    "print (\"Xgboost predict timecost: %.2gs\" % ((end-start).total_seconds()))\n",
    "\n",
    "# check result\n",
    "best_preds = np.asarray([np.argmax(line) for line in preds])\n",
    "print(\"Precision = {}\".format(precision_score(y_test, best_preds, average='macro')))\n",
    "print(\"Recall = {}\".format(recall_score(y_test, best_preds, average='macro')))\n",
    "print(\"Accuracy = {}\".format(accuracy_score(y_test, best_preds)))\n",
    "\n",
    "# save the xgboost model into a file\n",
    "import pickle\n",
    "filename = './snapboost_model.pkl'\n",
    "pickle.dump(snap_model, open(filename, 'wb'))              \n",
    "print(\"Snapboost model saved successfully.\")"
   ]
  },
  {
   "cell_type": "markdown",
   "metadata": {
    "id": "6a68124b-55d5-4f04-8a7e-cdae0c6ee5a2"
   },
   "source": [
    "<a id = \"snapml-cpu\"></a>\n",
    "## Step 5 :  Training the SnapML model on CPU with Watson Machine Learning Accelerator\n",
    "### Re-define the submission parameters"
   ]
  },
  {
   "cell_type": "code",
   "execution_count": 40,
   "metadata": {
    "id": "bd9fa3aafcab483789c59a94d991bd18"
   },
   "outputs": [
    {
     "name": "stdout",
     "output_type": "stream",
     "text": [
      "--exec-start tensorflow --cs-datastore-meta type=fs --workerDeviceNum 1 --workerMemory 32G --workerDeviceType cpu --conda-env-name snapml-177rc --model-main snapboost-gpu-main.py\n"
     ]
    }
   ],
   "source": [
    "# specify the model file, conda env, device type and device number\n",
    "args = '--exec-start tensorflow --cs-datastore-meta type=fs \\\n",
    "--workerDeviceNum 1 \\\n",
    "--workerMemory 32G \\\n",
    "--workerDeviceType cpu \\\n",
    "--conda-env-name snapml-177rc \\\n",
    "--model-main ' + model_main\n",
    "print(args)"
   ]
  },
  {
   "cell_type": "code",
   "execution_count": 41,
   "metadata": {
    "id": "74798908fbb04804a484e4f4a8cf7f7c"
   },
   "outputs": [
    {
     "name": "stdout",
     "output_type": "stream",
     "text": [
      "Refreshing every 5 seconds\n"
     ]
    },
    {
     "data": {
      "text/html": [
       "<div>\n",
       "<style scoped>\n",
       "    .dataframe tbody tr th:only-of-type {\n",
       "        vertical-align: middle;\n",
       "    }\n",
       "\n",
       "    .dataframe tbody tr th {\n",
       "        vertical-align: top;\n",
       "    }\n",
       "\n",
       "    .dataframe thead th {\n",
       "        text-align: right;\n",
       "    }\n",
       "</style>\n",
       "<table border=\"1\" class=\"dataframe\">\n",
       "  <thead>\n",
       "    <tr style=\"text-align: right;\">\n",
       "      <th></th>\n",
       "      <th>id</th>\n",
       "      <th>args</th>\n",
       "      <th>submissionId</th>\n",
       "      <th>creator</th>\n",
       "      <th>state</th>\n",
       "      <th>appId</th>\n",
       "      <th>schedulerUrl</th>\n",
       "      <th>modelFileOwnerName</th>\n",
       "      <th>workDir</th>\n",
       "      <th>appName</th>\n",
       "      <th>createTime</th>\n",
       "      <th>elastic</th>\n",
       "      <th>nameSpace</th>\n",
       "      <th>numWorker</th>\n",
       "      <th>framework</th>\n",
       "    </tr>\n",
       "  </thead>\n",
       "  <tbody>\n",
       "    <tr>\n",
       "      <th>0</th>\n",
       "      <td>wmla-863</td>\n",
       "      <td>--exec-start tensorflow --cs-datastore-meta type=fs --workerDeviceNum 1 --workerMemory 32G --workerDeviceType cpu --...</td>\n",
       "      <td>wmla-863</td>\n",
       "      <td>mluser1</td>\n",
       "      <td>FINISHED</td>\n",
       "      <td>wmla-863</td>\n",
       "      <td>https://wmla-mss:9080</td>\n",
       "      <td>wmla</td>\n",
       "      <td>/gpfs/myresultfs/mluser1/batchworkdir/wmla-863/_submitted_code</td>\n",
       "      <td>SingleNodeTensorflowTrain</td>\n",
       "      <td>2021-07-27T09:58:06Z</td>\n",
       "      <td>False</td>\n",
       "      <td>wmla</td>\n",
       "      <td>1</td>\n",
       "      <td>tensorflow</td>\n",
       "    </tr>\n",
       "  </tbody>\n",
       "</table>\n",
       "</div>"
      ],
      "text/plain": [
       "         id  \\\n",
       "0  wmla-863   \n",
       "\n",
       "                                                                                                                      args  \\\n",
       "0  --exec-start tensorflow --cs-datastore-meta type=fs --workerDeviceNum 1 --workerMemory 32G --workerDeviceType cpu --...   \n",
       "\n",
       "  submissionId  creator     state     appId           schedulerUrl  \\\n",
       "0     wmla-863  mluser1  FINISHED  wmla-863  https://wmla-mss:9080   \n",
       "\n",
       "  modelFileOwnerName  \\\n",
       "0               wmla   \n",
       "\n",
       "                                                          workDir  \\\n",
       "0  /gpfs/myresultfs/mluser1/batchworkdir/wmla-863/_submitted_code   \n",
       "\n",
       "                     appName            createTime  elastic nameSpace  \\\n",
       "0  SingleNodeTensorflowTrain  2021-07-27T09:58:06Z    False      wmla   \n",
       "\n",
       "   numWorker   framework  \n",
       "0          1  tensorflow  "
      ]
     },
     "metadata": {},
     "output_type": "display_data"
    },
    {
     "name": "stdout",
     "output_type": "stream",
     "text": [
      "{ 'appId': 'wmla-863',\n",
      "  'appName': 'SingleNodeTensorflowTrain',\n",
      "  'args': '--exec-start tensorflow --cs-datastore-meta type=fs '\n",
      "          '--workerDeviceNum 1 --workerMemory 32G --workerDeviceType cpu '\n",
      "          '--conda-env-name snapml-177rc --model-main snapboost-gpu-main.py ',\n",
      "  'createTime': '2021-07-27T09:58:06Z',\n",
      "  'creator': 'mluser1',\n",
      "  'elastic': False,\n",
      "  'framework': 'tensorflow',\n",
      "  'id': 'wmla-863',\n",
      "  'modelFileOwnerName': 'wmla',\n",
      "  'nameSpace': 'wmla',\n",
      "  'numWorker': 1,\n",
      "  'schedulerUrl': 'https://wmla-mss:9080',\n",
      "  'state': 'FINISHED',\n",
      "  'submissionId': 'wmla-863',\n",
      "  'workDir': '/gpfs/myresultfs/mluser1/batchworkdir/wmla-863/_submitted_code'}\n",
      "\n",
      "Totallly training cost:  61  seconds.\n"
     ]
    }
   ],
   "source": [
    "files = {'file': open(\"{0}/{1}\".format(model_dir,model_main),'rb')}\n",
    "submit_job_to_wmla (args, files)"
   ]
  },
  {
   "cell_type": "markdown",
   "metadata": {
    "id": "4444f281-ca59-4b4d-85e1-791eae0f5436"
   },
   "source": [
    "<a id = \"snapml-model-gpu\"></a>\n",
    "## Step 6 :  Setup SnapBoost model using snapML on GPU\n",
    "### Create a SnapBoost model based on snapML "
   ]
  },
  {
   "cell_type": "code",
   "execution_count": 35,
   "metadata": {
    "id": "1c95468cf1f647209aa395d05d26519b"
   },
   "outputs": [],
   "source": [
    "model_main='snapboost-gpu-'+model_base_name"
   ]
  },
  {
   "cell_type": "code",
   "execution_count": 36,
   "metadata": {
    "id": "a2ef99b080954c04a5fc8630f34998a9"
   },
   "outputs": [
    {
     "name": "stdout",
     "output_type": "stream",
     "text": [
      "Overwriting /project_data/data_asset/models/snapboost-gpu-main.py\n"
     ]
    }
   ],
   "source": [
    "%%writefile {model_dir}/{model_main}\n",
    "\n",
    "import os, datetime\n",
    "import numpy as np\n",
    "import pandas as pd\n",
    "from sklearn.datasets import make_classification\n",
    "from sklearn.model_selection import train_test_split\n",
    "from sklearn.metrics import precision_score, recall_score, accuracy_score\n",
    "from snapml import BoostingMachineClassifier as SnapBoostingMachineClassifier\n",
    "\n",
    "os.environ['KMP_DUPLICATE_LIB_OK']='True'\n",
    "\n",
    "# Define Parameters for a large regression\n",
    "n_samples = 2**13 \n",
    "n_features = 899 \n",
    "n_info = 600 \n",
    "data_type = np.float32\n",
    "\n",
    "# Generate Data using scikit-learn\n",
    "X,y = make_classification(n_samples=n_samples,\n",
    "                          n_features=n_features,\n",
    "                          n_informative=n_info,\n",
    "                          random_state=123, n_classes=2)\n",
    "\n",
    "X = pd.DataFrame(X.astype(data_type))\n",
    "y = pd.Series(y.astype(np.int32))\n",
    "\n",
    "X_train, X_test, y_train, y_test = train_test_split(X, y,\n",
    "                                                    test_size = 0.2,\n",
    "                                                    random_state=0)\n",
    "\n",
    "print(\"Number of examples: %d\" % (X_train.shape[0]))\n",
    "print(\"Number of features: %d\" % (X_train.shape[1]))\n",
    "print(\"Number of classes:  %d\" % (len(np.unique(y_train))))\n",
    "\n",
    "snap_model = SnapBoostingMachineClassifier(use_gpu=True,   # use gpu\n",
    "                                    random_state=42, \n",
    "                                    n_jobs=1,\n",
    "                                    hist_nbins=256,\n",
    "                                    num_round=20)  # same interations number with xgboost\n",
    "\n",
    "# setup model and train\n",
    "start = datetime.datetime.now()\n",
    "snap_model.fit(X_train.values, y_train.values)  #.train(param, D_train, steps)\n",
    "end = datetime.datetime.now()\n",
    "print (\"Xgboost train timecost: %.2gs\" % ((end-start).total_seconds()))\n",
    "\n",
    "# predict\n",
    "start = datetime.datetime.now()\n",
    "preds = snap_model.predict(X_test.values)\n",
    "end = datetime.datetime.now()\n",
    "print (\"Xgboost predict timecost: %.2gs\" % ((end-start).total_seconds()))\n",
    "\n",
    "# check result\n",
    "best_preds = np.asarray([np.argmax(line) for line in preds])\n",
    "print(\"Precision = {}\".format(precision_score(y_test, best_preds, average='macro')))\n",
    "print(\"Recall = {}\".format(recall_score(y_test, best_preds, average='macro')))\n",
    "print(\"Accuracy = {}\".format(accuracy_score(y_test, best_preds)))\n",
    "\n",
    "# save the xgboost model into a file\n",
    "import pickle\n",
    "filename = './snapboost_model.pkl'\n",
    "pickle.dump(snap_model, open(filename, 'wb'))              \n",
    "print(\"Snapboost model saved successfully.\")"
   ]
  },
  {
   "cell_type": "markdown",
   "metadata": {
    "id": "d468ab99-da17-47c8-b20e-725734bfefb6"
   },
   "source": [
    "<a id = \"snapml-gpu\"></a>\n",
    "## Step 7 :  Training the SnapML model on GPU with Watson Machine Learning Accelerator\n",
    "### Re-define the submission parameters"
   ]
  },
  {
   "cell_type": "code",
   "execution_count": 37,
   "metadata": {
    "id": "f3ca85d2cbc14984b9edf4f62d7a55b5"
   },
   "outputs": [
    {
     "name": "stdout",
     "output_type": "stream",
     "text": [
      "--exec-start tensorflow --cs-datastore-meta type=fs --workerDeviceNum 1 --workerMemory 32G --workerDeviceType gpu --conda-env-name snapml-177rc --model-main snapboost-gpu-main.py\n"
     ]
    }
   ],
   "source": [
    "# specify the model file, conda env, device type and device number\n",
    "args = '--exec-start tensorflow --cs-datastore-meta type=fs \\\n",
    "--workerDeviceNum 1 \\\n",
    "--workerMemory 32G \\\n",
    "--workerDeviceType gpu \\\n",
    "--conda-env-name snapml-177rc \\\n",
    "--model-main ' + model_main\n",
    "# --msd-env CUDA_FORCE_PTX_JIT=1 \\\n",
    "print(args)"
   ]
  },
  {
   "cell_type": "code",
   "execution_count": 38,
   "metadata": {
    "id": "7d9d8546a7184268900d330e1ac5b87c"
   },
   "outputs": [
    {
     "name": "stdout",
     "output_type": "stream",
     "text": [
      "Refreshing every 5 seconds\n"
     ]
    },
    {
     "data": {
      "text/html": [
       "<div>\n",
       "<style scoped>\n",
       "    .dataframe tbody tr th:only-of-type {\n",
       "        vertical-align: middle;\n",
       "    }\n",
       "\n",
       "    .dataframe tbody tr th {\n",
       "        vertical-align: top;\n",
       "    }\n",
       "\n",
       "    .dataframe thead th {\n",
       "        text-align: right;\n",
       "    }\n",
       "</style>\n",
       "<table border=\"1\" class=\"dataframe\">\n",
       "  <thead>\n",
       "    <tr style=\"text-align: right;\">\n",
       "      <th></th>\n",
       "      <th>id</th>\n",
       "      <th>args</th>\n",
       "      <th>submissionId</th>\n",
       "      <th>creator</th>\n",
       "      <th>state</th>\n",
       "      <th>appId</th>\n",
       "      <th>schedulerUrl</th>\n",
       "      <th>modelFileOwnerName</th>\n",
       "      <th>workDir</th>\n",
       "      <th>appName</th>\n",
       "      <th>createTime</th>\n",
       "      <th>elastic</th>\n",
       "      <th>nameSpace</th>\n",
       "      <th>numWorker</th>\n",
       "      <th>framework</th>\n",
       "    </tr>\n",
       "  </thead>\n",
       "  <tbody>\n",
       "    <tr>\n",
       "      <th>0</th>\n",
       "      <td>wmla-862</td>\n",
       "      <td>--exec-start tensorflow --cs-datastore-meta type=fs --workerDeviceNum 1 --workerMemory 32G --workerDeviceType gpu --...</td>\n",
       "      <td>wmla-862</td>\n",
       "      <td>mluser1</td>\n",
       "      <td>FINISHED</td>\n",
       "      <td>wmla-862</td>\n",
       "      <td>https://wmla-mss:9080</td>\n",
       "      <td>wmla</td>\n",
       "      <td>/gpfs/myresultfs/mluser1/batchworkdir/wmla-862/_submitted_code</td>\n",
       "      <td>SingleNodeTensorflowTrain</td>\n",
       "      <td>2021-07-27T09:55:56Z</td>\n",
       "      <td>False</td>\n",
       "      <td>wmla</td>\n",
       "      <td>1</td>\n",
       "      <td>tensorflow</td>\n",
       "    </tr>\n",
       "  </tbody>\n",
       "</table>\n",
       "</div>"
      ],
      "text/plain": [
       "         id  \\\n",
       "0  wmla-862   \n",
       "\n",
       "                                                                                                                      args  \\\n",
       "0  --exec-start tensorflow --cs-datastore-meta type=fs --workerDeviceNum 1 --workerMemory 32G --workerDeviceType gpu --...   \n",
       "\n",
       "  submissionId  creator     state     appId           schedulerUrl  \\\n",
       "0     wmla-862  mluser1  FINISHED  wmla-862  https://wmla-mss:9080   \n",
       "\n",
       "  modelFileOwnerName  \\\n",
       "0               wmla   \n",
       "\n",
       "                                                          workDir  \\\n",
       "0  /gpfs/myresultfs/mluser1/batchworkdir/wmla-862/_submitted_code   \n",
       "\n",
       "                     appName            createTime  elastic nameSpace  \\\n",
       "0  SingleNodeTensorflowTrain  2021-07-27T09:55:56Z    False      wmla   \n",
       "\n",
       "   numWorker   framework  \n",
       "0          1  tensorflow  "
      ]
     },
     "metadata": {},
     "output_type": "display_data"
    },
    {
     "name": "stdout",
     "output_type": "stream",
     "text": [
      "{ 'appId': 'wmla-862',\n",
      "  'appName': 'SingleNodeTensorflowTrain',\n",
      "  'args': '--exec-start tensorflow --cs-datastore-meta type=fs '\n",
      "          '--workerDeviceNum 1 --workerMemory 32G --workerDeviceType gpu '\n",
      "          '--conda-env-name snapml-177rc --model-main snapboost-gpu-main.py ',\n",
      "  'createTime': '2021-07-27T09:55:56Z',\n",
      "  'creator': 'mluser1',\n",
      "  'elastic': False,\n",
      "  'framework': 'tensorflow',\n",
      "  'id': 'wmla-862',\n",
      "  'modelFileOwnerName': 'wmla',\n",
      "  'nameSpace': 'wmla',\n",
      "  'numWorker': 1,\n",
      "  'schedulerUrl': 'https://wmla-mss:9080',\n",
      "  'state': 'FINISHED',\n",
      "  'submissionId': 'wmla-862',\n",
      "  'workDir': '/gpfs/myresultfs/mluser1/batchworkdir/wmla-862/_submitted_code'}\n",
      "\n",
      "Totallly training cost:  51  seconds.\n"
     ]
    }
   ],
   "source": [
    "#files = {'file': open('/project_data/data_asset/models/snapboost-gpu-main.py', 'rb')}\n",
    "files = {'file': open(\"{0}/{1}\".format(model_dir,model_main),'rb')}\n",
    "submit_job_to_wmla (args, files)"
   ]
  },
  {
   "cell_type": "code",
   "execution_count": null,
   "metadata": {
    "id": "625057ff-e88e-4671-b35c-3753677373d8"
   },
   "outputs": [],
   "source": []
  }
 ],
 "metadata": {
  "kernelspec": {
   "display_name": "Python 3",
   "language": "python",
   "name": "python3"
  },
  "language_info": {
   "codemirror_mode": {
    "name": "ipython",
    "version": 3
   },
   "file_extension": ".py",
   "mimetype": "text/x-python",
   "name": "python",
   "nbconvert_exporter": "python",
   "pygments_lexer": "ipython3",
   "version": "3.6.10"
  }
 },
 "nbformat": 4,
 "nbformat_minor": 5
}
