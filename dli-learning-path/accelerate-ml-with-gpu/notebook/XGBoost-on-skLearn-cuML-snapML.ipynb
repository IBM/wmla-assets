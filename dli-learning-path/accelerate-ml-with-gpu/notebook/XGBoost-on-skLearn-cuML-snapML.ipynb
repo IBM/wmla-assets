{
 "cells": [
  {
   "cell_type": "markdown",
   "id": "0112f997",
   "metadata": {},
   "source": [
    "# Train a Xgboost Model with Watson Machine Learning \n",
    "\n",
    "Notebook created by Zeming Zhao on June, 2021\n",
    "\n",
    "XGBoost is an implementation of gradient boosted decision trees designed for speed and performance. which is an algorithm that has recently been dominating applied machine learning and Kaggle competitions for structured or tabular data.\n",
    "\n",
    "This notebook covers the following sections:\n",
    "\n",
    "1. [Setup Xgboost Model using xgboost lib](#model)<br>\n",
    "\n",
    "1. [Training the model on CPU with Watson Machine Learning Accelerator](#cpu)<br>\n",
    "\n",
    "1. [Training the model on GPU with Watson Machine Learning Accelerator](#gpu)<br>\n",
    "\n",
    "1. [Setup Snap Boosting Model using snapML lib](#snapml-model)<br>\n",
    "\n",
    "1. [Training the model on CPU with Watson Machine Learning Accelerator](#snapml-cpu)<br>\n",
    "\n",
    "1. [Training the model on GPU with Watson Machine Learning Accelerator](#snapml-gpu)<br>"
   ]
  },
  {
   "cell_type": "markdown",
   "id": "52139c5a",
   "metadata": {},
   "source": [
    "## Preparations"
   ]
  },
  {
   "cell_type": "markdown",
   "id": "306a8fb3",
   "metadata": {},
   "source": [
    "### Prepare directory and file for writing Xgboost engine."
   ]
  },
  {
   "cell_type": "code",
   "execution_count": 1,
   "id": "34021aaf",
   "metadata": {},
   "outputs": [
    {
     "name": "stdout",
     "output_type": "stream",
     "text": [
      "create model directory done.\n"
     ]
    }
   ],
   "source": [
    "from pathlib import Path\n",
    "model_dir = f'/data/models' \n",
    "model_main = f'Xgboost_main.py'\n",
    "Path(model_dir).mkdir(exist_ok=True)\n",
    "print(\"create model directory done.\")"
   ]
  },
  {
   "cell_type": "markdown",
   "id": "00b49b9b",
   "metadata": {},
   "source": [
    "## Step 1 : Setup Xgboost model"
   ]
  },
  {
   "cell_type": "markdown",
   "id": "7067a7bf",
   "metadata": {},
   "source": [
    "<a id = \"model\"></a>\n",
    "### create a Xgboost Model based on Xgboost lib "
   ]
  },
  {
   "cell_type": "code",
   "execution_count": 11,
   "id": "22da2ac1",
   "metadata": {},
   "outputs": [
    {
     "name": "stdout",
     "output_type": "stream",
     "text": [
      "Overwriting /data/models/Xgboost_main.py\n"
     ]
    }
   ],
   "source": [
    "%%writefile {model_dir}/{model_main}\n",
    "\n",
    "#from sklearn.datasets import load_iris\n",
    "#from sklearn.model_selection import train_test_split\n",
    "from sklearn.linear_model import LogisticRegression\n",
    "from sklearn.metrics import classification_report\n",
    "from sklearn.metrics import precision_score, recall_score, accuracy_score\n",
    "import numpy as np\n",
    "import pandas as pd\n",
    "import datetime\n",
    "import os\n",
    "os.environ['KMP_DUPLICATE_LIB_OK']='True'\n",
    "\n",
    "import xgboost as xgb\n",
    "\n",
    "# prepare data\n",
    "# dataset = load_iris()\n",
    "\n",
    "# X = dataset.data\n",
    "# y = dataset.target\n",
    "\n",
    "# X_train, X_test, y_train, y_test = train_test_split(X, y, test_size=0.2, random_state=42)\n",
    "\n",
    "from sklearn.datasets import make_classification\n",
    "from sklearn.model_selection import train_test_split\n",
    "\n",
    "# Define Parameters for a large regression\n",
    "n_samples = 2**13 \n",
    "n_features = 899 \n",
    "n_info = 600 \n",
    "data_type = np.float32\n",
    "\n",
    "# Generate Data using scikit-learn\n",
    "X,y = make_classification(n_samples=n_samples,\n",
    "                          n_features=n_features,\n",
    "                          n_informative=n_info,\n",
    "                          random_state=123, n_classes=2)\n",
    "\n",
    "X = pd.DataFrame(X.astype(data_type))\n",
    "y = pd.Series(y.astype(np.int32))\n",
    "\n",
    "X_train, X_test, y_train, y_test = train_test_split(X, y,\n",
    "                                                    test_size = 0.2,\n",
    "                                                    random_state=0)\n",
    "\n",
    "print(\"Number of examples: %d\" % (X_train.shape[0]))\n",
    "print(\"Number of features: %d\" % (X_train.shape[1]))\n",
    "print(\"Number of classes:  %d\" % (len(np.unique(y_train))))\n",
    "\n",
    "D_train = xgb.DMatrix(X_train, label=y_train)\n",
    "D_test = xgb.DMatrix(X_test, label=y_test)\n",
    "\n",
    "# set parameters\n",
    "param = {\n",
    "    'eta': 0.3, \n",
    "    'max_depth': 3,  \n",
    "    'objective': 'multi:softprob',  \n",
    "    'num_class': 3} \n",
    "\n",
    "steps = 20  # The number of training iterations\n",
    "\n",
    "# setup model and train\n",
    "start = datetime.datetime.now()\n",
    "model = xgb.train(param, D_train, steps)\n",
    "end = datetime.datetime.now()\n",
    "print (\"Xgboost train timecost: %.2gs\" % ((end-start).total_seconds()))\n",
    "\n",
    "\n",
    "# predict\n",
    "start = datetime.datetime.now()\n",
    "preds = model.predict(D_test)\n",
    "end = datetime.datetime.now()\n",
    "print (\"Xgboost predict timecost: %.2gs\" % ((end-start).total_seconds()))\n",
    "\n",
    "# check result\n",
    "best_preds = np.asarray([np.argmax(line) for line in preds])\n",
    "print(\"Precision = {}\".format(precision_score(y_test, best_preds, average='macro')))\n",
    "print(\"Recall = {}\".format(recall_score(y_test, best_preds, average='macro')))\n",
    "print(\"Accuracy = {}\".format(accuracy_score(y_test, best_preds)))\n",
    "\n",
    "# save the xgboost model into a file\n",
    "import pickle\n",
    "filename = './xgboost_model.pkl'\n",
    "pickle.dump(model, open(filename, 'wb'))              \n",
    "print(\"Xgboost model saved successfully.\")"
   ]
  },
  {
   "cell_type": "markdown",
   "id": "24a806ab",
   "metadata": {},
   "source": [
    "## Step 2 :  Training the Xgboost model on CPU with Watson Machine Learning Accelerator"
   ]
  },
  {
   "cell_type": "markdown",
   "id": "04cd2c11",
   "metadata": {},
   "source": [
    "### Prepare the model lib for job submission"
   ]
  },
  {
   "cell_type": "code",
   "execution_count": 3,
   "id": "e80c6e84",
   "metadata": {},
   "outputs": [
    {
     "name": "stdout",
     "output_type": "stream",
     "text": [
      "Populating the interactive namespace from numpy and matplotlib\n"
     ]
    }
   ],
   "source": [
    "import requests\n",
    "from requests.packages.urllib3.exceptions import InsecureRequestWarning\n",
    "requests.packages.urllib3.disable_warnings(InsecureRequestWarning)\n",
    "\n",
    "from matplotlib import pyplot as plt\n",
    "%pylab inline\n",
    "\n",
    "import base64\n",
    "import json\n",
    "import time\n",
    "import urllib"
   ]
  },
  {
   "cell_type": "markdown",
   "id": "9fcaa24d",
   "metadata": {},
   "source": [
    "### Configuring your environment and project details\n",
    "To set up your project details, provide your credentials in this cell. You must include your cluster URL, username, and password."
   ]
  },
  {
   "cell_type": "code",
   "execution_count": 4,
   "id": "5d7a107e",
   "metadata": {},
   "outputs": [
    {
     "name": "stdout",
     "output_type": "stream",
     "text": [
      "https://wmla-console-wmla.apps.wml1x180.ma.platformlab.ibm.com/auth/v1/logon\n"
     ]
    }
   ],
   "source": [
    "hostname='wmla-console-wmla.apps.wml1x180.ma.platformlab.ibm.com'  # please enter Watson Machine Learning Accelerator host name\n",
    "# login='username:password' # please enter the login and password\n",
    "login='admin:p7PMrMMknVQzEb3ptyj0D6XRTO5PQjYL'\n",
    "es = base64.b64encode(login.encode('utf-8')).decode(\"utf-8\")\n",
    "# print(es)\n",
    "commonHeaders={'Authorization': 'Basic '+es}\n",
    "req = requests.Session()\n",
    "auth_url = 'https://{}/auth/v1/logon'.format(hostname)\n",
    "print(auth_url)\n",
    "\n",
    "a=requests.get(auth_url,headers=commonHeaders, verify=False)\n",
    "access_token=a.json()['accessToken']\n",
    "# print(\"Access_token: \", access_token)"
   ]
  },
  {
   "cell_type": "code",
   "execution_count": 5,
   "id": "319b0a1a",
   "metadata": {},
   "outputs": [],
   "source": [
    "dl_rest_url = 'https://{}/platform/rest/deeplearning/v1'.format(hostname)\n",
    "commonHeaders={'accept': 'application/json', 'X-Auth-Token': access_token}\n",
    "req = requests.Session()"
   ]
  },
  {
   "cell_type": "code",
   "execution_count": 6,
   "id": "62c3c931",
   "metadata": {},
   "outputs": [],
   "source": [
    "# Health check\n",
    "confUrl = 'https://{}/platform/rest/deeplearning/v1/conf'.format(hostname)\n",
    "r = req.get(confUrl, headers=commonHeaders, verify=False)\n"
   ]
  },
  {
   "cell_type": "markdown",
   "id": "92af0a5c",
   "metadata": {},
   "source": [
    "### Define the status checking fuction"
   ]
  },
  {
   "cell_type": "code",
   "execution_count": 7,
   "id": "b1dfc6c3",
   "metadata": {},
   "outputs": [],
   "source": [
    "import tarfile\n",
    "import tempfile\n",
    "import os\n",
    "import json\n",
    "import pprint\n",
    "import pandas as pd\n",
    "from IPython.display import clear_output\n",
    "\n",
    "def query_job_status(job_id,refresh_rate=3) :\n",
    "\n",
    "    execURL = dl_rest_url  +'/execs/'+ job_id['id']\n",
    "    pp = pprint.PrettyPrinter(indent=2)\n",
    "\n",
    "    keep_running=True\n",
    "    res=None\n",
    "    while(keep_running):\n",
    "        res = req.get(execURL, headers=commonHeaders, verify=False)\n",
    "        monitoring = pd.DataFrame(res.json(), index=[0])\n",
    "        pd.set_option('max_colwidth', 120)\n",
    "        clear_output()\n",
    "        print(\"Refreshing every {} seconds\".format(refresh_rate))\n",
    "        display(monitoring)\n",
    "        pp.pprint(res.json())\n",
    "        if(res.json()['state'] not in ['PENDING_CRD_SCHEDULER', 'SUBMITTED','RUNNING']) :\n",
    "            keep_running=False\n",
    "        time.sleep(refresh_rate)\n",
    "    return res"
   ]
  },
  {
   "cell_type": "markdown",
   "id": "e3b64b81",
   "metadata": {},
   "source": [
    "### Define the submission commnad"
   ]
  },
  {
   "cell_type": "code",
   "execution_count": 8,
   "id": "9434973d",
   "metadata": {},
   "outputs": [],
   "source": [
    "def submit_job_to_wmla (args) :\n",
    "    starttime = datetime.datetime.now()\n",
    "    r = requests.post(dl_rest_url+'/execs?args='+args, # files=files,\n",
    "                  headers=commonHeaders, verify=False)\n",
    "    if not r.ok:\n",
    "        print('submit job failed: code=%s, %s'%(r.status_code, r.content))\n",
    "    job_status = query_job_status(r.json(),refresh_rate=5)\n",
    "    endtime = datetime.datetime.now()\n",
    "    print(\"\\nTotallly training cost: \", (endtime - starttime).seconds, \" seconds.\")"
   ]
  },
  {
   "cell_type": "markdown",
   "id": "82da9196",
   "metadata": {},
   "source": [
    "<a id = \"cpu\"></a>\n",
    "### Define the submittion parameters using conda env with CPU version XGBoost"
   ]
  },
  {
   "cell_type": "code",
   "execution_count": 9,
   "id": "244d7b16",
   "metadata": {},
   "outputs": [
    {
     "name": "stdout",
     "output_type": "stream",
     "text": [
      "--exec-start tensorflow --cs-datastore-meta type=fs                      --workerDeviceNum 1                      --workerDeviceType cpu                      --conda-env-name rapids-21.06                       --model-main /gpfs/mydatafs/models/Xgboost_main.py\n"
     ]
    }
   ],
   "source": [
    "# specify the conda env of xgboost and worker device type\n",
    "args = '--exec-start tensorflow --cs-datastore-meta type=fs \\\n",
    "                     --workerDeviceNum 1 \\\n",
    "                     --workerDeviceType cpu \\\n",
    "                     --conda-env-name rapids-21.06  \\\n",
    "                     --model-main /gpfs/mydatafs/models/' + model_main\n",
    "\n",
    "print(args)"
   ]
  },
  {
   "cell_type": "code",
   "execution_count": 12,
   "id": "8cfb50e4",
   "metadata": {},
   "outputs": [
    {
     "name": "stdout",
     "output_type": "stream",
     "text": [
      "Refreshing every 5 seconds\n"
     ]
    },
    {
     "data": {
      "text/html": [
       "<div>\n",
       "<style scoped>\n",
       "    .dataframe tbody tr th:only-of-type {\n",
       "        vertical-align: middle;\n",
       "    }\n",
       "\n",
       "    .dataframe tbody tr th {\n",
       "        vertical-align: top;\n",
       "    }\n",
       "\n",
       "    .dataframe thead th {\n",
       "        text-align: right;\n",
       "    }\n",
       "</style>\n",
       "<table border=\"1\" class=\"dataframe\">\n",
       "  <thead>\n",
       "    <tr style=\"text-align: right;\">\n",
       "      <th></th>\n",
       "      <th>id</th>\n",
       "      <th>args</th>\n",
       "      <th>submissionId</th>\n",
       "      <th>creator</th>\n",
       "      <th>state</th>\n",
       "      <th>appId</th>\n",
       "      <th>schedulerUrl</th>\n",
       "      <th>modelFileOwnerName</th>\n",
       "      <th>workDir</th>\n",
       "      <th>appName</th>\n",
       "      <th>createTime</th>\n",
       "      <th>elastic</th>\n",
       "      <th>nameSpace</th>\n",
       "      <th>numWorker</th>\n",
       "      <th>framework</th>\n",
       "    </tr>\n",
       "  </thead>\n",
       "  <tbody>\n",
       "    <tr>\n",
       "      <th>0</th>\n",
       "      <td>wmla-322</td>\n",
       "      <td>--exec-start tensorflow --cs-datastore-meta type=fs                      --workerDeviceNum 1                      --...</td>\n",
       "      <td>wmla-322</td>\n",
       "      <td>admin</td>\n",
       "      <td>FINISHED</td>\n",
       "      <td>wmla-322</td>\n",
       "      <td>https://wmla-mss:9080</td>\n",
       "      <td>wmla</td>\n",
       "      <td>/gpfs/myresultfs/admin/batchworkdir/wmla-322/_submitted_code</td>\n",
       "      <td>SingleNodeTensorflowTrain</td>\n",
       "      <td>2021-07-13T08:32:24Z</td>\n",
       "      <td>False</td>\n",
       "      <td>wmla</td>\n",
       "      <td>1</td>\n",
       "      <td>tensorflow</td>\n",
       "    </tr>\n",
       "  </tbody>\n",
       "</table>\n",
       "</div>"
      ],
      "text/plain": [
       "         id  \\\n",
       "0  wmla-322   \n",
       "\n",
       "                                                                                                                      args  \\\n",
       "0  --exec-start tensorflow --cs-datastore-meta type=fs                      --workerDeviceNum 1                      --...   \n",
       "\n",
       "  submissionId creator     state     appId           schedulerUrl  \\\n",
       "0     wmla-322   admin  FINISHED  wmla-322  https://wmla-mss:9080   \n",
       "\n",
       "  modelFileOwnerName  \\\n",
       "0               wmla   \n",
       "\n",
       "                                                        workDir  \\\n",
       "0  /gpfs/myresultfs/admin/batchworkdir/wmla-322/_submitted_code   \n",
       "\n",
       "                     appName            createTime  elastic nameSpace  \\\n",
       "0  SingleNodeTensorflowTrain  2021-07-13T08:32:24Z    False      wmla   \n",
       "\n",
       "   numWorker   framework  \n",
       "0          1  tensorflow  "
      ]
     },
     "metadata": {},
     "output_type": "display_data"
    },
    {
     "name": "stdout",
     "output_type": "stream",
     "text": [
      "{ 'appId': 'wmla-322',\n",
      "  'appName': 'SingleNodeTensorflowTrain',\n",
      "  'args': '--exec-start tensorflow --cs-datastore-meta '\n",
      "          'type=fs                      --workerDeviceNum '\n",
      "          '1                      --workerDeviceType cpu                      '\n",
      "          '--conda-env-name rapids-21.06                       --model-main '\n",
      "          '/gpfs/mydatafs/models/Xgboost_main.py ',\n",
      "  'createTime': '2021-07-13T08:32:24Z',\n",
      "  'creator': 'admin',\n",
      "  'elastic': False,\n",
      "  'framework': 'tensorflow',\n",
      "  'id': 'wmla-322',\n",
      "  'modelFileOwnerName': 'wmla',\n",
      "  'nameSpace': 'wmla',\n",
      "  'numWorker': 1,\n",
      "  'schedulerUrl': 'https://wmla-mss:9080',\n",
      "  'state': 'FINISHED',\n",
      "  'submissionId': 'wmla-322',\n",
      "  'workDir': '/gpfs/myresultfs/admin/batchworkdir/wmla-322/_submitted_code'}\n",
      "\n",
      "Totallly training cost:  64  seconds.\n"
     ]
    }
   ],
   "source": [
    "submit_job_to_wmla (args)"
   ]
  },
  {
   "cell_type": "markdown",
   "id": "e41528f3",
   "metadata": {},
   "source": [
    "## Step 3 :  Training the Xgboost model on GPU with Watson Machine Learning Accelerator"
   ]
  },
  {
   "cell_type": "markdown",
   "id": "17b8e471",
   "metadata": {},
   "source": [
    "<a id = \"gpu\"></a>\n",
    "### Define the submittion parameters using conda env with GPU version XGBoost"
   ]
  },
  {
   "cell_type": "code",
   "execution_count": 13,
   "id": "a368d031",
   "metadata": {},
   "outputs": [
    {
     "name": "stdout",
     "output_type": "stream",
     "text": [
      "--exec-start tensorflow --cs-datastore-meta type=fs                      --workerDeviceNum 1                      --workerDeviceType gpu                      --conda-env-name dlipy3                       --model-main /gpfs/mydatafs/models/Xgboost_main.py\n"
     ]
    }
   ],
   "source": [
    "# specify the conda env of xgboost and worker device type\n",
    "args = '--exec-start tensorflow --cs-datastore-meta type=fs \\\n",
    "                     --workerDeviceNum 1 \\\n",
    "                     --workerDeviceType gpu \\\n",
    "                     --conda-env-name dlipy3  \\\n",
    "                     --model-main /gpfs/mydatafs/models/' + model_main\n",
    "\n",
    "print(args)"
   ]
  },
  {
   "cell_type": "code",
   "execution_count": 14,
   "id": "3234f6b2",
   "metadata": {},
   "outputs": [
    {
     "name": "stdout",
     "output_type": "stream",
     "text": [
      "Refreshing every 5 seconds\n"
     ]
    },
    {
     "data": {
      "text/html": [
       "<div>\n",
       "<style scoped>\n",
       "    .dataframe tbody tr th:only-of-type {\n",
       "        vertical-align: middle;\n",
       "    }\n",
       "\n",
       "    .dataframe tbody tr th {\n",
       "        vertical-align: top;\n",
       "    }\n",
       "\n",
       "    .dataframe thead th {\n",
       "        text-align: right;\n",
       "    }\n",
       "</style>\n",
       "<table border=\"1\" class=\"dataframe\">\n",
       "  <thead>\n",
       "    <tr style=\"text-align: right;\">\n",
       "      <th></th>\n",
       "      <th>id</th>\n",
       "      <th>args</th>\n",
       "      <th>submissionId</th>\n",
       "      <th>creator</th>\n",
       "      <th>state</th>\n",
       "      <th>appId</th>\n",
       "      <th>schedulerUrl</th>\n",
       "      <th>modelFileOwnerName</th>\n",
       "      <th>workDir</th>\n",
       "      <th>appName</th>\n",
       "      <th>createTime</th>\n",
       "      <th>elastic</th>\n",
       "      <th>nameSpace</th>\n",
       "      <th>numWorker</th>\n",
       "      <th>framework</th>\n",
       "    </tr>\n",
       "  </thead>\n",
       "  <tbody>\n",
       "    <tr>\n",
       "      <th>0</th>\n",
       "      <td>wmla-323</td>\n",
       "      <td>--exec-start tensorflow --cs-datastore-meta type=fs                      --workerDeviceNum 1                      --...</td>\n",
       "      <td>wmla-323</td>\n",
       "      <td>admin</td>\n",
       "      <td>FINISHED</td>\n",
       "      <td>wmla-323</td>\n",
       "      <td>https://wmla-mss:9080</td>\n",
       "      <td>wmla</td>\n",
       "      <td>/gpfs/myresultfs/admin/batchworkdir/wmla-323/_submitted_code</td>\n",
       "      <td>SingleNodeTensorflowTrain</td>\n",
       "      <td>2021-07-13T08:34:48Z</td>\n",
       "      <td>False</td>\n",
       "      <td>wmla</td>\n",
       "      <td>1</td>\n",
       "      <td>tensorflow</td>\n",
       "    </tr>\n",
       "  </tbody>\n",
       "</table>\n",
       "</div>"
      ],
      "text/plain": [
       "         id  \\\n",
       "0  wmla-323   \n",
       "\n",
       "                                                                                                                      args  \\\n",
       "0  --exec-start tensorflow --cs-datastore-meta type=fs                      --workerDeviceNum 1                      --...   \n",
       "\n",
       "  submissionId creator     state     appId           schedulerUrl  \\\n",
       "0     wmla-323   admin  FINISHED  wmla-323  https://wmla-mss:9080   \n",
       "\n",
       "  modelFileOwnerName  \\\n",
       "0               wmla   \n",
       "\n",
       "                                                        workDir  \\\n",
       "0  /gpfs/myresultfs/admin/batchworkdir/wmla-323/_submitted_code   \n",
       "\n",
       "                     appName            createTime  elastic nameSpace  \\\n",
       "0  SingleNodeTensorflowTrain  2021-07-13T08:34:48Z    False      wmla   \n",
       "\n",
       "   numWorker   framework  \n",
       "0          1  tensorflow  "
      ]
     },
     "metadata": {},
     "output_type": "display_data"
    },
    {
     "name": "stdout",
     "output_type": "stream",
     "text": [
      "{ 'appId': 'wmla-323',\n",
      "  'appName': 'SingleNodeTensorflowTrain',\n",
      "  'args': '--exec-start tensorflow --cs-datastore-meta '\n",
      "          'type=fs                      --workerDeviceNum '\n",
      "          '1                      --workerDeviceType gpu                      '\n",
      "          '--conda-env-name dlipy3                       --model-main '\n",
      "          '/gpfs/mydatafs/models/Xgboost_main.py ',\n",
      "  'createTime': '2021-07-13T08:34:48Z',\n",
      "  'creator': 'admin',\n",
      "  'elastic': False,\n",
      "  'framework': 'tensorflow',\n",
      "  'id': 'wmla-323',\n",
      "  'modelFileOwnerName': 'wmla',\n",
      "  'nameSpace': 'wmla',\n",
      "  'numWorker': 1,\n",
      "  'schedulerUrl': 'https://wmla-mss:9080',\n",
      "  'state': 'FINISHED',\n",
      "  'submissionId': 'wmla-323',\n",
      "  'workDir': '/gpfs/myresultfs/admin/batchworkdir/wmla-323/_submitted_code'}\n",
      "\n",
      "Totallly training cost:  38  seconds.\n"
     ]
    }
   ],
   "source": [
    "submit_job_to_wmla (args)"
   ]
  },
  {
   "cell_type": "markdown",
   "id": "1f923141",
   "metadata": {},
   "source": [
    "## Step 4 :  Setup Snap Boosting model using snapML"
   ]
  },
  {
   "cell_type": "markdown",
   "id": "e4e12f86",
   "metadata": {},
   "source": [
    "<a id = \"snapml-model\"></a>\n",
    "### Create a Snap Boosting model based on snapML "
   ]
  },
  {
   "cell_type": "code",
   "execution_count": 15,
   "id": "5172373f",
   "metadata": {},
   "outputs": [],
   "source": [
    "model_main='snapML-'+model_main"
   ]
  },
  {
   "cell_type": "code",
   "execution_count": 16,
   "id": "b0909d25",
   "metadata": {},
   "outputs": [
    {
     "name": "stdout",
     "output_type": "stream",
     "text": [
      "Overwriting /data/models/snapML-Xgboost_main.py\n"
     ]
    }
   ],
   "source": [
    "%%writefile {model_dir}/{model_main}\n",
    "\n",
    "#from sklearn.datasets import load_iris\n",
    "#from sklearn.model_selection import train_test_split\n",
    "#from sklearn.linear_model import LogisticRegression\n",
    "from sklearn.metrics import classification_report\n",
    "from sklearn.metrics import precision_score, recall_score, accuracy_score\n",
    "import numpy as np\n",
    "import pandas as pd\n",
    "import datetime\n",
    "import os\n",
    "os.environ['KMP_DUPLICATE_LIB_OK']='True'\n",
    "\n",
    "#import xgboost as xgb\n",
    "from snapml import BoostingMachineClassifier as SnapBoostingMachineClassifier\n",
    "\n",
    "\n",
    "# prepare data\n",
    "# dataset = load_iris()\n",
    "\n",
    "# X = dataset.data\n",
    "# y = dataset.target\n",
    "\n",
    "# X_train, X_test, y_train, y_test = train_test_split(X, y, test_size=0.2, random_state=42)\n",
    "\n",
    "from sklearn.datasets import make_classification\n",
    "from sklearn.model_selection import train_test_split\n",
    "\n",
    "# Define Parameters for a large regression\n",
    "n_samples = 2**13 \n",
    "n_features = 899 \n",
    "n_info = 600 \n",
    "data_type = np.float32\n",
    "\n",
    "# Generate Data using scikit-learn\n",
    "X,y = make_classification(n_samples=n_samples,\n",
    "                          n_features=n_features,\n",
    "                          n_informative=n_info,\n",
    "                          random_state=123, n_classes=2)\n",
    "\n",
    "X = pd.DataFrame(X.astype(data_type))\n",
    "y = pd.Series(y.astype(np.int32))\n",
    "\n",
    "X_train, X_test, y_train, y_test = train_test_split(X, y,\n",
    "                                                    test_size = 0.2,\n",
    "                                                    random_state=0)\n",
    "\n",
    "print(\"Number of examples: %d\" % (X_train.shape[0]))\n",
    "print(\"Number of features: %d\" % (X_train.shape[1]))\n",
    "print(\"Number of classes:  %d\" % (len(np.unique(y_train))))\n",
    "\n",
    "#D_train = xgb.DMatrix(X_train, label=y_train)\n",
    "#D_test = xgb.DMatrix(X_test, label=y_test)\n",
    "\n",
    "# set parameters\n",
    "# param = {\n",
    "#     'eta': 0.3, \n",
    "#     'max_depth': 3,  \n",
    "#     'objective': 'multi:softprob',  \n",
    "#     'num_class': 3} \n",
    "\n",
    "# steps = 20  # The number of training iterations\n",
    "\n",
    "# BoostingMachine(objective='mse', num_round=10, min_max_depth=1, \n",
    "#   max_max_depth=6, n_threads=1, random_state=None, learning_rate=0.1, \n",
    "#   use_histograms=True, hist_nbins=64, use_gpu=False, gpu_id=0, verbose=False, \n",
    "#   colsample_bytree=1.0, subsample=1.0, parallel_by_example=False, lambda_l2=0.0)\n",
    "\n",
    "\n",
    "snap_model = SnapBoostingMachineClassifier(#objective='mse',\n",
    "                                    #max_max_depth=3,\n",
    "                                    random_state=42, \n",
    "                                    n_jobs=1,\n",
    "                                    hist_nbins=256,\n",
    "                                   num_round=20)\n",
    "\n",
    "# setup model and train\n",
    "start = datetime.datetime.now()\n",
    "snap_model.fit(X_train.values, y_train.values)  #.train(param, D_train, steps)\n",
    "end = datetime.datetime.now()\n",
    "print (\"Xgboost train timecost: %.2gs\" % ((end-start).total_seconds()))\n",
    "\n",
    "\n",
    "# predict\n",
    "start = datetime.datetime.now()\n",
    "preds = snap_model.predict(X_test.values)\n",
    "end = datetime.datetime.now()\n",
    "print (\"Xgboost predict timecost: %.2gs\" % ((end-start).total_seconds()))\n",
    "\n",
    "# check result\n",
    "best_preds = np.asarray([np.argmax(line) for line in preds])\n",
    "print(\"Precision = {}\".format(precision_score(y_test, best_preds, average='macro')))\n",
    "print(\"Recall = {}\".format(recall_score(y_test, best_preds, average='macro')))\n",
    "print(\"Accuracy = {}\".format(accuracy_score(y_test, best_preds)))\n",
    "\n",
    "# save the xgboost model into a file\n",
    "import pickle\n",
    "filename = './snap-xgboost_model.pkl'\n",
    "pickle.dump(snap_model, open(filename, 'wb'))              \n",
    "print(\"Xgboost model saved successfully.\")"
   ]
  },
  {
   "cell_type": "markdown",
   "id": "a352ea1f",
   "metadata": {},
   "source": [
    "## Step 5 :  Training the SnapML model on CPU with Watson Machine Learning Accelerator"
   ]
  },
  {
   "cell_type": "markdown",
   "id": "66a174d5",
   "metadata": {},
   "source": [
    "<a id = \"snapml-cpu\"></a>\n",
    "### Re-define the submission parameters"
   ]
  },
  {
   "cell_type": "code",
   "execution_count": 17,
   "id": "b353f16f",
   "metadata": {},
   "outputs": [
    {
     "name": "stdout",
     "output_type": "stream",
     "text": [
      "--exec-start tensorflow --cs-datastore-meta type=fs                      --workerDeviceNum 1                      --workerDeviceType cpu                      --conda-env-name snapml-py3.7                      --model-main /gpfs/mydatafs/models/snapML-Xgboost_main.py\n"
     ]
    }
   ],
   "source": [
    "# specify the conda env of snapml and worker device type\n",
    "args = '--exec-start tensorflow --cs-datastore-meta type=fs \\\n",
    "                     --workerDeviceNum 1 \\\n",
    "                     --workerDeviceType cpu \\\n",
    "                     --conda-env-name snapml-py3.7 \\\n",
    "                     --model-main /gpfs/mydatafs/models/' + model_main\n",
    "print(args)"
   ]
  },
  {
   "cell_type": "code",
   "execution_count": 18,
   "id": "e3916b8a",
   "metadata": {},
   "outputs": [
    {
     "name": "stdout",
     "output_type": "stream",
     "text": [
      "Refreshing every 5 seconds\n"
     ]
    },
    {
     "data": {
      "text/html": [
       "<div>\n",
       "<style scoped>\n",
       "    .dataframe tbody tr th:only-of-type {\n",
       "        vertical-align: middle;\n",
       "    }\n",
       "\n",
       "    .dataframe tbody tr th {\n",
       "        vertical-align: top;\n",
       "    }\n",
       "\n",
       "    .dataframe thead th {\n",
       "        text-align: right;\n",
       "    }\n",
       "</style>\n",
       "<table border=\"1\" class=\"dataframe\">\n",
       "  <thead>\n",
       "    <tr style=\"text-align: right;\">\n",
       "      <th></th>\n",
       "      <th>id</th>\n",
       "      <th>args</th>\n",
       "      <th>submissionId</th>\n",
       "      <th>creator</th>\n",
       "      <th>state</th>\n",
       "      <th>appId</th>\n",
       "      <th>schedulerUrl</th>\n",
       "      <th>modelFileOwnerName</th>\n",
       "      <th>workDir</th>\n",
       "      <th>appName</th>\n",
       "      <th>createTime</th>\n",
       "      <th>elastic</th>\n",
       "      <th>nameSpace</th>\n",
       "      <th>numWorker</th>\n",
       "      <th>framework</th>\n",
       "    </tr>\n",
       "  </thead>\n",
       "  <tbody>\n",
       "    <tr>\n",
       "      <th>0</th>\n",
       "      <td>wmla-324</td>\n",
       "      <td>--exec-start tensorflow --cs-datastore-meta type=fs                      --workerDeviceNum 1                      --...</td>\n",
       "      <td>wmla-324</td>\n",
       "      <td>admin</td>\n",
       "      <td>FINISHED</td>\n",
       "      <td>wmla-324</td>\n",
       "      <td>https://wmla-mss:9080</td>\n",
       "      <td>wmla</td>\n",
       "      <td>/gpfs/myresultfs/admin/batchworkdir/wmla-324/_submitted_code</td>\n",
       "      <td>SingleNodeTensorflowTrain</td>\n",
       "      <td>2021-07-13T08:35:44Z</td>\n",
       "      <td>False</td>\n",
       "      <td>wmla</td>\n",
       "      <td>1</td>\n",
       "      <td>tensorflow</td>\n",
       "    </tr>\n",
       "  </tbody>\n",
       "</table>\n",
       "</div>"
      ],
      "text/plain": [
       "         id  \\\n",
       "0  wmla-324   \n",
       "\n",
       "                                                                                                                      args  \\\n",
       "0  --exec-start tensorflow --cs-datastore-meta type=fs                      --workerDeviceNum 1                      --...   \n",
       "\n",
       "  submissionId creator     state     appId           schedulerUrl  \\\n",
       "0     wmla-324   admin  FINISHED  wmla-324  https://wmla-mss:9080   \n",
       "\n",
       "  modelFileOwnerName  \\\n",
       "0               wmla   \n",
       "\n",
       "                                                        workDir  \\\n",
       "0  /gpfs/myresultfs/admin/batchworkdir/wmla-324/_submitted_code   \n",
       "\n",
       "                     appName            createTime  elastic nameSpace  \\\n",
       "0  SingleNodeTensorflowTrain  2021-07-13T08:35:44Z    False      wmla   \n",
       "\n",
       "   numWorker   framework  \n",
       "0          1  tensorflow  "
      ]
     },
     "metadata": {},
     "output_type": "display_data"
    },
    {
     "name": "stdout",
     "output_type": "stream",
     "text": [
      "{ 'appId': 'wmla-324',\n",
      "  'appName': 'SingleNodeTensorflowTrain',\n",
      "  'args': '--exec-start tensorflow --cs-datastore-meta '\n",
      "          'type=fs                      --workerDeviceNum '\n",
      "          '1                      --workerDeviceType cpu                      '\n",
      "          '--conda-env-name snapml-py3.7                      --model-main '\n",
      "          '/gpfs/mydatafs/models/snapML-Xgboost_main.py ',\n",
      "  'createTime': '2021-07-13T08:35:44Z',\n",
      "  'creator': 'admin',\n",
      "  'elastic': False,\n",
      "  'framework': 'tensorflow',\n",
      "  'id': 'wmla-324',\n",
      "  'modelFileOwnerName': 'wmla',\n",
      "  'nameSpace': 'wmla',\n",
      "  'numWorker': 1,\n",
      "  'schedulerUrl': 'https://wmla-mss:9080',\n",
      "  'state': 'FINISHED',\n",
      "  'submissionId': 'wmla-324',\n",
      "  'workDir': '/gpfs/myresultfs/admin/batchworkdir/wmla-324/_submitted_code'}\n",
      "\n",
      "Totallly training cost:  32  seconds.\n"
     ]
    }
   ],
   "source": [
    "submit_job_to_wmla (args)"
   ]
  },
  {
   "cell_type": "markdown",
   "id": "f769966d",
   "metadata": {},
   "source": [
    "## Step 6 :  Training the SnapML model on GPU with Watson Machine Learning Accelerator"
   ]
  },
  {
   "cell_type": "markdown",
   "id": "210ca0c1",
   "metadata": {},
   "source": [
    "<a id = \"snapml-gpu\"></a>\n",
    "### Re-define the submission parameters"
   ]
  },
  {
   "cell_type": "code",
   "execution_count": 19,
   "id": "04940ce3",
   "metadata": {},
   "outputs": [
    {
     "name": "stdout",
     "output_type": "stream",
     "text": [
      "--exec-start tensorflow --cs-datastore-meta type=fs                      --workerDeviceNum 1                      --workerDeviceType gpu                      --conda-env-name snapml-py3.7                      --model-main /gpfs/mydatafs/models/snapML-Xgboost_main.py\n"
     ]
    }
   ],
   "source": [
    "# specify the conda env of snapml and worker device type\n",
    "args = '--exec-start tensorflow --cs-datastore-meta type=fs \\\n",
    "                     --workerDeviceNum 1 \\\n",
    "                     --workerDeviceType gpu \\\n",
    "                     --conda-env-name snapml-py3.7 \\\n",
    "                     --model-main /gpfs/mydatafs/models/' + model_main\n",
    "print(args)"
   ]
  },
  {
   "cell_type": "code",
   "execution_count": 20,
   "id": "2d1daf1e",
   "metadata": {},
   "outputs": [
    {
     "name": "stdout",
     "output_type": "stream",
     "text": [
      "Refreshing every 5 seconds\n"
     ]
    },
    {
     "data": {
      "text/html": [
       "<div>\n",
       "<style scoped>\n",
       "    .dataframe tbody tr th:only-of-type {\n",
       "        vertical-align: middle;\n",
       "    }\n",
       "\n",
       "    .dataframe tbody tr th {\n",
       "        vertical-align: top;\n",
       "    }\n",
       "\n",
       "    .dataframe thead th {\n",
       "        text-align: right;\n",
       "    }\n",
       "</style>\n",
       "<table border=\"1\" class=\"dataframe\">\n",
       "  <thead>\n",
       "    <tr style=\"text-align: right;\">\n",
       "      <th></th>\n",
       "      <th>id</th>\n",
       "      <th>args</th>\n",
       "      <th>submissionId</th>\n",
       "      <th>creator</th>\n",
       "      <th>state</th>\n",
       "      <th>appId</th>\n",
       "      <th>schedulerUrl</th>\n",
       "      <th>modelFileOwnerName</th>\n",
       "      <th>workDir</th>\n",
       "      <th>appName</th>\n",
       "      <th>createTime</th>\n",
       "      <th>elastic</th>\n",
       "      <th>nameSpace</th>\n",
       "      <th>numWorker</th>\n",
       "      <th>framework</th>\n",
       "    </tr>\n",
       "  </thead>\n",
       "  <tbody>\n",
       "    <tr>\n",
       "      <th>0</th>\n",
       "      <td>wmla-325</td>\n",
       "      <td>--exec-start tensorflow --cs-datastore-meta type=fs                      --workerDeviceNum 1                      --...</td>\n",
       "      <td>wmla-325</td>\n",
       "      <td>admin</td>\n",
       "      <td>FINISHED</td>\n",
       "      <td>wmla-325</td>\n",
       "      <td>https://wmla-mss:9080</td>\n",
       "      <td>wmla</td>\n",
       "      <td>/gpfs/myresultfs/admin/batchworkdir/wmla-325/_submitted_code</td>\n",
       "      <td>SingleNodeTensorflowTrain</td>\n",
       "      <td>2021-07-13T08:39:43Z</td>\n",
       "      <td>False</td>\n",
       "      <td>wmla</td>\n",
       "      <td>1</td>\n",
       "      <td>tensorflow</td>\n",
       "    </tr>\n",
       "  </tbody>\n",
       "</table>\n",
       "</div>"
      ],
      "text/plain": [
       "         id  \\\n",
       "0  wmla-325   \n",
       "\n",
       "                                                                                                                      args  \\\n",
       "0  --exec-start tensorflow --cs-datastore-meta type=fs                      --workerDeviceNum 1                      --...   \n",
       "\n",
       "  submissionId creator     state     appId           schedulerUrl  \\\n",
       "0     wmla-325   admin  FINISHED  wmla-325  https://wmla-mss:9080   \n",
       "\n",
       "  modelFileOwnerName  \\\n",
       "0               wmla   \n",
       "\n",
       "                                                        workDir  \\\n",
       "0  /gpfs/myresultfs/admin/batchworkdir/wmla-325/_submitted_code   \n",
       "\n",
       "                     appName            createTime  elastic nameSpace  \\\n",
       "0  SingleNodeTensorflowTrain  2021-07-13T08:39:43Z    False      wmla   \n",
       "\n",
       "   numWorker   framework  \n",
       "0          1  tensorflow  "
      ]
     },
     "metadata": {},
     "output_type": "display_data"
    },
    {
     "name": "stdout",
     "output_type": "stream",
     "text": [
      "{ 'appId': 'wmla-325',\n",
      "  'appName': 'SingleNodeTensorflowTrain',\n",
      "  'args': '--exec-start tensorflow --cs-datastore-meta '\n",
      "          'type=fs                      --workerDeviceNum '\n",
      "          '1                      --workerDeviceType gpu                      '\n",
      "          '--conda-env-name snapml-py3.7                      --model-main '\n",
      "          '/gpfs/mydatafs/models/snapML-Xgboost_main.py ',\n",
      "  'createTime': '2021-07-13T08:39:43Z',\n",
      "  'creator': 'admin',\n",
      "  'elastic': False,\n",
      "  'framework': 'tensorflow',\n",
      "  'id': 'wmla-325',\n",
      "  'modelFileOwnerName': 'wmla',\n",
      "  'nameSpace': 'wmla',\n",
      "  'numWorker': 1,\n",
      "  'schedulerUrl': 'https://wmla-mss:9080',\n",
      "  'state': 'FINISHED',\n",
      "  'submissionId': 'wmla-325',\n",
      "  'workDir': '/gpfs/myresultfs/admin/batchworkdir/wmla-325/_submitted_code'}\n",
      "\n",
      "Totallly training cost:  32  seconds.\n"
     ]
    }
   ],
   "source": [
    "submit_job_to_wmla (args)"
   ]
  },
  {
   "cell_type": "code",
   "execution_count": null,
   "id": "677873bc",
   "metadata": {},
   "outputs": [],
   "source": []
  }
 ],
 "metadata": {
  "kernelspec": {
   "display_name": "Python3 Single GPU Kernel",
   "language": "python",
   "name": "python_single_gpu"
  },
  "language_info": {
   "codemirror_mode": {
    "name": "ipython",
    "version": 3
   },
   "file_extension": ".py",
   "mimetype": "text/x-python",
   "name": "python",
   "nbconvert_exporter": "python",
   "pygments_lexer": "ipython3",
   "version": "3.7.10"
  }
 },
 "nbformat": 4,
 "nbformat_minor": 5
}
