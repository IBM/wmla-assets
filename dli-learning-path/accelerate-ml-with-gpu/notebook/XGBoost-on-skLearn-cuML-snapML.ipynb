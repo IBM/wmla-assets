{
 "cells": [
  {
   "cell_type": "markdown",
   "id": "c2f0e782",
   "metadata": {},
   "source": [
    "# Train a Xgboost Model with Watson Machine Learning \n",
    "\n",
    "Notebook created by Zeming Zhao on June, 2021\n",
    "\n",
    "XGBoost is an implementation of gradient boosted decision trees designed for speed and performance. which is an algorithm that has recently been dominating applied machine learning and Kaggle competitions for structured or tabular data.\n",
    "\n",
    "SnapBoost implements a boosting machine that can be used to construct an ensemble of decision trees. It can be used for both clasification and regression tasks. In constrast to other boosting frameworks, Snap ML’s boosting machine dose not utilize a fixed maximal tree depth at each boosting iteration. Instead, the tree depth is sampled at each boosting iteration according to a discrete uniform distribution. The fit and predict functions accept numpy.ndarray data structures.\n",
    "\n",
    "This notebook covers the following sections:\n",
    "\n",
    "1. [Setup Xgboost Model using xgboost lib](#xgboost-model)<br>\n",
    "\n",
    "1. [Training the model on CPU with Watson Machine Learning Accelerator](#xgboost-cpu)<br>\n",
    "\n",
    "1. [Training the model on GPU with Watson Machine Learning Accelerator](#xgboost-gpu)<br>\n",
    "\n",
    "1. [Setup SnapBoost Model using snapML lib on CPU](#snapml-model)<br>\n",
    "\n",
    "1. [Training the model on CPU with Watson Machine Learning Accelerator](#snapml-cpu)<br>\n",
    "\n",
    "1. [Setup SnapBoost Model using snapML lib on GPU](#snapml-model-gpu)<br>\n",
    "\n",
    "1. [Training the model on GPU with Watson Machine Learning Accelerator](#snapml-gpu)<br>"
   ]
  },
  {
   "cell_type": "markdown",
   "id": "ca346acb",
   "metadata": {},
   "source": [
    "## Preparations\n",
    "### Prepare directory and file for writing Xgboost engine."
   ]
  },
  {
   "cell_type": "code",
   "execution_count": 1,
   "id": "37afd451",
   "metadata": {},
   "outputs": [
    {
     "name": "stdout",
     "output_type": "stream",
     "text": [
      "create model directory done.\n"
     ]
    }
   ],
   "source": [
    "from pathlib import Path\n",
    "model_dir = f'/data/models' \n",
    "model_base_name = f'main.py'\n",
    "Path(model_dir).mkdir(exist_ok=True)\n",
    "print(\"create model directory done.\")"
   ]
  },
  {
   "cell_type": "markdown",
   "id": "86ddd4a7",
   "metadata": {},
   "source": [
    "<a id = \"xgboost-model\"></a>\n",
    "## Step 1 : Setup Xgboost model\n",
    "### create a Xgboost Model based on Xgboost lib "
   ]
  },
  {
   "cell_type": "code",
   "execution_count": 20,
   "id": "ead7040f",
   "metadata": {},
   "outputs": [],
   "source": [
    "model_main='xgboost-'+model_base_name"
   ]
  },
  {
   "cell_type": "code",
   "execution_count": 21,
   "id": "6f3b180e",
   "metadata": {},
   "outputs": [
    {
     "name": "stdout",
     "output_type": "stream",
     "text": [
      "Overwriting /data/models/xgboost-main.py\n"
     ]
    }
   ],
   "source": [
    "%%writefile {model_dir}/{model_main}\n",
    "\n",
    "import os, datetime\n",
    "import numpy as np\n",
    "import pandas as pd\n",
    "from sklearn.datasets import make_classification\n",
    "from sklearn.model_selection import train_test_split\n",
    "from sklearn.metrics import precision_score, recall_score, accuracy_score\n",
    "import xgboost as xgb\n",
    "\n",
    "os.environ['KMP_DUPLICATE_LIB_OK']='True'\n",
    "\n",
    "# Define Parameters for a large regression\n",
    "n_samples = 2**13 \n",
    "n_features = 899 \n",
    "n_info = 600 \n",
    "data_type = np.float32\n",
    "\n",
    "# Generate Data using scikit-learn\n",
    "X,y = make_classification(n_samples=n_samples,\n",
    "                          n_features=n_features,\n",
    "                          n_informative=n_info,\n",
    "                          random_state=123, n_classes=2)\n",
    "\n",
    "X = pd.DataFrame(X.astype(data_type))\n",
    "y = pd.Series(y.astype(np.int32))\n",
    "\n",
    "X_train, X_test, y_train, y_test = train_test_split(X, y,\n",
    "                                                    test_size = 0.2,\n",
    "                                                    random_state=0)\n",
    "\n",
    "print(\"Number of examples: %d\" % (X_train.shape[0]))\n",
    "print(\"Number of features: %d\" % (X_train.shape[1]))\n",
    "print(\"Number of classes:  %d\" % (len(np.unique(y_train))))\n",
    "\n",
    "D_train = xgb.DMatrix(X_train, label=y_train)\n",
    "D_test = xgb.DMatrix(X_test, label=y_test)\n",
    "\n",
    "# set parameters\n",
    "param = {\n",
    "    'eta': 0.3, \n",
    "    'max_depth': 6,  \n",
    "    'objective': 'multi:softprob',  \n",
    "    'num_class': 3} \n",
    "\n",
    "steps = 20  # The number of training iterations\n",
    "\n",
    "# setup model and train\n",
    "start = datetime.datetime.now()\n",
    "model = xgb.train(param, D_train, steps)\n",
    "end = datetime.datetime.now()\n",
    "print (\"Xgboost train timecost: %.2gs\" % ((end-start).total_seconds()))\n",
    "\n",
    "# predict\n",
    "start = datetime.datetime.now()\n",
    "preds = model.predict(D_test)\n",
    "end = datetime.datetime.now()\n",
    "print (\"Xgboost predict timecost: %.2gs\" % ((end-start).total_seconds()))\n",
    "\n",
    "# check result\n",
    "best_preds = np.asarray([np.argmax(line) for line in preds])\n",
    "print(\"Precision = {}\".format(precision_score(y_test, best_preds, average='macro')))\n",
    "print(\"Recall = {}\".format(recall_score(y_test, best_preds, average='macro')))\n",
    "print(\"Accuracy = {}\".format(accuracy_score(y_test, best_preds)))\n",
    "\n",
    "# save the xgboost model into a file\n",
    "import pickle\n",
    "filename = './xgboost_model.pkl'\n",
    "pickle.dump(model, open(filename, 'wb'))              \n",
    "print(\"Xgboost model saved successfully.\")"
   ]
  },
  {
   "cell_type": "markdown",
   "id": "3fef86dd",
   "metadata": {},
   "source": [
    "<a id = \"xgboost-cpu\"></a>\n",
    "## Step 2 :  Training the Xgboost model on CPU with Watson Machine Learning Accelerator\n",
    "### Prepare the libs for job submission"
   ]
  },
  {
   "cell_type": "code",
   "execution_count": 4,
   "id": "73badcc8",
   "metadata": {},
   "outputs": [
    {
     "name": "stdout",
     "output_type": "stream",
     "text": [
      "Populating the interactive namespace from numpy and matplotlib\n"
     ]
    }
   ],
   "source": [
    "import requests\n",
    "from requests.packages.urllib3.exceptions import InsecureRequestWarning\n",
    "requests.packages.urllib3.disable_warnings(InsecureRequestWarning)\n",
    "\n",
    "from matplotlib import pyplot as plt\n",
    "%pylab inline\n",
    "\n",
    "import base64\n",
    "import json\n",
    "import time\n",
    "import urllib"
   ]
  },
  {
   "cell_type": "markdown",
   "id": "e2ee9cd7",
   "metadata": {},
   "source": [
    "### Configuring your environment and project details\n",
    "To set up your project details, provide your credentials in this cell. You must include your cluster URL, username, and password."
   ]
  },
  {
   "cell_type": "code",
   "execution_count": 5,
   "id": "18d7ab23",
   "metadata": {},
   "outputs": [
    {
     "name": "stdout",
     "output_type": "stream",
     "text": [
      "https://wmla-console-wmla.apps.dse-perf.cpolab.ibm.com/auth/v1/logon\n"
     ]
    }
   ],
   "source": [
    "# please enter Watson Machine Learning Accelerator host name\n",
    "hostname='wmla-console-wmla.apps.dse-perf.cpolab.ibm.com'\n",
    "# login='username:password' # please enter the login and password\n",
    "login='mluser1:mluser1'\n",
    "es = base64.b64encode(login.encode('utf-8')).decode(\"utf-8\")\n",
    "# print(es)\n",
    "commonHeaders={'Authorization': 'Basic '+es}\n",
    "req = requests.Session()\n",
    "auth_url = 'https://{}/auth/v1/logon'.format(hostname)\n",
    "print(auth_url)\n",
    "a=requests.get(auth_url,headers=commonHeaders, verify=False)\n",
    "access_token=a.json()['accessToken']\n",
    "# print(\"Access_token: \", access_token)\n",
    "dl_rest_url = 'https://{}/platform/rest/deeplearning/v1'.format(hostname)\n",
    "commonHeaders={'accept': 'application/json', 'X-Auth-Token': access_token}\n",
    "req = requests.Session()\n",
    "# Health check\n",
    "confUrl = 'https://{}/platform/rest/deeplearning/v1/conf'.format(hostname)\n",
    "r = req.get(confUrl, headers=commonHeaders, verify=False)"
   ]
  },
  {
   "cell_type": "markdown",
   "id": "27e36c71",
   "metadata": {},
   "source": [
    "### Define the status checking fuction"
   ]
  },
  {
   "cell_type": "code",
   "execution_count": 6,
   "id": "067db827",
   "metadata": {},
   "outputs": [],
   "source": [
    "import tarfile\n",
    "import tempfile\n",
    "import os\n",
    "import json\n",
    "import pprint\n",
    "import pandas as pd\n",
    "from IPython.display import clear_output\n",
    "\n",
    "def query_job_status(job_id,refresh_rate=3) :\n",
    "\n",
    "    execURL = dl_rest_url  +'/execs/'+ job_id['id']\n",
    "    pp = pprint.PrettyPrinter(indent=2)\n",
    "\n",
    "    keep_running=True\n",
    "    res=None\n",
    "    while(keep_running):\n",
    "        res = req.get(execURL, headers=commonHeaders, verify=False)\n",
    "        monitoring = pd.DataFrame(res.json(), index=[0])\n",
    "        pd.set_option('max_colwidth', 120)\n",
    "        clear_output()\n",
    "        print(\"Refreshing every {} seconds\".format(refresh_rate))\n",
    "        display(monitoring)\n",
    "        pp.pprint(res.json())\n",
    "        if(res.json()['state'] not in ['PENDING_CRD_SCHEDULER', 'SUBMITTED','RUNNING']) :\n",
    "            keep_running=False\n",
    "        time.sleep(refresh_rate)\n",
    "    return res"
   ]
  },
  {
   "cell_type": "markdown",
   "id": "4bfa26e0",
   "metadata": {},
   "source": [
    "### Define the job submission fuction"
   ]
  },
  {
   "cell_type": "code",
   "execution_count": 7,
   "id": "2079dd54",
   "metadata": {},
   "outputs": [],
   "source": [
    "def submit_job_to_wmla (args) :\n",
    "    starttime = datetime.datetime.now()\n",
    "    r = requests.post(dl_rest_url+'/execs?args='+args, # files=files,\n",
    "                  headers=commonHeaders, verify=False)\n",
    "    if not r.ok:\n",
    "        print('submit job failed: code=%s, %s'%(r.status_code, r.content))\n",
    "    job_status = query_job_status(r.json(),refresh_rate=5)\n",
    "    endtime = datetime.datetime.now()\n",
    "    print(\"\\nTotallly training cost: \", (endtime - starttime).seconds, \" seconds.\")"
   ]
  },
  {
   "cell_type": "markdown",
   "id": "4f45243e",
   "metadata": {},
   "source": [
    "### Define the submittion parameters"
   ]
  },
  {
   "cell_type": "code",
   "execution_count": 29,
   "id": "3518ee9a",
   "metadata": {},
   "outputs": [
    {
     "name": "stdout",
     "output_type": "stream",
     "text": [
      "--exec-start tensorflow --cs-datastore-meta type=fs --workerDeviceNum 1 --workerMemory 32G --workerDeviceType cpu --conda-env-name rapids-21.06-new --model-main /gpfs/mydatafs/models/xgboost-main.py\n"
     ]
    }
   ],
   "source": [
    "# specify the model file, conda env, device type and device number\n",
    "args = '--exec-start tensorflow --cs-datastore-meta type=fs \\\n",
    "--workerDeviceNum 1 \\\n",
    "--workerMemory 32G \\\n",
    "--workerDeviceType cpu \\\n",
    "--conda-env-name rapids-21.06-new \\\n",
    "--model-main /gpfs/mydatafs/models/' + model_main\n",
    "print(args)"
   ]
  },
  {
   "cell_type": "code",
   "execution_count": 73,
   "id": "7a048879",
   "metadata": {},
   "outputs": [
    {
     "name": "stdout",
     "output_type": "stream",
     "text": [
      "Refreshing every 5 seconds\n"
     ]
    },
    {
     "data": {
      "text/html": [
       "<div>\n",
       "<style scoped>\n",
       "    .dataframe tbody tr th:only-of-type {\n",
       "        vertical-align: middle;\n",
       "    }\n",
       "\n",
       "    .dataframe tbody tr th {\n",
       "        vertical-align: top;\n",
       "    }\n",
       "\n",
       "    .dataframe thead th {\n",
       "        text-align: right;\n",
       "    }\n",
       "</style>\n",
       "<table border=\"1\" class=\"dataframe\">\n",
       "  <thead>\n",
       "    <tr style=\"text-align: right;\">\n",
       "      <th></th>\n",
       "      <th>id</th>\n",
       "      <th>args</th>\n",
       "      <th>submissionId</th>\n",
       "      <th>creator</th>\n",
       "      <th>state</th>\n",
       "      <th>appId</th>\n",
       "      <th>schedulerUrl</th>\n",
       "      <th>modelFileOwnerName</th>\n",
       "      <th>workDir</th>\n",
       "      <th>appName</th>\n",
       "      <th>createTime</th>\n",
       "      <th>elastic</th>\n",
       "      <th>nameSpace</th>\n",
       "      <th>numWorker</th>\n",
       "      <th>framework</th>\n",
       "    </tr>\n",
       "  </thead>\n",
       "  <tbody>\n",
       "    <tr>\n",
       "      <th>0</th>\n",
       "      <td>wmla-590</td>\n",
       "      <td>--exec-start tensorflow --cs-datastore-meta type=fs --workerDeviceNum 1 --workerMemory 32G --workerDeviceType cpu --...</td>\n",
       "      <td>wmla-590</td>\n",
       "      <td>mluser1</td>\n",
       "      <td>FINISHED</td>\n",
       "      <td>wmla-590</td>\n",
       "      <td>https://wmla-mss:9080</td>\n",
       "      <td>wmla</td>\n",
       "      <td>/gpfs/myresultfs/mluser1/batchworkdir/wmla-590/_submitted_code</td>\n",
       "      <td>SingleNodeTensorflowTrain</td>\n",
       "      <td>2021-07-20T07:17:08Z</td>\n",
       "      <td>False</td>\n",
       "      <td>wmla</td>\n",
       "      <td>1</td>\n",
       "      <td>tensorflow</td>\n",
       "    </tr>\n",
       "  </tbody>\n",
       "</table>\n",
       "</div>"
      ],
      "text/plain": [
       "         id  \\\n",
       "0  wmla-590   \n",
       "\n",
       "                                                                                                                      args  \\\n",
       "0  --exec-start tensorflow --cs-datastore-meta type=fs --workerDeviceNum 1 --workerMemory 32G --workerDeviceType cpu --...   \n",
       "\n",
       "  submissionId  creator     state     appId           schedulerUrl  \\\n",
       "0     wmla-590  mluser1  FINISHED  wmla-590  https://wmla-mss:9080   \n",
       "\n",
       "  modelFileOwnerName  \\\n",
       "0               wmla   \n",
       "\n",
       "                                                          workDir  \\\n",
       "0  /gpfs/myresultfs/mluser1/batchworkdir/wmla-590/_submitted_code   \n",
       "\n",
       "                     appName            createTime  elastic nameSpace  \\\n",
       "0  SingleNodeTensorflowTrain  2021-07-20T07:17:08Z    False      wmla   \n",
       "\n",
       "   numWorker   framework  \n",
       "0          1  tensorflow  "
      ]
     },
     "metadata": {},
     "output_type": "display_data"
    },
    {
     "name": "stdout",
     "output_type": "stream",
     "text": [
      "{ 'appId': 'wmla-590',\n",
      "  'appName': 'SingleNodeTensorflowTrain',\n",
      "  'args': '--exec-start tensorflow --cs-datastore-meta type=fs '\n",
      "          '--workerDeviceNum 1 --workerMemory 32G --workerDeviceType cpu '\n",
      "          '--conda-env-name rapids-21.06-new --model-main '\n",
      "          '/gpfs/mydatafs/models/xgboost-main.py ',\n",
      "  'createTime': '2021-07-20T07:17:08Z',\n",
      "  'creator': 'mluser1',\n",
      "  'elastic': False,\n",
      "  'framework': 'tensorflow',\n",
      "  'id': 'wmla-590',\n",
      "  'modelFileOwnerName': 'wmla',\n",
      "  'nameSpace': 'wmla',\n",
      "  'numWorker': 1,\n",
      "  'schedulerUrl': 'https://wmla-mss:9080',\n",
      "  'state': 'FINISHED',\n",
      "  'submissionId': 'wmla-590',\n",
      "  'workDir': '/gpfs/myresultfs/mluser1/batchworkdir/wmla-590/_submitted_code'}\n",
      "\n",
      "Totallly training cost:  2179  seconds.\n"
     ]
    }
   ],
   "source": [
    "submit_job_to_wmla (args)"
   ]
  },
  {
   "cell_type": "markdown",
   "id": "fef39537",
   "metadata": {},
   "source": [
    "<a id = \"xgboost-gpu\"></a>\n",
    "## Step 3 :  Training the Xgboost model on GPU with Watson Machine Learning Accelerator\n",
    "### Define the submittion parameters using conda env with GPU version XGBoost"
   ]
  },
  {
   "cell_type": "code",
   "execution_count": 22,
   "id": "47dc4557",
   "metadata": {},
   "outputs": [
    {
     "name": "stdout",
     "output_type": "stream",
     "text": [
      "--exec-start tensorflow --cs-datastore-meta type=fs --workerDeviceNum 1 --workerMemory 32G --workerDeviceType gpu --conda-env-name dlipy3  --model-main /gpfs/mydatafs/models/xgboost-main.py\n"
     ]
    }
   ],
   "source": [
    "# specify the conda env of xgboost and worker device type\n",
    "args = '--exec-start tensorflow --cs-datastore-meta type=fs \\\n",
    "--workerDeviceNum 1 \\\n",
    "--workerMemory 32G \\\n",
    "--workerDeviceType gpu \\\n",
    "--conda-env-name dlipy3  \\\n",
    "--model-main /gpfs/mydatafs/models/' + model_main\n",
    "print(args)"
   ]
  },
  {
   "cell_type": "code",
   "execution_count": 24,
   "id": "0c2e6ab3",
   "metadata": {},
   "outputs": [
    {
     "name": "stdout",
     "output_type": "stream",
     "text": [
      "Refreshing every 5 seconds\n"
     ]
    },
    {
     "data": {
      "text/html": [
       "<div>\n",
       "<style scoped>\n",
       "    .dataframe tbody tr th:only-of-type {\n",
       "        vertical-align: middle;\n",
       "    }\n",
       "\n",
       "    .dataframe tbody tr th {\n",
       "        vertical-align: top;\n",
       "    }\n",
       "\n",
       "    .dataframe thead th {\n",
       "        text-align: right;\n",
       "    }\n",
       "</style>\n",
       "<table border=\"1\" class=\"dataframe\">\n",
       "  <thead>\n",
       "    <tr style=\"text-align: right;\">\n",
       "      <th></th>\n",
       "      <th>id</th>\n",
       "      <th>args</th>\n",
       "      <th>submissionId</th>\n",
       "      <th>creator</th>\n",
       "      <th>state</th>\n",
       "      <th>appId</th>\n",
       "      <th>schedulerUrl</th>\n",
       "      <th>modelFileOwnerName</th>\n",
       "      <th>workDir</th>\n",
       "      <th>appName</th>\n",
       "      <th>createTime</th>\n",
       "      <th>elastic</th>\n",
       "      <th>nameSpace</th>\n",
       "      <th>numWorker</th>\n",
       "      <th>framework</th>\n",
       "    </tr>\n",
       "  </thead>\n",
       "  <tbody>\n",
       "    <tr>\n",
       "      <th>0</th>\n",
       "      <td>wmla-607</td>\n",
       "      <td>--exec-start tensorflow --cs-datastore-meta type=fs --workerDeviceNum 1 --workerMemory 32G --workerDeviceType gpu --...</td>\n",
       "      <td>wmla-607</td>\n",
       "      <td>mluser1</td>\n",
       "      <td>FINISHED</td>\n",
       "      <td>wmla-607</td>\n",
       "      <td>https://wmla-mss:9080</td>\n",
       "      <td>wmla</td>\n",
       "      <td>/gpfs/myresultfs/mluser1/batchworkdir/wmla-607/_submitted_code</td>\n",
       "      <td>SingleNodeTensorflowTrain</td>\n",
       "      <td>2021-07-20T08:46:22Z</td>\n",
       "      <td>False</td>\n",
       "      <td>wmla</td>\n",
       "      <td>1</td>\n",
       "      <td>tensorflow</td>\n",
       "    </tr>\n",
       "  </tbody>\n",
       "</table>\n",
       "</div>"
      ],
      "text/plain": [
       "         id  \\\n",
       "0  wmla-607   \n",
       "\n",
       "                                                                                                                      args  \\\n",
       "0  --exec-start tensorflow --cs-datastore-meta type=fs --workerDeviceNum 1 --workerMemory 32G --workerDeviceType gpu --...   \n",
       "\n",
       "  submissionId  creator     state     appId           schedulerUrl  \\\n",
       "0     wmla-607  mluser1  FINISHED  wmla-607  https://wmla-mss:9080   \n",
       "\n",
       "  modelFileOwnerName  \\\n",
       "0               wmla   \n",
       "\n",
       "                                                          workDir  \\\n",
       "0  /gpfs/myresultfs/mluser1/batchworkdir/wmla-607/_submitted_code   \n",
       "\n",
       "                     appName            createTime  elastic nameSpace  \\\n",
       "0  SingleNodeTensorflowTrain  2021-07-20T08:46:22Z    False      wmla   \n",
       "\n",
       "   numWorker   framework  \n",
       "0          1  tensorflow  "
      ]
     },
     "metadata": {},
     "output_type": "display_data"
    },
    {
     "name": "stdout",
     "output_type": "stream",
     "text": [
      "{ 'appId': 'wmla-607',\n",
      "  'appName': 'SingleNodeTensorflowTrain',\n",
      "  'args': '--exec-start tensorflow --cs-datastore-meta type=fs '\n",
      "          '--workerDeviceNum 1 --workerMemory 32G --workerDeviceType gpu '\n",
      "          '--conda-env-name dlipy3  --model-main '\n",
      "          '/gpfs/mydatafs/models/xgboost-main.py ',\n",
      "  'createTime': '2021-07-20T08:46:22Z',\n",
      "  'creator': 'mluser1',\n",
      "  'elastic': False,\n",
      "  'framework': 'tensorflow',\n",
      "  'id': 'wmla-607',\n",
      "  'modelFileOwnerName': 'wmla',\n",
      "  'nameSpace': 'wmla',\n",
      "  'numWorker': 1,\n",
      "  'schedulerUrl': 'https://wmla-mss:9080',\n",
      "  'state': 'FINISHED',\n",
      "  'submissionId': 'wmla-607',\n",
      "  'workDir': '/gpfs/myresultfs/mluser1/batchworkdir/wmla-607/_submitted_code'}\n",
      "\n",
      "Totallly training cost:  35  seconds.\n"
     ]
    }
   ],
   "source": [
    "submit_job_to_wmla (args)"
   ]
  },
  {
   "cell_type": "markdown",
   "id": "6e08fefa",
   "metadata": {},
   "source": [
    "<a id = \"snapml-model\"></a>\n",
    "## Step 4 :  Setup Snap Boosting model using snapML\n",
    "### Create a Snap Boosting model based on snapML "
   ]
  },
  {
   "cell_type": "code",
   "execution_count": 11,
   "id": "dffd6928",
   "metadata": {},
   "outputs": [],
   "source": [
    "model_main='snapboost-'+model_base_name"
   ]
  },
  {
   "cell_type": "code",
   "execution_count": 12,
   "id": "073bff5a",
   "metadata": {},
   "outputs": [
    {
     "name": "stdout",
     "output_type": "stream",
     "text": [
      "Writing /data/models/snapboost-main.py\n"
     ]
    }
   ],
   "source": [
    "%%writefile {model_dir}/{model_main}\n",
    "\n",
    "import os, datetime\n",
    "import numpy as np\n",
    "import pandas as pd\n",
    "from sklearn.datasets import make_classification\n",
    "from sklearn.model_selection import train_test_split\n",
    "from sklearn.metrics import precision_score, recall_score, accuracy_score\n",
    "from snapml import BoostingMachineClassifier as SnapBoostingMachineClassifier\n",
    "\n",
    "os.environ['KMP_DUPLICATE_LIB_OK']='True'\n",
    "\n",
    "# Define Parameters for a large regression\n",
    "n_samples = 2**13 \n",
    "n_features = 899 \n",
    "n_info = 600 \n",
    "data_type = np.float32\n",
    "\n",
    "# Generate Data using scikit-learn\n",
    "X,y = make_classification(n_samples=n_samples,\n",
    "                          n_features=n_features,\n",
    "                          n_informative=n_info,\n",
    "                          random_state=123, n_classes=2)\n",
    "\n",
    "X = pd.DataFrame(X.astype(data_type))\n",
    "y = pd.Series(y.astype(np.int32))\n",
    "\n",
    "X_train, X_test, y_train, y_test = train_test_split(X, y,\n",
    "                                                    test_size = 0.2,\n",
    "                                                    random_state=0)\n",
    "\n",
    "print(\"Number of examples: %d\" % (X_train.shape[0]))\n",
    "print(\"Number of features: %d\" % (X_train.shape[1]))\n",
    "print(\"Number of classes:  %d\" % (len(np.unique(y_train))))\n",
    "\n",
    "snap_model = SnapBoostingMachineClassifier(random_state=42, \n",
    "                                    n_jobs=1,\n",
    "                                    hist_nbins=256,\n",
    "                                    num_round=20)  # same interations number with xgboost\n",
    "\n",
    "# setup model and train\n",
    "start = datetime.datetime.now()\n",
    "snap_model.fit(X_train.values, y_train.values)  #.train(param, D_train, steps)\n",
    "end = datetime.datetime.now()\n",
    "print (\"Xgboost train timecost: %.2gs\" % ((end-start).total_seconds()))\n",
    "\n",
    "# predict\n",
    "start = datetime.datetime.now()\n",
    "preds = snap_model.predict(X_test.values)\n",
    "end = datetime.datetime.now()\n",
    "print (\"Xgboost predict timecost: %.2gs\" % ((end-start).total_seconds()))\n",
    "\n",
    "# check result\n",
    "best_preds = np.asarray([np.argmax(line) for line in preds])\n",
    "print(\"Precision = {}\".format(precision_score(y_test, best_preds, average='macro')))\n",
    "print(\"Recall = {}\".format(recall_score(y_test, best_preds, average='macro')))\n",
    "print(\"Accuracy = {}\".format(accuracy_score(y_test, best_preds)))\n",
    "\n",
    "# save the xgboost model into a file\n",
    "import pickle\n",
    "filename = './snapboost_model.pkl'\n",
    "pickle.dump(snap_model, open(filename, 'wb'))              \n",
    "print(\"Snapboost model saved successfully.\")"
   ]
  },
  {
   "cell_type": "markdown",
   "id": "ffb0c836",
   "metadata": {},
   "source": [
    "<a id = \"snapml-cpu\"></a>\n",
    "## Step 5 :  Training the SnapML model on CPU with Watson Machine Learning Accelerator\n",
    "### Re-define the submission parameters"
   ]
  },
  {
   "cell_type": "code",
   "execution_count": 13,
   "id": "bd9392a2",
   "metadata": {},
   "outputs": [
    {
     "name": "stdout",
     "output_type": "stream",
     "text": [
      "--exec-start tensorflow --cs-datastore-meta type=fs --workerDeviceNum 1 --workerMemory 32G --workerDeviceType cpu --conda-env-name snapml-177rc --model-main /gpfs/mydatafs/models/snapboost-main.py\n"
     ]
    }
   ],
   "source": [
    "# specify the model file, conda env, device type and device number\n",
    "args = '--exec-start tensorflow --cs-datastore-meta type=fs \\\n",
    "--workerDeviceNum 1 \\\n",
    "--workerMemory 32G \\\n",
    "--workerDeviceType cpu \\\n",
    "--conda-env-name snapml-177rc \\\n",
    "--model-main /gpfs/mydatafs/models/' + model_main\n",
    "print(args)"
   ]
  },
  {
   "cell_type": "code",
   "execution_count": 14,
   "id": "70826082",
   "metadata": {},
   "outputs": [
    {
     "name": "stdout",
     "output_type": "stream",
     "text": [
      "Refreshing every 5 seconds\n"
     ]
    },
    {
     "data": {
      "text/html": [
       "<div>\n",
       "<style scoped>\n",
       "    .dataframe tbody tr th:only-of-type {\n",
       "        vertical-align: middle;\n",
       "    }\n",
       "\n",
       "    .dataframe tbody tr th {\n",
       "        vertical-align: top;\n",
       "    }\n",
       "\n",
       "    .dataframe thead th {\n",
       "        text-align: right;\n",
       "    }\n",
       "</style>\n",
       "<table border=\"1\" class=\"dataframe\">\n",
       "  <thead>\n",
       "    <tr style=\"text-align: right;\">\n",
       "      <th></th>\n",
       "      <th>id</th>\n",
       "      <th>args</th>\n",
       "      <th>submissionId</th>\n",
       "      <th>creator</th>\n",
       "      <th>state</th>\n",
       "      <th>appId</th>\n",
       "      <th>schedulerUrl</th>\n",
       "      <th>modelFileOwnerName</th>\n",
       "      <th>workDir</th>\n",
       "      <th>appName</th>\n",
       "      <th>createTime</th>\n",
       "      <th>elastic</th>\n",
       "      <th>nameSpace</th>\n",
       "      <th>numWorker</th>\n",
       "      <th>framework</th>\n",
       "    </tr>\n",
       "  </thead>\n",
       "  <tbody>\n",
       "    <tr>\n",
       "      <th>0</th>\n",
       "      <td>wmla-604</td>\n",
       "      <td>--exec-start tensorflow --cs-datastore-meta type=fs --workerDeviceNum 1 --workerMemory 32G --workerDeviceType cpu --...</td>\n",
       "      <td>wmla-604</td>\n",
       "      <td>mluser1</td>\n",
       "      <td>FINISHED</td>\n",
       "      <td>wmla-604</td>\n",
       "      <td>https://wmla-mss:9080</td>\n",
       "      <td>wmla</td>\n",
       "      <td>/gpfs/myresultfs/mluser1/batchworkdir/wmla-604/_submitted_code</td>\n",
       "      <td>SingleNodeTensorflowTrain</td>\n",
       "      <td>2021-07-20T08:40:12Z</td>\n",
       "      <td>False</td>\n",
       "      <td>wmla</td>\n",
       "      <td>1</td>\n",
       "      <td>tensorflow</td>\n",
       "    </tr>\n",
       "  </tbody>\n",
       "</table>\n",
       "</div>"
      ],
      "text/plain": [
       "         id  \\\n",
       "0  wmla-604   \n",
       "\n",
       "                                                                                                                      args  \\\n",
       "0  --exec-start tensorflow --cs-datastore-meta type=fs --workerDeviceNum 1 --workerMemory 32G --workerDeviceType cpu --...   \n",
       "\n",
       "  submissionId  creator     state     appId           schedulerUrl  \\\n",
       "0     wmla-604  mluser1  FINISHED  wmla-604  https://wmla-mss:9080   \n",
       "\n",
       "  modelFileOwnerName  \\\n",
       "0               wmla   \n",
       "\n",
       "                                                          workDir  \\\n",
       "0  /gpfs/myresultfs/mluser1/batchworkdir/wmla-604/_submitted_code   \n",
       "\n",
       "                     appName            createTime  elastic nameSpace  \\\n",
       "0  SingleNodeTensorflowTrain  2021-07-20T08:40:12Z    False      wmla   \n",
       "\n",
       "   numWorker   framework  \n",
       "0          1  tensorflow  "
      ]
     },
     "metadata": {},
     "output_type": "display_data"
    },
    {
     "name": "stdout",
     "output_type": "stream",
     "text": [
      "{ 'appId': 'wmla-604',\n",
      "  'appName': 'SingleNodeTensorflowTrain',\n",
      "  'args': '--exec-start tensorflow --cs-datastore-meta type=fs '\n",
      "          '--workerDeviceNum 1 --workerMemory 32G --workerDeviceType cpu '\n",
      "          '--conda-env-name snapml-177rc --model-main '\n",
      "          '/gpfs/mydatafs/models/snapboost-main.py ',\n",
      "  'createTime': '2021-07-20T08:40:12Z',\n",
      "  'creator': 'mluser1',\n",
      "  'elastic': False,\n",
      "  'framework': 'tensorflow',\n",
      "  'id': 'wmla-604',\n",
      "  'modelFileOwnerName': 'wmla',\n",
      "  'nameSpace': 'wmla',\n",
      "  'numWorker': 1,\n",
      "  'schedulerUrl': 'https://wmla-mss:9080',\n",
      "  'state': 'FINISHED',\n",
      "  'submissionId': 'wmla-604',\n",
      "  'workDir': '/gpfs/myresultfs/mluser1/batchworkdir/wmla-604/_submitted_code'}\n",
      "\n",
      "Totallly training cost:  39  seconds.\n"
     ]
    }
   ],
   "source": [
    "submit_job_to_wmla (args)"
   ]
  },
  {
   "cell_type": "markdown",
   "id": "37a7a0e0",
   "metadata": {},
   "source": [
    "<a id = \"snapml-model-gpu\"></a>\n",
    "## Step 6 :  Setup SnapBoost model using snapML on GPU\n",
    "### Create a SnapBoost model based on snapML "
   ]
  },
  {
   "cell_type": "code",
   "execution_count": 15,
   "id": "b9e3e32f",
   "metadata": {},
   "outputs": [],
   "source": [
    "model_main='snapboost-gpu-'+model_base_name"
   ]
  },
  {
   "cell_type": "code",
   "execution_count": 16,
   "id": "fde4bd8d",
   "metadata": {},
   "outputs": [
    {
     "name": "stdout",
     "output_type": "stream",
     "text": [
      "Writing /data/models/snapboost-gpu-main.py\n"
     ]
    }
   ],
   "source": [
    "%%writefile {model_dir}/{model_main}\n",
    "\n",
    "import os, datetime\n",
    "import numpy as np\n",
    "import pandas as pd\n",
    "from sklearn.datasets import make_classification\n",
    "from sklearn.model_selection import train_test_split\n",
    "from sklearn.metrics import precision_score, recall_score, accuracy_score\n",
    "from snapml import BoostingMachineClassifier as SnapBoostingMachineClassifier\n",
    "\n",
    "os.environ['KMP_DUPLICATE_LIB_OK']='True'\n",
    "\n",
    "# Define Parameters for a large regression\n",
    "n_samples = 2**13 \n",
    "n_features = 899 \n",
    "n_info = 600 \n",
    "data_type = np.float32\n",
    "\n",
    "# Generate Data using scikit-learn\n",
    "X,y = make_classification(n_samples=n_samples,\n",
    "                          n_features=n_features,\n",
    "                          n_informative=n_info,\n",
    "                          random_state=123, n_classes=2)\n",
    "\n",
    "X = pd.DataFrame(X.astype(data_type))\n",
    "y = pd.Series(y.astype(np.int32))\n",
    "\n",
    "X_train, X_test, y_train, y_test = train_test_split(X, y,\n",
    "                                                    test_size = 0.2,\n",
    "                                                    random_state=0)\n",
    "\n",
    "print(\"Number of examples: %d\" % (X_train.shape[0]))\n",
    "print(\"Number of features: %d\" % (X_train.shape[1]))\n",
    "print(\"Number of classes:  %d\" % (len(np.unique(y_train))))\n",
    "\n",
    "snap_model = SnapBoostingMachineClassifier(use_gpu=True,   # use gpu\n",
    "                                    random_state=42, \n",
    "                                    n_jobs=1,\n",
    "                                    hist_nbins=256,\n",
    "                                    num_round=20)  # same interations number with xgboost\n",
    "\n",
    "# setup model and train\n",
    "start = datetime.datetime.now()\n",
    "snap_model.fit(X_train.values, y_train.values)  #.train(param, D_train, steps)\n",
    "end = datetime.datetime.now()\n",
    "print (\"Xgboost train timecost: %.2gs\" % ((end-start).total_seconds()))\n",
    "\n",
    "# predict\n",
    "start = datetime.datetime.now()\n",
    "preds = snap_model.predict(X_test.values)\n",
    "end = datetime.datetime.now()\n",
    "print (\"Xgboost predict timecost: %.2gs\" % ((end-start).total_seconds()))\n",
    "\n",
    "# check result\n",
    "best_preds = np.asarray([np.argmax(line) for line in preds])\n",
    "print(\"Precision = {}\".format(precision_score(y_test, best_preds, average='macro')))\n",
    "print(\"Recall = {}\".format(recall_score(y_test, best_preds, average='macro')))\n",
    "print(\"Accuracy = {}\".format(accuracy_score(y_test, best_preds)))\n",
    "\n",
    "# save the xgboost model into a file\n",
    "import pickle\n",
    "filename = './snapboost_model.pkl'\n",
    "pickle.dump(snap_model, open(filename, 'wb'))              \n",
    "print(\"Snapboost model saved successfully.\")"
   ]
  },
  {
   "cell_type": "markdown",
   "id": "9412ad64",
   "metadata": {},
   "source": [
    "<a id = \"snapml-gpu\"></a>\n",
    "## Step 7 :  Training the SnapML model on GPU with Watson Machine Learning Accelerator\n",
    "### Re-define the submission parameters"
   ]
  },
  {
   "cell_type": "code",
   "execution_count": 17,
   "id": "0f6aa00d",
   "metadata": {},
   "outputs": [
    {
     "name": "stdout",
     "output_type": "stream",
     "text": [
      "--exec-start tensorflow --cs-datastore-meta type=fs --workerDeviceNum 1 --workerMemory 32G --workerDeviceType gpu --conda-env-name snapml-177rc --model-main /gpfs/mydatafs/models/snapboost-gpu-main.py\n"
     ]
    }
   ],
   "source": [
    "# specify the model file, conda env, device type and device number\n",
    "args = '--exec-start tensorflow --cs-datastore-meta type=fs \\\n",
    "--workerDeviceNum 1 \\\n",
    "--workerMemory 32G \\\n",
    "--workerDeviceType gpu \\\n",
    "--conda-env-name snapml-177rc \\\n",
    "--model-main /gpfs/mydatafs/models/' + model_main\n",
    "# --msd-env CUDA_FORCE_PTX_JIT=1 \\\n",
    "print(args)"
   ]
  },
  {
   "cell_type": "code",
   "execution_count": 18,
   "id": "210f42d6",
   "metadata": {},
   "outputs": [
    {
     "name": "stdout",
     "output_type": "stream",
     "text": [
      "Refreshing every 5 seconds\n"
     ]
    },
    {
     "data": {
      "text/html": [
       "<div>\n",
       "<style scoped>\n",
       "    .dataframe tbody tr th:only-of-type {\n",
       "        vertical-align: middle;\n",
       "    }\n",
       "\n",
       "    .dataframe tbody tr th {\n",
       "        vertical-align: top;\n",
       "    }\n",
       "\n",
       "    .dataframe thead th {\n",
       "        text-align: right;\n",
       "    }\n",
       "</style>\n",
       "<table border=\"1\" class=\"dataframe\">\n",
       "  <thead>\n",
       "    <tr style=\"text-align: right;\">\n",
       "      <th></th>\n",
       "      <th>id</th>\n",
       "      <th>args</th>\n",
       "      <th>submissionId</th>\n",
       "      <th>creator</th>\n",
       "      <th>state</th>\n",
       "      <th>appId</th>\n",
       "      <th>schedulerUrl</th>\n",
       "      <th>modelFileOwnerName</th>\n",
       "      <th>workDir</th>\n",
       "      <th>appName</th>\n",
       "      <th>createTime</th>\n",
       "      <th>elastic</th>\n",
       "      <th>nameSpace</th>\n",
       "      <th>numWorker</th>\n",
       "      <th>framework</th>\n",
       "    </tr>\n",
       "  </thead>\n",
       "  <tbody>\n",
       "    <tr>\n",
       "      <th>0</th>\n",
       "      <td>wmla-605</td>\n",
       "      <td>--exec-start tensorflow --cs-datastore-meta type=fs --workerDeviceNum 1 --workerMemory 32G --workerDeviceType gpu --...</td>\n",
       "      <td>wmla-605</td>\n",
       "      <td>mluser1</td>\n",
       "      <td>FINISHED</td>\n",
       "      <td>wmla-605</td>\n",
       "      <td>https://wmla-mss:9080</td>\n",
       "      <td>wmla</td>\n",
       "      <td>/gpfs/myresultfs/mluser1/batchworkdir/wmla-605/_submitted_code</td>\n",
       "      <td>SingleNodeTensorflowTrain</td>\n",
       "      <td>2021-07-20T08:40:53Z</td>\n",
       "      <td>False</td>\n",
       "      <td>wmla</td>\n",
       "      <td>1</td>\n",
       "      <td>tensorflow</td>\n",
       "    </tr>\n",
       "  </tbody>\n",
       "</table>\n",
       "</div>"
      ],
      "text/plain": [
       "         id  \\\n",
       "0  wmla-605   \n",
       "\n",
       "                                                                                                                      args  \\\n",
       "0  --exec-start tensorflow --cs-datastore-meta type=fs --workerDeviceNum 1 --workerMemory 32G --workerDeviceType gpu --...   \n",
       "\n",
       "  submissionId  creator     state     appId           schedulerUrl  \\\n",
       "0     wmla-605  mluser1  FINISHED  wmla-605  https://wmla-mss:9080   \n",
       "\n",
       "  modelFileOwnerName  \\\n",
       "0               wmla   \n",
       "\n",
       "                                                          workDir  \\\n",
       "0  /gpfs/myresultfs/mluser1/batchworkdir/wmla-605/_submitted_code   \n",
       "\n",
       "                     appName            createTime  elastic nameSpace  \\\n",
       "0  SingleNodeTensorflowTrain  2021-07-20T08:40:53Z    False      wmla   \n",
       "\n",
       "   numWorker   framework  \n",
       "0          1  tensorflow  "
      ]
     },
     "metadata": {},
     "output_type": "display_data"
    },
    {
     "name": "stdout",
     "output_type": "stream",
     "text": [
      "{ 'appId': 'wmla-605',\n",
      "  'appName': 'SingleNodeTensorflowTrain',\n",
      "  'args': '--exec-start tensorflow --cs-datastore-meta type=fs '\n",
      "          '--workerDeviceNum 1 --workerMemory 32G --workerDeviceType gpu '\n",
      "          '--conda-env-name snapml-177rc --model-main '\n",
      "          '/gpfs/mydatafs/models/snapboost-gpu-main.py ',\n",
      "  'createTime': '2021-07-20T08:40:53Z',\n",
      "  'creator': 'mluser1',\n",
      "  'elastic': False,\n",
      "  'framework': 'tensorflow',\n",
      "  'id': 'wmla-605',\n",
      "  'modelFileOwnerName': 'wmla',\n",
      "  'nameSpace': 'wmla',\n",
      "  'numWorker': 1,\n",
      "  'schedulerUrl': 'https://wmla-mss:9080',\n",
      "  'state': 'FINISHED',\n",
      "  'submissionId': 'wmla-605',\n",
      "  'workDir': '/gpfs/myresultfs/mluser1/batchworkdir/wmla-605/_submitted_code'}\n",
      "\n",
      "Totallly training cost:  28  seconds.\n"
     ]
    }
   ],
   "source": [
    "submit_job_to_wmla (args)"
   ]
  },
  {
   "cell_type": "code",
   "execution_count": null,
   "id": "cfc3a51b",
   "metadata": {},
   "outputs": [],
   "source": []
  }
 ],
 "metadata": {
  "kernelspec": {
   "display_name": "Python3 Single GPU Kernel",
   "language": "python",
   "name": "python_single_gpu"
  },
  "language_info": {
   "codemirror_mode": {
    "name": "ipython",
    "version": 3
   },
   "file_extension": ".py",
   "mimetype": "text/x-python",
   "name": "python",
   "nbconvert_exporter": "python",
   "pygments_lexer": "ipython3",
   "version": "3.7.10"
  }
 },
 "nbformat": 4,
 "nbformat_minor": 5
}
