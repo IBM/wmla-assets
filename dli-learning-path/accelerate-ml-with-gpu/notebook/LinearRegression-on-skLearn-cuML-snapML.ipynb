{
 "cells": [
  {
   "cell_type": "markdown",
   "id": "96e4727d",
   "metadata": {},
   "source": [
    "# Train a Linear Regression Model with Watson Machine Learning \n",
    "\n",
    "Notebook created by Zeming Zhao on June, 2021\n",
    "\n",
    "In this notebook, you will learn how to use the Watson Machine Learning Accelerator (WML-A) API and accelerate the processing of Linear Regression model on GPU with Watson Machine Learning Accelerator.\n",
    "\n",
    "Linear Regression is a simple machine learning model where the response y is modelled by a linear combination of the predictors in X.\n",
    "\n",
    "In this notebook we have three versions of Linear Regression model: scikit-learn version, cuML version and snapML version.\n",
    "\n",
    "All three versions will be submitted onto WMLA. And we can compare the performance benifit of cuML and snapML version.\n",
    "\n",
    "This notebook covers the following sections:\n",
    "\n",
    "1. [Setup Linear Regression using sklearning](#skl-model)<br>\n",
    "\n",
    "1. [Training the model on CPU with Watson Machine Learning Accelerator](#skl-cpu)<br>\n",
    "\n",
    "1. [Setup Linear Regression using cuML](#cuml-model)<br>\n",
    "\n",
    "1. [Training the model on GPU with Watson Machine Learning Accelerator](#cuml-gpu)<br>\n",
    "\n",
    "1. [Setup Linear Regression using snapML](#snapml-model)<br>\n",
    "\n",
    "1. [Training the model on CPU with Watson Machine Learning Accelerator](#snap-cpu)<br>\n",
    "\n",
    "1. [Setup Linear Regression using snapML GPU](#snapml-model-gpu)<br>\n",
    "\n",
    "1. [Training the model on GPU with Watson Machine Learning Accelerator](#snap-gpu)<br>"
   ]
  },
  {
   "cell_type": "markdown",
   "id": "6cce4ede",
   "metadata": {},
   "source": [
    "## Preparations\n",
    "### Prepare directory and file for writing Linear Regression engine."
   ]
  },
  {
   "cell_type": "code",
   "execution_count": 1,
   "id": "a5d3798b",
   "metadata": {},
   "outputs": [
    {
     "name": "stdout",
     "output_type": "stream",
     "text": [
      "create model directory done.\n"
     ]
    }
   ],
   "source": [
    "from pathlib import Path\n",
    "model_dir = f'/data/models' \n",
    "model_base_name = f'linearRegression-main.py'\n",
    "Path(model_dir).mkdir(exist_ok=True)\n",
    "print(\"create model directory done.\")"
   ]
  },
  {
   "cell_type": "markdown",
   "id": "e84bb66e",
   "metadata": {},
   "source": [
    "<a id = \"skl-model\"></a>\n",
    "## Step 1 : Setup Linear Regression model using scikit-learn.\n",
    "### Create a Linear Regression Model based on scikit-learn on CPU"
   ]
  },
  {
   "cell_type": "code",
   "execution_count": 2,
   "id": "666bce9f",
   "metadata": {},
   "outputs": [],
   "source": [
    "model_main='sklean-'+model_base_name"
   ]
  },
  {
   "cell_type": "code",
   "execution_count": 3,
   "id": "eda86f1b",
   "metadata": {},
   "outputs": [
    {
     "name": "stdout",
     "output_type": "stream",
     "text": [
      "Overwriting /data/models/sklean-linearRegression-main.py\n"
     ]
    }
   ],
   "source": [
    "%%writefile {model_dir}/{model_main}\n",
    "\n",
    "import os, datetime\n",
    "from sklearn.datasets import make_regression\n",
    "from sklearn.model_selection import train_test_split\n",
    "from sklearn.metrics import r2_score\n",
    "from sklearn.linear_model import LinearRegression as skLinearRegression\n",
    "import numpy as np\n",
    "\n",
    "# Define Parameters for a large regression\n",
    "n_samples = 2**20 #If you are running on a GPU with less than 16GB RAM, please change to 2**19 or you could run out of memory\n",
    "n_features = 399\n",
    "random_state = 23\n",
    "\n",
    "# Generate Data\n",
    "start = datetime.datetime.now()\n",
    "X, y = make_regression(n_samples=n_samples, n_features=n_features, random_state=random_state)\n",
    "X_skl, X_skl_test, y_skl, y_skl_test = train_test_split(X, y, test_size = 0.2, random_state=random_state)\n",
    "end = datetime.datetime.now()\n",
    "print (\"generate data timecost: %.2gs\" % ((end-start).total_seconds()))\n",
    "\n",
    "print(\"Number of examples: %d\" % (X_skl.shape[0]))\n",
    "print(\"Number of features: %d\" % (X_skl.shape[1]))\n",
    "\n",
    "# scikit-learn Model\n",
    "lr_model = skLinearRegression(fit_intercept=True,\n",
    "                            normalize=True,\n",
    "                            n_jobs=-1)\n",
    "\n",
    "# Fit\n",
    "start = datetime.datetime.now()\n",
    "lr_model.fit(X_skl, y_skl)\n",
    "end = datetime.datetime.now()\n",
    "print (\"train timecost: %.2gs\" % ((end-start).total_seconds()))\n",
    "\n",
    "# Predict\n",
    "start = datetime.datetime.now()\n",
    "predict_skl = lr_model.predict(X_skl_test)\n",
    "end = datetime.datetime.now()\n",
    "print (\"predict timecost: %.2gs\" % ((end-start).total_seconds()))\n",
    "\n",
    "# Evaluate\n",
    "start = datetime.datetime.now()\n",
    "r2_score_skl = r2_score(y_skl_test, predict_skl)\n",
    "end = datetime.datetime.now()\n",
    "print (\"evaluate timecost: %.2gs\" % ((end-start).total_seconds()))\n",
    "\n",
    "#  print(\"R^2 score (SKL):  %s\" % r2_score_sk)\n",
    "print(\"R^2 score (scikit-learn): %.4f\" % r2_score_skl)"
   ]
  },
  {
   "cell_type": "markdown",
   "id": "96b4368e",
   "metadata": {},
   "source": [
    "<a id = \"skl-cpu\"></a>\n",
    "## Step 2 :  Training the SK-Learning model on CPU with Watson Machine Learning Accelerator\n",
    "### Prepare the model lib for job submission"
   ]
  },
  {
   "cell_type": "code",
   "execution_count": 4,
   "id": "7e4c4a44",
   "metadata": {},
   "outputs": [
    {
     "name": "stdout",
     "output_type": "stream",
     "text": [
      "Populating the interactive namespace from numpy and matplotlib\n"
     ]
    }
   ],
   "source": [
    "import requests\n",
    "from requests.packages.urllib3.exceptions import InsecureRequestWarning\n",
    "requests.packages.urllib3.disable_warnings(InsecureRequestWarning)\n",
    "\n",
    "from matplotlib import pyplot as plt\n",
    "%pylab inline\n",
    "\n",
    "import base64\n",
    "import json\n",
    "import time\n",
    "import urllib"
   ]
  },
  {
   "cell_type": "markdown",
   "id": "d83f3d4a",
   "metadata": {},
   "source": [
    "### Configuring your environment and project details\n",
    "To set up your project details, provide your credentials in this cell. You must include your cluster URL, username, and password."
   ]
  },
  {
   "cell_type": "code",
   "execution_count": 5,
   "id": "dd38ef97",
   "metadata": {},
   "outputs": [
    {
     "name": "stdout",
     "output_type": "stream",
     "text": [
      "https://wmla-console-wmla.apps.dse-perf.cpolab.ibm.com/auth/v1/logon\n"
     ]
    }
   ],
   "source": [
    "# please enter Watson Machine Learning Accelerator host name\n",
    "hostname='wmla-console-wmla.apps.dse-perf.cpolab.ibm.com'\n",
    "# login='username:password' # please enter the login and password\n",
    "login='mluser1:mluser1'\n",
    "es = base64.b64encode(login.encode('utf-8')).decode(\"utf-8\")\n",
    "# print(es)\n",
    "commonHeaders={'Authorization': 'Basic '+es}\n",
    "req = requests.Session()\n",
    "auth_url = 'https://{}/auth/v1/logon'.format(hostname)\n",
    "print(auth_url)\n",
    "\n",
    "a=requests.get(auth_url,headers=commonHeaders, verify=False)\n",
    "access_token=a.json()['accessToken']\n",
    "# print(\"Access_token: \", access_token)\n",
    "\n",
    "dl_rest_url = 'https://{}/platform/rest/deeplearning/v1'.format(hostname)\n",
    "commonHeaders={'accept': 'application/json', 'X-Auth-Token': access_token}\n",
    "req = requests.Session()\n",
    "\n",
    "# Health check\n",
    "confUrl = 'https://{}/platform/rest/deeplearning/v1/conf'.format(hostname)\n",
    "r = req.get(confUrl, headers=commonHeaders, verify=False)"
   ]
  },
  {
   "cell_type": "markdown",
   "id": "ffacfef6",
   "metadata": {},
   "source": [
    "### Define the status checking function"
   ]
  },
  {
   "cell_type": "code",
   "execution_count": 6,
   "id": "fc72185a",
   "metadata": {},
   "outputs": [],
   "source": [
    "import tarfile\n",
    "import tempfile\n",
    "import os\n",
    "import json\n",
    "import pprint\n",
    "import pandas as pd\n",
    "from IPython.display import clear_output\n",
    "\n",
    "def query_job_status(job_id,refresh_rate=3) :\n",
    "\n",
    "    execURL = dl_rest_url  +'/execs/'+ job_id['id']\n",
    "    pp = pprint.PrettyPrinter(indent=2)\n",
    "\n",
    "    keep_running=True\n",
    "    res=None\n",
    "    while(keep_running):\n",
    "        res = req.get(execURL, headers=commonHeaders, verify=False)\n",
    "        monitoring = pd.DataFrame(res.json(), index=[0])\n",
    "        pd.set_option('max_colwidth', 120)\n",
    "        clear_output()\n",
    "        print(\"Refreshing every {} seconds\".format(refresh_rate))\n",
    "        display(monitoring)\n",
    "        pp.pprint(res.json())\n",
    "        if(res.json()['state'] not in ['PENDING_CRD_SCHEDULER', 'SUBMITTED','RUNNING']) :\n",
    "            keep_running=False\n",
    "        time.sleep(refresh_rate)\n",
    "    return res"
   ]
  },
  {
   "cell_type": "markdown",
   "id": "68762085",
   "metadata": {},
   "source": [
    "### Define the submission function"
   ]
  },
  {
   "cell_type": "code",
   "execution_count": 7,
   "id": "b96e7b1b",
   "metadata": {},
   "outputs": [],
   "source": [
    "def submit_job_to_wmla (args) :\n",
    "    starttime = datetime.datetime.now()\n",
    "    r = requests.post(dl_rest_url+'/execs?args='+args, # files=files,\n",
    "                  headers=commonHeaders, verify=False)\n",
    "    if not r.ok:\n",
    "        print('submit job failed: code=%s, %s'%(r.status_code, r.content))\n",
    "    job_status = query_job_status(r.json(),refresh_rate=5)\n",
    "    endtime = datetime.datetime.now()\n",
    "    print(\"\\nTotallly training cost: \", (endtime - starttime).seconds, \" seconds.\")"
   ]
  },
  {
   "cell_type": "markdown",
   "id": "6a815c85",
   "metadata": {},
   "source": [
    "<a id = \"cpu\"></a>\n",
    "### Define the submission parameters for scikit-learn version on cpu"
   ]
  },
  {
   "cell_type": "code",
   "execution_count": 8,
   "id": "31f59aa0",
   "metadata": {},
   "outputs": [
    {
     "name": "stdout",
     "output_type": "stream",
     "text": [
      "--exec-start tensorflow --cs-datastore-meta type=fs --workerDeviceNum 1 --workerMemory 32G --workerDeviceType cpu --conda-env-name dlipy3-cpu  --model-main /gpfs/mydatafs/models/sklean-linearRegression-main.py\n"
     ]
    }
   ],
   "source": [
    "# specify the model file, conda env, device type and device number\n",
    "args = '--exec-start tensorflow --cs-datastore-meta type=fs \\\n",
    "--workerDeviceNum 1 \\\n",
    "--workerMemory 32G \\\n",
    "--workerDeviceType cpu \\\n",
    "--conda-env-name dlipy3-cpu  \\\n",
    "--model-main /gpfs/mydatafs/models/' + model_main\n",
    "\n",
    "print(args)"
   ]
  },
  {
   "cell_type": "markdown",
   "id": "1387c58f",
   "metadata": {},
   "source": [
    "### Submit WMLA Workload"
   ]
  },
  {
   "cell_type": "code",
   "execution_count": 42,
   "id": "052b2760",
   "metadata": {},
   "outputs": [
    {
     "name": "stdout",
     "output_type": "stream",
     "text": [
      "Refreshing every 5 seconds\n"
     ]
    },
    {
     "data": {
      "text/html": [
       "<div>\n",
       "<style scoped>\n",
       "    .dataframe tbody tr th:only-of-type {\n",
       "        vertical-align: middle;\n",
       "    }\n",
       "\n",
       "    .dataframe tbody tr th {\n",
       "        vertical-align: top;\n",
       "    }\n",
       "\n",
       "    .dataframe thead th {\n",
       "        text-align: right;\n",
       "    }\n",
       "</style>\n",
       "<table border=\"1\" class=\"dataframe\">\n",
       "  <thead>\n",
       "    <tr style=\"text-align: right;\">\n",
       "      <th></th>\n",
       "      <th>id</th>\n",
       "      <th>args</th>\n",
       "      <th>submissionId</th>\n",
       "      <th>creator</th>\n",
       "      <th>state</th>\n",
       "      <th>appId</th>\n",
       "      <th>schedulerUrl</th>\n",
       "      <th>modelFileOwnerName</th>\n",
       "      <th>workDir</th>\n",
       "      <th>appName</th>\n",
       "      <th>createTime</th>\n",
       "      <th>elastic</th>\n",
       "      <th>nameSpace</th>\n",
       "      <th>numWorker</th>\n",
       "      <th>framework</th>\n",
       "    </tr>\n",
       "  </thead>\n",
       "  <tbody>\n",
       "    <tr>\n",
       "      <th>0</th>\n",
       "      <td>wmla-599</td>\n",
       "      <td>--exec-start tensorflow --cs-datastore-meta type=fs --workerDeviceNum 1 --workerMemory 32G --workerDeviceType cpu --...</td>\n",
       "      <td>wmla-599</td>\n",
       "      <td>mluser1</td>\n",
       "      <td>FINISHED</td>\n",
       "      <td>wmla-599</td>\n",
       "      <td>https://wmla-mss:9080</td>\n",
       "      <td>wmla</td>\n",
       "      <td>/gpfs/myresultfs/mluser1/batchworkdir/wmla-599/_submitted_code</td>\n",
       "      <td>SingleNodeTensorflowTrain</td>\n",
       "      <td>2021-07-20T08:18:58Z</td>\n",
       "      <td>False</td>\n",
       "      <td>wmla</td>\n",
       "      <td>1</td>\n",
       "      <td>tensorflow</td>\n",
       "    </tr>\n",
       "  </tbody>\n",
       "</table>\n",
       "</div>"
      ],
      "text/plain": [
       "         id  \\\n",
       "0  wmla-599   \n",
       "\n",
       "                                                                                                                      args  \\\n",
       "0  --exec-start tensorflow --cs-datastore-meta type=fs --workerDeviceNum 1 --workerMemory 32G --workerDeviceType cpu --...   \n",
       "\n",
       "  submissionId  creator     state     appId           schedulerUrl  \\\n",
       "0     wmla-599  mluser1  FINISHED  wmla-599  https://wmla-mss:9080   \n",
       "\n",
       "  modelFileOwnerName  \\\n",
       "0               wmla   \n",
       "\n",
       "                                                          workDir  \\\n",
       "0  /gpfs/myresultfs/mluser1/batchworkdir/wmla-599/_submitted_code   \n",
       "\n",
       "                     appName            createTime  elastic nameSpace  \\\n",
       "0  SingleNodeTensorflowTrain  2021-07-20T08:18:58Z    False      wmla   \n",
       "\n",
       "   numWorker   framework  \n",
       "0          1  tensorflow  "
      ]
     },
     "metadata": {},
     "output_type": "display_data"
    },
    {
     "name": "stdout",
     "output_type": "stream",
     "text": [
      "{ 'appId': 'wmla-599',\n",
      "  'appName': 'SingleNodeTensorflowTrain',\n",
      "  'args': '--exec-start tensorflow --cs-datastore-meta type=fs '\n",
      "          '--workerDeviceNum 1 --workerMemory 32G --workerDeviceType cpu '\n",
      "          '--conda-env-name dlipy3-cpu  --model-main '\n",
      "          '/gpfs/mydatafs/models/sklean-linearRegression-main.py ',\n",
      "  'createTime': '2021-07-20T08:18:58Z',\n",
      "  'creator': 'mluser1',\n",
      "  'elastic': False,\n",
      "  'framework': 'tensorflow',\n",
      "  'id': 'wmla-599',\n",
      "  'modelFileOwnerName': 'wmla',\n",
      "  'nameSpace': 'wmla',\n",
      "  'numWorker': 1,\n",
      "  'schedulerUrl': 'https://wmla-mss:9080',\n",
      "  'state': 'FINISHED',\n",
      "  'submissionId': 'wmla-599',\n",
      "  'workDir': '/gpfs/myresultfs/mluser1/batchworkdir/wmla-599/_submitted_code'}\n",
      "\n",
      "Totallly training cost:  277  seconds.\n"
     ]
    }
   ],
   "source": [
    "submit_job_to_wmla (args)"
   ]
  },
  {
   "cell_type": "markdown",
   "id": "c7a70719",
   "metadata": {},
   "source": [
    "<a id = \"cuml-model\"></a>\n",
    "## Step 3 :  Setup Linear Regression model using cmML\n",
    "### Create a Linear Regression Model based on cuML on GPU"
   ]
  },
  {
   "cell_type": "code",
   "execution_count": 9,
   "id": "719ce272",
   "metadata": {},
   "outputs": [],
   "source": [
    "model_main='cuML-'+model_base_name"
   ]
  },
  {
   "cell_type": "code",
   "execution_count": 10,
   "id": "6ffcf1f4",
   "metadata": {},
   "outputs": [
    {
     "name": "stdout",
     "output_type": "stream",
     "text": [
      "Overwriting /data/models/cuML-linearRegression-main.py\n"
     ]
    }
   ],
   "source": [
    "%%writefile {model_dir}/{model_main}\n",
    "\n",
    "import os, datetime\n",
    "import cudf\n",
    "from cuml import make_regression, train_test_split\n",
    "from cuml.linear_model import LinearRegression as cuLinearRegression\n",
    "from cuml.metrics.regression import r2_score\n",
    "import numpy as np\n",
    "\n",
    "# specify the cache location to /gpfy since ~/.cache is not available\n",
    "os.environ[\"CUPY_CACHE_DIR\"]=\"/gpfs/mydatafs/models/cache/lr\"\n",
    "\n",
    "# Define Parameters for a large regression\n",
    "n_samples = 2**20 #If you are running on a GPU with less than 16GB RAM, please change to 2**19 or you could run out of memory\n",
    "n_features = 399\n",
    "random_state = 23\n",
    "\n",
    "# Generate Data\n",
    "start = datetime.datetime.now()\n",
    "X, y = make_regression(n_samples=n_samples, n_features=n_features, random_state=random_state)\n",
    "X = cudf.DataFrame(X)\n",
    "y = cudf.DataFrame(y)[0]\n",
    "X_cudf, X_cudf_test, y_cudf, y_cudf_test = train_test_split(X, y, test_size = 0.2, random_state=random_state)\n",
    "end = datetime.datetime.now()\n",
    "print (\"generate data timecost: %.2gs\" % ((end-start).total_seconds()))\n",
    "\n",
    "print(\"Number of examples: %d\" % (X_cudf.shape[0]))\n",
    "print(\"Number of features: %d\" % (X_cudf.shape[1]))\n",
    "\n",
    "# cuML Model\n",
    "lr_model = cuLinearRegression(fit_intercept=True,normalize=True,algorithm='eig')\n",
    "\n",
    "# Fit\n",
    "start = datetime.datetime.now()\n",
    "lr_model.fit(X_cudf, y_cudf)\n",
    "end = datetime.datetime.now()\n",
    "print (\"train timecost: %.2gs\" % ((end-start).total_seconds()))\n",
    "\n",
    "# Predict\n",
    "start = datetime.datetime.now()\n",
    "predict_cuml = lr_model.predict(X_cudf_test)\n",
    "end = datetime.datetime.now()\n",
    "print (\"predict timecost: %.2gs\" % ((end-start).total_seconds()))\n",
    "\n",
    "# Evaluate\n",
    "start = datetime.datetime.now()\n",
    "r2_score_cuml = r2_score(y_cudf_test, predict_cuml)\n",
    "end = datetime.datetime.now()\n",
    "print (\"evaluate timecost: %.2gs\" % ((end-start).total_seconds()))\n",
    "\n",
    "print(\"R^2 score (cuML): %.4f\" % r2_score_cuml)"
   ]
  },
  {
   "cell_type": "markdown",
   "id": "80cf8e3f",
   "metadata": {},
   "source": [
    "<a id = \"cuml-gpu\"></a>\n",
    "## Step 4 :  Training the cuML model on GPU with Watson Machine Learning Accelerator\n",
    "### Re-define the submssion parameters"
   ]
  },
  {
   "cell_type": "code",
   "execution_count": 11,
   "id": "48c26cbc",
   "metadata": {},
   "outputs": [
    {
     "name": "stdout",
     "output_type": "stream",
     "text": [
      "--exec-start tensorflow --cs-datastore-meta type=fs --workerDeviceNum 1 --workerMemory 32G --workerDeviceType gpu --conda-env-name rapids-21.06-new --model-main /gpfs/mydatafs/models/cuML-linearRegression-main.py\n"
     ]
    }
   ],
   "source": [
    "# specify the model file, conda env, device type and device number\n",
    "args = '--exec-start tensorflow --cs-datastore-meta type=fs \\\n",
    "--workerDeviceNum 1 \\\n",
    "--workerMemory 32G \\\n",
    "--workerDeviceType gpu \\\n",
    "--conda-env-name rapids-21.06-new \\\n",
    "--model-main /gpfs/mydatafs/models/' + model_main\n",
    "\n",
    "print(args)"
   ]
  },
  {
   "cell_type": "markdown",
   "id": "fd7b8234",
   "metadata": {},
   "source": [
    "### Submit WMLA Workload"
   ]
  },
  {
   "cell_type": "code",
   "execution_count": 12,
   "id": "d464a958",
   "metadata": {},
   "outputs": [
    {
     "name": "stdout",
     "output_type": "stream",
     "text": [
      "Refreshing every 5 seconds\n"
     ]
    },
    {
     "data": {
      "text/html": [
       "<div>\n",
       "<style scoped>\n",
       "    .dataframe tbody tr th:only-of-type {\n",
       "        vertical-align: middle;\n",
       "    }\n",
       "\n",
       "    .dataframe tbody tr th {\n",
       "        vertical-align: top;\n",
       "    }\n",
       "\n",
       "    .dataframe thead th {\n",
       "        text-align: right;\n",
       "    }\n",
       "</style>\n",
       "<table border=\"1\" class=\"dataframe\">\n",
       "  <thead>\n",
       "    <tr style=\"text-align: right;\">\n",
       "      <th></th>\n",
       "      <th>id</th>\n",
       "      <th>args</th>\n",
       "      <th>submissionId</th>\n",
       "      <th>creator</th>\n",
       "      <th>state</th>\n",
       "      <th>appId</th>\n",
       "      <th>schedulerUrl</th>\n",
       "      <th>modelFileOwnerName</th>\n",
       "      <th>workDir</th>\n",
       "      <th>appName</th>\n",
       "      <th>createTime</th>\n",
       "      <th>elastic</th>\n",
       "      <th>nameSpace</th>\n",
       "      <th>numWorker</th>\n",
       "      <th>framework</th>\n",
       "    </tr>\n",
       "  </thead>\n",
       "  <tbody>\n",
       "    <tr>\n",
       "      <th>0</th>\n",
       "      <td>wmla-626</td>\n",
       "      <td>--exec-start tensorflow --cs-datastore-meta type=fs --workerDeviceNum 1 --workerMemory 32G --workerDeviceType gpu --...</td>\n",
       "      <td>wmla-626</td>\n",
       "      <td>mluser1</td>\n",
       "      <td>FINISHED</td>\n",
       "      <td>wmla-626</td>\n",
       "      <td>https://wmla-mss:9080</td>\n",
       "      <td>wmla</td>\n",
       "      <td>/gpfs/myresultfs/mluser1/batchworkdir/wmla-626/_submitted_code</td>\n",
       "      <td>SingleNodeTensorflowTrain</td>\n",
       "      <td>2021-07-20T09:59:31Z</td>\n",
       "      <td>False</td>\n",
       "      <td>wmla</td>\n",
       "      <td>1</td>\n",
       "      <td>tensorflow</td>\n",
       "    </tr>\n",
       "  </tbody>\n",
       "</table>\n",
       "</div>"
      ],
      "text/plain": [
       "         id  \\\n",
       "0  wmla-626   \n",
       "\n",
       "                                                                                                                      args  \\\n",
       "0  --exec-start tensorflow --cs-datastore-meta type=fs --workerDeviceNum 1 --workerMemory 32G --workerDeviceType gpu --...   \n",
       "\n",
       "  submissionId  creator     state     appId           schedulerUrl  \\\n",
       "0     wmla-626  mluser1  FINISHED  wmla-626  https://wmla-mss:9080   \n",
       "\n",
       "  modelFileOwnerName  \\\n",
       "0               wmla   \n",
       "\n",
       "                                                          workDir  \\\n",
       "0  /gpfs/myresultfs/mluser1/batchworkdir/wmla-626/_submitted_code   \n",
       "\n",
       "                     appName            createTime  elastic nameSpace  \\\n",
       "0  SingleNodeTensorflowTrain  2021-07-20T09:59:31Z    False      wmla   \n",
       "\n",
       "   numWorker   framework  \n",
       "0          1  tensorflow  "
      ]
     },
     "metadata": {},
     "output_type": "display_data"
    },
    {
     "name": "stdout",
     "output_type": "stream",
     "text": [
      "{ 'appId': 'wmla-626',\n",
      "  'appName': 'SingleNodeTensorflowTrain',\n",
      "  'args': '--exec-start tensorflow --cs-datastore-meta type=fs '\n",
      "          '--workerDeviceNum 1 --workerMemory 32G --workerDeviceType gpu '\n",
      "          '--conda-env-name rapids-21.06-new --model-main '\n",
      "          '/gpfs/mydatafs/models/cuML-linearRegression-main.py ',\n",
      "  'createTime': '2021-07-20T09:59:31Z',\n",
      "  'creator': 'mluser1',\n",
      "  'elastic': False,\n",
      "  'framework': 'tensorflow',\n",
      "  'id': 'wmla-626',\n",
      "  'modelFileOwnerName': 'wmla',\n",
      "  'nameSpace': 'wmla',\n",
      "  'numWorker': 1,\n",
      "  'schedulerUrl': 'https://wmla-mss:9080',\n",
      "  'state': 'FINISHED',\n",
      "  'submissionId': 'wmla-626',\n",
      "  'workDir': '/gpfs/myresultfs/mluser1/batchworkdir/wmla-626/_submitted_code'}\n",
      "\n",
      "Totallly training cost:  51  seconds.\n"
     ]
    }
   ],
   "source": [
    "submit_job_to_wmla (args)"
   ]
  },
  {
   "cell_type": "markdown",
   "id": "86806eba",
   "metadata": {},
   "source": [
    "<a id = \"snaml-model\"></a>\n",
    "## Step 5 :  Setup Linear Regression model using snapML\n",
    "### Create a Linear Regression Model based on snapML "
   ]
  },
  {
   "cell_type": "code",
   "execution_count": 47,
   "id": "82ed24d4",
   "metadata": {},
   "outputs": [],
   "source": [
    "model_main='snapML-'+model_base_name"
   ]
  },
  {
   "cell_type": "code",
   "execution_count": 48,
   "id": "d19a9273",
   "metadata": {},
   "outputs": [
    {
     "name": "stdout",
     "output_type": "stream",
     "text": [
      "Writing /data/models/snapML-linearRegression-main.py\n"
     ]
    }
   ],
   "source": [
    "%%writefile {model_dir}/{model_main}\n",
    "\n",
    "import datetime\n",
    "from sklearn.datasets import make_regression\n",
    "from sklearn.model_selection import train_test_split\n",
    "from sklearn.metrics import r2_score\n",
    "from snapml import LinearRegression as SnapLinearRegression\n",
    "import numpy as np\n",
    "\n",
    "# Define Parameters for a large regression\n",
    "n_samples = 2**20 #If you are running on a GPU with less than 16GB RAM, please change to 2**19 or you could run out of memory\n",
    "n_features = 399\n",
    "random_state = 23\n",
    "\n",
    "# Generate Data\n",
    "start = datetime.datetime.now()\n",
    "X, y = make_regression(n_samples=n_samples, n_features=n_features, random_state=random_state)\n",
    "X_train, X_test, y_train, y_test = train_test_split(X, y, test_size = 0.2, random_state=random_state)\n",
    "end = datetime.datetime.now()\n",
    "print (\"generate data timecost: %.2gs\" % ((end-start).total_seconds()))\n",
    "\n",
    "print(\"Number of examples: %d\" % (X_train.shape[0]))\n",
    "print(\"Number of features: %d\" % (X_train.shape[1]))\n",
    "\n",
    "# snapML model\n",
    "lr_model = SnapLinearRegression(fit_intercept=True,normalize=True)\n",
    "\n",
    "# Fit\n",
    "start = datetime.datetime.now()\n",
    "lr_model.fit(X_train, y_train)\n",
    "end = datetime.datetime.now()\n",
    "print (\"train timecost: %.2gs\" % ((end-start).total_seconds()))\n",
    "\n",
    "r2_score_snapml = r2_score(y_test, lr_model.predict(X_test))\n",
    "print(\"R^2 score (snapML): %.4f\" % r2_score_snapml)"
   ]
  },
  {
   "cell_type": "markdown",
   "id": "503b9e29",
   "metadata": {},
   "source": [
    "<a id = \"snapml-cpu\"></a>\n",
    "## Step 6 :  Training the SnapML model on CPU with Watson Machine Learning Accelerator\n",
    "### Re-define the submission parameters"
   ]
  },
  {
   "cell_type": "code",
   "execution_count": 49,
   "id": "c1569b32",
   "metadata": {},
   "outputs": [
    {
     "name": "stdout",
     "output_type": "stream",
     "text": [
      "--exec-start tensorflow --cs-datastore-meta type=fs --workerDeviceNum 1 --workerMemory 32G --workerDeviceType cpu --conda-env-name snapml-177rc --model-main /gpfs/mydatafs/models/snapML-linearRegression-main.py\n"
     ]
    }
   ],
   "source": [
    "# specify the model file, conda env, device type and device number\n",
    "args = '--exec-start tensorflow --cs-datastore-meta type=fs \\\n",
    "--workerDeviceNum 1 \\\n",
    "--workerMemory 32G \\\n",
    "--workerDeviceType cpu \\\n",
    "--conda-env-name snapml-177rc \\\n",
    "--model-main /gpfs/mydatafs/models/' + model_main\n",
    "print(args)"
   ]
  },
  {
   "cell_type": "markdown",
   "id": "39c4faa4",
   "metadata": {},
   "source": [
    "### Submit WMLA Workload"
   ]
  },
  {
   "cell_type": "code",
   "execution_count": 50,
   "id": "242dab38",
   "metadata": {},
   "outputs": [
    {
     "name": "stdout",
     "output_type": "stream",
     "text": [
      "Refreshing every 5 seconds\n"
     ]
    },
    {
     "data": {
      "text/html": [
       "<div>\n",
       "<style scoped>\n",
       "    .dataframe tbody tr th:only-of-type {\n",
       "        vertical-align: middle;\n",
       "    }\n",
       "\n",
       "    .dataframe tbody tr th {\n",
       "        vertical-align: top;\n",
       "    }\n",
       "\n",
       "    .dataframe thead th {\n",
       "        text-align: right;\n",
       "    }\n",
       "</style>\n",
       "<table border=\"1\" class=\"dataframe\">\n",
       "  <thead>\n",
       "    <tr style=\"text-align: right;\">\n",
       "      <th></th>\n",
       "      <th>id</th>\n",
       "      <th>args</th>\n",
       "      <th>submissionId</th>\n",
       "      <th>creator</th>\n",
       "      <th>state</th>\n",
       "      <th>appId</th>\n",
       "      <th>schedulerUrl</th>\n",
       "      <th>modelFileOwnerName</th>\n",
       "      <th>workDir</th>\n",
       "      <th>appName</th>\n",
       "      <th>createTime</th>\n",
       "      <th>elastic</th>\n",
       "      <th>nameSpace</th>\n",
       "      <th>numWorker</th>\n",
       "      <th>framework</th>\n",
       "    </tr>\n",
       "  </thead>\n",
       "  <tbody>\n",
       "    <tr>\n",
       "      <th>0</th>\n",
       "      <td>wmla-601</td>\n",
       "      <td>--exec-start tensorflow --cs-datastore-meta type=fs --workerDeviceNum 1 --workerMemory 32G --workerDeviceType cpu --...</td>\n",
       "      <td>wmla-601</td>\n",
       "      <td>mluser1</td>\n",
       "      <td>FINISHED</td>\n",
       "      <td>wmla-601</td>\n",
       "      <td>https://wmla-mss:9080</td>\n",
       "      <td>wmla</td>\n",
       "      <td>/gpfs/myresultfs/mluser1/batchworkdir/wmla-601/_submitted_code</td>\n",
       "      <td>SingleNodeTensorflowTrain</td>\n",
       "      <td>2021-07-20T08:23:59Z</td>\n",
       "      <td>False</td>\n",
       "      <td>wmla</td>\n",
       "      <td>1</td>\n",
       "      <td>tensorflow</td>\n",
       "    </tr>\n",
       "  </tbody>\n",
       "</table>\n",
       "</div>"
      ],
      "text/plain": [
       "         id  \\\n",
       "0  wmla-601   \n",
       "\n",
       "                                                                                                                      args  \\\n",
       "0  --exec-start tensorflow --cs-datastore-meta type=fs --workerDeviceNum 1 --workerMemory 32G --workerDeviceType cpu --...   \n",
       "\n",
       "  submissionId  creator     state     appId           schedulerUrl  \\\n",
       "0     wmla-601  mluser1  FINISHED  wmla-601  https://wmla-mss:9080   \n",
       "\n",
       "  modelFileOwnerName  \\\n",
       "0               wmla   \n",
       "\n",
       "                                                          workDir  \\\n",
       "0  /gpfs/myresultfs/mluser1/batchworkdir/wmla-601/_submitted_code   \n",
       "\n",
       "                     appName            createTime  elastic nameSpace  \\\n",
       "0  SingleNodeTensorflowTrain  2021-07-20T08:23:59Z    False      wmla   \n",
       "\n",
       "   numWorker   framework  \n",
       "0          1  tensorflow  "
      ]
     },
     "metadata": {},
     "output_type": "display_data"
    },
    {
     "name": "stdout",
     "output_type": "stream",
     "text": [
      "{ 'appId': 'wmla-601',\n",
      "  'appName': 'SingleNodeTensorflowTrain',\n",
      "  'args': '--exec-start tensorflow --cs-datastore-meta type=fs '\n",
      "          '--workerDeviceNum 1 --workerMemory 32G --workerDeviceType cpu '\n",
      "          '--conda-env-name snapml-177rc --model-main '\n",
      "          '/gpfs/mydatafs/models/snapML-linearRegression-main.py ',\n",
      "  'createTime': '2021-07-20T08:23:59Z',\n",
      "  'creator': 'mluser1',\n",
      "  'elastic': False,\n",
      "  'framework': 'tensorflow',\n",
      "  'id': 'wmla-601',\n",
      "  'modelFileOwnerName': 'wmla',\n",
      "  'nameSpace': 'wmla',\n",
      "  'numWorker': 1,\n",
      "  'schedulerUrl': 'https://wmla-mss:9080',\n",
      "  'state': 'FINISHED',\n",
      "  'submissionId': 'wmla-601',\n",
      "  'workDir': '/gpfs/myresultfs/mluser1/batchworkdir/wmla-601/_submitted_code'}\n",
      "\n",
      "Totallly training cost:  255  seconds.\n"
     ]
    }
   ],
   "source": [
    "submit_job_to_wmla (args)"
   ]
  },
  {
   "cell_type": "markdown",
   "id": "0ac64110",
   "metadata": {},
   "source": [
    "<a id = \"snaml-model-gpu\"></a>\n",
    "## Step 7 :  Setup Linear Regression model using snapML on GPU\n",
    "### Create a Linear Regression Model based on snapML "
   ]
  },
  {
   "cell_type": "code",
   "execution_count": 51,
   "id": "a35d2860",
   "metadata": {},
   "outputs": [],
   "source": [
    "model_main='snapML-gpu-'+model_base_name"
   ]
  },
  {
   "cell_type": "code",
   "execution_count": 52,
   "id": "851d83d0",
   "metadata": {},
   "outputs": [
    {
     "name": "stdout",
     "output_type": "stream",
     "text": [
      "Writing /data/models/snapML-gpu-linearRegression-main.py\n"
     ]
    }
   ],
   "source": [
    "%%writefile {model_dir}/{model_main}\n",
    "\n",
    "import datetime\n",
    "from sklearn.datasets import make_regression\n",
    "from sklearn.model_selection import train_test_split\n",
    "from sklearn.metrics import r2_score\n",
    "from snapml import LinearRegression as SnapLinearRegression\n",
    "import numpy as np\n",
    "\n",
    "# Define Parameters for a large regression\n",
    "n_samples = 2**20 #If you are running on a GPU with less than 16GB RAM, please change to 2**19 or you could run out of memory\n",
    "n_features = 399\n",
    "random_state = 23\n",
    "\n",
    "# Generate Data\n",
    "start = datetime.datetime.now()\n",
    "X, y = make_regression(n_samples=n_samples, n_features=n_features, random_state=random_state)\n",
    "X_train, X_test, y_train, y_test = train_test_split(X, y, test_size = 0.2, random_state=random_state)\n",
    "end = datetime.datetime.now()\n",
    "print (\"generate data timecost: %.2gs\" % ((end-start).total_seconds()))\n",
    "\n",
    "print(\"Number of examples: %d\" % (X_train.shape[0]))\n",
    "print(\"Number of features: %d\" % (X_train.shape[1]))\n",
    "\n",
    "# snapML model\n",
    "lr_model = SnapLinearRegression(use_gpu=True,\n",
    "                                fit_intercept=True,normalize=True)\n",
    "\n",
    "# Fit\n",
    "start = datetime.datetime.now()\n",
    "lr_model.fit(X_train, y_train)\n",
    "end = datetime.datetime.now()\n",
    "print (\"train timecost: %.2gs\" % ((end-start).total_seconds()))\n",
    "\n",
    "r2_score_snapml = r2_score(y_test, lr_model.predict(X_test))\n",
    "print(\"R^2 score (snapML): %.4f\" % r2_score_snapml)"
   ]
  },
  {
   "cell_type": "markdown",
   "id": "b1a44b76",
   "metadata": {},
   "source": [
    "<a id = \"snapml-gpu\"></a>\n",
    "## Step 8 :  Training the SnapML model on GPU with Watson Machine Learning Accelerator\n",
    "### Re-define the submission parameters"
   ]
  },
  {
   "cell_type": "code",
   "execution_count": 53,
   "id": "777cead3",
   "metadata": {},
   "outputs": [
    {
     "name": "stdout",
     "output_type": "stream",
     "text": [
      "--exec-start tensorflow --cs-datastore-meta type=fs --workerDeviceNum 1 --workerMemory 32G --workerDeviceType gpu --conda-env-name snapml-177rc --model-main /gpfs/mydatafs/models/snapML-gpu-linearRegression-main.py\n"
     ]
    }
   ],
   "source": [
    "# specify the model file, conda env, device type and device number\n",
    "args = '--exec-start tensorflow --cs-datastore-meta type=fs \\\n",
    "--workerDeviceNum 1 \\\n",
    "--workerMemory 32G \\\n",
    "--workerDeviceType gpu \\\n",
    "--conda-env-name snapml-177rc \\\n",
    "--model-main /gpfs/mydatafs/models/' + model_main\n",
    "print(args)"
   ]
  },
  {
   "cell_type": "code",
   "execution_count": 54,
   "id": "9b182fc3",
   "metadata": {},
   "outputs": [
    {
     "name": "stdout",
     "output_type": "stream",
     "text": [
      "Refreshing every 5 seconds\n"
     ]
    },
    {
     "data": {
      "text/html": [
       "<div>\n",
       "<style scoped>\n",
       "    .dataframe tbody tr th:only-of-type {\n",
       "        vertical-align: middle;\n",
       "    }\n",
       "\n",
       "    .dataframe tbody tr th {\n",
       "        vertical-align: top;\n",
       "    }\n",
       "\n",
       "    .dataframe thead th {\n",
       "        text-align: right;\n",
       "    }\n",
       "</style>\n",
       "<table border=\"1\" class=\"dataframe\">\n",
       "  <thead>\n",
       "    <tr style=\"text-align: right;\">\n",
       "      <th></th>\n",
       "      <th>id</th>\n",
       "      <th>args</th>\n",
       "      <th>submissionId</th>\n",
       "      <th>creator</th>\n",
       "      <th>state</th>\n",
       "      <th>appId</th>\n",
       "      <th>schedulerUrl</th>\n",
       "      <th>modelFileOwnerName</th>\n",
       "      <th>workDir</th>\n",
       "      <th>appName</th>\n",
       "      <th>createTime</th>\n",
       "      <th>elastic</th>\n",
       "      <th>nameSpace</th>\n",
       "      <th>numWorker</th>\n",
       "      <th>framework</th>\n",
       "    </tr>\n",
       "  </thead>\n",
       "  <tbody>\n",
       "    <tr>\n",
       "      <th>0</th>\n",
       "      <td>wmla-602</td>\n",
       "      <td>--exec-start tensorflow --cs-datastore-meta type=fs --workerDeviceNum 1 --workerMemory 32G --workerDeviceType gpu --...</td>\n",
       "      <td>wmla-602</td>\n",
       "      <td>mluser1</td>\n",
       "      <td>FINISHED</td>\n",
       "      <td>wmla-602</td>\n",
       "      <td>https://wmla-mss:9080</td>\n",
       "      <td>wmla</td>\n",
       "      <td>/gpfs/myresultfs/mluser1/batchworkdir/wmla-602/_submitted_code</td>\n",
       "      <td>SingleNodeTensorflowTrain</td>\n",
       "      <td>2021-07-20T08:28:14Z</td>\n",
       "      <td>False</td>\n",
       "      <td>wmla</td>\n",
       "      <td>1</td>\n",
       "      <td>tensorflow</td>\n",
       "    </tr>\n",
       "  </tbody>\n",
       "</table>\n",
       "</div>"
      ],
      "text/plain": [
       "         id  \\\n",
       "0  wmla-602   \n",
       "\n",
       "                                                                                                                      args  \\\n",
       "0  --exec-start tensorflow --cs-datastore-meta type=fs --workerDeviceNum 1 --workerMemory 32G --workerDeviceType gpu --...   \n",
       "\n",
       "  submissionId  creator     state     appId           schedulerUrl  \\\n",
       "0     wmla-602  mluser1  FINISHED  wmla-602  https://wmla-mss:9080   \n",
       "\n",
       "  modelFileOwnerName  \\\n",
       "0               wmla   \n",
       "\n",
       "                                                          workDir  \\\n",
       "0  /gpfs/myresultfs/mluser1/batchworkdir/wmla-602/_submitted_code   \n",
       "\n",
       "                     appName            createTime  elastic nameSpace  \\\n",
       "0  SingleNodeTensorflowTrain  2021-07-20T08:28:14Z    False      wmla   \n",
       "\n",
       "   numWorker   framework  \n",
       "0          1  tensorflow  "
      ]
     },
     "metadata": {},
     "output_type": "display_data"
    },
    {
     "name": "stdout",
     "output_type": "stream",
     "text": [
      "{ 'appId': 'wmla-602',\n",
      "  'appName': 'SingleNodeTensorflowTrain',\n",
      "  'args': '--exec-start tensorflow --cs-datastore-meta type=fs '\n",
      "          '--workerDeviceNum 1 --workerMemory 32G --workerDeviceType gpu '\n",
      "          '--conda-env-name snapml-177rc --model-main '\n",
      "          '/gpfs/mydatafs/models/snapML-gpu-linearRegression-main.py ',\n",
      "  'createTime': '2021-07-20T08:28:14Z',\n",
      "  'creator': 'mluser1',\n",
      "  'elastic': False,\n",
      "  'framework': 'tensorflow',\n",
      "  'id': 'wmla-602',\n",
      "  'modelFileOwnerName': 'wmla',\n",
      "  'nameSpace': 'wmla',\n",
      "  'numWorker': 1,\n",
      "  'schedulerUrl': 'https://wmla-mss:9080',\n",
      "  'state': 'FINISHED',\n",
      "  'submissionId': 'wmla-602',\n",
      "  'workDir': '/gpfs/myresultfs/mluser1/batchworkdir/wmla-602/_submitted_code'}\n",
      "\n",
      "Totallly training cost:  82  seconds.\n"
     ]
    }
   ],
   "source": [
    "submit_job_to_wmla (args)"
   ]
  },
  {
   "cell_type": "code",
   "execution_count": null,
   "id": "889b6055",
   "metadata": {},
   "outputs": [],
   "source": []
  }
 ],
 "metadata": {
  "kernelspec": {
   "display_name": "Python3 Single CPU Kernel",
   "language": "python",
   "name": "python_single_cpu"
  },
  "language_info": {
   "codemirror_mode": {
    "name": "ipython",
    "version": 3
   },
   "file_extension": ".py",
   "mimetype": "text/x-python",
   "name": "python",
   "nbconvert_exporter": "python",
   "pygments_lexer": "ipython3",
   "version": "3.7.10"
  }
 },
 "nbformat": 4,
 "nbformat_minor": 5
}
