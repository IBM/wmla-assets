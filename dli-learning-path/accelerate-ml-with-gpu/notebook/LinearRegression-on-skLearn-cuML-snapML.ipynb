{
    "cells": [
        {
            "metadata": {
                "id": "ad3ace33-4bdf-4bd8-9cc6-11a50d85b560"
            }, 
            "cell_type": "markdown", 
            "source": "# Train a Linear Regression Model with Watson Machine Learning 

Notebook created by Zeming Zhao on June, 2021

In this notebook, you will learn how to use the Watson Machine Learning Accelerator (WML-A) API and accelerate the processing of Linear Regression model on GPU with Watson Machine Learning Accelerator.

Linear Regression is a simple machine learning model where the response y is modelled by a linear combination of the predictors in X.

In this notebook we have three versions of Linear Regression model: scikit-learn version, cuML version and snapML version.

All three versions will be submitted onto WMLA. And we can compare the performance benifit of cuML and snapML version.

This notebook covers the following sections:

1. [Setup Linear Regression using sklearning](#skl-model)<br>

1. [Training the model on CPU with Watson Machine Learning Accelerator](#skl-cpu)<br>

1. [Setup Linear Regression using cuML](#cuml-model)<br>

1. [Training the model on GPU with Watson Machine Learning Accelerator](#cuml-gpu)<br>

1. [Setup Linear Regression using snapML](#snapml-model)<br>

1. [Training the model on CPU with Watson Machine Learning Accelerator](#snapml-cpu)<br>

1. [Setup Linear Regression using snapML GPU](#snapml-model-gpu)<br>

1. [Training the model on GPU with Watson Machine Learning Accelerator](#snapml-gpu)<br>"
        }, 
        {
            "metadata": {
                "id": "b2fe19bd-b240-4bab-8faf-f40457cf071c"
            }, 
            "cell_type": "markdown", 
            "source": "## Preparations
### Prepare directory and file for writing Linear Regression engine."
        }, 
        {
            "metadata": {
                "id": "bfb28c11-2431-4c46-ba01-050e079dc434"
            }, 
            "cell_type": "code", 
            "source": "from pathlib import Path
model_dir = f'/project_data/data_asset/models' 
model_base_name = f'linearRegression-main.py'
Path(model_dir).mkdir(exist_ok=True)
print(\"create model directory done.\")", 
            "execution_count": 26, 
            "outputs": [
                {
                    "output_type": "stream", 
                    "text": "create model directory done.
", 
                    "name": "stdout"
                }
            ]
        }, 
        {
            "metadata": {
                "id": "ddc68f9b-d9b0-4fc1-9c04-1c74b75014d6"
            }, 
            "cell_type": "markdown", 
            "source": "<a id = \"skl-model\"></a>
## Step 1 : Setup Linear Regression model using scikit-learn.
### Create a Linear Regression Model based on scikit-learn on CPU"
        }, 
        {
            "metadata": {
                "id": "b098bbdc-cc82-4af8-b8a3-9ebf967f26e0"
            }, 
            "cell_type": "code", 
            "source": "model_main='sklean-'+model_base_name", 
            "execution_count": 27, 
            "outputs": [ ]
        }, 
        {
            "metadata": {
                "id": "d105d6d8-618f-419f-a841-5abe061bc5f3"
            }, 
            "cell_type": "code", 
            "source": "%%writefile {model_dir}/{model_main}

import os, datetime
from sklearn.datasets import make_regression
from sklearn.model_selection import train_test_split
from sklearn.datasets import make_sparse_uncorrelated
from sklearn.metrics import r2_score
from sklearn.linear_model import LinearRegression as skLinearRegression
import numpy as np

# Define Parameters for a large regression
n_samples = 2**20 #If you are running on a GPU with less than 16GB RAM, please change to 2**19 or you could run out of memory
n_features = 499
random_state = 23

# Generate Data
start = datetime.datetime.now()
X, y = make_sparse_uncorrelated(n_samples=n_samples, n_features=n_features, random_state=random_state)
X_skl, X_skl_test, y_skl, y_skl_test = train_test_split(X, y, test_size = 0.2, random_state=random_state)
end = datetime.datetime.now()
print (\"generate data timecost: %.2gs\" % ((end-start).total_seconds()))

print(\"Number of examples: %d\" % (X_skl.shape[0]))
print(\"Number of features: %d\" % (X_skl.shape[1]))

# scikit-learn Model
lr_model = skLinearRegression(fit_intercept=True,
                            normalize=True,
                            n_jobs=-1)

# Fit
start = datetime.datetime.now()
lr_model.fit(X_skl, y_skl)
end = datetime.datetime.now()
print (\"train timecost: %.2gs\" % ((end-start).total_seconds()))

# Predict
start = datetime.datetime.now()
predict_skl = lr_model.predict(X_skl_test)
end = datetime.datetime.now()
print (\"predict timecost: %.2gs\" % ((end-start).total_seconds()))

# Evaluate
start = datetime.datetime.now()
r2_score_skl = r2_score(y_skl_test, predict_skl)
end = datetime.datetime.now()
print (\"evaluate timecost: %.2gs\" % ((end-start).total_seconds()))

#  print(\"R^2 score (SKL):  %s\" % r2_score_sk)
print(\"R^2 score (scikit-learn): %.4f\" % r2_score_skl)", 
            "execution_count": 28, 
            "outputs": [
                {
                    "output_type": "stream", 
                    "text": "Overwriting /project_data/data_asset/models/sklean-linearRegression-main.py
", 
                    "name": "stdout"
                }
            ]
        }, 
        {
            "metadata": {
                "id": "7ecb15ee-8867-4a1a-b476-d4088a9a6086"
            }, 
            "cell_type": "markdown", 
            "source": "<a id = \"skl-cpu\"></a>
## Step 2 :  Training the SK-Learning model on CPU with Watson Machine Learning Accelerator
### Prepare the model lib for job submission"
        }, 
        {
            "metadata": {
                "id": "7057d0a0-3a8c-4e9b-8759-6bb24115a1f0"
            }, 
            "cell_type": "code", 
            "source": "import requests
from requests.packages.urllib3.exceptions import InsecureRequestWarning
requests.packages.urllib3.disable_warnings(InsecureRequestWarning)

from matplotlib import pyplot as plt
%pylab inline

import base64
import json
import time
import urllib", 
            "execution_count": 29, 
            "outputs": [
                {
                    "output_type": "stream", 
                    "text": "Populating the interactive namespace from numpy and matplotlib
", 
                    "name": "stdout"
                }
            ]
        }, 
        {
            "metadata": {
                "id": "c484ca6a-0894-4b4f-a5cb-c90bc6efc546"
            }, 
            "cell_type": "markdown", 
            "source": "### Configuring your environment and project details
To set up your project details, provide your credentials in this cell. You must include your cluster URL, username, and password."
        }, 
        {
            "metadata": {
                "id": "720deac1-005b-431e-a679-f4c10e2ff9e5"
            }, 
            "cell_type": "code", 
            "source": "# please enter Watson Machine Learning Accelerator host name
hostname='wmla-console-wmla.apps.dse-perf.cpolab.ibm.com'
# login='username:password' # please enter the login and password
login='mluser1:mluser1'
es = base64.b64encode(login.encode('utf-8')).decode(\"utf-8\")
# print(es)
commonHeaders={'Authorization': 'Basic '+es}
req = requests.Session()
auth_url = 'https://{}/auth/v1/logon'.format(hostname)
print(auth_url)

a=requests.get(auth_url,headers=commonHeaders, verify=False)
access_token=a.json()['accessToken']
# print(\"Access_token: \", access_token)

dl_rest_url = 'https://{}/platform/rest/deeplearning/v1'.format(hostname)
commonHeaders={'accept': 'application/json', 'X-Auth-Token': access_token}
req = requests.Session()

# Health check
confUrl = 'https://{}/platform/rest/deeplearning/v1/conf'.format(hostname)
r = req.get(confUrl, headers=commonHeaders, verify=False)", 
            "execution_count": 30, 
            "outputs": [
                {
                    "output_type": "stream", 
                    "text": "https://wmla-console-wmla.apps.dse-perf.cpolab.ibm.com/auth/v1/logon
", 
                    "name": "stdout"
                }
            ]
        }, 
        {
            "metadata": {
                "id": "dd9dcc78-c9c3-4963-964d-67ab00539422"
            }, 
            "cell_type": "markdown", 
            "source": "### Define the status checking function"
        }, 
        {
            "metadata": {
                "id": "cf7db32a-fa18-497c-8c01-10876052a30f"
            }, 
            "cell_type": "code", 
            "source": "import tarfile
import tempfile
import os
import json
import pprint
import pandas as pd
from IPython.display import clear_output

def query_job_status(job_id,refresh_rate=3) :

    execURL = dl_rest_url  +'/execs/'+ job_id['id']
    pp = pprint.PrettyPrinter(indent=2)

    keep_running=True
    res=None
    while(keep_running):
        res = req.get(execURL, headers=commonHeaders, verify=False)
        monitoring = pd.DataFrame(res.json(), index=[0])
        pd.set_option('max_colwidth', 120)
        clear_output()
        print(\"Refreshing every {} seconds\".format(refresh_rate))
        display(monitoring)
        pp.pprint(res.json())
        if(res.json()['state'] not in ['PENDING_CRD_SCHEDULER', 'SUBMITTED','RUNNING']) :
            keep_running=False
        time.sleep(refresh_rate)
    return res", 
            "execution_count": 31, 
            "outputs": [ ]
        }, 
        {
            "metadata": {
                "id": "a27c9c1c-e348-44dd-898d-6214d83340bd"
            }, 
            "cell_type": "markdown", 
            "source": "### Define the submission function"
        }, 
        {
            "metadata": {
                "id": "01943c6d-7ce8-4727-ac59-b5ceff6ef933"
            }, 
            "cell_type": "code", 
            "source": "def submit_job_to_wmla (args, files) :
    starttime = datetime.datetime.now()
    r = requests.post(dl_rest_url+'/execs?args='+args, files=files,
                  headers=commonHeaders, verify=False)
    if not r.ok:
        print('submit job failed: code=%s, %s'%(r.status_code, r.content))
    job_status = query_job_status(r.json(),refresh_rate=5)
    endtime = datetime.datetime.now()
    print(\"\\nTotallly training cost: \", (endtime - starttime).seconds, \" seconds.\")", 
            "execution_count": 32, 
            "outputs": [ ]
        }, 
        {
            "metadata": {
                "id": "e859de7b-e58d-415d-af45-bb05e22c019a"
            }, 
            "cell_type": "markdown", 
            "source": "<a id = \"cpu\"></a>
### Define the submission parameters for scikit-learn version on cpu"
        }, 
        {
            "metadata": {
                "id": "32435afd-d3eb-43a6-83a4-4d9351819b92"
            }, 
            "cell_type": "code", 
            "source": "# specify the model file, conda env, device type and device number
args = '--exec-start tensorflow --cs-datastore-meta type=fs \\
--workerDeviceNum 1 \\
--workerMemory 32G \\
--workerDeviceType cpu \\
--conda-env-name dlipy3-cpu  \\
--model-main ' + model_main

print(args)", 
            "execution_count": 33, 
            "outputs": [
                {
                    "output_type": "stream", 
                    "text": "--exec-start tensorflow --cs-datastore-meta type=fs --workerDeviceNum 1 --workerMemory 32G --workerDeviceType cpu --conda-env-name dlipy3-cpu  --model-main sklean-linearRegression-main.py
", 
                    "name": "stdout"
                }
            ]
        }, 
        {
            "metadata": {
                "id": "50e0df2f-9497-43c1-a9c8-6dc573939793"
            }, 
            "cell_type": "markdown", 
            "source": "### Submit WMLA Workload"
        }, 
        {
            "metadata": {
                "id": "66a334887c1341708b517336d9b60f60"
            }, 
            "cell_type": "code", 
            "source": "files = {'file': open(\"{0}/{1}\".format(model_dir,model_main),'rb')}
submit_job_to_wmla (args, files)", 
            "execution_count": 34, 
            "outputs": [
                {
                    "output_type": "stream", 
                    "text": "Refreshing every 5 seconds
", 
                    "name": "stdout"
                }, 
                {
                    "output_type": "display_data", 
                    "data": {
                        "text/plain": "         id  \\
0  wmla-947   

                                                                                                                      args  \\
0  --exec-start tensorflow --cs-datastore-meta type=fs --workerDeviceNum 1 --workerMemory 32G --workerDeviceType cpu --...   

  submissionId  creator     state     appId           schedulerUrl  \\
0     wmla-947  mluser1  FINISHED  wmla-947  https://wmla-mss:9080   

  modelFileOwnerName  \\
0               wmla   

                                                          workDir  \\
0  /gpfs/myresultfs/mluser1/batchworkdir/wmla-947/_submitted_code   

                     appName            createTime  elastic nameSpace  \\
0  SingleNodeTensorflowTrain  2021-07-29T03:32:52Z    False      wmla   

   numWorker   framework  
0          1  tensorflow  ", 
                        "text/html": "<div>
<style scoped>
    .dataframe tbody tr th:only-of-type {
        vertical-align: middle;
    }

    .dataframe tbody tr th {
        vertical-align: top;
    }

    .dataframe thead th {
        text-align: right;
    }
</style>
<table border=\"1\" class=\"dataframe\">
  <thead>
    <tr style=\"text-align: right;\">
      <th></th>
      <th>id</th>
      <th>args</th>
      <th>submissionId</th>
      <th>creator</th>
      <th>state</th>
      <th>appId</th>
      <th>schedulerUrl</th>
      <th>modelFileOwnerName</th>
      <th>workDir</th>
      <th>appName</th>
      <th>createTime</th>
      <th>elastic</th>
      <th>nameSpace</th>
      <th>numWorker</th>
      <th>framework</th>
    </tr>
  </thead>
  <tbody>
    <tr>
      <th>0</th>
      <td>wmla-947</td>
      <td>--exec-start tensorflow --cs-datastore-meta type=fs --workerDeviceNum 1 --workerMemory 32G --workerDeviceType cpu --...</td>
      <td>wmla-947</td>
      <td>mluser1</td>
      <td>FINISHED</td>
      <td>wmla-947</td>
      <td>https://wmla-mss:9080</td>
      <td>wmla</td>
      <td>/gpfs/myresultfs/mluser1/batchworkdir/wmla-947/_submitted_code</td>
      <td>SingleNodeTensorflowTrain</td>
      <td>2021-07-29T03:32:52Z</td>
      <td>False</td>
      <td>wmla</td>
      <td>1</td>
      <td>tensorflow</td>
    </tr>
  </tbody>
</table>
</div>"
                    }, 
                    "metadata": { }
                }, 
                {
                    "output_type": "stream", 
                    "text": "{ 'appId': 'wmla-947',
  'appName': 'SingleNodeTensorflowTrain',
  'args': '--exec-start tensorflow --cs-datastore-meta type=fs '
          '--workerDeviceNum 1 --workerMemory 32G --workerDeviceType cpu '
          '--conda-env-name dlipy3-cpu  --model-main '
          'sklean-linearRegression-main.py ',
  'createTime': '2021-07-29T03:32:52Z',
  'creator': 'mluser1',
  'elastic': False,
  'framework': 'tensorflow',
  'id': 'wmla-947',
  'modelFileOwnerName': 'wmla',
  'nameSpace': 'wmla',
  'numWorker': 1,
  'schedulerUrl': 'https://wmla-mss:9080',
  'state': 'FINISHED',
  'submissionId': 'wmla-947',
  'workDir': '/gpfs/myresultfs/mluser1/batchworkdir/wmla-947/_submitted_code'}

Totallly training cost:  113  seconds.
", 
                    "name": "stdout"
                }
            ]
        }, 
        {
            "metadata": {
                "id": "be0e9a55-960b-4c32-9451-679609cc62f6"
            }, 
            "cell_type": "markdown", 
            "source": "<a id = \"cuml-model\"></a>
## Step 3 :  Setup Linear Regression model using cmML
### Create a Linear Regression Model based on cuML on GPU"
        }, 
        {
            "metadata": {
                "id": "86dadf0d-afb6-43f4-a438-9294969b42f0"
            }, 
            "cell_type": "code", 
            "source": "model_main='cuML-'+model_base_name", 
            "execution_count": 35, 
            "outputs": [ ]
        }, 
        {
            "metadata": {
                "id": "cc1e1b51-283e-4325-9366-72d45b4422dd"
            }, 
            "cell_type": "code", 
            "source": "%%writefile {model_dir}/{model_main}

import os, datetime
import cudf
from cuml import make_regression, train_test_split
from sklearn.datasets import make_sparse_uncorrelated
from cuml.linear_model import LinearRegression as cuLinearRegression
from cuml.metrics.regression import r2_score
import numpy as np

# specify the cache location to /gpfy since ~/.cache is not available
os.environ[\"CUPY_CACHE_DIR\"]=\"/gpfs/mydatafs/models/cache/lr\"

# Define Parameters for a large regression
n_samples = 2**20 #If you are running on a GPU with less than 16GB RAM, please change to 2**19 or you could run out of memory
n_features = 499
random_state = 23

# Generate Data
start = datetime.datetime.now()
X, y = make_sparse_uncorrelated(n_samples=n_samples, n_features=n_features, random_state=random_state)
X = cudf.DataFrame(X)
y = cudf.DataFrame(y)[0]
X_cudf, X_cudf_test, y_cudf, y_cudf_test = train_test_split(X, y, test_size = 0.2, random_state=random_state)
end = datetime.datetime.now()
print (\"generate data timecost: %.2gs\" % ((end-start).total_seconds()))

print(\"Number of examples: %d\" % (X_cudf.shape[0]))
print(\"Number of features: %d\" % (X_cudf.shape[1]))

# cuML Model
lr_model = cuLinearRegression(fit_intercept=True,normalize=True,algorithm='eig')

# Fit
start = datetime.datetime.now()
lr_model.fit(X_cudf, y_cudf)
end = datetime.datetime.now()
print (\"train timecost: %.2gs\" % ((end-start).total_seconds()))

# Predict
start = datetime.datetime.now()
predict_cuml = lr_model.predict(X_cudf_test)
end = datetime.datetime.now()
print (\"predict timecost: %.2gs\" % ((end-start).total_seconds()))

# Evaluate
start = datetime.datetime.now()
r2_score_cuml = r2_score(y_cudf_test, predict_cuml)
end = datetime.datetime.now()
print (\"evaluate timecost: %.2gs\" % ((end-start).total_seconds()))

print(\"R^2 score (cuML): %.4f\" % r2_score_cuml)", 
            "execution_count": 36, 
            "outputs": [
                {
                    "output_type": "stream", 
                    "text": "Overwriting /project_data/data_asset/models/cuML-linearRegression-main.py
", 
                    "name": "stdout"
                }
            ]
        }, 
        {
            "metadata": {
                "id": "260f712b-98e2-4cc6-af09-2acfbeca85d0"
            }, 
            "cell_type": "markdown", 
            "source": "<a id = \"cuml-gpu\"></a>
## Step 4 :  Training the cuML model on GPU with Watson Machine Learning Accelerator
### Re-define the submssion parameters"
        }, 
        {
            "metadata": {
                "id": "4c9b9c9f-046c-4d08-b07c-4f1c97312fe9"
            }, 
            "cell_type": "code", 
            "source": "# specify the model file, conda env, device type and device number
args = '--exec-start tensorflow --cs-datastore-meta type=fs \\
--workerDeviceNum 1 \\
--workerMemory 32G \\
--workerDeviceType gpu \\
--conda-env-name rapids-21.06-new \\
--model-main ' + model_main

print(args)", 
            "execution_count": 37, 
            "outputs": [
                {
                    "output_type": "stream", 
                    "text": "--exec-start tensorflow --cs-datastore-meta type=fs --workerDeviceNum 1 --workerMemory 32G --workerDeviceType gpu --conda-env-name rapids-21.06-new --model-main cuML-linearRegression-main.py
", 
                    "name": "stdout"
                }
            ]
        }, 
        {
            "metadata": {
                "id": "01f4efcc-215f-4f41-b05e-4ef7a36f8db4"
            }, 
            "cell_type": "markdown", 
            "source": "### Submit WMLA Workload"
        }, 
        {
            "metadata": {
                "id": "ef75f049-a633-496b-a256-ab1511716d55"
            }, 
            "cell_type": "code", 
            "source": "files = {'file': open(\"{0}/{1}\".format(model_dir,model_main),'rb')}
submit_job_to_wmla (args, files)", 
            "execution_count": 38, 
            "outputs": [
                {
                    "output_type": "stream", 
                    "text": "Refreshing every 5 seconds
", 
                    "name": "stdout"
                }, 
                {
                    "output_type": "display_data", 
                    "data": {
                        "text/plain": "         id  \\
0  wmla-948   

                                                                                                                      args  \\
0  --exec-start tensorflow --cs-datastore-meta type=fs --workerDeviceNum 1 --workerMemory 32G --workerDeviceType gpu --...   

  submissionId  creator     state     appId           schedulerUrl  \\
0     wmla-948  mluser1  FINISHED  wmla-948  https://wmla-mss:9080   

  modelFileOwnerName  \\
0               wmla   

                                                          workDir  \\
0  /gpfs/myresultfs/mluser1/batchworkdir/wmla-948/_submitted_code   

                     appName            createTime  elastic nameSpace  \\
0  SingleNodeTensorflowTrain  2021-07-29T03:34:45Z    False      wmla   

   numWorker   framework  
0          1  tensorflow  ", 
                        "text/html": "<div>
<style scoped>
    .dataframe tbody tr th:only-of-type {
        vertical-align: middle;
    }

    .dataframe tbody tr th {
        vertical-align: top;
    }

    .dataframe thead th {
        text-align: right;
    }
</style>
<table border=\"1\" class=\"dataframe\">
  <thead>
    <tr style=\"text-align: right;\">
      <th></th>
      <th>id</th>
      <th>args</th>
      <th>submissionId</th>
      <th>creator</th>
      <th>state</th>
      <th>appId</th>
      <th>schedulerUrl</th>
      <th>modelFileOwnerName</th>
      <th>workDir</th>
      <th>appName</th>
      <th>createTime</th>
      <th>elastic</th>
      <th>nameSpace</th>
      <th>numWorker</th>
      <th>framework</th>
    </tr>
  </thead>
  <tbody>
    <tr>
      <th>0</th>
      <td>wmla-948</td>
      <td>--exec-start tensorflow --cs-datastore-meta type=fs --workerDeviceNum 1 --workerMemory 32G --workerDeviceType gpu --...</td>
      <td>wmla-948</td>
      <td>mluser1</td>
      <td>FINISHED</td>
      <td>wmla-948</td>
      <td>https://wmla-mss:9080</td>
      <td>wmla</td>
      <td>/gpfs/myresultfs/mluser1/batchworkdir/wmla-948/_submitted_code</td>
      <td>SingleNodeTensorflowTrain</td>
      <td>2021-07-29T03:34:45Z</td>
      <td>False</td>
      <td>wmla</td>
      <td>1</td>
      <td>tensorflow</td>
    </tr>
  </tbody>
</table>
</div>"
                    }, 
                    "metadata": { }
                }, 
                {
                    "output_type": "stream", 
                    "text": "{ 'appId': 'wmla-948',
  'appName': 'SingleNodeTensorflowTrain',
  'args': '--exec-start tensorflow --cs-datastore-meta type=fs '
          '--workerDeviceNum 1 --workerMemory 32G --workerDeviceType gpu '
          '--conda-env-name rapids-21.06-new --model-main '
          'cuML-linearRegression-main.py ',
  'createTime': '2021-07-29T03:34:45Z',
  'creator': 'mluser1',
  'elastic': False,
  'framework': 'tensorflow',
  'id': 'wmla-948',
  'modelFileOwnerName': 'wmla',
  'nameSpace': 'wmla',
  'numWorker': 1,
  'schedulerUrl': 'https://wmla-mss:9080',
  'state': 'FINISHED',
  'submissionId': 'wmla-948',
  'workDir': '/gpfs/myresultfs/mluser1/batchworkdir/wmla-948/_submitted_code'}

Totallly training cost:  100  seconds.
", 
                    "name": "stdout"
                }
            ]
        }, 
        {
            "metadata": {
                "id": "2ce3b2f1-8b06-4806-ba0d-f5fe79eede57"
            }, 
            "cell_type": "markdown", 
            "source": "<a id = \"snapml-model\"></a>
## Step 5 :  Setup Linear Regression model using snapML
### Create a Linear Regression Model based on snapML "
        }, 
        {
            "metadata": {
                "id": "5bf00ec9-fa8d-4446-a774-28fa9b9445d9"
            }, 
            "cell_type": "code", 
            "source": "model_main='snapML-'+model_base_name", 
            "execution_count": 39, 
            "outputs": [ ]
        }, 
        {
            "metadata": {
                "id": "1466279c-6fcf-4a52-806b-79c05aa186e4"
            }, 
            "cell_type": "code", 
            "source": "%%writefile {model_dir}/{model_main}

import datetime
from sklearn.datasets import make_regression
from sklearn.model_selection import train_test_split
from sklearn.datasets import make_sparse_uncorrelated
from sklearn.metrics import r2_score
from snapml import LinearRegression as SnapLinearRegression
import numpy as np

# Define Parameters for a large regression
n_samples = 2**20 #If you are running on a GPU with less than 16GB RAM, please change to 2**19 or you could run out of memory
n_features = 499
random_state = 23

# Generate Data
start = datetime.datetime.now()
X, y = make_sparse_uncorrelated(n_samples=n_samples, n_features=n_features, random_state=random_state)
X_train, X_test, y_train, y_test = train_test_split(X, y, test_size = 0.2, random_state=random_state)
end = datetime.datetime.now()
print (\"generate data timecost: %.2gs\" % ((end-start).total_seconds()))

print(\"Number of examples: %d\" % (X_train.shape[0]))
print(\"Number of features: %d\" % (X_train.shape[1]))

# snapML model
lr_model = SnapLinearRegression(fit_intercept=True,normalize=True)

# Fit
start = datetime.datetime.now()
lr_model.fit(X_train, y_train)
end = datetime.datetime.now()
print (\"train timecost: %.2gs\" % ((end-start).total_seconds()))

r2_score_snapml = r2_score(y_test, lr_model.predict(X_test))
print(\"R^2 score (snapML): %.4f\" % r2_score_snapml)", 
            "execution_count": 40, 
            "outputs": [
                {
                    "output_type": "stream", 
                    "text": "Writing /project_data/data_asset/models/snapML-linearRegression-main.py
", 
                    "name": "stdout"
                }
            ]
        }, 
        {
            "metadata": {
                "id": "759faabf-1fc4-4c50-aa9c-a2f698b79bb0"
            }, 
            "cell_type": "markdown", 
            "source": "<a id = \"snapml-cpu\"></a>
## Step 6 :  Training the SnapML model on CPU with Watson Machine Learning Accelerator
### Re-define the submission parameters"
        }, 
        {
            "metadata": {
                "id": "c928a850-470d-4dcd-a8f4-0d52a5d1ee4e"
            }, 
            "cell_type": "code", 
            "source": "# specify the model file, conda env, device type and device number
args = '--exec-start tensorflow --cs-datastore-meta type=fs \\
--workerDeviceNum 1 \\
--workerMemory 32G \\
--workerDeviceType cpu \\
--conda-env-name snapml-177rc \\
--model-main ' + model_main
print(args)", 
            "execution_count": 41, 
            "outputs": [
                {
                    "output_type": "stream", 
                    "text": "--exec-start tensorflow --cs-datastore-meta type=fs --workerDeviceNum 1 --workerMemory 32G --workerDeviceType cpu --conda-env-name snapml-177rc --model-main snapML-linearRegression-main.py
", 
                    "name": "stdout"
                }
            ]
        }, 
        {
            "metadata": {
                "id": "f921c773-d3c7-4be6-8403-47c1bbb8fe8d"
            }, 
            "cell_type": "markdown", 
            "source": "### Submit WMLA Workload"
        }, 
        {
            "metadata": {
                "id": "b159bacf-8004-43e4-a148-563529e3136a"
            }, 
            "cell_type": "code", 
            "source": "files = {'file': open(\"{0}/{1}\".format(model_dir,model_main),'rb')}
submit_job_to_wmla (args, files)", 
            "execution_count": 42, 
            "outputs": [
                {
                    "output_type": "stream", 
                    "text": "Refreshing every 5 seconds
", 
                    "name": "stdout"
                }, 
                {
                    "output_type": "display_data", 
                    "data": {
                        "text/plain": "         id  \\
0  wmla-949   

                                                                                                                      args  \\
0  --exec-start tensorflow --cs-datastore-meta type=fs --workerDeviceNum 1 --workerMemory 32G --workerDeviceType cpu --...   

  submissionId  creator     state     appId           schedulerUrl  \\
0     wmla-949  mluser1  FINISHED  wmla-949  https://wmla-mss:9080   

  modelFileOwnerName  \\
0               wmla   

                                                          workDir  \\
0  /gpfs/myresultfs/mluser1/batchworkdir/wmla-949/_submitted_code   

                     appName            createTime  elastic nameSpace  \\
0  SingleNodeTensorflowTrain  2021-07-29T03:36:26Z    False      wmla   

   numWorker   framework  
0          1  tensorflow  ", 
                        "text/html": "<div>
<style scoped>
    .dataframe tbody tr th:only-of-type {
        vertical-align: middle;
    }

    .dataframe tbody tr th {
        vertical-align: top;
    }

    .dataframe thead th {
        text-align: right;
    }
</style>
<table border=\"1\" class=\"dataframe\">
  <thead>
    <tr style=\"text-align: right;\">
      <th></th>
      <th>id</th>
      <th>args</th>
      <th>submissionId</th>
      <th>creator</th>
      <th>state</th>
      <th>appId</th>
      <th>schedulerUrl</th>
      <th>modelFileOwnerName</th>
      <th>workDir</th>
      <th>appName</th>
      <th>createTime</th>
      <th>elastic</th>
      <th>nameSpace</th>
      <th>numWorker</th>
      <th>framework</th>
    </tr>
  </thead>
  <tbody>
    <tr>
      <th>0</th>
      <td>wmla-949</td>
      <td>--exec-start tensorflow --cs-datastore-meta type=fs --workerDeviceNum 1 --workerMemory 32G --workerDeviceType cpu --...</td>
      <td>wmla-949</td>
      <td>mluser1</td>
      <td>FINISHED</td>
      <td>wmla-949</td>
      <td>https://wmla-mss:9080</td>
      <td>wmla</td>
      <td>/gpfs/myresultfs/mluser1/batchworkdir/wmla-949/_submitted_code</td>
      <td>SingleNodeTensorflowTrain</td>
      <td>2021-07-29T03:36:26Z</td>
      <td>False</td>
      <td>wmla</td>
      <td>1</td>
      <td>tensorflow</td>
    </tr>
  </tbody>
</table>
</div>"
                    }, 
                    "metadata": { }
                }, 
                {
                    "output_type": "stream", 
                    "text": "{ 'appId': 'wmla-949',
  'appName': 'SingleNodeTensorflowTrain',
  'args': '--exec-start tensorflow --cs-datastore-meta type=fs '
          '--workerDeviceNum 1 --workerMemory 32G --workerDeviceType cpu '
          '--conda-env-name snapml-177rc --model-main '
          'snapML-linearRegression-main.py ',
  'createTime': '2021-07-29T03:36:26Z',
  'creator': 'mluser1',
  'elastic': False,
  'framework': 'tensorflow',
  'id': 'wmla-949',
  'modelFileOwnerName': 'wmla',
  'nameSpace': 'wmla',
  'numWorker': 1,
  'schedulerUrl': 'https://wmla-mss:9080',
  'state': 'FINISHED',
  'submissionId': 'wmla-949',
  'workDir': '/gpfs/myresultfs/mluser1/batchworkdir/wmla-949/_submitted_code'}

Totallly training cost:  85  seconds.
", 
                    "name": "stdout"
                }
            ]
        }, 
        {
            "metadata": {
                "id": "7b283663-5994-4b28-8bd2-115498da2d9f"
            }, 
            "cell_type": "markdown", 
            "source": "<a id = \"snapml-model-gpu\"></a>
## Step 7 :  Setup Linear Regression model using snapML on GPU
### Create a Linear Regression Model based on snapML "
        }, 
        {
            "metadata": {
                "id": "bf306b28-f55d-4fdf-aa79-957188934a61"
            }, 
            "cell_type": "code", 
            "source": "model_main='snapML-GPU-'+model_base_name", 
            "execution_count": 43, 
            "outputs": [ ]
        }, 
        {
            "metadata": {
                "id": "ec8ffdcd-8fee-4b16-9a80-b8c5f29ce641"
            }, 
            "cell_type": "code", 
            "source": "%%writefile {model_dir}/{model_main}

import datetime
from sklearn.datasets import make_regression
from sklearn.model_selection import train_test_split
from sklearn.datasets import make_sparse_uncorrelated
from sklearn.metrics import r2_score
from snapml import LinearRegression as SnapLinearRegression
import numpy as np

# Define Parameters for a large regression
n_samples = 2**20 #If you are running on a GPU with less than 16GB RAM, please change to 2**19 or you could run out of memory
n_features = 499
random_state = 23

# Generate Data
start = datetime.datetime.now()
X, y = make_sparse_uncorrelated(n_samples=n_samples, n_features=n_features, random_state=random_state)
X_train, X_test, y_train, y_test = train_test_split(X, y, test_size = 0.2, random_state=random_state)
end = datetime.datetime.now()
print (\"generate data timecost: %.2gs\" % ((end-start).total_seconds()))

print(\"Number of examples: %d\" % (X_train.shape[0]))
print(\"Number of features: %d\" % (X_train.shape[1]))

# snapML model
lr_model = SnapLinearRegression(use_gpu=True,
                                fit_intercept=True,normalize=True)

# Fit
start = datetime.datetime.now()
lr_model.fit(X_train, y_train)
end = datetime.datetime.now()
print (\"train timecost: %.2gs\" % ((end-start).total_seconds()))

r2_score_snapml = r2_score(y_test, lr_model.predict(X_test))
print(\"R^2 score (snapML): %.4f\" % r2_score_snapml)", 
            "execution_count": 44, 
            "outputs": [
                {
                    "output_type": "stream", 
                    "text": "Writing /project_data/data_asset/models/snapML-GPU-linearRegression-main.py
", 
                    "name": "stdout"
                }
            ]
        }, 
        {
            "metadata": {
                "id": "7cf2fd02-3182-4f62-8b92-5da02c7d35fb"
            }, 
            "cell_type": "markdown", 
            "source": "<a id = \"snapml-gpu\"></a>
## Step 8 :  Training the SnapML model on GPU with Watson Machine Learning Accelerator
### Re-define the submission parameters"
        }, 
        {
            "metadata": {
                "id": "856bd646-915c-4b19-b684-789501e9b770"
            }, 
            "cell_type": "code", 
            "source": "# specify the model file, conda env, device type and device number
args = '--exec-start tensorflow --cs-datastore-meta type=fs \\
--workerDeviceNum 1 \\
--workerMemory 32G \\
--workerDeviceType gpu \\
--conda-env-name snapml-177rc \\
--model-main ' + model_main
print(args)", 
            "execution_count": 45, 
            "outputs": [
                {
                    "output_type": "stream", 
                    "text": "--exec-start tensorflow --cs-datastore-meta type=fs --workerDeviceNum 1 --workerMemory 32G --workerDeviceType gpu --conda-env-name snapml-177rc --model-main snapML-GPU-linearRegression-main.py
", 
                    "name": "stdout"
                }
            ]
        }, 
        {
            "metadata": {
                "id": "e4292f58-5039-489a-9586-fc5c35e2364d"
            }, 
            "cell_type": "code", 
            "source": "files = {'file': open(\"{0}/{1}\".format(model_dir,model_main),'rb')}
submit_job_to_wmla (args, files)", 
            "execution_count": 46, 
            "outputs": [
                {
                    "output_type": "stream", 
                    "text": "Refreshing every 5 seconds
", 
                    "name": "stdout"
                }, 
                {
                    "output_type": "display_data", 
                    "data": {
                        "text/plain": "         id  \\
0  wmla-950   

                                                                                                                      args  \\
0  --exec-start tensorflow --cs-datastore-meta type=fs --workerDeviceNum 1 --workerMemory 32G --workerDeviceType gpu --...   

  submissionId  creator     state     appId           schedulerUrl  \\
0     wmla-950  mluser1  FINISHED  wmla-950  https://wmla-mss:9080   

  modelFileOwnerName  \\
0               wmla   

                                                          workDir  \\
0  /gpfs/myresultfs/mluser1/batchworkdir/wmla-950/_submitted_code   

                     appName            createTime  elastic nameSpace  \\
0  SingleNodeTensorflowTrain  2021-07-29T03:37:52Z    False      wmla   

   numWorker   framework  
0          1  tensorflow  ", 
                        "text/html": "<div>
<style scoped>
    .dataframe tbody tr th:only-of-type {
        vertical-align: middle;
    }

    .dataframe tbody tr th {
        vertical-align: top;
    }

    .dataframe thead th {
        text-align: right;
    }
</style>
<table border=\"1\" class=\"dataframe\">
  <thead>
    <tr style=\"text-align: right;\">
      <th></th>
      <th>id</th>
      <th>args</th>
      <th>submissionId</th>
      <th>creator</th>
      <th>state</th>
      <th>appId</th>
      <th>schedulerUrl</th>
      <th>modelFileOwnerName</th>
      <th>workDir</th>
      <th>appName</th>
      <th>createTime</th>
      <th>elastic</th>
      <th>nameSpace</th>
      <th>numWorker</th>
      <th>framework</th>
    </tr>
  </thead>
  <tbody>
    <tr>
      <th>0</th>
      <td>wmla-950</td>
      <td>--exec-start tensorflow --cs-datastore-meta type=fs --workerDeviceNum 1 --workerMemory 32G --workerDeviceType gpu --...</td>
      <td>wmla-950</td>
      <td>mluser1</td>
      <td>FINISHED</td>
      <td>wmla-950</td>
      <td>https://wmla-mss:9080</td>
      <td>wmla</td>
      <td>/gpfs/myresultfs/mluser1/batchworkdir/wmla-950/_submitted_code</td>
      <td>SingleNodeTensorflowTrain</td>
      <td>2021-07-29T03:37:52Z</td>
      <td>False</td>
      <td>wmla</td>
      <td>1</td>
      <td>tensorflow</td>
    </tr>
  </tbody>
</table>
</div>"
                    }, 
                    "metadata": { }
                }, 
                {
                    "output_type": "stream", 
                    "text": "{ 'appId': 'wmla-950',
  'appName': 'SingleNodeTensorflowTrain',
  'args': '--exec-start tensorflow --cs-datastore-meta type=fs '
          '--workerDeviceNum 1 --workerMemory 32G --workerDeviceType gpu '
          '--conda-env-name snapml-177rc --model-main '
          'snapML-GPU-linearRegression-main.py ',
  'createTime': '2021-07-29T03:37:52Z',
  'creator': 'mluser1',
  'elastic': False,
  'framework': 'tensorflow',
  'id': 'wmla-950',
  'modelFileOwnerName': 'wmla',
  'nameSpace': 'wmla',
  'numWorker': 1,
  'schedulerUrl': 'https://wmla-mss:9080',
  'state': 'FINISHED',
  'submissionId': 'wmla-950',
  'workDir': '/gpfs/myresultfs/mluser1/batchworkdir/wmla-950/_submitted_code'}

Totallly training cost:  75  seconds.
", 
                    "name": "stdout"
                }
            ]
        }, 
        {
            "metadata": {
                "id": "8856cb5b-c8ab-4cc7-81a9-6791beec5c4d"
            }, 
            "cell_type": "code", 
            "source": "", 
            "execution_count": null, 
            "outputs": [ ]
        }
    ], 
    "metadata": {
        "kernelspec": {
            "name": "python3", 
            "display_name": "Python 3.7", 
            "language": "python"
        }, 
        "language_info": {
            "name": "python", 
            "version": "3.7.10", 
            "mimetype": "text/x-python", 
            "codemirror_mode": {
                "name": "ipython", 
                "version": 3
            }, 
            "pygments_lexer": "ipython3", 
            "nbconvert_exporter": "python", 
            "file_extension": ".py"
        }
    }, 
    "nbformat": 4, 
    "nbformat_minor": 5
}