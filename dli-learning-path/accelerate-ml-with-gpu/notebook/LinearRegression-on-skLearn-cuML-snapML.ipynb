{
 "cells": [
  {
   "cell_type": "markdown",
   "id": "a3ee7b9d",
   "metadata": {},
   "source": [
    "# Train a Linear Regression Model with Watson Machine Learning \n",
    "\n",
    "Notebook created by Zeming Zhao on June, 2021\n",
    "\n",
    "In this notebook, you will learn how to use the Watson Machine Learning Accelerator (WML-A) API and accelerate the processing of Linear Regression model on GPU with Watson Machine Learning Accelerator.\n",
    "\n",
    "Linear Regression is a simple machine learning model where the response y is modelled by a linear combination of the predictors in X.\n",
    "\n",
    "In this notebook we have three versions of Linear Regression model: scikit-learn version, cuML version and snapML version.\n",
    "\n",
    "All three versions will be submitted onto WMLA. And we can compare the performance benifit of cuML and snapML version.\n",
    "\n",
    "This notebook covers the following sections:\n",
    "\n",
    "1. [Setup Linear Regression using sklearning](#skl-model)<br>\n",
    "\n",
    "1. [Training the model on CPU with Watson Machine Learning Accelerator](#cpu)<br>\n",
    "\n",
    "1. [Setup Linear Regression using cuML](#cuml-model)<br>\n",
    "\n",
    "1. [Training the model on GPU with Watson Machine Learning Accelerator](#gpu)<br>\n",
    "\n",
    "1. [Setup Linear Regression using snapML](#snapml-model)<br>\n",
    "\n",
    "1. [Training the model on GPU with Watson Machine Learning Accelerator](#snap)<br>"
   ]
  },
  {
   "cell_type": "markdown",
   "id": "325a37a4",
   "metadata": {},
   "source": [
    "<a id = \"rbm-model\"></a>\n",
    "## Preparations"
   ]
  },
  {
   "cell_type": "markdown",
   "id": "83bf05b1",
   "metadata": {},
   "source": [
    "### Prepare directory and file for writing Linear Regression engine."
   ]
  },
  {
   "cell_type": "code",
   "execution_count": 1,
   "id": "8a08eb4b",
   "metadata": {},
   "outputs": [
    {
     "name": "stdout",
     "output_type": "stream",
     "text": [
      "create model directory done.\n"
     ]
    }
   ],
   "source": [
    "from pathlib import Path\n",
    "model_dir = f'/data/models' \n",
    "model_main = f'LinearRegression_main.py'\n",
    "Path(model_dir).mkdir(exist_ok=True)\n",
    "print(\"create model directory done.\")"
   ]
  },
  {
   "cell_type": "markdown",
   "id": "8f0ae01f",
   "metadata": {},
   "source": [
    "<a id = \"skl-model\"></a>\n",
    "## Step 1 : Setup Linear Regression model using scikit-learn."
   ]
  },
  {
   "cell_type": "markdown",
   "id": "3cefd981",
   "metadata": {},
   "source": [
    "### Create a Linear Regression Model based on scikit-learn on CPU"
   ]
  },
  {
   "cell_type": "code",
   "execution_count": 2,
   "id": "82fb5335",
   "metadata": {},
   "outputs": [
    {
     "name": "stdout",
     "output_type": "stream",
     "text": [
      "Overwriting /data/models/LinearRegression_main.py\n"
     ]
    }
   ],
   "source": [
    "%%writefile {model_dir}/{model_main}\n",
    "\n",
    "from sklearn.datasets import make_regression\n",
    "from sklearn.model_selection import train_test_split\n",
    "from sklearn.metrics import r2_score\n",
    "from sklearn.linear_model import LinearRegression as skLinearRegression\n",
    "#from sklearn import linear_model\n",
    "import datetime\n",
    "import os\n",
    "\n",
    "# # specify the cache location to /gpfy since ~/.cache is not available\n",
    "# os.environ[\"CUPY_CACHE_DIR\"]=\"/gpfs/mydatafs/models/cache/lr\"\n",
    "\n",
    "# Define Parameters for a large regression\n",
    "n_samples = 2**20 #If you are running on a GPU with less than 16GB RAM, please change to 2**19 or you could run out of memory\n",
    "n_features = 399\n",
    "random_state = 23\n",
    "\n",
    "# Generate Data\n",
    "start = datetime.datetime.now()\n",
    "X, y = make_regression(n_samples=n_samples, n_features=n_features, random_state=random_state)\n",
    "X_skl, X_skl_test, y_skl, y_skl_test = train_test_split(X, y, test_size = 0.2, random_state=random_state)\n",
    "end = datetime.datetime.now()\n",
    "print (\"generate data timecost: %.2gs\" % ((end-start).total_seconds()))\n",
    "\n",
    "# scikit-learn Model\n",
    "# ols_skl = skLinearRegression()\n",
    "ols_skl = skLinearRegression(fit_intercept=True,\n",
    "                            normalize=True,\n",
    "                            n_jobs=-1)\n",
    "print (\"init model done\")\n",
    "\n",
    "# Fit\n",
    "start = datetime.datetime.now()\n",
    "ols_skl.fit(X_skl, y_skl)\n",
    "end = datetime.datetime.now()\n",
    "print (\"train timecost: %.2gs\" % ((end-start).total_seconds()))\n",
    "\n",
    "# Predict\n",
    "start = datetime.datetime.now()\n",
    "predict_skl = ols_skl.predict(X_skl_test)\n",
    "end = datetime.datetime.now()\n",
    "print (\"predict timecost: %.2gs\" % ((end-start).total_seconds()))\n",
    "\n",
    "# Evaluate\n",
    "start = datetime.datetime.now()\n",
    "r2_score_skl = r2_score(y_skl_test, predict_skl)\n",
    "end = datetime.datetime.now()\n",
    "print (\"evaluate timecost: %.2gs\" % ((end-start).total_seconds()))\n",
    "\n",
    "#  print(\"R^2 score (SKL):  %s\" % r2_score_sk)\n",
    "print(\"R^2 score (scikit-learn): %.4f\" % r2_score_skl)"
   ]
  },
  {
   "cell_type": "markdown",
   "id": "ebafa260",
   "metadata": {},
   "source": [
    "## Step 2 :  Training the SK-Learning model on CPU with Watson Machine Learning Accelerator"
   ]
  },
  {
   "cell_type": "markdown",
   "id": "103e5f62",
   "metadata": {},
   "source": [
    "### Prepare the model lib for job submission"
   ]
  },
  {
   "cell_type": "code",
   "execution_count": 3,
   "id": "c58b3213",
   "metadata": {},
   "outputs": [
    {
     "name": "stdout",
     "output_type": "stream",
     "text": [
      "Populating the interactive namespace from numpy and matplotlib\n"
     ]
    }
   ],
   "source": [
    "import requests\n",
    "from requests.packages.urllib3.exceptions import InsecureRequestWarning\n",
    "requests.packages.urllib3.disable_warnings(InsecureRequestWarning)\n",
    "\n",
    "from matplotlib import pyplot as plt\n",
    "%pylab inline\n",
    "\n",
    "import base64\n",
    "import json\n",
    "import time\n",
    "import urllib"
   ]
  },
  {
   "cell_type": "markdown",
   "id": "14d264d8",
   "metadata": {},
   "source": [
    "### Configuring your environment and project details\n",
    "To set up your project details, provide your credentials in this cell. You must include your cluster URL, username, and password."
   ]
  },
  {
   "cell_type": "code",
   "execution_count": 4,
   "id": "2fbd20a9",
   "metadata": {},
   "outputs": [
    {
     "name": "stdout",
     "output_type": "stream",
     "text": [
      "https://wmla-console-wmla.apps.wml1x180.ma.platformlab.ibm.com/auth/v1/logon\n"
     ]
    }
   ],
   "source": [
    "hostname='wmla-console-wmla.apps.wml1x180.ma.platformlab.ibm.com'  # please enter Watson Machine Learning Accelerator host name\n",
    "# login='username:password' # please enter the login and password\n",
    "login='admin:p7PMrMMknVQzEb3ptyj0D6XRTO5PQjYL'\n",
    "es = base64.b64encode(login.encode('utf-8')).decode(\"utf-8\")\n",
    "# print(es)\n",
    "commonHeaders={'Authorization': 'Basic '+es}\n",
    "req = requests.Session()\n",
    "auth_url = 'https://{}/auth/v1/logon'.format(hostname)\n",
    "print(auth_url)\n",
    "\n",
    "a=requests.get(auth_url,headers=commonHeaders, verify=False)\n",
    "access_token=a.json()['accessToken']\n",
    "# print(\"Access_token: \", access_token)"
   ]
  },
  {
   "cell_type": "code",
   "execution_count": 5,
   "id": "c911976b",
   "metadata": {},
   "outputs": [],
   "source": [
    "dl_rest_url = 'https://{}/platform/rest/deeplearning/v1'.format(hostname)\n",
    "commonHeaders={'accept': 'application/json', 'X-Auth-Token': access_token}\n",
    "req = requests.Session()"
   ]
  },
  {
   "cell_type": "code",
   "execution_count": 6,
   "id": "f977b3b4",
   "metadata": {},
   "outputs": [],
   "source": [
    "# Health check\n",
    "confUrl = 'https://{}/platform/rest/deeplearning/v1/conf'.format(hostname)\n",
    "r = req.get(confUrl, headers=commonHeaders, verify=False)"
   ]
  },
  {
   "cell_type": "markdown",
   "id": "5d34b655",
   "metadata": {},
   "source": [
    "### Define the status checking function"
   ]
  },
  {
   "cell_type": "code",
   "execution_count": 7,
   "id": "0f2d3630",
   "metadata": {},
   "outputs": [],
   "source": [
    "import tarfile\n",
    "import tempfile\n",
    "import os\n",
    "import json\n",
    "import pprint\n",
    "import pandas as pd\n",
    "from IPython.display import clear_output\n",
    "\n",
    "def query_job_status(job_id,refresh_rate=3) :\n",
    "\n",
    "    execURL = dl_rest_url  +'/execs/'+ job_id['id']\n",
    "    pp = pprint.PrettyPrinter(indent=2)\n",
    "\n",
    "    keep_running=True\n",
    "    res=None\n",
    "    while(keep_running):\n",
    "        res = req.get(execURL, headers=commonHeaders, verify=False)\n",
    "        monitoring = pd.DataFrame(res.json(), index=[0])\n",
    "        pd.set_option('max_colwidth', 120)\n",
    "        clear_output()\n",
    "        print(\"Refreshing every {} seconds\".format(refresh_rate))\n",
    "        display(monitoring)\n",
    "        pp.pprint(res.json())\n",
    "        if(res.json()['state'] not in ['PENDING_CRD_SCHEDULER', 'SUBMITTED','RUNNING']) :\n",
    "            keep_running=False\n",
    "        time.sleep(refresh_rate)\n",
    "    return res"
   ]
  },
  {
   "cell_type": "markdown",
   "id": "e694d1cc",
   "metadata": {},
   "source": [
    "### Define the submission commnad"
   ]
  },
  {
   "cell_type": "code",
   "execution_count": 8,
   "id": "43d44a5d",
   "metadata": {},
   "outputs": [],
   "source": [
    "def submit_job_to_wmla (args) :\n",
    "    starttime = datetime.datetime.now()\n",
    "    r = requests.post(dl_rest_url+'/execs?args='+args, # files=files,\n",
    "                  headers=commonHeaders, verify=False)\n",
    "    if not r.ok:\n",
    "        print('submit job failed: code=%s, %s'%(r.status_code, r.content))\n",
    "    job_status = query_job_status(r.json(),refresh_rate=5)\n",
    "    endtime = datetime.datetime.now()\n",
    "    print(\"\\nTotallly training cost: \", (endtime - starttime).seconds, \" seconds.\")"
   ]
  },
  {
   "cell_type": "markdown",
   "id": "46959f64",
   "metadata": {},
   "source": [
    "<a id = \"cpu\"></a>\n",
    "### Define the submission parameters for scikit-learn version on cpu"
   ]
  },
  {
   "cell_type": "code",
   "execution_count": 9,
   "id": "4cd11895",
   "metadata": {},
   "outputs": [
    {
     "name": "stdout",
     "output_type": "stream",
     "text": [
      "--exec-start tensorflow --cs-datastore-meta type=fs                      --workerDeviceNum 1                      --workerDeviceType cpu                      --conda-env-name dlipy3-cpu                       --model-main /gpfs/mydatafs/models/LinearRegression_main.py\n"
     ]
    }
   ],
   "source": [
    "# specify the conda env of rapids and worker device type\n",
    "args = '--exec-start tensorflow --cs-datastore-meta type=fs \\\n",
    "                     --workerDeviceNum 1 \\\n",
    "                     --workerDeviceType cpu \\\n",
    "                     --conda-env-name dlipy3-cpu  \\\n",
    "                     --model-main /gpfs/mydatafs/models/' + model_main\n",
    "\n",
    "print(args)"
   ]
  },
  {
   "cell_type": "markdown",
   "id": "0c9d257e",
   "metadata": {},
   "source": [
    "### Submit WMLA Workload"
   ]
  },
  {
   "cell_type": "code",
   "execution_count": 10,
   "id": "ad044676",
   "metadata": {},
   "outputs": [
    {
     "name": "stdout",
     "output_type": "stream",
     "text": [
      "Refreshing every 5 seconds\n"
     ]
    },
    {
     "data": {
      "text/html": [
       "<div>\n",
       "<style scoped>\n",
       "    .dataframe tbody tr th:only-of-type {\n",
       "        vertical-align: middle;\n",
       "    }\n",
       "\n",
       "    .dataframe tbody tr th {\n",
       "        vertical-align: top;\n",
       "    }\n",
       "\n",
       "    .dataframe thead th {\n",
       "        text-align: right;\n",
       "    }\n",
       "</style>\n",
       "<table border=\"1\" class=\"dataframe\">\n",
       "  <thead>\n",
       "    <tr style=\"text-align: right;\">\n",
       "      <th></th>\n",
       "      <th>id</th>\n",
       "      <th>args</th>\n",
       "      <th>submissionId</th>\n",
       "      <th>creator</th>\n",
       "      <th>state</th>\n",
       "      <th>appId</th>\n",
       "      <th>schedulerUrl</th>\n",
       "      <th>modelFileOwnerName</th>\n",
       "      <th>workDir</th>\n",
       "      <th>appName</th>\n",
       "      <th>createTime</th>\n",
       "      <th>elastic</th>\n",
       "      <th>nameSpace</th>\n",
       "      <th>numWorker</th>\n",
       "      <th>framework</th>\n",
       "    </tr>\n",
       "  </thead>\n",
       "  <tbody>\n",
       "    <tr>\n",
       "      <th>0</th>\n",
       "      <td>wmla-329</td>\n",
       "      <td>--exec-start tensorflow --cs-datastore-meta type=fs                      --workerDeviceNum 1                      --...</td>\n",
       "      <td>wmla-329</td>\n",
       "      <td>admin</td>\n",
       "      <td>FINISHED</td>\n",
       "      <td>wmla-329</td>\n",
       "      <td>https://wmla-mss:9080</td>\n",
       "      <td>wmla</td>\n",
       "      <td>/gpfs/myresultfs/admin/batchworkdir/wmla-329/_submitted_code</td>\n",
       "      <td>SingleNodeTensorflowTrain</td>\n",
       "      <td>2021-07-13T09:08:59Z</td>\n",
       "      <td>False</td>\n",
       "      <td>wmla</td>\n",
       "      <td>1</td>\n",
       "      <td>tensorflow</td>\n",
       "    </tr>\n",
       "  </tbody>\n",
       "</table>\n",
       "</div>"
      ],
      "text/plain": [
       "         id  \\\n",
       "0  wmla-329   \n",
       "\n",
       "                                                                                                                      args  \\\n",
       "0  --exec-start tensorflow --cs-datastore-meta type=fs                      --workerDeviceNum 1                      --...   \n",
       "\n",
       "  submissionId creator     state     appId           schedulerUrl  \\\n",
       "0     wmla-329   admin  FINISHED  wmla-329  https://wmla-mss:9080   \n",
       "\n",
       "  modelFileOwnerName  \\\n",
       "0               wmla   \n",
       "\n",
       "                                                        workDir  \\\n",
       "0  /gpfs/myresultfs/admin/batchworkdir/wmla-329/_submitted_code   \n",
       "\n",
       "                     appName            createTime  elastic nameSpace  \\\n",
       "0  SingleNodeTensorflowTrain  2021-07-13T09:08:59Z    False      wmla   \n",
       "\n",
       "   numWorker   framework  \n",
       "0          1  tensorflow  "
      ]
     },
     "metadata": {},
     "output_type": "display_data"
    },
    {
     "name": "stdout",
     "output_type": "stream",
     "text": [
      "{ 'appId': 'wmla-329',\n",
      "  'appName': 'SingleNodeTensorflowTrain',\n",
      "  'args': '--exec-start tensorflow --cs-datastore-meta '\n",
      "          'type=fs                      --workerDeviceNum '\n",
      "          '1                      --workerDeviceType cpu                      '\n",
      "          '--conda-env-name dlipy3-cpu                       --model-main '\n",
      "          '/gpfs/mydatafs/models/LinearRegression_main.py ',\n",
      "  'createTime': '2021-07-13T09:08:59Z',\n",
      "  'creator': 'admin',\n",
      "  'elastic': False,\n",
      "  'framework': 'tensorflow',\n",
      "  'id': 'wmla-329',\n",
      "  'modelFileOwnerName': 'wmla',\n",
      "  'nameSpace': 'wmla',\n",
      "  'numWorker': 1,\n",
      "  'schedulerUrl': 'https://wmla-mss:9080',\n",
      "  'state': 'FINISHED',\n",
      "  'submissionId': 'wmla-329',\n",
      "  'workDir': '/gpfs/myresultfs/admin/batchworkdir/wmla-329/_submitted_code'}\n",
      "\n",
      "Totallly training cost:  165  seconds.\n"
     ]
    }
   ],
   "source": [
    "submit_job_to_wmla (args)"
   ]
  },
  {
   "cell_type": "markdown",
   "id": "4726f60f",
   "metadata": {},
   "source": [
    "## Step 3 :  Setup Linear Regression model using cmML"
   ]
  },
  {
   "cell_type": "markdown",
   "id": "f68a9ddd",
   "metadata": {},
   "source": [
    "<a id = \"cuml-model\"></a>\n",
    "### Create a Linear Regression Model based on cuML on GPU"
   ]
  },
  {
   "cell_type": "code",
   "execution_count": 11,
   "id": "efaa538d",
   "metadata": {},
   "outputs": [
    {
     "name": "stdout",
     "output_type": "stream",
     "text": [
      "Overwriting /data/models/LinearRegression_main.py\n"
     ]
    }
   ],
   "source": [
    "%%writefile {model_dir}/{model_main}\n",
    "\n",
    "import cudf\n",
    "from cuml import make_regression, train_test_split\n",
    "from cuml.linear_model import LinearRegression as cuLinearRegression\n",
    "from cuml.metrics.regression import r2_score\n",
    "#from sklearn.linear_model import LinearRegression as skLinearRegression\n",
    "import datetime\n",
    "import os\n",
    "\n",
    "# specify the cache location to /gpfy since ~/.cache is not available\n",
    "os.environ[\"CUPY_CACHE_DIR\"]=\"/gpfs/mydatafs/models/cache/lr\"\n",
    "\n",
    "# Define Parameters for a large regression\n",
    "n_samples = 2**20 #If you are running on a GPU with less than 16GB RAM, please change to 2**19 or you could run out of memory\n",
    "n_features = 399\n",
    "random_state = 23\n",
    "\n",
    "# Generate Data\n",
    "start = datetime.datetime.now()\n",
    "X, y = make_regression(n_samples=n_samples, n_features=n_features, random_state=random_state)\n",
    "X = cudf.DataFrame(X)\n",
    "y = cudf.DataFrame(y)[0]\n",
    "X_cudf, X_cudf_test, y_cudf, y_cudf_test = train_test_split(X, y, test_size = 0.2, random_state=random_state)\n",
    "end = datetime.datetime.now()\n",
    "print (\"generate data timecost: %.2gs\" % ((end-start).total_seconds()))\n",
    "\n",
    "# cuML Model\n",
    "ols_cuml = cuLinearRegression(fit_intercept=True,normalize=True,algorithm='eig')\n",
    "\n",
    "# Fit\n",
    "start = datetime.datetime.now()\n",
    "ols_cuml.fit(X_cudf, y_cudf)\n",
    "end = datetime.datetime.now()\n",
    "print (\"train timecost: %.2gs\" % ((end-start).total_seconds()))\n",
    "\n",
    "# Predict\n",
    "start = datetime.datetime.now()\n",
    "predict_cuml = ols_cuml.predict(X_cudf_test)\n",
    "end = datetime.datetime.now()\n",
    "print (\"predict timecost: %.2gs\" % ((end-start).total_seconds()))\n",
    "\n",
    "# Evaluate\n",
    "start = datetime.datetime.now()\n",
    "r2_score_cuml = r2_score(y_cudf_test, predict_cuml)\n",
    "end = datetime.datetime.now()\n",
    "print (\"evaluate timecost: %.2gs\" % ((end-start).total_seconds()))\n",
    "\n",
    "print(\"R^2 score (cuML): %.4f\" % r2_score_cuml)"
   ]
  },
  {
   "cell_type": "markdown",
   "id": "06217436",
   "metadata": {},
   "source": [
    "## Step 4 :  Training the cuML model on GPU with Watson Machine Learning Accelerator"
   ]
  },
  {
   "cell_type": "markdown",
   "id": "f64a3590",
   "metadata": {},
   "source": [
    "<a id = \"gpu\"></a>\n",
    "### Re-define the submssion parameters"
   ]
  },
  {
   "cell_type": "code",
   "execution_count": 12,
   "id": "fa2d754e",
   "metadata": {},
   "outputs": [
    {
     "name": "stdout",
     "output_type": "stream",
     "text": [
      "--exec-start tensorflow --cs-datastore-meta type=fs                      --workerDeviceNum 1                      --workerDeviceType gpu                      --conda-env-name rapids-21.06                       --model-main /gpfs/mydatafs/models/LinearRegression_main.py\n"
     ]
    }
   ],
   "source": [
    "# specify the conda env of rapids and worker device type\n",
    "args = '--exec-start tensorflow --cs-datastore-meta type=fs \\\n",
    "                     --workerDeviceNum 1 \\\n",
    "                     --workerDeviceType gpu \\\n",
    "                     --conda-env-name rapids-21.06  \\\n",
    "                     --model-main /gpfs/mydatafs/models/' + model_main\n",
    "\n",
    "print(args)"
   ]
  },
  {
   "cell_type": "markdown",
   "id": "bcfcdfd7",
   "metadata": {},
   "source": [
    "### Submit WMLA Workload"
   ]
  },
  {
   "cell_type": "code",
   "execution_count": 13,
   "id": "de231a55",
   "metadata": {},
   "outputs": [
    {
     "name": "stdout",
     "output_type": "stream",
     "text": [
      "Refreshing every 5 seconds\n"
     ]
    },
    {
     "data": {
      "text/html": [
       "<div>\n",
       "<style scoped>\n",
       "    .dataframe tbody tr th:only-of-type {\n",
       "        vertical-align: middle;\n",
       "    }\n",
       "\n",
       "    .dataframe tbody tr th {\n",
       "        vertical-align: top;\n",
       "    }\n",
       "\n",
       "    .dataframe thead th {\n",
       "        text-align: right;\n",
       "    }\n",
       "</style>\n",
       "<table border=\"1\" class=\"dataframe\">\n",
       "  <thead>\n",
       "    <tr style=\"text-align: right;\">\n",
       "      <th></th>\n",
       "      <th>id</th>\n",
       "      <th>args</th>\n",
       "      <th>submissionId</th>\n",
       "      <th>creator</th>\n",
       "      <th>state</th>\n",
       "      <th>appId</th>\n",
       "      <th>schedulerUrl</th>\n",
       "      <th>modelFileOwnerName</th>\n",
       "      <th>workDir</th>\n",
       "      <th>appName</th>\n",
       "      <th>createTime</th>\n",
       "      <th>elastic</th>\n",
       "      <th>nameSpace</th>\n",
       "      <th>numWorker</th>\n",
       "      <th>framework</th>\n",
       "    </tr>\n",
       "  </thead>\n",
       "  <tbody>\n",
       "    <tr>\n",
       "      <th>0</th>\n",
       "      <td>wmla-330</td>\n",
       "      <td>--exec-start tensorflow --cs-datastore-meta type=fs                      --workerDeviceNum 1                      --...</td>\n",
       "      <td>wmla-330</td>\n",
       "      <td>admin</td>\n",
       "      <td>FINISHED</td>\n",
       "      <td>wmla-330</td>\n",
       "      <td>https://wmla-mss:9080</td>\n",
       "      <td>wmla</td>\n",
       "      <td>/gpfs/myresultfs/admin/batchworkdir/wmla-330/_submitted_code</td>\n",
       "      <td>SingleNodeTensorflowTrain</td>\n",
       "      <td>2021-07-13T09:11:44Z</td>\n",
       "      <td>False</td>\n",
       "      <td>wmla</td>\n",
       "      <td>1</td>\n",
       "      <td>tensorflow</td>\n",
       "    </tr>\n",
       "  </tbody>\n",
       "</table>\n",
       "</div>"
      ],
      "text/plain": [
       "         id  \\\n",
       "0  wmla-330   \n",
       "\n",
       "                                                                                                                      args  \\\n",
       "0  --exec-start tensorflow --cs-datastore-meta type=fs                      --workerDeviceNum 1                      --...   \n",
       "\n",
       "  submissionId creator     state     appId           schedulerUrl  \\\n",
       "0     wmla-330   admin  FINISHED  wmla-330  https://wmla-mss:9080   \n",
       "\n",
       "  modelFileOwnerName  \\\n",
       "0               wmla   \n",
       "\n",
       "                                                        workDir  \\\n",
       "0  /gpfs/myresultfs/admin/batchworkdir/wmla-330/_submitted_code   \n",
       "\n",
       "                     appName            createTime  elastic nameSpace  \\\n",
       "0  SingleNodeTensorflowTrain  2021-07-13T09:11:44Z    False      wmla   \n",
       "\n",
       "   numWorker   framework  \n",
       "0          1  tensorflow  "
      ]
     },
     "metadata": {},
     "output_type": "display_data"
    },
    {
     "name": "stdout",
     "output_type": "stream",
     "text": [
      "{ 'appId': 'wmla-330',\n",
      "  'appName': 'SingleNodeTensorflowTrain',\n",
      "  'args': '--exec-start tensorflow --cs-datastore-meta '\n",
      "          'type=fs                      --workerDeviceNum '\n",
      "          '1                      --workerDeviceType gpu                      '\n",
      "          '--conda-env-name rapids-21.06                       --model-main '\n",
      "          '/gpfs/mydatafs/models/LinearRegression_main.py ',\n",
      "  'createTime': '2021-07-13T09:11:44Z',\n",
      "  'creator': 'admin',\n",
      "  'elastic': False,\n",
      "  'framework': 'tensorflow',\n",
      "  'id': 'wmla-330',\n",
      "  'modelFileOwnerName': 'wmla',\n",
      "  'nameSpace': 'wmla',\n",
      "  'numWorker': 1,\n",
      "  'schedulerUrl': 'https://wmla-mss:9080',\n",
      "  'state': 'FINISHED',\n",
      "  'submissionId': 'wmla-330',\n",
      "  'workDir': '/gpfs/myresultfs/admin/batchworkdir/wmla-330/_submitted_code'}\n",
      "\n",
      "Totallly training cost:  43  seconds.\n"
     ]
    }
   ],
   "source": [
    "submit_job_to_wmla (args)"
   ]
  },
  {
   "cell_type": "markdown",
   "id": "9a52ae06",
   "metadata": {},
   "source": [
    "## Step 5 :  Setup Linear Regression model using snapML"
   ]
  },
  {
   "cell_type": "markdown",
   "id": "d1e20c67",
   "metadata": {},
   "source": [
    "<a id = \"snaml-model\"></a>\n",
    "### Create a Linear Regression Model based on snapML "
   ]
  },
  {
   "cell_type": "code",
   "execution_count": 14,
   "id": "9f6d3fe0",
   "metadata": {},
   "outputs": [],
   "source": [
    "model_main='snapML-'+model_main"
   ]
  },
  {
   "cell_type": "code",
   "execution_count": 15,
   "id": "7bc1b588",
   "metadata": {},
   "outputs": [
    {
     "name": "stdout",
     "output_type": "stream",
     "text": [
      "Overwriting /data/models/snapML-LinearRegression_main.py\n"
     ]
    }
   ],
   "source": [
    "%%writefile {model_dir}/{model_main}\n",
    "\n",
    "from snapml import LinearRegression as SnapLinearRegression\n",
    "from sklearn.datasets import make_regression\n",
    "from sklearn.model_selection import train_test_split\n",
    "from sklearn.metrics import r2_score\n",
    "import datetime\n",
    "# import numpy as np\n",
    "\n",
    "# Define Parameters for a large regression\n",
    "n_samples = 2**20 #If you are running on a GPU with less than 16GB RAM, please change to 2**19 or you could run out of memory\n",
    "n_features = 399\n",
    "random_state = 23\n",
    "\n",
    "# Generate Data\n",
    "start = datetime.datetime.now()\n",
    "X, y = make_regression(n_samples=n_samples, n_features=n_features, random_state=random_state)\n",
    "X_train, X_test, y_train, y_test = train_test_split(X, y, test_size = 0.2, random_state=random_state)\n",
    "end = datetime.datetime.now()\n",
    "print (\"generate data timecost: %.2gs\" % ((end-start).total_seconds()))\n",
    "\n",
    "# snapML model\n",
    "model = SnapLinearRegression(fit_intercept=True,normalize=True)\n",
    "\n",
    "# Fit\n",
    "start = datetime.datetime.now()\n",
    "model.fit(X_train, y_train)\n",
    "end = datetime.datetime.now()\n",
    "print (\"train timecost: %.2gs\" % ((end-start).total_seconds()))\n",
    "\n",
    "r2_score_snapml = r2_score(y_test, model.predict(X_test))\n",
    "print(\"R^2 score (snapML): %.4f\" % r2_score_snapml)"
   ]
  },
  {
   "cell_type": "markdown",
   "id": "b79399a4",
   "metadata": {},
   "source": [
    "## Step 6 :  Training the SnapML model on CPU with Watson Machine Learning Accelerator"
   ]
  },
  {
   "cell_type": "markdown",
   "id": "1664281a",
   "metadata": {},
   "source": [
    "<a id = \"snapml\"></a>\n",
    "### Re-define the submission parameters"
   ]
  },
  {
   "cell_type": "code",
   "execution_count": 16,
   "id": "471a833d",
   "metadata": {},
   "outputs": [
    {
     "name": "stdout",
     "output_type": "stream",
     "text": [
      "--exec-start tensorflow --cs-datastore-meta type=fs                      --workerDeviceNum 1                      --workerDeviceType cpu                      --conda-env-name snapml-py3.7                      --model-main /gpfs/mydatafs/models/snapML-LinearRegression_main.py\n"
     ]
    }
   ],
   "source": [
    "# specify the conda env of rapids and worker device type\n",
    "args = '--exec-start tensorflow --cs-datastore-meta type=fs \\\n",
    "                     --workerDeviceNum 1 \\\n",
    "                     --workerDeviceType cpu \\\n",
    "                     --conda-env-name snapml-py3.7 \\\n",
    "                     --model-main /gpfs/mydatafs/models/' + model_main\n",
    "print(args)"
   ]
  },
  {
   "cell_type": "markdown",
   "id": "fbcb404d",
   "metadata": {},
   "source": [
    "### Submit WMLA Workload"
   ]
  },
  {
   "cell_type": "code",
   "execution_count": 17,
   "id": "841b5cc1",
   "metadata": {},
   "outputs": [
    {
     "name": "stdout",
     "output_type": "stream",
     "text": [
      "Refreshing every 5 seconds\n"
     ]
    },
    {
     "data": {
      "text/html": [
       "<div>\n",
       "<style scoped>\n",
       "    .dataframe tbody tr th:only-of-type {\n",
       "        vertical-align: middle;\n",
       "    }\n",
       "\n",
       "    .dataframe tbody tr th {\n",
       "        vertical-align: top;\n",
       "    }\n",
       "\n",
       "    .dataframe thead th {\n",
       "        text-align: right;\n",
       "    }\n",
       "</style>\n",
       "<table border=\"1\" class=\"dataframe\">\n",
       "  <thead>\n",
       "    <tr style=\"text-align: right;\">\n",
       "      <th></th>\n",
       "      <th>id</th>\n",
       "      <th>args</th>\n",
       "      <th>submissionId</th>\n",
       "      <th>creator</th>\n",
       "      <th>state</th>\n",
       "      <th>appId</th>\n",
       "      <th>schedulerUrl</th>\n",
       "      <th>modelFileOwnerName</th>\n",
       "      <th>workDir</th>\n",
       "      <th>appName</th>\n",
       "      <th>createTime</th>\n",
       "      <th>elastic</th>\n",
       "      <th>nameSpace</th>\n",
       "      <th>numWorker</th>\n",
       "      <th>framework</th>\n",
       "    </tr>\n",
       "  </thead>\n",
       "  <tbody>\n",
       "    <tr>\n",
       "      <th>0</th>\n",
       "      <td>wmla-331</td>\n",
       "      <td>--exec-start tensorflow --cs-datastore-meta type=fs                      --workerDeviceNum 1                      --...</td>\n",
       "      <td>wmla-331</td>\n",
       "      <td>admin</td>\n",
       "      <td>FINISHED</td>\n",
       "      <td>wmla-331</td>\n",
       "      <td>https://wmla-mss:9080</td>\n",
       "      <td>wmla</td>\n",
       "      <td>/gpfs/myresultfs/admin/batchworkdir/wmla-331/_submitted_code</td>\n",
       "      <td>SingleNodeTensorflowTrain</td>\n",
       "      <td>2021-07-13T09:12:28Z</td>\n",
       "      <td>False</td>\n",
       "      <td>wmla</td>\n",
       "      <td>1</td>\n",
       "      <td>tensorflow</td>\n",
       "    </tr>\n",
       "  </tbody>\n",
       "</table>\n",
       "</div>"
      ],
      "text/plain": [
       "         id  \\\n",
       "0  wmla-331   \n",
       "\n",
       "                                                                                                                      args  \\\n",
       "0  --exec-start tensorflow --cs-datastore-meta type=fs                      --workerDeviceNum 1                      --...   \n",
       "\n",
       "  submissionId creator     state     appId           schedulerUrl  \\\n",
       "0     wmla-331   admin  FINISHED  wmla-331  https://wmla-mss:9080   \n",
       "\n",
       "  modelFileOwnerName  \\\n",
       "0               wmla   \n",
       "\n",
       "                                                        workDir  \\\n",
       "0  /gpfs/myresultfs/admin/batchworkdir/wmla-331/_submitted_code   \n",
       "\n",
       "                     appName            createTime  elastic nameSpace  \\\n",
       "0  SingleNodeTensorflowTrain  2021-07-13T09:12:28Z    False      wmla   \n",
       "\n",
       "   numWorker   framework  \n",
       "0          1  tensorflow  "
      ]
     },
     "metadata": {},
     "output_type": "display_data"
    },
    {
     "name": "stdout",
     "output_type": "stream",
     "text": [
      "{ 'appId': 'wmla-331',\n",
      "  'appName': 'SingleNodeTensorflowTrain',\n",
      "  'args': '--exec-start tensorflow --cs-datastore-meta '\n",
      "          'type=fs                      --workerDeviceNum '\n",
      "          '1                      --workerDeviceType cpu                      '\n",
      "          '--conda-env-name snapml-py3.7                      --model-main '\n",
      "          '/gpfs/mydatafs/models/snapML-LinearRegression_main.py ',\n",
      "  'createTime': '2021-07-13T09:12:28Z',\n",
      "  'creator': 'admin',\n",
      "  'elastic': False,\n",
      "  'framework': 'tensorflow',\n",
      "  'id': 'wmla-331',\n",
      "  'modelFileOwnerName': 'wmla',\n",
      "  'nameSpace': 'wmla',\n",
      "  'numWorker': 1,\n",
      "  'schedulerUrl': 'https://wmla-mss:9080',\n",
      "  'state': 'FINISHED',\n",
      "  'submissionId': 'wmla-331',\n",
      "  'workDir': '/gpfs/myresultfs/admin/batchworkdir/wmla-331/_submitted_code'}\n",
      "\n",
      "Totallly training cost:  111  seconds.\n"
     ]
    }
   ],
   "source": [
    "submit_job_to_wmla (args)"
   ]
  },
  {
   "cell_type": "code",
   "execution_count": null,
   "id": "0b35768f",
   "metadata": {},
   "outputs": [],
   "source": []
  }
 ],
 "metadata": {
  "kernelspec": {
   "display_name": "Python3 Single GPU Kernel",
   "language": "python",
   "name": "python_single_gpu"
  },
  "language_info": {
   "codemirror_mode": {
    "name": "ipython",
    "version": 3
   },
   "file_extension": ".py",
   "mimetype": "text/x-python",
   "name": "python",
   "nbconvert_exporter": "python",
   "pygments_lexer": "ipython3",
   "version": "3.7.10"
  }
 },
 "nbformat": 4,
 "nbformat_minor": 5
}
