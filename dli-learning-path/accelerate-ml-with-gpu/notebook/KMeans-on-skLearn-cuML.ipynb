{
    "cells": [
        {
            "metadata": {
                "id": "97f199a4-c41c-4e06-bce4-8d58de32f262"
            }, 
            "cell_type": "markdown", 
            "source": "# Train a K-Means Model with Watson Machine Learning 

Notebook created by Zeming Zhao on June, 2021

In this notebook, you will learn how to use the Watson Machine Learning Accelerator (WML-A) API and accelerate the processing of K-Means model on GPU with Watson Machine Learning Accelerator.

K-Means is a basic but powerful clustering method which is optimized via Expectation Maximization. It randomly selects K data points in X, and computes which samples are close to these points. For every cluster of points, a mean is computed, and this becomes the new centroid.

In this notebook we have two versions of K-Means model. one uses scikit-learn and another uses cuML.

Both will be submitted onto WMLA, scikit-learn using cpu and cmML using GPU. And we can compare the performance benifit of cuML on GPU version.

This notebook covers the following sections:

1. [Setup K-Means using sklearning](#skl-model)<br>

1. [Training the model on CPU with Watson Machine Learning Accelerator](#skl-cpu)<br>

1. [Setup K-Means using cuML](#cuml-model)<br>

1. [Training the model on GPU with Watson Machine Learning Accelerator](#cuml-gpu)<br>"
        }, 
        {
            "metadata": {
                "id": "ef769076-2df0-4b56-beca-ca4f69948869"
            }, 
            "cell_type": "markdown", 
            "source": "## Preparations
### Prepare directory and file for writing K-Means engine."
        }, 
        {
            "metadata": {
                "id": "5d4e66e2-6aec-4e91-b2ab-4ae5ccab7c25"
            }, 
            "cell_type": "code", 
            "source": "from pathlib import Path
model_dir = f'/project_data/data_asset/models' 
model_base_name = f'K-Means-main.py'
Path(model_dir).mkdir(exist_ok=True)
print(\"create model directory done.\")", 
            "execution_count": 31, 
            "outputs": [
                {
                    "output_type": "stream", 
                    "text": "create model directory done.
", 
                    "name": "stdout"
                }
            ]
        }, 
        {
            "metadata": {
                "id": "406c763f-a8a9-45a8-b84a-9540f57c69f9"
            }, 
            "cell_type": "markdown", 
            "source": "<a id = \"skl-model\"></a>
## Step 1 : Setup K-Means model using scikit-learn
### Create a K-Means Model based on scikit-learn on CPU"
        }, 
        {
            "metadata": {
                "id": "764e2d57-1850-4487-9dc8-85eb759995b6"
            }, 
            "cell_type": "code", 
            "source": "model_main='sklean-'+model_base_name", 
            "execution_count": 32, 
            "outputs": [ ]
        }, 
        {
            "metadata": {
                "id": "b6372acf-337f-41d2-9b27-de306bf590f8"
            }, 
            "cell_type": "code", 
            "source": "%%writefile {model_dir}/{model_main}

# import matplotlib.pyplot as plt
from sklearn.datasets import make_blobs
from sklearn.cluster import KMeans as skKMeans
from sklearn.metrics import adjusted_rand_score
import os
import datetime

# Define Parameters for a large regression
n_samples = 1000000
n_features = 200
n_clusters = 10
random_state = 23

# Generate Data
start = datetime.datetime.now()
host_data, host_labels = make_blobs(n_samples=n_samples,
                                        n_features=n_features,
                                        centers=n_clusters,
                                        random_state=random_state,
                                        cluster_std=0.1)
end = datetime.datetime.now()
print (\"generate data timecost: %.2gs\" % ((end-start).total_seconds()))

# sklearn kmean model
kmeans_sk = skKMeans(init=\"k-means++\",
                     n_clusters=n_clusters,
                     n_jobs=-1,
                    random_state=random_state)

# Fit
start = datetime.datetime.now()
kmeans_sk.fit(host_data)
end = datetime.datetime.now()
print (\"train timecost: %.2gs\" % ((end-start).total_seconds()))

# # Visualize 
# fig = plt.figure(figsize=(16, 10))
# plt.scatter(host_data[:, 0], host_data[:, 1], c=host_labels, s=50, cmap='viridis')

# #plot the sklearn kmeans centers with blue filled circles
# centers_sk = kmeans_sk.cluster_centers_
# plt.scatter(centers_sk[:,0], centers_sk[:,1], c='blue', s=100, alpha=.5)
# plt.title('sklearn kmeans clustering')
# plot_file = \"./kmeans_cpu.png\"
# plt.savefig(plot_file)

# Evaluate
start = datetime.datetime.now()
sk_score = adjusted_rand_score(host_labels, kmeans_sk.labels_)
end = datetime.datetime.now()
print (\"evaluate timecost: %.2gs\" % ((end-start).total_seconds()))

print(\"score (sklearning): %s\" % sk_score)", 
            "execution_count": 33, 
            "outputs": [
                {
                    "output_type": "stream", 
                    "text": "Overwriting /project_data/data_asset/models/sklean-K-Means-main.py
", 
                    "name": "stdout"
                }
            ]
        }, 
        {
            "metadata": {
                "id": "c32f7d1a-6486-41c7-adc6-cdbf8a7de296"
            }, 
            "cell_type": "markdown", 
            "source": "<a id = \"skl-cpu\"></a>
## Step 2 :  Training the SK-Learning model on CPU with Watson Machine Learning Accelerator
### Prepare the model lib for job submission"
        }, 
        {
            "metadata": {
                "id": "c655f50a-4887-4cf1-b34b-5bc6a563746c"
            }, 
            "cell_type": "code", 
            "source": "import requests
from requests.packages.urllib3.exceptions import InsecureRequestWarning
requests.packages.urllib3.disable_warnings(InsecureRequestWarning)

from matplotlib import pyplot as plt
%pylab inline

import base64
import json
import time
import urllib", 
            "execution_count": 34, 
            "outputs": [
                {
                    "output_type": "stream", 
                    "text": "Populating the interactive namespace from numpy and matplotlib
", 
                    "name": "stdout"
                }
            ]
        }, 
        {
            "metadata": {
                "id": "3a716ae5-88f9-4bf9-a017-ac7a5dab3c7e"
            }, 
            "cell_type": "markdown", 
            "source": "### Configuring your environment and project details
To set up your project details, provide your credentials in this cell. You must include your cluster URL, username, and password."
        }, 
        {
            "metadata": {
                "id": "8a36a2ea-b61e-4090-8e2a-7624688a6fb8"
            }, 
            "cell_type": "code", 
            "source": "# please enter Watson Machine Learning Accelerator host name
hostname='wmla-console-wmla.apps.dse-perf.cpolab.ibm.com'
# login='username:password' # please enter the login and password
login='mluser1:mluser1'

es = base64.b64encode(login.encode('utf-8')).decode(\"utf-8\")
# print(es)
commonHeaders={'Authorization': 'Basic '+es}
req = requests.Session()
auth_url = 'https://{}/auth/v1/logon'.format(hostname)
print(auth_url)

a=requests.get(auth_url,headers=commonHeaders, verify=False)
access_token=a.json()['accessToken']
# print(\"Access_token: \", access_token)

dl_rest_url = 'https://{}/platform/rest/deeplearning/v1'.format(hostname)
commonHeaders={'accept': 'application/json', 'X-Auth-Token': access_token}
req = requests.Session()

# Health check
confUrl = 'https://{}/platform/rest/deeplearning/v1/conf'.format(hostname)
r = req.get(confUrl, headers=commonHeaders, verify=False)", 
            "execution_count": 35, 
            "outputs": [
                {
                    "output_type": "stream", 
                    "text": "https://wmla-console-wmla.apps.dse-perf.cpolab.ibm.com/auth/v1/logon
", 
                    "name": "stdout"
                }
            ]
        }, 
        {
            "metadata": {
                "id": "b167e721-9853-409c-bbb7-d7b6f94f88c6"
            }, 
            "cell_type": "markdown", 
            "source": "### Define the status checking function"
        }, 
        {
            "metadata": {
                "id": "8d5aca04-9228-4a5b-80af-5ab2ee985363"
            }, 
            "cell_type": "code", 
            "source": "import tarfile
import tempfile
import os
import json
import pprint
import pandas as pd
from IPython.display import clear_output

def query_job_status(job_id,refresh_rate=3) :

    execURL = dl_rest_url  +'/execs/'+ job_id['id']
    pp = pprint.PrettyPrinter(indent=2)

    keep_running=True
    res=None
    while(keep_running):
        res = req.get(execURL, headers=commonHeaders, verify=False)
        monitoring = pd.DataFrame(res.json(), index=[0])
        pd.set_option('max_colwidth', 120)
        clear_output()
        print(\"Refreshing every {} seconds\".format(refresh_rate))
        display(monitoring)
        pp.pprint(res.json())
        if(res.json()['state'] not in ['PENDING_CRD_SCHEDULER', 'SUBMITTED','RUNNING']) :
            keep_running=False
        time.sleep(refresh_rate)
    return res", 
            "execution_count": 36, 
            "outputs": [ ]
        }, 
        {
            "metadata": {
                "id": "5b2d2488-1fcb-401c-b963-accada2559ca"
            }, 
            "cell_type": "markdown", 
            "source": "### Define the submission function"
        }, 
        {
            "metadata": {
                "id": "c7cc2b47-70b4-4043-8595-727752f02a57"
            }, 
            "cell_type": "code", 
            "source": "def submit_job_to_wmla (args, files) :
    starttime = datetime.datetime.now()
    r = requests.post(dl_rest_url+'/execs?args='+args, files=files,
                  headers=commonHeaders, verify=False)
    if not r.ok:
        print('submit job failed: code=%s, %s'%(r.status_code, r.content))
    job_status = query_job_status(r.json(),refresh_rate=5)
    endtime = datetime.datetime.now()
    print(\"\\nTotallly training cost: \", (endtime - starttime).seconds, \" seconds.\")", 
            "execution_count": 37, 
            "outputs": [ ]
        }, 
        {
            "metadata": {
                "id": "6965caae-9b8f-46c4-ab3c-0f7cbb767842"
            }, 
            "cell_type": "markdown", 
            "source": "### Define the submission parameters for scikit-learn version on cpu"
        }, 
        {
            "metadata": {
                "id": "9e62664b-4a65-4982-9470-6746696ff37b"
            }, 
            "cell_type": "code", 
            "source": "# specify the model file, conda env, device type and device number
args = '--exec-start tensorflow --cs-datastore-meta type=fs \\
--workerDeviceNum 1 \\
--workerMemory 32G \\
--workerDeviceType cpu \\
--conda-env-name rapids-21.06-new  \\
--model-main ' + model_main
print(args)", 
            "execution_count": 38, 
            "outputs": [
                {
                    "output_type": "stream", 
                    "text": "--exec-start tensorflow --cs-datastore-meta type=fs --workerDeviceNum 1 --workerMemory 32G --workerDeviceType cpu --conda-env-name rapids-21.06-new  --model-main sklean-K-Means-main.py
", 
                    "name": "stdout"
                }
            ]
        }, 
        {
            "metadata": {
                "id": "1738602e-21c1-4af4-9360-7ab8c3fe0951"
            }, 
            "cell_type": "markdown", 
            "source": "### Submit WMLA Workload"
        }, 
        {
            "metadata": {
                "id": "e1535e22-acbb-410a-9fb5-86ad1b18d8e4"
            }, 
            "cell_type": "code", 
            "source": "files = {'file': open(\"{0}/{1}\".format(model_dir,model_main),'rb')}
submit_job_to_wmla (args, files)", 
            "execution_count": 39, 
            "outputs": [
                {
                    "output_type": "stream", 
                    "text": "Refreshing every 5 seconds
", 
                    "name": "stdout"
                }, 
                {
                    "output_type": "display_data", 
                    "data": {
                        "text/plain": "         id  \\
0  wmla-954   

                                                                                                                      args  \\
0  --exec-start tensorflow --cs-datastore-meta type=fs --workerDeviceNum 1 --workerMemory 32G --workerDeviceType cpu --...   

  submissionId  creator     state     appId           schedulerUrl  \\
0     wmla-954  mluser1  FINISHED  wmla-954  https://wmla-mss:9080   

  modelFileOwnerName  \\
0               wmla   

                                                          workDir  \\
0  /gpfs/myresultfs/mluser1/batchworkdir/wmla-954/_submitted_code   

                     appName            createTime  elastic nameSpace  \\
0  SingleNodeTensorflowTrain  2021-07-29T05:09:02Z    False      wmla   

   numWorker   framework  
0          1  tensorflow  ", 
                        "text/html": "<div>
<style scoped>
    .dataframe tbody tr th:only-of-type {
        vertical-align: middle;
    }

    .dataframe tbody tr th {
        vertical-align: top;
    }

    .dataframe thead th {
        text-align: right;
    }
</style>
<table border=\"1\" class=\"dataframe\">
  <thead>
    <tr style=\"text-align: right;\">
      <th></th>
      <th>id</th>
      <th>args</th>
      <th>submissionId</th>
      <th>creator</th>
      <th>state</th>
      <th>appId</th>
      <th>schedulerUrl</th>
      <th>modelFileOwnerName</th>
      <th>workDir</th>
      <th>appName</th>
      <th>createTime</th>
      <th>elastic</th>
      <th>nameSpace</th>
      <th>numWorker</th>
      <th>framework</th>
    </tr>
  </thead>
  <tbody>
    <tr>
      <th>0</th>
      <td>wmla-954</td>
      <td>--exec-start tensorflow --cs-datastore-meta type=fs --workerDeviceNum 1 --workerMemory 32G --workerDeviceType cpu --...</td>
      <td>wmla-954</td>
      <td>mluser1</td>
      <td>FINISHED</td>
      <td>wmla-954</td>
      <td>https://wmla-mss:9080</td>
      <td>wmla</td>
      <td>/gpfs/myresultfs/mluser1/batchworkdir/wmla-954/_submitted_code</td>
      <td>SingleNodeTensorflowTrain</td>
      <td>2021-07-29T05:09:02Z</td>
      <td>False</td>
      <td>wmla</td>
      <td>1</td>
      <td>tensorflow</td>
    </tr>
  </tbody>
</table>
</div>"
                    }, 
                    "metadata": { }
                }, 
                {
                    "output_type": "stream", 
                    "text": "{ 'appId': 'wmla-954',
  'appName': 'SingleNodeTensorflowTrain',
  'args': '--exec-start tensorflow --cs-datastore-meta type=fs '
          '--workerDeviceNum 1 --workerMemory 32G --workerDeviceType cpu '
          '--conda-env-name rapids-21.06-new  --model-main '
          'sklean-K-Means-main.py ',
  'createTime': '2021-07-29T05:09:02Z',
  'creator': 'mluser1',
  'elastic': False,
  'framework': 'tensorflow',
  'id': 'wmla-954',
  'modelFileOwnerName': 'wmla',
  'nameSpace': 'wmla',
  'numWorker': 1,
  'schedulerUrl': 'https://wmla-mss:9080',
  'state': 'FINISHED',
  'submissionId': 'wmla-954',
  'workDir': '/gpfs/myresultfs/mluser1/batchworkdir/wmla-954/_submitted_code'}

Totallly training cost:  257  seconds.
", 
                    "name": "stdout"
                }
            ]
        }, 
        {
            "metadata": {
                "id": "097a5325-b605-4c66-9ea0-bb9cc7a7bc5d"
            }, 
            "cell_type": "markdown", 
            "source": "<a id = \"cuml-model\"></a>
## Step 3 :  Setup K-Means model using cmML
### Create a K-Means Model based on cuML on GPU"
        }, 
        {
            "metadata": {
                "id": "0e1e99b3-66e2-4041-9b6d-e9dc93025539"
            }, 
            "cell_type": "code", 
            "source": "model_main='cuml-'+model_base_name", 
            "execution_count": 40, 
            "outputs": [ ]
        }, 
        {
            "metadata": {
                "id": "c38375c8-b326-4963-aeaa-ae81503bd85a"
            }, 
            "cell_type": "code", 
            "source": "%%writefile {model_dir}/{model_main}

import cudf
import cupy
# import matplotlib.pyplot as plt
from cuml.cluster import KMeans as cuKMeans
from cuml.datasets import make_blobs
from sklearn.cluster import KMeans as skKMeans
from sklearn.metrics import adjusted_rand_score
import os
import datetime

# specify the cache location to /gpfy since ~/.cache is not available
os.environ[\"CUPY_CACHE_DIR\"]=\"/gpfs/mydatafs/models/cache/km\"

# Define Parameters for a large regression
n_samples = 1000000
n_features = 200
n_clusters = 10
random_state = 23

# Generate Data
start = datetime.datetime.now()
device_data, device_labels = make_blobs(n_samples=n_samples,
                                        n_features=n_features,
                                        centers=n_clusters,
                                        random_state=random_state,
                                        cluster_std=0.1)

device_data = cudf.DataFrame(device_data)
device_labels = cudf.Series(device_labels)

#  # Copy dataset from GPU memory to host memory.
host_data = device_data.to_pandas()
host_labels = device_labels.to_pandas()

end = datetime.datetime.now()
print (\"generate and copy data timecost: %.2gs\" % ((end-start).total_seconds()))

# cuML Model
kmeans_cuml = cuKMeans(init=\"k-means||\",
                       n_clusters=n_clusters,
                       oversampling_factor=40,
                       random_state=random_state)

# Fit
start = datetime.datetime.now()
kmeans_cuml.fit(device_data)
end = datetime.datetime.now()
print (\"train timecost: %.2gs\" % ((end-start).total_seconds()))

# # Visualize 
# fig = plt.figure(figsize=(16, 10))
# plt.scatter(host_data.iloc[:, 0], host_data.iloc[:, 1], c=host_labels, s=50, cmap='viridis')
# 
# #plot the cuml kmeans centers with red circle outlines
# centers_cuml = kmeans_cuml.cluster_centers_
# plt.scatter(cupy.asnumpy(centers_cuml[0].values), 
#             cupy.asnumpy(centers_cuml[1].values), 
#             facecolors = 'none', edgecolors='red', s=100)
# 
# plt.title('cuml and sklearn kmeans clustering')

# # plt.show()
# plot_file = \"./kmeans_gpu.png\"
# plt.savefig(plot_file)

# Evaluate
start = datetime.datetime.now()
cuml_score = adjusted_rand_score(host_labels, kmeans_cuml.labels_.to_array())
end = datetime.datetime.now()
print (\"evaluate timecost: %.2gs\" % ((end-start).total_seconds()))

print(\"score (cuML): %s\" % cuml_score)", 
            "execution_count": 41, 
            "outputs": [
                {
                    "output_type": "stream", 
                    "text": "Overwriting /project_data/data_asset/models/cuml-K-Means-main.py
", 
                    "name": "stdout"
                }
            ]
        }, 
        {
            "metadata": {
                "id": "0ccb4d59-a64a-4ead-b196-ac071885c7ee"
            }, 
            "cell_type": "markdown", 
            "source": "<a id = \"cuml-gpu\"></a>
## Step 4 :  Training the cuML model on GPU with Watson Machine Learning Accelerator
### Re-define the submssion parameters"
        }, 
        {
            "metadata": {
                "id": "e0b1039e-d1d9-41a7-b93b-a809ea4f0de5"
            }, 
            "cell_type": "code", 
            "source": "# specify the model file, conda env, device type and device number
args = '--exec-start tensorflow --cs-datastore-meta type=fs \\
--workerDeviceNum 1 \\
--workerMemory 32G \\
--workerDeviceType gpu \\
--conda-env-name rapids-21.06-new  \\
--model-main ' + model_main

print(args)", 
            "execution_count": 42, 
            "outputs": [
                {
                    "output_type": "stream", 
                    "text": "--exec-start tensorflow --cs-datastore-meta type=fs --workerDeviceNum 1 --workerMemory 32G --workerDeviceType gpu --conda-env-name rapids-21.06-new  --model-main cuml-K-Means-main.py
", 
                    "name": "stdout"
                }
            ]
        }, 
        {
            "metadata": {
                "id": "9d771736-fdcf-4898-b0b1-7e74a9f60dd0"
            }, 
            "cell_type": "markdown", 
            "source": "### Submit WMLA Workload"
        }, 
        {
            "metadata": {
                "id": "2b984db1-2654-4cc2-aec2-afcac8dc6ada"
            }, 
            "cell_type": "code", 
            "source": "files = {'file': open(\"{0}/{1}\".format(model_dir,model_main),'rb')}
submit_job_to_wmla (args, files)", 
            "execution_count": 43, 
            "outputs": [
                {
                    "output_type": "stream", 
                    "text": "Refreshing every 5 seconds
", 
                    "name": "stdout"
                }, 
                {
                    "output_type": "display_data", 
                    "data": {
                        "text/plain": "         id  \\
0  wmla-955   

                                                                                                                      args  \\
0  --exec-start tensorflow --cs-datastore-meta type=fs --workerDeviceNum 1 --workerMemory 32G --workerDeviceType gpu --...   

  submissionId  creator     state     appId           schedulerUrl  \\
0     wmla-955  mluser1  FINISHED  wmla-955  https://wmla-mss:9080   

  modelFileOwnerName  \\
0               wmla   

                                                          workDir  \\
0  /gpfs/myresultfs/mluser1/batchworkdir/wmla-955/_submitted_code   

                     appName            createTime  elastic nameSpace  \\
0  SingleNodeTensorflowTrain  2021-07-29T05:13:21Z    False      wmla   

   numWorker   framework  
0          1  tensorflow  ", 
                        "text/html": "<div>
<style scoped>
    .dataframe tbody tr th:only-of-type {
        vertical-align: middle;
    }

    .dataframe tbody tr th {
        vertical-align: top;
    }

    .dataframe thead th {
        text-align: right;
    }
</style>
<table border=\"1\" class=\"dataframe\">
  <thead>
    <tr style=\"text-align: right;\">
      <th></th>
      <th>id</th>
      <th>args</th>
      <th>submissionId</th>
      <th>creator</th>
      <th>state</th>
      <th>appId</th>
      <th>schedulerUrl</th>
      <th>modelFileOwnerName</th>
      <th>workDir</th>
      <th>appName</th>
      <th>createTime</th>
      <th>elastic</th>
      <th>nameSpace</th>
      <th>numWorker</th>
      <th>framework</th>
    </tr>
  </thead>
  <tbody>
    <tr>
      <th>0</th>
      <td>wmla-955</td>
      <td>--exec-start tensorflow --cs-datastore-meta type=fs --workerDeviceNum 1 --workerMemory 32G --workerDeviceType gpu --...</td>
      <td>wmla-955</td>
      <td>mluser1</td>
      <td>FINISHED</td>
      <td>wmla-955</td>
      <td>https://wmla-mss:9080</td>
      <td>wmla</td>
      <td>/gpfs/myresultfs/mluser1/batchworkdir/wmla-955/_submitted_code</td>
      <td>SingleNodeTensorflowTrain</td>
      <td>2021-07-29T05:13:21Z</td>
      <td>False</td>
      <td>wmla</td>
      <td>1</td>
      <td>tensorflow</td>
    </tr>
  </tbody>
</table>
</div>"
                    }, 
                    "metadata": { }
                }, 
                {
                    "output_type": "stream", 
                    "text": "{ 'appId': 'wmla-955',
  'appName': 'SingleNodeTensorflowTrain',
  'args': '--exec-start tensorflow --cs-datastore-meta type=fs '
          '--workerDeviceNum 1 --workerMemory 32G --workerDeviceType gpu '
          '--conda-env-name rapids-21.06-new  --model-main '
          'cuml-K-Means-main.py ',
  'createTime': '2021-07-29T05:13:21Z',
  'creator': 'mluser1',
  'elastic': False,
  'framework': 'tensorflow',
  'id': 'wmla-955',
  'modelFileOwnerName': 'wmla',
  'nameSpace': 'wmla',
  'numWorker': 1,
  'schedulerUrl': 'https://wmla-mss:9080',
  'state': 'FINISHED',
  'submissionId': 'wmla-955',
  'workDir': '/gpfs/myresultfs/mluser1/batchworkdir/wmla-955/_submitted_code'}

Totallly training cost:  56  seconds.
", 
                    "name": "stdout"
                }
            ]
        }, 
        {
            "metadata": {
                "id": "b89c21c201c246478e43341cb0b873ce"
            }, 
            "cell_type": "code", 
            "source": "", 
            "execution_count": null, 
            "outputs": [ ]
        }
    ], 
    "metadata": {
        "kernelspec": {
            "name": "python3", 
            "display_name": "Python 3.7", 
            "language": "python"
        }, 
        "language_info": {
            "name": "python", 
            "version": "3.7.10", 
            "mimetype": "text/x-python", 
            "codemirror_mode": {
                "name": "ipython", 
                "version": 3
            }, 
            "pygments_lexer": "ipython3", 
            "nbconvert_exporter": "python", 
            "file_extension": ".py"
        }
    }, 
    "nbformat": 4, 
    "nbformat_minor": 5
}