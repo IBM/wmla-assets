{
 "cells": [
  {
   "cell_type": "markdown",
   "id": "b72f4b49",
   "metadata": {},
   "source": [
    "# Train a K-Means Model with Watson Machine Learning \n",
    "\n",
    "Notebook created by Zeming Zhao on June, 2021\n",
    "\n",
    "In this notebook, you will learn how to use the Watson Machine Learning Accelerator (WML-A) API and accelerate the processing of K-Means model on GPU with Watson Machine Learning Accelerator.\n",
    "\n",
    "K-Means is a basic but powerful clustering method which is optimized via Expectation Maximization. It randomly selects K data points in X, and computes which samples are close to these points. For every cluster of points, a mean is computed, and this becomes the new centroid.\n",
    "\n",
    "In this notebook we have two versions of K-Means model. one uses scikit-learn and another uses cuML.\n",
    "\n",
    "Both will be submitted onto WMLA, scikit-learn using cpu and cmML using GPU. And we can compare the performance benifit of cuML on GPU version.\n",
    "\n",
    "This notebook covers the following sections:\n",
    "\n",
    "1. [Setup K-Means using sklearning](#skl-model)<br>\n",
    "\n",
    "1. [Training the model on CPU with Watson Machine Learning Accelerator](#skl-cpu)<br>\n",
    "\n",
    "1. [Setup K-Means using cuML](#cuml-model)<br>\n",
    "\n",
    "1. [Training the model on GPU with Watson Machine Learning Accelerator](#cuml-gpu)<br>"
   ]
  },
  {
   "cell_type": "markdown",
   "id": "c2c46573",
   "metadata": {},
   "source": [
    "## Preparations\n",
    "### Prepare directory and file for writing K-Means engine."
   ]
  },
  {
   "cell_type": "code",
   "execution_count": 16,
   "id": "6ea53b8c",
   "metadata": {},
   "outputs": [
    {
     "name": "stdout",
     "output_type": "stream",
     "text": [
      "create model directory done.\n"
     ]
    }
   ],
   "source": [
    "from pathlib import Path\n",
    "model_dir = f'/data/models' \n",
    "model_base_name = f'K-Means-main.py'\n",
    "Path(model_dir).mkdir(exist_ok=True)\n",
    "print(\"create model directory done.\")"
   ]
  },
  {
   "cell_type": "markdown",
   "id": "b684b648",
   "metadata": {},
   "source": [
    "<a id = \"skl-model\"></a>\n",
    "## Step 1 : Setup K-Means model using scikit-learn\n",
    "### Create a K-Means Model based on scikit-learn on CPU"
   ]
  },
  {
   "cell_type": "code",
   "execution_count": 17,
   "id": "976e2278",
   "metadata": {},
   "outputs": [],
   "source": [
    "model_main='sklean-'+model_base_name"
   ]
  },
  {
   "cell_type": "code",
   "execution_count": 18,
   "id": "ef11672f",
   "metadata": {},
   "outputs": [
    {
     "name": "stdout",
     "output_type": "stream",
     "text": [
      "Writing /data/models/sklean-K-Means-main.py\n"
     ]
    }
   ],
   "source": [
    "%%writefile {model_dir}/{model_main}\n",
    "\n",
    "import matplotlib.pyplot as plt\n",
    "from sklearn.datasets import make_blobs\n",
    "from sklearn.cluster import KMeans as skKMeans\n",
    "from sklearn.metrics import adjusted_rand_score\n",
    "import os\n",
    "import datetime\n",
    "\n",
    "# Define Parameters for a large regression\n",
    "n_samples = 1000000\n",
    "n_features = 200\n",
    "n_clusters = 10\n",
    "random_state = 23\n",
    "\n",
    "# Generate Data\n",
    "host_data, host_labels = make_blobs(n_samples=n_samples,\n",
    "                                        n_features=n_features,\n",
    "                                        centers=n_clusters,\n",
    "                                        random_state=random_state,\n",
    "                                        cluster_std=0.1)\n",
    "\n",
    "kmeans_sk = skKMeans(init=\"k-means++\",\n",
    "                     n_clusters=n_clusters,\n",
    "                     n_jobs=-1,\n",
    "                    random_state=random_state)\n",
    "\n",
    "kmeans_sk.fit(host_data)\n",
    "\n",
    "# Fit\n",
    "start = datetime.datetime.now()\n",
    "kmeans_sk.fit(host_data)\n",
    "end = datetime.datetime.now()\n",
    "print (\"train timecost: %.2gs\" % ((end-start).total_seconds()))\n",
    "\n",
    "# Visualize \n",
    "fig = plt.figure(figsize=(16, 10))\n",
    "plt.scatter(host_data[:, 0], host_data[:, 1], c=host_labels, s=50, cmap='viridis')\n",
    "\n",
    "#plot the sklearn kmeans centers with blue filled circles\n",
    "centers_sk = kmeans_sk.cluster_centers_\n",
    "plt.scatter(centers_sk[:,0], centers_sk[:,1], c='blue', s=100, alpha=.5)\n",
    "plt.title('sklearn kmeans clustering')\n",
    "plot_file = \"./kmeans_cpu.png\"\n",
    "plt.savefig(plot_file)\n",
    "\n",
    "# Evaluate\n",
    "start = datetime.datetime.now()\n",
    "sk_score = adjusted_rand_score(host_labels, kmeans_sk.labels_)\n",
    "end = datetime.datetime.now()\n",
    "print (\"evaluate timecost: %.2gs\" % ((end-start).total_seconds()))\n",
    "\n",
    "print(\"score (sklearning): %s\" % sk_score)"
   ]
  },
  {
   "cell_type": "markdown",
   "id": "a95aeaf9",
   "metadata": {},
   "source": [
    "<a id = \"skl-cpu\"></a>\n",
    "## Step 2 :  Training the SK-Learning model on CPU with Watson Machine Learning Accelerator\n",
    "### Prepare the model lib for job submission"
   ]
  },
  {
   "cell_type": "code",
   "execution_count": 19,
   "id": "5c63f5cc",
   "metadata": {},
   "outputs": [
    {
     "name": "stdout",
     "output_type": "stream",
     "text": [
      "Populating the interactive namespace from numpy and matplotlib\n"
     ]
    }
   ],
   "source": [
    "import requests\n",
    "from requests.packages.urllib3.exceptions import InsecureRequestWarning\n",
    "requests.packages.urllib3.disable_warnings(InsecureRequestWarning)\n",
    "\n",
    "from matplotlib import pyplot as plt\n",
    "%pylab inline\n",
    "\n",
    "import base64\n",
    "import json\n",
    "import time\n",
    "import urllib"
   ]
  },
  {
   "cell_type": "markdown",
   "id": "c57010e8",
   "metadata": {},
   "source": [
    "### Configuring your environment and project details\n",
    "To set up your project details, provide your credentials in this cell. You must include your cluster URL, username, and password."
   ]
  },
  {
   "cell_type": "code",
   "execution_count": 20,
   "id": "68e477a3",
   "metadata": {},
   "outputs": [
    {
     "name": "stdout",
     "output_type": "stream",
     "text": [
      "https://wmla-console-wmla.apps.dse-perf.cpolab.ibm.com/auth/v1/logon\n"
     ]
    }
   ],
   "source": [
    "# please enter Watson Machine Learning Accelerator host name\n",
    "hostname='wmla-console-wmla.apps.dse-perf.cpolab.ibm.com'\n",
    "# login='username:password' # please enter the login and password\n",
    "login='mluser1:mluser1'\n",
    "\n",
    "es = base64.b64encode(login.encode('utf-8')).decode(\"utf-8\")\n",
    "# print(es)\n",
    "commonHeaders={'Authorization': 'Basic '+es}\n",
    "req = requests.Session()\n",
    "auth_url = 'https://{}/auth/v1/logon'.format(hostname)\n",
    "print(auth_url)\n",
    "\n",
    "a=requests.get(auth_url,headers=commonHeaders, verify=False)\n",
    "access_token=a.json()['accessToken']\n",
    "# print(\"Access_token: \", access_token)\n",
    "\n",
    "dl_rest_url = 'https://{}/platform/rest/deeplearning/v1'.format(hostname)\n",
    "commonHeaders={'accept': 'application/json', 'X-Auth-Token': access_token}\n",
    "req = requests.Session()\n",
    "\n",
    "# Health check\n",
    "confUrl = 'https://{}/platform/rest/deeplearning/v1/conf'.format(hostname)\n",
    "r = req.get(confUrl, headers=commonHeaders, verify=False)"
   ]
  },
  {
   "cell_type": "markdown",
   "id": "f10de1d1",
   "metadata": {},
   "source": [
    "### Define the status checking function"
   ]
  },
  {
   "cell_type": "code",
   "execution_count": 21,
   "id": "2c8c36da",
   "metadata": {},
   "outputs": [],
   "source": [
    "import tarfile\n",
    "import tempfile\n",
    "import os\n",
    "import json\n",
    "import pprint\n",
    "import pandas as pd\n",
    "from IPython.display import clear_output\n",
    "\n",
    "def query_job_status(job_id,refresh_rate=3) :\n",
    "\n",
    "    execURL = dl_rest_url  +'/execs/'+ job_id['id']\n",
    "    pp = pprint.PrettyPrinter(indent=2)\n",
    "\n",
    "    keep_running=True\n",
    "    res=None\n",
    "    while(keep_running):\n",
    "        res = req.get(execURL, headers=commonHeaders, verify=False)\n",
    "        monitoring = pd.DataFrame(res.json(), index=[0])\n",
    "        pd.set_option('max_colwidth', 120)\n",
    "        clear_output()\n",
    "        print(\"Refreshing every {} seconds\".format(refresh_rate))\n",
    "        display(monitoring)\n",
    "        pp.pprint(res.json())\n",
    "        if(res.json()['state'] not in ['PENDING_CRD_SCHEDULER', 'SUBMITTED','RUNNING']) :\n",
    "            keep_running=False\n",
    "        time.sleep(refresh_rate)\n",
    "    return res"
   ]
  },
  {
   "cell_type": "markdown",
   "id": "62d23f7c",
   "metadata": {},
   "source": [
    "### Define the submission function"
   ]
  },
  {
   "cell_type": "code",
   "execution_count": 22,
   "id": "ea05d5db",
   "metadata": {},
   "outputs": [],
   "source": [
    "def submit_job_to_wmla (args) :\n",
    "    starttime = datetime.datetime.now()\n",
    "    r = requests.post(dl_rest_url+'/execs?args='+args, # files=files,\n",
    "                  headers=commonHeaders, verify=False)\n",
    "    if not r.ok:\n",
    "        print('submit job failed: code=%s, %s'%(r.status_code, r.content))\n",
    "    job_status = query_job_status(r.json(),refresh_rate=5)\n",
    "    endtime = datetime.datetime.now()\n",
    "    print(\"\\nTotallly training cost: \", (endtime - starttime).seconds, \" seconds.\")"
   ]
  },
  {
   "cell_type": "markdown",
   "id": "5b17f82f",
   "metadata": {},
   "source": [
    "### Define the submission parameters for scikit-learn version on cpu"
   ]
  },
  {
   "cell_type": "code",
   "execution_count": 23,
   "id": "e6aaac1b",
   "metadata": {},
   "outputs": [
    {
     "name": "stdout",
     "output_type": "stream",
     "text": [
      "--exec-start tensorflow --cs-datastore-meta type=fs --workerDeviceNum 1 --workerMemory 32G --workerDeviceType cpu --conda-env-name rapids-21.06-new  --model-main /gpfs/mydatafs/models/sklean-K-Means-main.py\n"
     ]
    }
   ],
   "source": [
    "# specify the model file, conda env, device type and device number\n",
    "args = '--exec-start tensorflow --cs-datastore-meta type=fs \\\n",
    "--workerDeviceNum 1 \\\n",
    "--workerMemory 32G \\\n",
    "--workerDeviceType cpu \\\n",
    "--conda-env-name rapids-21.06-new  \\\n",
    "--model-main /gpfs/mydatafs/models/' + model_main\n",
    "print(args)"
   ]
  },
  {
   "cell_type": "markdown",
   "id": "cda40d2a",
   "metadata": {},
   "source": [
    "### Submit WMLA Workload"
   ]
  },
  {
   "cell_type": "code",
   "execution_count": 24,
   "id": "41fb4a76",
   "metadata": {},
   "outputs": [
    {
     "name": "stdout",
     "output_type": "stream",
     "text": [
      "Refreshing every 5 seconds\n"
     ]
    },
    {
     "data": {
      "text/html": [
       "<div>\n",
       "<style scoped>\n",
       "    .dataframe tbody tr th:only-of-type {\n",
       "        vertical-align: middle;\n",
       "    }\n",
       "\n",
       "    .dataframe tbody tr th {\n",
       "        vertical-align: top;\n",
       "    }\n",
       "\n",
       "    .dataframe thead th {\n",
       "        text-align: right;\n",
       "    }\n",
       "</style>\n",
       "<table border=\"1\" class=\"dataframe\">\n",
       "  <thead>\n",
       "    <tr style=\"text-align: right;\">\n",
       "      <th></th>\n",
       "      <th>id</th>\n",
       "      <th>args</th>\n",
       "      <th>submissionId</th>\n",
       "      <th>creator</th>\n",
       "      <th>state</th>\n",
       "      <th>appId</th>\n",
       "      <th>schedulerUrl</th>\n",
       "      <th>modelFileOwnerName</th>\n",
       "      <th>workDir</th>\n",
       "      <th>appName</th>\n",
       "      <th>createTime</th>\n",
       "      <th>elastic</th>\n",
       "      <th>nameSpace</th>\n",
       "      <th>numWorker</th>\n",
       "      <th>framework</th>\n",
       "    </tr>\n",
       "  </thead>\n",
       "  <tbody>\n",
       "    <tr>\n",
       "      <th>0</th>\n",
       "      <td>wmla-622</td>\n",
       "      <td>--exec-start tensorflow --cs-datastore-meta type=fs --workerDeviceNum 1 --workerMemory 32G --workerDeviceType cpu --...</td>\n",
       "      <td>wmla-622</td>\n",
       "      <td>mluser1</td>\n",
       "      <td>FINISHED</td>\n",
       "      <td>wmla-622</td>\n",
       "      <td>https://wmla-mss:9080</td>\n",
       "      <td>wmla</td>\n",
       "      <td>/gpfs/myresultfs/mluser1/batchworkdir/wmla-622/_submitted_code</td>\n",
       "      <td>SingleNodeTensorflowTrain</td>\n",
       "      <td>2021-07-20T09:41:20Z</td>\n",
       "      <td>False</td>\n",
       "      <td>wmla</td>\n",
       "      <td>1</td>\n",
       "      <td>tensorflow</td>\n",
       "    </tr>\n",
       "  </tbody>\n",
       "</table>\n",
       "</div>"
      ],
      "text/plain": [
       "         id  \\\n",
       "0  wmla-622   \n",
       "\n",
       "                                                                                                                      args  \\\n",
       "0  --exec-start tensorflow --cs-datastore-meta type=fs --workerDeviceNum 1 --workerMemory 32G --workerDeviceType cpu --...   \n",
       "\n",
       "  submissionId  creator     state     appId           schedulerUrl  \\\n",
       "0     wmla-622  mluser1  FINISHED  wmla-622  https://wmla-mss:9080   \n",
       "\n",
       "  modelFileOwnerName  \\\n",
       "0               wmla   \n",
       "\n",
       "                                                          workDir  \\\n",
       "0  /gpfs/myresultfs/mluser1/batchworkdir/wmla-622/_submitted_code   \n",
       "\n",
       "                     appName            createTime  elastic nameSpace  \\\n",
       "0  SingleNodeTensorflowTrain  2021-07-20T09:41:20Z    False      wmla   \n",
       "\n",
       "   numWorker   framework  \n",
       "0          1  tensorflow  "
      ]
     },
     "metadata": {},
     "output_type": "display_data"
    },
    {
     "name": "stdout",
     "output_type": "stream",
     "text": [
      "{ 'appId': 'wmla-622',\n",
      "  'appName': 'SingleNodeTensorflowTrain',\n",
      "  'args': '--exec-start tensorflow --cs-datastore-meta type=fs '\n",
      "          '--workerDeviceNum 1 --workerMemory 32G --workerDeviceType cpu '\n",
      "          '--conda-env-name rapids-21.06-new  --model-main '\n",
      "          '/gpfs/mydatafs/models/sklean-K-Means-main.py ',\n",
      "  'createTime': '2021-07-20T09:41:20Z',\n",
      "  'creator': 'mluser1',\n",
      "  'elastic': False,\n",
      "  'framework': 'tensorflow',\n",
      "  'id': 'wmla-622',\n",
      "  'modelFileOwnerName': 'wmla',\n",
      "  'nameSpace': 'wmla',\n",
      "  'numWorker': 1,\n",
      "  'schedulerUrl': 'https://wmla-mss:9080',\n",
      "  'state': 'FINISHED',\n",
      "  'submissionId': 'wmla-622',\n",
      "  'workDir': '/gpfs/myresultfs/mluser1/batchworkdir/wmla-622/_submitted_code'}\n",
      "\n",
      "Totallly training cost:  522  seconds.\n"
     ]
    }
   ],
   "source": [
    "submit_job_to_wmla (args)"
   ]
  },
  {
   "cell_type": "markdown",
   "id": "53bf143c",
   "metadata": {},
   "source": [
    "<a id = \"cuml-model\"></a>\n",
    "## Step 3 :  Setup K-Means model using cmML\n",
    "### Create a K-Means Model based on cuML on GPU"
   ]
  },
  {
   "cell_type": "code",
   "execution_count": 25,
   "id": "e676dbb1",
   "metadata": {},
   "outputs": [],
   "source": [
    "model_main='cuml-'+model_base_name"
   ]
  },
  {
   "cell_type": "code",
   "execution_count": 26,
   "id": "8efbde7c",
   "metadata": {},
   "outputs": [
    {
     "name": "stdout",
     "output_type": "stream",
     "text": [
      "Writing /data/models/cuml-K-Means-main.py\n"
     ]
    }
   ],
   "source": [
    "%%writefile {model_dir}/{model_main}\n",
    "\n",
    "import cudf\n",
    "import cupy\n",
    "import matplotlib.pyplot as plt\n",
    "from cuml.cluster import KMeans as cuKMeans\n",
    "from cuml.datasets import make_blobs\n",
    "from sklearn.cluster import KMeans as skKMeans\n",
    "from sklearn.metrics import adjusted_rand_score\n",
    "import os\n",
    "import datetime\n",
    "\n",
    "# specify the cache location to /gpfy since ~/.cache is not available\n",
    "os.environ[\"CUPY_CACHE_DIR\"]=\"/gpfs/mydatafs/models/cache/km\"\n",
    "\n",
    "# Define Parameters for a large regression\n",
    "n_samples = 1000000\n",
    "n_features = 200\n",
    "n_clusters = 10\n",
    "random_state = 23\n",
    "\n",
    "# Generate Data\n",
    "device_data, device_labels = make_blobs(n_samples=n_samples,\n",
    "                                        n_features=n_features,\n",
    "                                        centers=n_clusters,\n",
    "                                        random_state=random_state,\n",
    "                                        cluster_std=0.1)\n",
    "\n",
    "device_data = cudf.DataFrame(device_data)\n",
    "device_labels = cudf.Series(device_labels)\n",
    "\n",
    "#  # Copy dataset from GPU memory to host memory.\n",
    "host_data = device_data.to_pandas()\n",
    "host_labels = device_labels.to_pandas()\n",
    "\n",
    "# cuML Model\n",
    "kmeans_cuml = cuKMeans(init=\"k-means||\",\n",
    "                       n_clusters=n_clusters,\n",
    "                       oversampling_factor=40,\n",
    "                       random_state=random_state)\n",
    "\n",
    "# Fit\n",
    "start = datetime.datetime.now()\n",
    "kmeans_cuml.fit(device_data)\n",
    "end = datetime.datetime.now()\n",
    "print (\"train timecost: %.2gs\" % ((end-start).total_seconds()))\n",
    "\n",
    "# Visualize \n",
    "fig = plt.figure(figsize=(16, 10))\n",
    "plt.scatter(host_data.iloc[:, 0], host_data.iloc[:, 1], c=host_labels, s=50, cmap='viridis')\n",
    "\n",
    "# #plot the sklearn kmeans centers with blue filled circles\n",
    "# centers_sk = kmeans_sk.cluster_centers_\n",
    "# plt.scatter(centers_sk[:,0], centers_sk[:,1], c='blue', s=100, alpha=.5)\n",
    "\n",
    "#plot the cuml kmeans centers with red circle outlines\n",
    "centers_cuml = kmeans_cuml.cluster_centers_\n",
    "plt.scatter(cupy.asnumpy(centers_cuml[0].values), \n",
    "            cupy.asnumpy(centers_cuml[1].values), \n",
    "            facecolors = 'none', edgecolors='red', s=100)\n",
    "\n",
    "plt.title('cuml and sklearn kmeans clustering')\n",
    "\n",
    "# plt.show()\n",
    "plot_file = \"./kmeans_gpu.png\"\n",
    "plt.savefig(plot_file)\n",
    "\n",
    "# Evaluate\n",
    "start = datetime.datetime.now()\n",
    "cuml_score = adjusted_rand_score(host_labels, kmeans_cuml.labels_.to_array())\n",
    "end = datetime.datetime.now()\n",
    "print (\"evaluate timecost: %.2gs\" % ((end-start).total_seconds()))\n",
    "\n",
    "print(\"score (cuML): %s\" % cuml_score)"
   ]
  },
  {
   "cell_type": "markdown",
   "id": "f4993f04",
   "metadata": {},
   "source": [
    "<a id = \"cuml-gpu\"></a>\n",
    "## Step 4 :  Training the cuML model on GPU with Watson Machine Learning Accelerator\n",
    "### Re-define the submssion parameters"
   ]
  },
  {
   "cell_type": "code",
   "execution_count": 27,
   "id": "ee760fba",
   "metadata": {},
   "outputs": [
    {
     "name": "stdout",
     "output_type": "stream",
     "text": [
      "--exec-start tensorflow --cs-datastore-meta type=fs --workerDeviceNum 1 --workerMemory 32G --workerDeviceType gpu --conda-env-name rapids-21.06-new  --model-main /gpfs/mydatafs/models/cuml-K-Means-main.py\n"
     ]
    }
   ],
   "source": [
    "# specify the model file, conda env, device type and device number\n",
    "args = '--exec-start tensorflow --cs-datastore-meta type=fs \\\n",
    "--workerDeviceNum 1 \\\n",
    "--workerMemory 32G \\\n",
    "--workerDeviceType gpu \\\n",
    "--conda-env-name rapids-21.06-new  \\\n",
    "--model-main /gpfs/mydatafs/models/' + model_main\n",
    "\n",
    "print(args)"
   ]
  },
  {
   "cell_type": "markdown",
   "id": "a9d83760",
   "metadata": {},
   "source": [
    "### Submit WMLA Workload"
   ]
  },
  {
   "cell_type": "code",
   "execution_count": 28,
   "id": "ebe34bd1",
   "metadata": {},
   "outputs": [
    {
     "name": "stdout",
     "output_type": "stream",
     "text": [
      "Refreshing every 5 seconds\n"
     ]
    },
    {
     "data": {
      "text/html": [
       "<div>\n",
       "<style scoped>\n",
       "    .dataframe tbody tr th:only-of-type {\n",
       "        vertical-align: middle;\n",
       "    }\n",
       "\n",
       "    .dataframe tbody tr th {\n",
       "        vertical-align: top;\n",
       "    }\n",
       "\n",
       "    .dataframe thead th {\n",
       "        text-align: right;\n",
       "    }\n",
       "</style>\n",
       "<table border=\"1\" class=\"dataframe\">\n",
       "  <thead>\n",
       "    <tr style=\"text-align: right;\">\n",
       "      <th></th>\n",
       "      <th>id</th>\n",
       "      <th>args</th>\n",
       "      <th>submissionId</th>\n",
       "      <th>creator</th>\n",
       "      <th>state</th>\n",
       "      <th>appId</th>\n",
       "      <th>schedulerUrl</th>\n",
       "      <th>modelFileOwnerName</th>\n",
       "      <th>workDir</th>\n",
       "      <th>appName</th>\n",
       "      <th>createTime</th>\n",
       "      <th>elastic</th>\n",
       "      <th>nameSpace</th>\n",
       "      <th>numWorker</th>\n",
       "      <th>framework</th>\n",
       "    </tr>\n",
       "  </thead>\n",
       "  <tbody>\n",
       "    <tr>\n",
       "      <th>0</th>\n",
       "      <td>wmla-623</td>\n",
       "      <td>--exec-start tensorflow --cs-datastore-meta type=fs --workerDeviceNum 1 --workerMemory 32G --workerDeviceType gpu --...</td>\n",
       "      <td>wmla-623</td>\n",
       "      <td>mluser1</td>\n",
       "      <td>FINISHED</td>\n",
       "      <td>wmla-623</td>\n",
       "      <td>https://wmla-mss:9080</td>\n",
       "      <td>wmla</td>\n",
       "      <td>/gpfs/myresultfs/mluser1/batchworkdir/wmla-623/_submitted_code</td>\n",
       "      <td>SingleNodeTensorflowTrain</td>\n",
       "      <td>2021-07-20T09:50:01Z</td>\n",
       "      <td>False</td>\n",
       "      <td>wmla</td>\n",
       "      <td>1</td>\n",
       "      <td>tensorflow</td>\n",
       "    </tr>\n",
       "  </tbody>\n",
       "</table>\n",
       "</div>"
      ],
      "text/plain": [
       "         id  \\\n",
       "0  wmla-623   \n",
       "\n",
       "                                                                                                                      args  \\\n",
       "0  --exec-start tensorflow --cs-datastore-meta type=fs --workerDeviceNum 1 --workerMemory 32G --workerDeviceType gpu --...   \n",
       "\n",
       "  submissionId  creator     state     appId           schedulerUrl  \\\n",
       "0     wmla-623  mluser1  FINISHED  wmla-623  https://wmla-mss:9080   \n",
       "\n",
       "  modelFileOwnerName  \\\n",
       "0               wmla   \n",
       "\n",
       "                                                          workDir  \\\n",
       "0  /gpfs/myresultfs/mluser1/batchworkdir/wmla-623/_submitted_code   \n",
       "\n",
       "                     appName            createTime  elastic nameSpace  \\\n",
       "0  SingleNodeTensorflowTrain  2021-07-20T09:50:01Z    False      wmla   \n",
       "\n",
       "   numWorker   framework  \n",
       "0          1  tensorflow  "
      ]
     },
     "metadata": {},
     "output_type": "display_data"
    },
    {
     "name": "stdout",
     "output_type": "stream",
     "text": [
      "{ 'appId': 'wmla-623',\n",
      "  'appName': 'SingleNodeTensorflowTrain',\n",
      "  'args': '--exec-start tensorflow --cs-datastore-meta type=fs '\n",
      "          '--workerDeviceNum 1 --workerMemory 32G --workerDeviceType gpu '\n",
      "          '--conda-env-name rapids-21.06-new  --model-main '\n",
      "          '/gpfs/mydatafs/models/cuml-K-Means-main.py ',\n",
      "  'createTime': '2021-07-20T09:50:01Z',\n",
      "  'creator': 'mluser1',\n",
      "  'elastic': False,\n",
      "  'framework': 'tensorflow',\n",
      "  'id': 'wmla-623',\n",
      "  'modelFileOwnerName': 'wmla',\n",
      "  'nameSpace': 'wmla',\n",
      "  'numWorker': 1,\n",
      "  'schedulerUrl': 'https://wmla-mss:9080',\n",
      "  'state': 'FINISHED',\n",
      "  'submissionId': 'wmla-623',\n",
      "  'workDir': '/gpfs/myresultfs/mluser1/batchworkdir/wmla-623/_submitted_code'}\n",
      "\n",
      "Totallly training cost:  84  seconds.\n"
     ]
    }
   ],
   "source": [
    "submit_job_to_wmla (args)"
   ]
  },
  {
   "cell_type": "code",
   "execution_count": null,
   "id": "ec0807e2",
   "metadata": {},
   "outputs": [],
   "source": []
  },
  {
   "cell_type": "code",
   "execution_count": null,
   "id": "a99364f3",
   "metadata": {},
   "outputs": [],
   "source": []
  }
 ],
 "metadata": {
  "kernelspec": {
   "display_name": "Python3 Single CPU Kernel",
   "language": "python",
   "name": "python_single_cpu"
  },
  "language_info": {
   "codemirror_mode": {
    "name": "ipython",
    "version": 3
   },
   "file_extension": ".py",
   "mimetype": "text/x-python",
   "name": "python",
   "nbconvert_exporter": "python",
   "pygments_lexer": "ipython3",
   "version": "3.7.10"
  }
 },
 "nbformat": 4,
 "nbformat_minor": 5
}
