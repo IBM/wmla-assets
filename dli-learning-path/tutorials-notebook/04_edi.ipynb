{
 "cells": [
  {
   "cell_type": "markdown",
   "metadata": {},
   "source": [
    "### Contents\n",
    "\n",
    "- [The big picture](#The-big-picture)"
   ]
  },
  {
   "cell_type": "markdown",
   "metadata": {},
   "source": [
    "### The big picture\n",
    "\n",
    " Elastic Distributed Inference EDI is a feature available for Watson Machine Learning Accelerator. EDI is a solution aimed to manage production inference across a cluster. EDI will enable inference requests to be managed not only distributed across the cluster, but also with dynamic or elastic resource consumption. Being robust, secure, and scalable, EDI provides the tools to manage your machine learning models, track the demands for each inference, and optimize the usage of the hardware. EDI simplifies your production deployment by automatically generating REST and gRPC APIs for inference for your model. The management APIs allow full configuration and new deployments of any inference model and give you control over limits for the model. The inference APIs enable full scalability to the hardware and dynamic resource allocation based on current loads. As the load of inference requests for a model increases, EDI can scale up additional instances of that model to ensure every transaction progresses smoothly, and thus derive insights from the trained models to drive key value for time to market. As the load decreases, EDI will scale down to release unused resource and support other workloads such as Elastic Distributed Training (EDT) and Hyperparameter Optimization (HPO), and drive hardware resource utilization."
   ]
  },
  {
   "cell_type": "markdown",
   "metadata": {},
   "source": []
  }
 ],
 "metadata": {
  "kernelspec": {
   "display_name": "Python 3",
   "language": "python",
   "name": "python3"
  },
  "language_info": {
   "codemirror_mode": {
    "name": "ipython",
    "version": 3
   },
   "file_extension": ".py",
   "mimetype": "text/x-python",
   "name": "python",
   "nbconvert_exporter": "python",
   "pygments_lexer": "ipython3",
   "version": "3.7.2"
  }
 },
 "nbformat": 4,
 "nbformat_minor": 2
}
