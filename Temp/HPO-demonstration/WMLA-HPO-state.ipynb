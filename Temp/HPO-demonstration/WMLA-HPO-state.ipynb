{
 "cells": [
  {
   "cell_type": "markdown",
   "metadata": {
    "heading_collapsed": true
   },
   "source": [
    "### Common Setup"
   ]
  },
  {
   "cell_type": "code",
   "execution_count": 1,
   "metadata": {
    "hidden": true
   },
   "outputs": [],
   "source": [
    "import requests\n",
    "from requests.packages.urllib3.exceptions import InsecureRequestWarning\n",
    "requests.packages.urllib3.disable_warnings(InsecureRequestWarning)\n",
    "\n",
    "import json\n",
    "import time\n",
    "import urllib\n",
    "import pandas as pd\n",
    "\n"
   ]
  },
  {
   "cell_type": "code",
   "execution_count": null,
   "metadata": {},
   "outputs": [],
   "source": [
    "# Environment details:\n",
    "\n",
    "\n",
    "protocol = 'http'\n",
    "\n",
    "master_host = '**** ADD HERE ****'\n",
    "\n",
    "dli_rest_port = '9280'\n",
    "sc_rest_port = '8280'\n",
    "\n",
    "\n",
    "sc_rest_url =  protocol+'://'+master_host+':'+sc_rest_port+'/platform/rest/conductor/v1'\n",
    "dl_rest_url = protocol+'://'+master_host+':'+dli_rest_port+'/platform/rest/deeplearning/v1'\n",
    "\n",
    "print (sc_rest_url)\n",
    "print (dl_rest_url)\n",
    "# User login details\n",
    "\n",
    "wmla_user = '**** ADD HERE ****'\n",
    "wmla_pwd = '**** ADD HERE ****'\n",
    "\n",
    "\n",
    "myauth = (wmla_user, wmla_pwd)\n",
    "\n",
    "# Spark instance group details\n",
    "#sig_name = '**** ADD HERE ****'\n",
    "#sigName = 'ClaimsDamageDetection-IG'\n",
    "sigName = '**** ADD HERE ****'\n",
    "\n",
    "# REST call variables\n",
    "commonHeaders = {'Accept': 'application/json'}\n",
    "\n",
    "\n",
    "#startTuneUrl='%s://%s:%s/platform/rest/deeplearning/v1/hypersearch' % (protocol, master_host, dli_rest_port)\n",
    "#sc_rest_url ='%s://%s:%d/platform/rest/conductor/v1' % (protocol, hostname, conductorport)\n",
    "\n",
    "req = requests.Session()"
   ]
  },
  {
   "cell_type": "markdown",
   "metadata": {},
   "source": [
    "### Health Check"
   ]
  },
  {
   "cell_type": "markdown",
   "metadata": {},
   "source": [
    "Check if there is any existing hpo tasks and also verify the platform health"
   ]
  },
  {
   "cell_type": "markdown",
   "metadata": {},
   "source": [
    "Rest API: **GET platform/rest/deeplearning/v1/hypersearch**\n",
    "- Description: Get all the hpo task that the login user can access.\n",
    "- OUTPUT: A list of hpo tasks and each one with the same format which can be found in the api doc."
   ]
  },
  {
   "cell_type": "code",
   "execution_count": 3,
   "metadata": {},
   "outputs": [
    {
     "name": "stdout",
     "output_type": "stream",
     "text": [
      "getTuneStatusUrl: http://colonia05.platform:9280/platform/rest/deeplearning/v1/hypersearch\n",
      "Hpo task: Admin-hpo-213064641612058, State: FAILED\n",
      "Hpo task: Admin-hpo-213144126479233, State: FAILED\n",
      "Hpo task: Admin-hpo-213397684489627, State: FAILED\n",
      "Hpo task: Admin-hpo-217042344463302, State: RECOVERPEND\n",
      "Hpo task: Admin-hpo-217437872366884, State: RECOVERPEND\n",
      "Hpo task: Admin-hpo-217638395891962, State: RECOVERPEND\n",
      "Hpo task: Admin-hpo-1271337322108204, State: FAILED\n",
      "Hpo task: Admin-hpo-1271754074212915, State: RECOVERPEND\n",
      "Hpo task: Admin-hpo-1271830782366418, State: FAILED\n",
      "Hpo task: Admin-hpo-1595647470952563, State: FAILED\n",
      "Hpo task: Admin-hpo-1598262163401922, State: FAILED\n",
      "Hpo task: Admin-hpo-1599425793403806, State: FAILED\n",
      "Hpo task: Admin-hpo-1599772383052641, State: FINISHED\n",
      "Hpo task: Admin-hpo-1600799291243077, State: FAILED\n",
      "Hpo task: Admin-hpo-1600966921285655, State: FINISHED\n",
      "Hpo task: Admin-hpo-1849374454171515, State: FAILED\n",
      "Hpo task: Admin-hpo-1849606511990094, State: FAILED\n",
      "Hpo task: Admin-hpo-1853619557542727, State: FINISHED\n",
      "Hpo task: Admin-hpo-1857206274374459, State: FINISHED\n",
      "Hpo task: Admin-hpo-1857796227916501, State: FINISHED\n",
      "Hpo task: Admin-hpo-1858200919737514, State: FINISHED\n",
      "Hpo task: Admin-hpo-1858682924926185, State: FINISHED\n",
      "Hpo task: Admin-hpo-1872311161421845, State: FINISHED\n",
      "Hpo task: Admin-hpo-1872817553083469, State: FINISHED\n",
      "Hpo task: Admin-hpo-1873384030737325, State: FINISHED\n",
      "Hpo task: Admin-hpo-1873981382159152, State: FINISHED\n",
      "Hpo task: Admin-hpo-1875218381975620, State: FINISHED\n",
      "Hpo task: Admin-hpo-2536603443427525, State: FINISHED\n",
      "Hpo task: Admin-hpo-2537270312241626, State: FAILED\n",
      "Hpo task: Admin-hpo-2538591367353969, State: FAILED\n",
      "Hpo task: Admin-hpo-2539438524984771, State: FINISHED\n",
      "Hpo task: Admin-hpo-2540103096380604, State: FAILED\n",
      "Hpo task: Admin-hpo-2540782107139805, State: FINISHED\n",
      "Hpo task: Clarisse-hpo-3135919292693674, State: FINISHED\n",
      "Hpo task: Admin-hpo-3300861787643129, State: FINISHED\n",
      "Hpo task: Admin-hpo-3301227397974279, State: FINISHED\n"
     ]
    }
   ],
   "source": [
    "getTuneStatusUrl = dl_rest_url + '/hypersearch'\n",
    "print ('getTuneStatusUrl: %s' %getTuneStatusUrl)\n",
    "r = req.get(getTuneStatusUrl, headers=commonHeaders, verify=False, auth=myauth)\n",
    "\n",
    "if not r.ok:\n",
    "    print('check hpo task status failed: code=%s, %s'%(r.status_code, r.content))\n",
    "else:\n",
    "    if len(r.json()) == 0:\n",
    "        print('There is no hpo task been created')\n",
    "    for item in r.json():\n",
    "        print('Hpo task: %s, State: %s'%(item['hpoName'], item['state']))\n",
    "        #print('Best:%s'%json.dumps(item.get('best'), sort_keys=True, indent=4))"
   ]
  },
  {
   "cell_type": "markdown",
   "metadata": {},
   "source": [
    "### Launch a HPO task"
   ]
  },
  {
   "cell_type": "markdown",
   "metadata": {
    "heading_collapsed": true
   },
   "source": [
    "#### Model file update to Run HPO"
   ]
  },
  {
   "cell_type": "markdown",
   "metadata": {
    "hidden": true
   },
   "source": [
    "Model changes required from 2 perspective:\n",
    "- Inject hyper-parameters for the sub-training during search\n",
    "- Retrieve sub-training result metric"
   ]
  },
  {
   "cell_type": "markdown",
   "metadata": {
    "heading_collapsed": true,
    "hidden": true
   },
   "source": [
    "##### Model update part 1 - Inject hyper-parameters"
   ]
  },
  {
   "cell_type": "markdown",
   "metadata": {
    "hidden": true
   },
   "source": [
    "The hyper-parameters will be supplied in a file called **config.json** with JSON format,located in the current working directory and can be read direcly as the following example snippet.\n",
    "\n",
    "<pre>\n",
    "hyper_params = json.loads(open(\"<b>config.json</b>\").read())\n",
    "learning_rate = float(hyper_params.get(\"<b>learning_rate</b>\", \"0.01\"))\n",
    "</pre>\n",
    "\n",
    "After this, you can use these hyper-parameters during the model trainings. The **hyper-parameter name** and **value** type is defined through the search space part in body of REST call when launching a new hpo task."
   ]
  },
  {
   "cell_type": "markdown",
   "metadata": {
    "heading_collapsed": true,
    "hidden": true
   },
   "source": [
    "##### Model update part 2 - Retrieve sub-training result metric"
   ]
  },
  {
   "cell_type": "markdown",
   "metadata": {
    "hidden": true
   },
   "source": [
    "At the end of your training run, your code will need to create a file called **val_dict_list.json** with test metrics generated during training. These metrics will be used by the search algorithm to propose new sets of hyper-parameters. Please note that **val_dict_list.json** should be created under the result directory which can be retrieved through the environment variable **RESULT_DIR**.\n",
    "\n",
    "<pre>\n",
    "with open('{}/val_dict_list.json'.format(os.environ['<b>RESULT_DIR</b>']), 'w') as f:\n",
    "    json.dump(test_metrics, f)\n",
    "</pre>\n",
    "\n",
    "The content of **val_dict_list.json** will be some thing as below, **step** is some thing optional meaning the training iteration or epochs, one of **loss** and **accuracy** can be the name of target metric to optimize, at least one metric need to be included here. The specific name of metric used to optimize (minimize or maximize) is defined in the body of REST call when launching a new hpo task. \n",
    "\n",
    "```\n",
    "[\n",
    "{‘step’: 1, ‘loss’:0.2487, ‘accuracy’: 0.4523},\n",
    "{‘step’: 2, ‘loss’:0.1487, ‘accuracy’: 0.5523},\n",
    "{‘step’: 3, ‘loss’:0.1087, ‘accuracy’: 0.6523},\n",
    "…\n",
    "]\n",
    "```"
   ]
  },
  {
   "cell_type": "markdown",
   "metadata": {},
   "source": [
    "#### Launch HPO task"
   ]
  },
  {
   "cell_type": "markdown",
   "metadata": {},
   "source": [
    "REST API: **POST /platform/rest/deeplearning/v1/hypersearch**\n",
    "- Description: Start a new HPO task\n",
    "- Content-type: Multi-Form\n",
    "- Multi-Form Data:\n",
    "  - files: Model files tar package, ending with `.modelDir.tar`\n",
    "  - form-filed: {‘data’: ‘String format of input parameters to start hpo task, let’s call it as **hpo_input** and show its specification later’}\n"
   ]
  },
  {
   "cell_type": "markdown",
   "metadata": {},
   "source": [
    "#### Model file update to Run HPO"
   ]
  },
  {
   "cell_type": "markdown",
   "metadata": {},
   "source": [
    "##### Package model files for training"
   ]
  },
  {
   "cell_type": "markdown",
   "metadata": {},
   "source": [
    "Package the updated model files into a tar file ending with `.modelDir.tar`"
   ]
  },
  {
   "cell_type": "code",
   "execution_count": 4,
   "metadata": {},
   "outputs": [
    {
     "name": "stdout",
     "output_type": "stream",
     "text": [
      " tempFile: /var/folders/l8/5dhpt4mn5zs6rjblzhlxp5300000gp/T/tmprdj2iwkv.modelDir.tar\n"
     ]
    }
   ],
   "source": [
    "import tarfile\n",
    "import tempfile\n",
    "import os\n",
    "def make_tarfile(output_filename, source_dir):\n",
    "    with tarfile.open(output_filename, \"w:gz\") as tar:\n",
    "        tar.add(source_dir, arcname=os.path.basename(source_dir))\n",
    "MODEL_DIR_SUFFIX = \".modelDir.tar\"\n",
    "tempFile = tempfile.mktemp(MODEL_DIR_SUFFIX)\n",
    "make_tarfile(tempFile, '/Users/Kelvin/Documents/WorkInProgress/WellsFargo/To-Be-Share/tf-model')\n",
    "print(\" tempFile: \" + tempFile)\n",
    "files = {'file': open(tempFile, 'rb')}"
   ]
  },
  {
   "cell_type": "markdown",
   "metadata": {},
   "source": [
    "##### Construct POST request data"
   ]
  },
  {
   "cell_type": "markdown",
   "metadata": {},
   "source": [
    "**hpo_input** will be a Python dict or json format as below, convert to string when calling REST."
   ]
  },
  {
   "cell_type": "code",
   "execution_count": 5,
   "metadata": {},
   "outputs": [],
   "source": [
    "data =  {\n",
    "        'modelSpec': # Define the model training related parameters\n",
    "        {\n",
    "            # Spark instance group which will be used to run the HPO sub-trainings. The Spark instance group selected\n",
    "            # here should match the sub-training args, for example, if the sub-training args try to run a EDT job,\n",
    "            # then we should put a Spark instance group with capability to run EDT job here.\n",
    "            'sigName': sigName,\n",
    "\n",
    "            # These are the arguments we'll pass to the execution engine; they follow the same conventions\n",
    "            # of the dlicmd.py command line launcher\n",
    "            #\n",
    "            # See:\n",
    "            #   https://www.ibm.com/support/knowledgecenter/en/SSFHA8_1.2.1/cm/dlicmd.html\n",
    "            # In this example, args after --model-dir are all the required parameter for the original model itself.\n",
    "            #\n",
    "            'args': '--exec-start tensorflow --cs-datastore-meta type=fs --python-version 2.7\\\n",
    "                     --gpuPerWorker 1 --model-main convolutional_network.py --model-dir tf-model\\\n",
    "                     --trainImagesFile /dlidata/tf_mnist/train-images-idx3-ubyte.gz \\\n",
    "                     --trainLabelsFile /dlidata/tf_mnist/train-labels-idx1-ubyte.gz \\\n",
    "                     --testImagesFile /dlidata/tf_mnist/t10k-images-idx3-ubyte.gz \\\n",
    "                     --testLabelsFile /dlidata/tf_mnist/t10k-labels-idx1-ubyte.gz \\\n",
    "                     --debug-level debug'\n",
    "                \n",
    "        },\n",
    "    \n",
    "        'algoDef': # Define the parameters for search algorithms\n",
    "        {\n",
    "            # Name of the search algorithm, one of Random, Bayesian, Tpe, Hyperband\n",
    "            'algorithm': 'Hyperband', \n",
    "            # Max running time of the hpo task in minutes, -1 means unlimited\n",
    "            'maxRunTime': -1,  \n",
    "            # Max number of training job to submitted for hpo task, -1 means unlimited’,\n",
    "            'maxJobNum': 8,            \n",
    "            # Max number of training job to run in parallel, default 1. It depends on both the\n",
    "            # avaiable resource and if the search algorithm support to run in parallel, current only Random\n",
    "            # fully supports to run in parallel, Hyperband and Tpe supports to to in parellel in some phase,\n",
    "            # Bayesian runs in sequence now.\n",
    "            'maxParalleJobNum': 4, \n",
    "            # Name of the target metric that we are trying to optimize when searching hyper-parameters.\n",
    "            # It is the same metric name that the model update part 2 trying to dump.\n",
    "            'objectiveMetric' : 'loss',\n",
    "            # Strategy as how to optimize the hyper-parameters, minimize means to find better hyper-parameters to\n",
    "            # make the above objectiveMetric as small as possible, maximize means the opposite.\n",
    "            'objective' : 'minimize',\n",
    "            # eta value to control the hyper-band search process\n",
    "            'hyperbandEta': 3.0,\n",
    "            #Additional parameters for the specified search algorithm and hyper-band get following too.\n",
    "            'algoParams' : \n",
    "                [\n",
    "                    {\n",
    "                        # Name of the the maximum amount of resource that can be allocated to a single configuration\n",
    "                        'name':'ResourceName', \n",
    "                        'value': 'epochs'\n",
    "                    },\n",
    "                    {\n",
    "                        # Value of the the maximum amount of resource that can be allocated to a single configuration\n",
    "                        'name':'ResourceValue',\n",
    "                        'value':'81'\n",
    "                    }\n",
    "                    # This resource parameter will change during hyperband searching phase and its value will be put\n",
    "                    # into the config.json for each sub-training too, here with the 'epoch' as key and value in the\n",
    "                    # range 1-10.\n",
    "                ]\n",
    "        },\n",
    "    \n",
    "        # Define the hyper-paremeters to search and the corresponding search space.\n",
    "        'hyperParams':\n",
    "        [\n",
    "             {\n",
    "                 # Hyperparameter name, which will be the hyper-parameter key in config.json\n",
    "                 'name': 'learning_rate',\n",
    "                 # One of Range, Discrete\n",
    "                 'type': 'Range',\n",
    "                 # one of int, double, str\n",
    "                 'dataType': 'DOUBLE',\n",
    "                 # lower bound and upper bound when type=range and dataType=double\n",
    "                 'minDbVal': 0.001,\n",
    "                 'maxDbVal': 0.1,\n",
    "                 # lower bound and upper bound when type=range and dataType=int\n",
    "                 'minIntVal': 0,\n",
    "                 'maxIntVal': 0,\n",
    "                 # Discrete value list when type=discrete\n",
    "                 'discreteDbVal': [],\n",
    "                 'discreteIntVal': [],\n",
    "                 'discreateStrVal': [],\n",
    "                 #step size to split the Range space. ONLY valid when type is Range\n",
    "                 'step': '0.002',\n",
    "             }\n",
    "         ]\n",
    "    }\n",
    "mydata={'data':json.dumps(data)}"
   ]
  },
  {
   "cell_type": "markdown",
   "metadata": {},
   "source": [
    "##### Submit the Post request"
   ]
  },
  {
   "cell_type": "markdown",
   "metadata": {},
   "source": [
    "Submit hpo task through the Post call and a hpo name/id as string format will get back."
   ]
  },
  {
   "cell_type": "code",
   "execution_count": 6,
   "metadata": {},
   "outputs": [
    {
     "name": "stdout",
     "output_type": "stream",
     "text": [
      "\n",
      "Model submitted successfully: Admin-hpo-3307276564102937\n"
     ]
    }
   ],
   "source": [
    "startTuneUrl=dl_rest_url + '/hypersearch'\n",
    "r = req.post(startTuneUrl, headers=commonHeaders, data=mydata, files=files, verify=False, auth=myauth)\n",
    "\n",
    "if r.ok:\n",
    "    hpoName = r.json()\n",
    "    print ('\\nModel submitted successfully: {}'.format(hpoName))\n",
    "  \n",
    "else: \n",
    "    print('\\nModel submission failed with code={}, {}'. format(r.status_code, r.content))"
   ]
  },
  {
   "cell_type": "code",
   "execution_count": 8,
   "metadata": {},
   "outputs": [
    {
     "name": "stdout",
     "output_type": "stream",
     "text": [
      "Hpo task Admin-hpo-3307276564102937 completes with state FINISHED\n",
      "{\n",
      "    \"best\": {\n",
      "        \"appId\": \"Admin-3307365790101967-1483884122\",\n",
      "        \"driverId\": \"driver-20200227180305-0004-dd578dbd-abdc-425e-bd18-60a435efa6e4\",\n",
      "        \"endTime\": \"2020-02-27 18:04:29\",\n",
      "        \"hyperParams\": [\n",
      "            {\n",
      "                \"dataType\": \"double\",\n",
      "                \"fixedVal\": \"0.095\",\n",
      "                \"name\": \"learning_rate\",\n",
      "                \"userDefined\": false\n",
      "            },\n",
      "            {\n",
      "                \"dataType\": \"str\",\n",
      "                \"fixedVal\": \"1\",\n",
      "                \"name\": \"epochs\",\n",
      "                \"userDefined\": false\n",
      "            }\n",
      "        ],\n",
      "        \"id\": 4,\n",
      "        \"maxiteration\": 0,\n",
      "        \"metricVal\": 2.3017780780792236,\n",
      "        \"startTime\": \"2020-02-27 18:03:05\",\n",
      "        \"state\": \"FINISHED\"\n",
      "    },\n",
      "    \"complete\": 8,\n",
      "    \"createtime\": \"2020-02-27 18:01:35\",\n",
      "    \"creator\": \"Admin\",\n",
      "    \"duration\": \"00:02:55\",\n",
      "    \"experiments\": [\n",
      "        {\n",
      "            \"appId\": \"Admin-3307278202457045-817266650\",\n",
      "            \"driverId\": \"driver-20200227180137-0000-7828f789-8c37-4f20-8cfc-bc579634f9b1\",\n",
      "            \"endTime\": \"2020-02-27 18:03:02\",\n",
      "            \"hyperParams\": [\n",
      "                {\n",
      "                    \"dataType\": \"double\",\n",
      "                    \"fixedVal\": \"0.097\",\n",
      "                    \"name\": \"learning_rate\",\n",
      "                    \"userDefined\": false\n",
      "                },\n",
      "                {\n",
      "                    \"dataType\": \"str\",\n",
      "                    \"fixedVal\": \"1\",\n",
      "                    \"name\": \"epochs\",\n",
      "                    \"userDefined\": false\n",
      "                }\n",
      "            ],\n",
      "            \"id\": 0,\n",
      "            \"maxiteration\": 0,\n",
      "            \"metricVal\": 2.30204176902771,\n",
      "            \"startTime\": \"2020-02-27 18:01:38\",\n",
      "            \"state\": \"FINISHED\"\n",
      "        },\n",
      "        {\n",
      "            \"appId\": \"Admin-3307284280808304-1467632427\",\n",
      "            \"driverId\": \"driver-20200227180143-0001-e99eb32b-ced7-4554-92a7-a21474b60bbb\",\n",
      "            \"endTime\": \"2020-02-27 18:03:02\",\n",
      "            \"hyperParams\": [\n",
      "                {\n",
      "                    \"dataType\": \"double\",\n",
      "                    \"fixedVal\": \"0.071\",\n",
      "                    \"name\": \"learning_rate\",\n",
      "                    \"userDefined\": false\n",
      "                },\n",
      "                {\n",
      "                    \"dataType\": \"str\",\n",
      "                    \"fixedVal\": \"1\",\n",
      "                    \"name\": \"epochs\",\n",
      "                    \"userDefined\": false\n",
      "                }\n",
      "            ],\n",
      "            \"id\": 1,\n",
      "            \"maxiteration\": 0,\n",
      "            \"metricVal\": 2.303992509841919,\n",
      "            \"startTime\": \"2020-02-27 18:01:44\",\n",
      "            \"state\": \"FINISHED\"\n",
      "        },\n",
      "        {\n",
      "            \"appId\": \"Admin-3307290163941119-465354774\",\n",
      "            \"driverId\": \"driver-20200227180149-0002-4895bfee-3141-4e30-9a45-45dc181709bf\",\n",
      "            \"endTime\": \"2020-02-27 18:03:03\",\n",
      "            \"hyperParams\": [\n",
      "                {\n",
      "                    \"dataType\": \"double\",\n",
      "                    \"fixedVal\": \"0.029\",\n",
      "                    \"name\": \"learning_rate\",\n",
      "                    \"userDefined\": false\n",
      "                },\n",
      "                {\n",
      "                    \"dataType\": \"str\",\n",
      "                    \"fixedVal\": \"1\",\n",
      "                    \"name\": \"epochs\",\n",
      "                    \"userDefined\": false\n",
      "                }\n",
      "            ],\n",
      "            \"id\": 2,\n",
      "            \"maxiteration\": 0,\n",
      "            \"metricVal\": 2.331402063369751,\n",
      "            \"startTime\": \"2020-02-27 18:01:50\",\n",
      "            \"state\": \"FINISHED\"\n",
      "        },\n",
      "        {\n",
      "            \"appId\": \"Admin-3307296123448701-918376822\",\n",
      "            \"driverId\": \"driver-20200227180155-0003-8bc62a70-9aa6-4dec-a3bd-82a3041bb349\",\n",
      "            \"endTime\": \"2020-02-27 18:03:03\",\n",
      "            \"hyperParams\": [\n",
      "                {\n",
      "                    \"dataType\": \"double\",\n",
      "                    \"fixedVal\": \"0.035\",\n",
      "                    \"name\": \"learning_rate\",\n",
      "                    \"userDefined\": false\n",
      "                },\n",
      "                {\n",
      "                    \"dataType\": \"str\",\n",
      "                    \"fixedVal\": \"1\",\n",
      "                    \"name\": \"epochs\",\n",
      "                    \"userDefined\": false\n",
      "                }\n",
      "            ],\n",
      "            \"id\": 3,\n",
      "            \"maxiteration\": 0,\n",
      "            \"metricVal\": 2.333989143371582,\n",
      "            \"startTime\": \"2020-02-27 18:01:55\",\n",
      "            \"state\": \"FINISHED\"\n",
      "        },\n",
      "        {\n",
      "            \"appId\": \"Admin-3307365790101967-1483884122\",\n",
      "            \"driverId\": \"driver-20200227180305-0004-dd578dbd-abdc-425e-bd18-60a435efa6e4\",\n",
      "            \"endTime\": \"2020-02-27 18:04:29\",\n",
      "            \"hyperParams\": [\n",
      "                {\n",
      "                    \"dataType\": \"double\",\n",
      "                    \"fixedVal\": \"0.095\",\n",
      "                    \"name\": \"learning_rate\",\n",
      "                    \"userDefined\": false\n",
      "                },\n",
      "                {\n",
      "                    \"dataType\": \"str\",\n",
      "                    \"fixedVal\": \"1\",\n",
      "                    \"name\": \"epochs\",\n",
      "                    \"userDefined\": false\n",
      "                }\n",
      "            ],\n",
      "            \"id\": 4,\n",
      "            \"maxiteration\": 0,\n",
      "            \"metricVal\": 2.3017780780792236,\n",
      "            \"startTime\": \"2020-02-27 18:03:05\",\n",
      "            \"state\": \"FINISHED\"\n",
      "        },\n",
      "        {\n",
      "            \"appId\": \"Admin-3307371599185714-781169504\",\n",
      "            \"driverId\": \"driver-20200227180311-0005-a924998f-e5b8-43fc-8739-c54e962245c3\",\n",
      "            \"endTime\": \"2020-02-27 18:04:29\",\n",
      "            \"hyperParams\": [\n",
      "                {\n",
      "                    \"dataType\": \"double\",\n",
      "                    \"fixedVal\": \"0.013\",\n",
      "                    \"name\": \"learning_rate\",\n",
      "                    \"userDefined\": false\n",
      "                },\n",
      "                {\n",
      "                    \"dataType\": \"str\",\n",
      "                    \"fixedVal\": \"1\",\n",
      "                    \"name\": \"epochs\",\n",
      "                    \"userDefined\": false\n",
      "                }\n",
      "            ],\n",
      "            \"id\": 5,\n",
      "            \"maxiteration\": 0,\n",
      "            \"metricVal\": 84.28510284423828,\n",
      "            \"startTime\": \"2020-02-27 18:03:11\",\n",
      "            \"state\": \"FINISHED\"\n",
      "        },\n",
      "        {\n",
      "            \"appId\": \"Admin-3307377431615736-557780017\",\n",
      "            \"driverId\": \"driver-20200227180317-0006-557411bf-567c-4f2e-88f6-e28318f0950a\",\n",
      "            \"endTime\": \"2020-02-27 18:04:30\",\n",
      "            \"hyperParams\": [\n",
      "                {\n",
      "                    \"dataType\": \"double\",\n",
      "                    \"fixedVal\": \"0.049\",\n",
      "                    \"name\": \"learning_rate\",\n",
      "                    \"userDefined\": false\n",
      "                },\n",
      "                {\n",
      "                    \"dataType\": \"str\",\n",
      "                    \"fixedVal\": \"1\",\n",
      "                    \"name\": \"epochs\",\n",
      "                    \"userDefined\": false\n",
      "                }\n",
      "            ],\n",
      "            \"id\": 6,\n",
      "            \"maxiteration\": 0,\n",
      "            \"metricVal\": 2.3053035736083984,\n",
      "            \"startTime\": \"2020-02-27 18:03:17\",\n",
      "            \"state\": \"FINISHED\"\n",
      "        },\n",
      "        {\n",
      "            \"appId\": \"Admin-3307383261242603-1384710871\",\n",
      "            \"driverId\": \"driver-20200227180322-0007-a1355df5-8f98-4527-a572-1948cc085f4f\",\n",
      "            \"endTime\": \"2020-02-27 18:04:30\",\n",
      "            \"hyperParams\": [\n",
      "                {\n",
      "                    \"dataType\": \"double\",\n",
      "                    \"fixedVal\": \"0.035\",\n",
      "                    \"name\": \"learning_rate\",\n",
      "                    \"userDefined\": false\n",
      "                },\n",
      "                {\n",
      "                    \"dataType\": \"str\",\n",
      "                    \"fixedVal\": \"1\",\n",
      "                    \"name\": \"epochs\",\n",
      "                    \"userDefined\": false\n",
      "                }\n",
      "            ],\n",
      "            \"id\": 7,\n",
      "            \"maxiteration\": 0,\n",
      "            \"metricVal\": 2.333989143371582,\n",
      "            \"startTime\": \"2020-02-27 18:03:23\",\n",
      "            \"state\": \"FINISHED\"\n",
      "        }\n",
      "    ],\n",
      "    \"failed\": 0,\n",
      "    \"hpoName\": \"Admin-hpo-3307276564102937\",\n",
      "    \"progress\": \"8/8\",\n",
      "    \"running\": 0,\n",
      "    \"state\": \"FINISHED\"\n",
      "}\n"
     ]
    }
   ],
   "source": [
    "import time\n",
    "\n",
    "getHpoUrl = dl_rest_url +'/hypersearch/'+ hpoName\n",
    "\n",
    "res = req.get(getHpoUrl, headers=commonHeaders, verify=False, auth=('Admin', 'Admin'))\n",
    "if not res.ok:\n",
    "    print('get hpo task failed: code=%s, %s'%(res.status_code, res.content))\n",
    "else:\n",
    "    json_out=res.json()\n",
    "    \n",
    "    while json_out['state'] in ['SUBMITTED','RUNNING']:\n",
    "        print('Hpo task %s state %s progress %s%%'%(hpoName, json_out['state'], json_out['progress']))\n",
    "        time.sleep(90)\n",
    "        res = req.get(getHpoUrl, headers=commonHeaders, verify=False, auth=('Admin', 'Admin'))\n",
    "        json_out=res.json()\n",
    "        \n",
    "        experiments_length = len(json_out['experiments'])\n",
    "       \n",
    "        ####\n",
    "        ## Query the list of 6 sub-training of current batch, as maxParalleJobNum=6\n",
    "        ###      \n",
    "        count=0\n",
    "        Experiment = []\n",
    "        while (count < experiments_length):\n",
    "                appID = json_out['experiments'][count]['appId']\n",
    "                print ('appID: %s,' %appID )\n",
    "                print ('count: %d' %count)\n",
    "                Experiment.insert(count, appID)\n",
    "                count+=1\n",
    " \n",
    "        ####\n",
    "        ## Query the state of 6 sub-training of current batch\n",
    "        ###\n",
    "    \n",
    "        count = 0\n",
    "        while (count < len(Experiment)):\n",
    "                r = requests.get(dl_rest_url+'/execs/'+Experiment[count], auth=myauth, headers=commonHeaders, verify=False).json()    \n",
    "                if not res.ok:\n",
    "                    print('get hpo task failed: code=%s, %s'%(res.status_code, res.content))\n",
    "                else:\n",
    "                    print ('Experiement %s state: %s' %(Experiment[count], r['state']))\n",
    "                count+=1\n",
    "        \n",
    "        #time.sleep(30)\n",
    "        #print ('state:' + json_out['state'] )\n",
    "\n",
    "        \n",
    "print('Hpo task %s completes with state %s'%(hpoName, json_out['state']))\n",
    "print(json.dumps(json_out, indent=4, sort_keys=True))\n",
    " \n"
   ]
  },
  {
   "cell_type": "code",
   "execution_count": null,
   "metadata": {},
   "outputs": [],
   "source": []
  }
 ],
 "metadata": {
  "kernelspec": {
   "display_name": "Python 3",
   "language": "python",
   "name": "python3"
  },
  "language_info": {
   "codemirror_mode": {
    "name": "ipython",
    "version": 3
   },
   "file_extension": ".py",
   "mimetype": "text/x-python",
   "name": "python",
   "nbconvert_exporter": "python",
   "pygments_lexer": "ipython3",
   "version": "3.7.2"
  }
 },
 "nbformat": 4,
 "nbformat_minor": 2
}
