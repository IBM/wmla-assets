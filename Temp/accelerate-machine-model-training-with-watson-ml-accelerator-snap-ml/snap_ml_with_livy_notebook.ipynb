{
 "cells": [
  {
   "cell_type": "code",
   "execution_count": null,
   "metadata": {
    "collapsed": false,
    "deletable": true,
    "editable": true
   },
   "outputs": [],
   "source": []
  },
  {
   "cell_type": "code",
   "execution_count": 4,
   "metadata": {
    "collapsed": false,
    "deletable": true,
    "editable": true
   },
   "outputs": [
    {
     "name": "stdout",
     "output_type": "stream",
     "text": [
      "The sparkmagic.magics extension is already loaded. To reload it, use:\n",
      "  %reload_ext sparkmagic.magics\n"
     ]
    }
   ],
   "source": [
    "%load_ext sparkmagic.magics"
   ]
  },
  {
   "cell_type": "markdown",
   "metadata": {
    "deletable": true,
    "editable": true
   },
   "source": [
    "Run the following cell to invoke the user interface for managing Spark. "
   ]
  },
  {
   "cell_type": "code",
   "execution_count": 5,
   "metadata": {
    "collapsed": false,
    "deletable": true,
    "editable": true
   },
   "outputs": [
    {
     "name": "stdout",
     "output_type": "stream",
     "text": [
      "Starting Spark application\n"
     ]
    },
    {
     "data": {
      "text/html": [
       "<table>\n",
       "<tr><th>ID</th><th>YARN Application ID</th><th>Kind</th><th>State</th><th>Spark UI</th><th>Driver log</th><th>Current session?</th></tr><tr><td>5</td><td>None</td><td>pyspark</td><td>idle</td><td></td><td></td><td>✔</td></tr></table>"
      ],
      "text/plain": [
       "<IPython.core.display.HTML object>"
      ]
     },
     "metadata": {},
     "output_type": "display_data"
    },
    {
     "name": "stdout",
     "output_type": "stream",
     "text": [
      "SparkSession available as 'spark'.\n"
     ]
    }
   ],
   "source": [
    "%spark add -s cpu_session -l python -u http://node03.conductor.iccmop:8993 -a u -k config\n",
    "#{\"conf\": {\"spark.default.parallelism\":30,\"spark.cores.max\":30,\n",
    "    #      \"spark.ego.gpu.app\": \"false\"}}"
   ]
  },
  {
   "cell_type": "code",
   "execution_count": null,
   "metadata": {
    "collapsed": false,
    "deletable": true,
    "editable": true
   },
   "outputs": [],
   "source": [
    "%%spark -s cpu_session\n",
    "\n",
    "from __future__ import print_function\n",
    "import os\n",
    "import time\n",
    "import argparse\n",
    "import sys\n",
    "\n",
    "## SPARK\n",
    "\n",
    "from pyspark import SparkConf, SparkContext\n",
    "from pyspark.sql.session import SparkSession\n",
    "\n",
    "# data paths\n",
    "# Please use the absolute path of the file if you wish to run the example on a distributed mode\n",
    "data_path = '/shared/kelvin/snapml' \n",
    "filename = data_path + '/criteo.kaggle2014'\n",
    "train_filename = filename + '-train.libsvm'\n",
    "test_filename = filename + '-test.libsvm'\n",
    "\n",
    "## snapML\n",
    "os.environ[\"PYTHONPATH\"] = '/opt/DL/snap-ml-spark/lib/' \n",
    "os.environ[\"SPARK_PYTHON_DIR\"] = '/var/conductor/livy-integration/spark-2.3.1-hadoop-2.7/python'\n",
    "sys.path.append('/opt/DL/snap-ml-spark/lib/')\n",
    "sys.path.append('/usr/lib64/python2.7/site-packages')\n",
    "\n",
    "n_features_ = 1000000\n",
    "snapml_regularizer = 10.0\n",
    "\n",
    "from pyspark.ml.classification import LogisticRegression as sparkml_LogisticRegression\n",
    "\n",
    "#train_filename = \"file://\" + train_filename\n",
    "train_filename = \"file://\" + test_filename\n",
    "test_filename = \"file://\" + test_filename\n",
    "\n",
    "# Load training data\n",
    "train_data = spark.read.format(\"libsvm\").option(\"numFeatures\", str(n_features_)).load(train_filename)\n",
    "test_data = spark.read.format(\"libsvm\").option(\"numFeatures\", str(n_features_)).load(test_filename)\n",
    "n_examples = train_data.count()\n",
    "\n",
    "# Create sparkML lib Logistic Regression\n",
    "sparkml_lr = sparkml_LogisticRegression(fitIntercept=False, regParam=snapml_regularizer/n_examples, standardization=False)\n",
    "\n",
    "# Fit the model and time it\n",
    "sparkml_t0 = time.time()\n",
    "sparkml_lr_model = sparkml_lr.fit(train_data)\n",
    "sparkml_time = time.time() - sparkml_t0\n",
    "\n",
    "# Perform inference on test data\n",
    "predictions = sparkml_lr_model.transform(test_data)\n",
    "\n",
    "# Show predictions against test labels\n",
    "predictions.select(\"rawPrediction\", \"prediction\", \"label\", \"features\").show(10)\n",
    "\n",
    "# Compute accuracy\n",
    "from pyspark.ml.evaluation import MulticlassClassificationEvaluator\n",
    "evaluator = MulticlassClassificationEvaluator(labelCol=\"label\", predictionCol=\"prediction\", metricName=\"accuracy\")\n",
    "sparkml_accuracy = evaluator.evaluate(predictions)\n",
    "\n",
    "# Print off Spark result\n",
    "\n",
    "print('Spark ML', evaluator.getMetricName(),'=', sparkml_accuracy,\", time: %.2f\" % sparkml_time, 's')\n"
   ]
  },
  {
   "cell_type": "code",
   "execution_count": null,
   "metadata": {
    "collapsed": false,
    "deletable": true,
    "editable": true
   },
   "outputs": [],
   "source": [
    "%spark delete -s cpu_session"
   ]
  },
  {
   "cell_type": "code",
   "execution_count": 2,
   "metadata": {
    "collapsed": false,
    "deletable": true,
    "editable": true
   },
   "outputs": [
    {
     "name": "stdout",
     "output_type": "stream",
     "text": [
      "Starting Spark application\n"
     ]
    },
    {
     "data": {
      "text/html": [
       "<table>\n",
       "<tr><th>ID</th><th>YARN Application ID</th><th>Kind</th><th>State</th><th>Spark UI</th><th>Driver log</th><th>Current session?</th></tr><tr><td>5</td><td>None</td><td>pyspark</td><td>idle</td><td></td><td></td><td>✔</td></tr></table>"
      ],
      "text/plain": [
       "<IPython.core.display.HTML object>"
      ]
     },
     "metadata": {},
     "output_type": "display_data"
    },
    {
     "name": "stdout",
     "output_type": "stream",
     "text": [
      "SparkSession available as 'spark'.\n"
     ]
    },
    {
     "data": {
      "text/plain": [
       "{'conf': {'spark.default.parallelism': 8,\n",
       "  'spark.ego.gpu.app': 'true',\n",
       "  'spark.ego.gpu.mode': 'default'}}"
      ]
     },
     "execution_count": 2,
     "metadata": {},
     "output_type": "execute_result"
    }
   ],
   "source": [
    "%spark add -s gpu_session -l python -u http://node02.conductor.iccmop:8995 -a u -k config\n",
    "#{\"conf\": {\"spark.ego.gpu.app\":\"true\",\"spark.ego.gpu.mode\":\"default\",\"spark.default.parallelism\":8}}"
   ]
  },
  {
   "cell_type": "code",
   "execution_count": 3,
   "metadata": {
    "collapsed": false,
    "deletable": true,
    "editable": true
   },
   "outputs": [
    {
     "name": "stdout",
     "output_type": "stream",
     "text": [
      "n_features: 1000000\n",
      "count1: 8\n",
      "snapML  accuracy: 0.7850 , time: 18.55 s"
     ]
    }
   ],
   "source": [
    "%%spark -s gpu_session\n",
    "from __future__ import print_function\n",
    "import os\n",
    "import time\n",
    "import argparse\n",
    "import sys\n",
    "\n",
    "## SPARK\n",
    "sys.path.append('/opt/DL/snap-ml-spark/lib/')\n",
    "\n",
    "# data paths\n",
    "# Please use the absolute path of the file if you wish to run the example on a distributed mode\n",
    "data_path = '/shared/kelvin/snapml' \n",
    "filename = data_path + '/criteo.kaggle2014'\n",
    "train_filename = filename + '-train.libsvm'\n",
    "test_filename = filename + '-test.libsvm'\n",
    "\n",
    "## snapML\n",
    "os.environ[\"PYTHONPATH\"] = '/opt/DL/snap-ml-spark/lib/' \n",
    "os.environ[\"SPARK_PYTHON_DIR\"] = '/var/conductor/livy-integration/spark-2.3.1-hadoop-2.7/python'\n",
    "sys.path.append('/opt/DL/snap-ml-spark/lib/')\n",
    "sys.path.append('/usr/lib64/python2.7/site-packages')\n",
    "\n",
    "from pyspark import SparkConf, SparkContext\n",
    "from pyspark.sql.session import SparkSession\n",
    "\n",
    "from snap_ml_spark import DatasetReader\n",
    "\n",
    "from snap_ml_spark import LogisticRegression as snapml_LogisticRegression\n",
    "from snap_ml_spark.Metrics import accuracy, logisticLoss\n",
    "\n",
    "n_features_ = 1000000\n",
    "print('n_features: %.d' %n_features_)\n",
    "\n",
    "# Load training data\n",
    "train_data = DatasetReader().setFormat(\"libsvm\").setNumFt(n_features_).load(train_filename)\n",
    "\n",
    "count1 = train_data.count()\n",
    "print('count1: %.d' %count1)\n",
    "\n",
    "# Load test data\n",
    "test_data = DatasetReader().setFormat(\"libsvm\").setNumFt(n_features_).load(test_filename)\n",
    "\n",
    "count2 = train_data.count()\n",
    "##print('count2: %.d' %count2)\n",
    "\n",
    "# Create snapML Logistic Regression\n",
    "snapml_regularizer = 10.0\n",
    "\n",
    "snapml_lr = snapml_LogisticRegression(max_iter=20, regularizer=snapml_regularizer, verbose=False, dual=True, use_gpu=True, n_threads=-1, class_weights=None)\n",
    "\n",
    "# Fit the model and time it\n",
    "snapml_t0 = time.time()\n",
    "snapml_lr.fit(train_data)\n",
    "snapml_time = time.time() - snapml_t0\n",
    "\n",
    "# Perform inference on test data\n",
    "pred = snapml_lr.predict(test_data)\n",
    "\n",
    "# Compute accuracy\n",
    "snapml_accuracy  = accuracy(pred)\n",
    "\n",
    "# Print off SnapML  result\n",
    "print('snapML  accuracy: %.4f' %snapml_accuracy, \", time: %.2f\" % snapml_time, 's')\n",
    "\n"
   ]
  },
  {
   "cell_type": "code",
   "execution_count": null,
   "metadata": {
    "collapsed": true,
    "deletable": true,
    "editable": true
   },
   "outputs": [],
   "source": [
    "%spark delete -s gpu_session"
   ]
  },
  {
   "cell_type": "code",
   "execution_count": null,
   "metadata": {
    "collapsed": true,
    "deletable": true,
    "editable": true
   },
   "outputs": [],
   "source": [
    "%spark cleanup"
   ]
  },
  {
   "cell_type": "code",
   "execution_count": null,
   "metadata": {
    "collapsed": true,
    "deletable": true,
    "editable": true
   },
   "outputs": [],
   "source": []
  }
 ],
 "metadata": {
  "anaconda-cloud": {},
  "kernelspec": {
   "display_name": "Python [default]",
   "language": "python",
   "name": "python3"
  },
  "language_info": {
   "codemirror_mode": {
    "name": "ipython",
    "version": 3
   },
   "file_extension": ".py",
   "mimetype": "text/x-python",
   "name": "python",
   "nbconvert_exporter": "python",
   "pygments_lexer": "ipython3",
   "version": "3.5.2"
  }
 },
 "nbformat": 4,
 "nbformat_minor": 2
}
